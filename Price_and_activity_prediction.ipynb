{
  "cells": [
    {
      "cell_type": "code",
      "execution_count": null,
      "metadata": {
        "id": "xq2S6MhvttzR"
      },
      "outputs": [],
      "source": [
        "import pandas as pd\n",
        "import seaborn as sns\n",
        "import numpy as np\n",
        "from scipy.stats import norm   \n",
        "import scipy\n",
        "import matplotlib.pyplot as plt\n",
        "from tqdm import tqdm \n",
        "pd.set_option('display.max_columns', 500)"
      ]
    },
    {
      "cell_type": "code",
      "execution_count": null,
      "metadata": {
        "id": "rk9zfw9SttzZ"
      },
      "outputs": [],
      "source": [
        "from sklearn.model_selection import train_test_split \n",
        "from sklearn.linear_model import Lasso   \n",
        "from sklearn.metrics import mean_squared_error as mse \n",
        "from sklearn.metrics import mean_absolute_error as mae   \n",
        "from sklearn.metrics import r2_score  \n",
        "from sklearn.preprocessing import StandardScaler, MinMaxScaler "
      ]
    },
    {
      "cell_type": "markdown",
      "metadata": {
        "id": "GsVtbnRZttza"
      },
      "source": [
        "# Reading data"
      ]
    },
    {
      "cell_type": "code",
      "execution_count": null,
      "metadata": {
        "scrolled": true,
        "colab": {
          "base_uri": "https://localhost:8080/",
          "height": 738
        },
        "id": "KrtmfOWpttzc",
        "outputId": "57a3a7f7-6688-4788-81cd-53fd948989de"
      },
      "outputs": [
        {
          "output_type": "execute_result",
          "data": {
            "text/plain": [
              "     id                        listing_url       scrape_id last_scraped  \\\n",
              "0  2015  https://www.airbnb.com/rooms/2015  20181107122246   2018-11-07   \n",
              "1  2695  https://www.airbnb.com/rooms/2695  20181107122246   2018-11-07   \n",
              "2  3176  https://www.airbnb.com/rooms/3176  20181107122246   2018-11-07   \n",
              "3  3309  https://www.airbnb.com/rooms/3309  20181107122246   2018-11-07   \n",
              "4  7071  https://www.airbnb.com/rooms/7071  20181107122246   2018-11-07   \n",
              "\n",
              "                                               name  \\\n",
              "0  Berlin-Mitte Value! Quiet courtyard/very central   \n",
              "1                Prenzlauer Berg close to Mauerpark   \n",
              "2                   Fabulous Flat in great Location   \n",
              "3                 BerlinSpot Schöneberg near KaDeWe   \n",
              "4                  BrightRoom with sunny greenview!   \n",
              "\n",
              "                                             summary  \\\n",
              "0  Great location!  30 of 75 sq meters. This wood...   \n",
              "1                                                NaN   \n",
              "2  This beautiful first floor apartment  is situa...   \n",
              "3  First of all: I prefer short-notice bookings. ...   \n",
              "4  Cozy and large room in the beautiful district ...   \n",
              "\n",
              "                                               space  \\\n",
              "0  A+++ location! This „Einliegerwohnung“ is an e...   \n",
              "1  In the summertime we are spending most of our ...   \n",
              "2  1st floor (68m2) apartment on Kollwitzplatz/ P...   \n",
              "3  Your room is really big and has 26 sqm, is ver...   \n",
              "4  The BrightRoom is an approx. 20 sqm (215ft²), ...   \n",
              "\n",
              "                                         description experiences_offered  \\\n",
              "0  Great location!  30 of 75 sq meters. This wood...                none   \n",
              "1  In the summertime we are spending most of our ...                none   \n",
              "2  This beautiful first floor apartment  is situa...                none   \n",
              "3  First of all: I prefer short-notice bookings. ...                none   \n",
              "4  Cozy and large room in the beautiful district ...                none   \n",
              "\n",
              "                               neighborhood_overview  \\\n",
              "0  It is located in the former East Berlin area o...   \n",
              "1                                                NaN   \n",
              "2  The neighbourhood is famous for its variety of...   \n",
              "3  My flat is in the middle of West-Berlin, direc...   \n",
              "4  Great neighborhood with plenty of Cafés, Baker...   \n",
              "\n",
              "                                               notes  \\\n",
              "0  This is my home, not a hotel. I rent out occas...   \n",
              "1                                                NaN   \n",
              "2  We welcome FAMILIES and cater especially for y...   \n",
              "3  The flat is a strictly non-smoking facility! A...   \n",
              "4  I hope you enjoy your stay to the fullest! Ple...   \n",
              "\n",
              "                                             transit  \\\n",
              "0  Close to U-Bahn U8 and U2 (metro), Trams M12, ...   \n",
              "1  Within walking distance you'll find the S-Bahn...   \n",
              "2  We are 5 min walk  away from the tram M2, whic...   \n",
              "3  The public transportation is excellent: Severa...   \n",
              "4  Best access to other parts of the city via pub...   \n",
              "\n",
              "                                              access  \\\n",
              "0  Simple kitchen/cooking, refrigerator, microwav...   \n",
              "1  Außer deinem Zimmer kannst du noch die Küche u...   \n",
              "2  The apartment will be entirely yours. We are c...   \n",
              "3  I do have a strictly non-smoker-flat.  Keep th...   \n",
              "4  The guests have access to the bathroom, a smal...   \n",
              "\n",
              "                                         interaction  \\\n",
              "0                                   Always available   \n",
              "1                                                NaN   \n",
              "2  Feel free to ask any questions prior to bookin...   \n",
              "3  I'm working as a freelancing photographer. My ...   \n",
              "4  I am glad if I can give you advice or help as ...   \n",
              "\n",
              "                                         house_rules  thumbnail_url  \\\n",
              "0  No parties No events No pets No smoking, not e...            NaN   \n",
              "1                                                NaN            NaN   \n",
              "2  It’s a non smoking flat, which likes to be tre...            NaN   \n",
              "3  House-Rules and Information ..............(deu...            NaN   \n",
              "4  Please take good care of everything during you...            NaN   \n",
              "\n",
              "   medium_url                                        picture_url  \\\n",
              "0         NaN  https://a0.muscache.com/im/pictures/260fd609-7...   \n",
              "1         NaN  https://a0.muscache.com/im/pictures/97d4f6e8-1...   \n",
              "2         NaN  https://a0.muscache.com/im/pictures/243355/84a...   \n",
              "3         NaN  https://a0.muscache.com/im/pictures/29054294/b...   \n",
              "4         NaN  https://a0.muscache.com/im/pictures/21278/32a1...   \n",
              "\n",
              "   xl_picture_url  host_id                                 host_url host_name  \\\n",
              "0             NaN     2217   https://www.airbnb.com/users/show/2217       Ian   \n",
              "1             NaN     2986   https://www.airbnb.com/users/show/2986   Michael   \n",
              "2             NaN     3718   https://www.airbnb.com/users/show/3718    Britta   \n",
              "3             NaN     4108   https://www.airbnb.com/users/show/4108      Jana   \n",
              "4             NaN    17391  https://www.airbnb.com/users/show/17391    Bright   \n",
              "\n",
              "   host_since                         host_location  \\\n",
              "0  2008-08-18  Key Biscayne, Florida, United States   \n",
              "1  2008-09-16               Berlin, Berlin, Germany   \n",
              "2  2008-10-19  Coledale, New South Wales, Australia   \n",
              "3  2008-11-07               Berlin, Berlin, Germany   \n",
              "4  2009-05-16               Berlin, Berlin, Germany   \n",
              "\n",
              "                                          host_about host_response_time  \\\n",
              "0                        Believe in sharing economy.     within an hour   \n",
              "1  Living with my wife in Berlin.  Like travellin...                NaN   \n",
              "2  We love to travel ourselves a lot and prefer t...       within a day   \n",
              "3  ENJOY EVERY DAY AS IF IT'S YOUR LAST!!! \\r\\n\\r...                NaN   \n",
              "4  I'm a creative person, adventurer, and travele...     within an hour   \n",
              "\n",
              "  host_response_rate  host_acceptance_rate host_is_superhost  \\\n",
              "0                96%                   NaN                 t   \n",
              "1                NaN                   NaN                 f   \n",
              "2               100%                   NaN                 f   \n",
              "3                NaN                   NaN                 f   \n",
              "4               100%                   NaN                 t   \n",
              "\n",
              "                                  host_thumbnail_url  \\\n",
              "0  https://a0.muscache.com/im/pictures/21428a22-4...   \n",
              "1  https://a0.muscache.com/im/pictures/50434955-1...   \n",
              "2  https://a0.muscache.com/im/users/3718/profile_...   \n",
              "3  https://a0.muscache.com/im/pictures/user/b5938...   \n",
              "4  https://a0.muscache.com/im/pictures/user/48c3d...   \n",
              "\n",
              "                                    host_picture_url host_neighbourhood  \\\n",
              "0  https://a0.muscache.com/im/pictures/21428a22-4...              Mitte   \n",
              "1  https://a0.muscache.com/im/pictures/50434955-1...    Prenzlauer Berg   \n",
              "2  https://a0.muscache.com/im/users/3718/profile_...    Prenzlauer Berg   \n",
              "3  https://a0.muscache.com/im/pictures/user/b5938...         Schöneberg   \n",
              "4  https://a0.muscache.com/im/pictures/user/48c3d...    Prenzlauer Berg   \n",
              "\n",
              "   host_listings_count  host_total_listings_count  \\\n",
              "0                  4.0                        4.0   \n",
              "1                  1.0                        1.0   \n",
              "2                  1.0                        1.0   \n",
              "3                  1.0                        1.0   \n",
              "4                  1.0                        1.0   \n",
              "\n",
              "                                  host_verifications host_has_profile_pic  \\\n",
              "0  ['email', 'phone', 'reviews', 'jumio', 'offlin...                    t   \n",
              "1  ['email', 'phone', 'reviews', 'jumio', 'govern...                    t   \n",
              "2  ['email', 'phone', 'facebook', 'reviews', 'man...                    t   \n",
              "3  ['email', 'phone', 'reviews', 'jumio', 'govern...                    t   \n",
              "4  ['email', 'phone', 'reviews', 'jumio', 'govern...                    t   \n",
              "\n",
              "  host_identity_verified                   street    neighbourhood  \\\n",
              "0                      t  Berlin, Berlin, Germany            Mitte   \n",
              "1                      t  Berlin, Berlin, Germany              NaN   \n",
              "2                      t  Berlin, Berlin, Germany  Prenzlauer Berg   \n",
              "3                      t  Berlin, Berlin, Germany       Schöneberg   \n",
              "4                      t  Berlin, Berlin, Germany  Prenzlauer Berg   \n",
              "\n",
              "     neighbourhood_cleansed neighbourhood_group_cleansed    city   state  \\\n",
              "0           Brunnenstr. Süd                        Mitte  Berlin  Berlin   \n",
              "1  Prenzlauer Berg Nordwest                       Pankow  Berlin  Berlin   \n",
              "2   Prenzlauer Berg Südwest                       Pankow  Berlin  Berlin   \n",
              "3           Schöneberg-Nord       Tempelhof - Schöneberg  Berlin  Berlin   \n",
              "4            Helmholtzplatz                       Pankow  Berlin  Berlin   \n",
              "\n",
              "  zipcode  market   smart_location country_code  country   latitude  \\\n",
              "0   10119  Berlin  Berlin, Germany           DE  Germany  52.534537   \n",
              "1   10437  Berlin  Berlin, Germany           DE  Germany  52.548513   \n",
              "2   10405  Berlin  Berlin, Germany           DE  Germany  52.534996   \n",
              "3   10777  Berlin  Berlin, Germany           DE  Germany  52.498855   \n",
              "4   10437  Berlin  Berlin, Germany           DE  Germany  52.543157   \n",
              "\n",
              "   longitude is_location_exact property_type        room_type  accommodates  \\\n",
              "0  13.402557                 f    Guesthouse  Entire home/apt             3   \n",
              "1  13.404553                 t     Apartment     Private room             2   \n",
              "2  13.417579                 t     Apartment  Entire home/apt             4   \n",
              "3  13.349065                 t     Apartment     Private room             2   \n",
              "4  13.415091                 t     Apartment     Private room             2   \n",
              "\n",
              "   bathrooms  bedrooms  beds       bed_type  \\\n",
              "0        1.0       1.0   2.0       Real Bed   \n",
              "1        1.0       1.0   1.0       Real Bed   \n",
              "2        1.0       1.0   2.0       Real Bed   \n",
              "3        1.0       1.0   1.0  Pull-out Sofa   \n",
              "4        1.0       1.0   2.0       Real Bed   \n",
              "\n",
              "                                           amenities  square_feet   price  \\\n",
              "0  {TV,\"Cable TV\",Wifi,Kitchen,Gym,Heating,\"Famil...          NaN  $60.00   \n",
              "1  {Wifi,Kitchen,Elevator,Heating,Washer,Essentia...          NaN  $17.00   \n",
              "2  {Internet,Wifi,Kitchen,\"Buzzer/wireless interc...        720.0  $90.00   \n",
              "3  {Internet,Wifi,\"Pets allowed\",\"Pets live on th...          0.0  $26.00   \n",
              "4  {Wifi,Heating,\"Family/kid friendly\",Essentials...          NaN  $42.00   \n",
              "\n",
              "  weekly_price monthly_price security_deposit cleaning_fee  guests_included  \\\n",
              "0          NaN           NaN          $200.00       $30.00                1   \n",
              "1          NaN           NaN            $0.00        $0.00                1   \n",
              "2      $520.00     $1,900.00          $200.00       $50.00                2   \n",
              "3      $175.00       $599.00          $250.00       $30.00                1   \n",
              "4          NaN           NaN            $0.00        $0.00                1   \n",
              "\n",
              "  extra_people  minimum_nights  maximum_nights calendar_updated  \\\n",
              "0       $28.00               4            1125     3 months ago   \n",
              "1        $0.00               2              40      7 weeks ago   \n",
              "2       $20.00              62            1125       a week ago   \n",
              "3       $18.00               5             360      4 weeks ago   \n",
              "4       $24.00               2              10       3 days ago   \n",
              "\n",
              "  has_availability  availability_30  availability_60  availability_90  \\\n",
              "0                t                0               21               51   \n",
              "1                t                0                0                0   \n",
              "2                t                0                0                0   \n",
              "3                t                0                0               22   \n",
              "4                t               15               26               26   \n",
              "\n",
              "   availability_365 calendar_last_scraped  number_of_reviews first_review  \\\n",
              "0               141            2018-11-07                118   2016-04-11   \n",
              "1                 0            2018-11-07                  6   2018-07-04   \n",
              "2               220            2018-11-07                143   2009-06-20   \n",
              "3               297            2018-11-07                 25   2013-08-12   \n",
              "4                26            2018-11-07                197   2009-08-18   \n",
              "\n",
              "  last_review  review_scores_rating  review_scores_accuracy  \\\n",
              "0  2018-10-28                  93.0                    10.0   \n",
              "1  2018-10-01                 100.0                    10.0   \n",
              "2  2017-03-20                  92.0                     9.0   \n",
              "3  2018-08-16                  88.0                     9.0   \n",
              "4  2018-11-04                  96.0                    10.0   \n",
              "\n",
              "   review_scores_cleanliness  review_scores_checkin  \\\n",
              "0                        9.0                   10.0   \n",
              "1                       10.0                   10.0   \n",
              "2                        9.0                    9.0   \n",
              "3                        9.0                    9.0   \n",
              "4                       10.0                   10.0   \n",
              "\n",
              "   review_scores_communication  review_scores_location  review_scores_value  \\\n",
              "0                         10.0                    10.0                  9.0   \n",
              "1                         10.0                    10.0                 10.0   \n",
              "2                          9.0                    10.0                  9.0   \n",
              "3                         10.0                     9.0                  9.0   \n",
              "4                         10.0                    10.0                  9.0   \n",
              "\n",
              "  requires_license license  jurisdiction_names instant_bookable  \\\n",
              "0                t     NaN                 NaN                f   \n",
              "1                t     NaN                 NaN                f   \n",
              "2                t     NaN                 NaN                t   \n",
              "3                t     NaN                 NaN                f   \n",
              "4                t     NaN                 NaN                f   \n",
              "\n",
              "  is_business_travel_ready          cancellation_policy  \\\n",
              "0                        f  strict_14_with_grace_period   \n",
              "1                        f                     flexible   \n",
              "2                        f  strict_14_with_grace_period   \n",
              "3                        f  strict_14_with_grace_period   \n",
              "4                        f                     moderate   \n",
              "\n",
              "  require_guest_profile_picture require_guest_phone_verification  \\\n",
              "0                             f                                f   \n",
              "1                             f                                f   \n",
              "2                             f                                f   \n",
              "3                             f                                f   \n",
              "4                             f                                f   \n",
              "\n",
              "   calculated_host_listings_count  reviews_per_month  \n",
              "0                               4               3.76  \n",
              "1                               1               1.42  \n",
              "2                               1               1.25  \n",
              "3                               1               0.39  \n",
              "4                               1               1.75  "
            ],
            "text/html": [
              "\n",
              "  <div id=\"df-b6319e77-59d9-4960-b86f-907ca2e4e42f\">\n",
              "    <div class=\"colab-df-container\">\n",
              "      <div>\n",
              "<style scoped>\n",
              "    .dataframe tbody tr th:only-of-type {\n",
              "        vertical-align: middle;\n",
              "    }\n",
              "\n",
              "    .dataframe tbody tr th {\n",
              "        vertical-align: top;\n",
              "    }\n",
              "\n",
              "    .dataframe thead th {\n",
              "        text-align: right;\n",
              "    }\n",
              "</style>\n",
              "<table border=\"1\" class=\"dataframe\">\n",
              "  <thead>\n",
              "    <tr style=\"text-align: right;\">\n",
              "      <th></th>\n",
              "      <th>id</th>\n",
              "      <th>listing_url</th>\n",
              "      <th>scrape_id</th>\n",
              "      <th>last_scraped</th>\n",
              "      <th>name</th>\n",
              "      <th>summary</th>\n",
              "      <th>space</th>\n",
              "      <th>description</th>\n",
              "      <th>experiences_offered</th>\n",
              "      <th>neighborhood_overview</th>\n",
              "      <th>notes</th>\n",
              "      <th>transit</th>\n",
              "      <th>access</th>\n",
              "      <th>interaction</th>\n",
              "      <th>house_rules</th>\n",
              "      <th>thumbnail_url</th>\n",
              "      <th>medium_url</th>\n",
              "      <th>picture_url</th>\n",
              "      <th>xl_picture_url</th>\n",
              "      <th>host_id</th>\n",
              "      <th>host_url</th>\n",
              "      <th>host_name</th>\n",
              "      <th>host_since</th>\n",
              "      <th>host_location</th>\n",
              "      <th>host_about</th>\n",
              "      <th>host_response_time</th>\n",
              "      <th>host_response_rate</th>\n",
              "      <th>host_acceptance_rate</th>\n",
              "      <th>host_is_superhost</th>\n",
              "      <th>host_thumbnail_url</th>\n",
              "      <th>host_picture_url</th>\n",
              "      <th>host_neighbourhood</th>\n",
              "      <th>host_listings_count</th>\n",
              "      <th>host_total_listings_count</th>\n",
              "      <th>host_verifications</th>\n",
              "      <th>host_has_profile_pic</th>\n",
              "      <th>host_identity_verified</th>\n",
              "      <th>street</th>\n",
              "      <th>neighbourhood</th>\n",
              "      <th>neighbourhood_cleansed</th>\n",
              "      <th>neighbourhood_group_cleansed</th>\n",
              "      <th>city</th>\n",
              "      <th>state</th>\n",
              "      <th>zipcode</th>\n",
              "      <th>market</th>\n",
              "      <th>smart_location</th>\n",
              "      <th>country_code</th>\n",
              "      <th>country</th>\n",
              "      <th>latitude</th>\n",
              "      <th>longitude</th>\n",
              "      <th>is_location_exact</th>\n",
              "      <th>property_type</th>\n",
              "      <th>room_type</th>\n",
              "      <th>accommodates</th>\n",
              "      <th>bathrooms</th>\n",
              "      <th>bedrooms</th>\n",
              "      <th>beds</th>\n",
              "      <th>bed_type</th>\n",
              "      <th>amenities</th>\n",
              "      <th>square_feet</th>\n",
              "      <th>price</th>\n",
              "      <th>weekly_price</th>\n",
              "      <th>monthly_price</th>\n",
              "      <th>security_deposit</th>\n",
              "      <th>cleaning_fee</th>\n",
              "      <th>guests_included</th>\n",
              "      <th>extra_people</th>\n",
              "      <th>minimum_nights</th>\n",
              "      <th>maximum_nights</th>\n",
              "      <th>calendar_updated</th>\n",
              "      <th>has_availability</th>\n",
              "      <th>availability_30</th>\n",
              "      <th>availability_60</th>\n",
              "      <th>availability_90</th>\n",
              "      <th>availability_365</th>\n",
              "      <th>calendar_last_scraped</th>\n",
              "      <th>number_of_reviews</th>\n",
              "      <th>first_review</th>\n",
              "      <th>last_review</th>\n",
              "      <th>review_scores_rating</th>\n",
              "      <th>review_scores_accuracy</th>\n",
              "      <th>review_scores_cleanliness</th>\n",
              "      <th>review_scores_checkin</th>\n",
              "      <th>review_scores_communication</th>\n",
              "      <th>review_scores_location</th>\n",
              "      <th>review_scores_value</th>\n",
              "      <th>requires_license</th>\n",
              "      <th>license</th>\n",
              "      <th>jurisdiction_names</th>\n",
              "      <th>instant_bookable</th>\n",
              "      <th>is_business_travel_ready</th>\n",
              "      <th>cancellation_policy</th>\n",
              "      <th>require_guest_profile_picture</th>\n",
              "      <th>require_guest_phone_verification</th>\n",
              "      <th>calculated_host_listings_count</th>\n",
              "      <th>reviews_per_month</th>\n",
              "    </tr>\n",
              "  </thead>\n",
              "  <tbody>\n",
              "    <tr>\n",
              "      <th>0</th>\n",
              "      <td>2015</td>\n",
              "      <td>https://www.airbnb.com/rooms/2015</td>\n",
              "      <td>20181107122246</td>\n",
              "      <td>2018-11-07</td>\n",
              "      <td>Berlin-Mitte Value! Quiet courtyard/very central</td>\n",
              "      <td>Great location!  30 of 75 sq meters. This wood...</td>\n",
              "      <td>A+++ location! This „Einliegerwohnung“ is an e...</td>\n",
              "      <td>Great location!  30 of 75 sq meters. This wood...</td>\n",
              "      <td>none</td>\n",
              "      <td>It is located in the former East Berlin area o...</td>\n",
              "      <td>This is my home, not a hotel. I rent out occas...</td>\n",
              "      <td>Close to U-Bahn U8 and U2 (metro), Trams M12, ...</td>\n",
              "      <td>Simple kitchen/cooking, refrigerator, microwav...</td>\n",
              "      <td>Always available</td>\n",
              "      <td>No parties No events No pets No smoking, not e...</td>\n",
              "      <td>NaN</td>\n",
              "      <td>NaN</td>\n",
              "      <td>https://a0.muscache.com/im/pictures/260fd609-7...</td>\n",
              "      <td>NaN</td>\n",
              "      <td>2217</td>\n",
              "      <td>https://www.airbnb.com/users/show/2217</td>\n",
              "      <td>Ian</td>\n",
              "      <td>2008-08-18</td>\n",
              "      <td>Key Biscayne, Florida, United States</td>\n",
              "      <td>Believe in sharing economy.</td>\n",
              "      <td>within an hour</td>\n",
              "      <td>96%</td>\n",
              "      <td>NaN</td>\n",
              "      <td>t</td>\n",
              "      <td>https://a0.muscache.com/im/pictures/21428a22-4...</td>\n",
              "      <td>https://a0.muscache.com/im/pictures/21428a22-4...</td>\n",
              "      <td>Mitte</td>\n",
              "      <td>4.0</td>\n",
              "      <td>4.0</td>\n",
              "      <td>['email', 'phone', 'reviews', 'jumio', 'offlin...</td>\n",
              "      <td>t</td>\n",
              "      <td>t</td>\n",
              "      <td>Berlin, Berlin, Germany</td>\n",
              "      <td>Mitte</td>\n",
              "      <td>Brunnenstr. Süd</td>\n",
              "      <td>Mitte</td>\n",
              "      <td>Berlin</td>\n",
              "      <td>Berlin</td>\n",
              "      <td>10119</td>\n",
              "      <td>Berlin</td>\n",
              "      <td>Berlin, Germany</td>\n",
              "      <td>DE</td>\n",
              "      <td>Germany</td>\n",
              "      <td>52.534537</td>\n",
              "      <td>13.402557</td>\n",
              "      <td>f</td>\n",
              "      <td>Guesthouse</td>\n",
              "      <td>Entire home/apt</td>\n",
              "      <td>3</td>\n",
              "      <td>1.0</td>\n",
              "      <td>1.0</td>\n",
              "      <td>2.0</td>\n",
              "      <td>Real Bed</td>\n",
              "      <td>{TV,\"Cable TV\",Wifi,Kitchen,Gym,Heating,\"Famil...</td>\n",
              "      <td>NaN</td>\n",
              "      <td>$60.00</td>\n",
              "      <td>NaN</td>\n",
              "      <td>NaN</td>\n",
              "      <td>$200.00</td>\n",
              "      <td>$30.00</td>\n",
              "      <td>1</td>\n",
              "      <td>$28.00</td>\n",
              "      <td>4</td>\n",
              "      <td>1125</td>\n",
              "      <td>3 months ago</td>\n",
              "      <td>t</td>\n",
              "      <td>0</td>\n",
              "      <td>21</td>\n",
              "      <td>51</td>\n",
              "      <td>141</td>\n",
              "      <td>2018-11-07</td>\n",
              "      <td>118</td>\n",
              "      <td>2016-04-11</td>\n",
              "      <td>2018-10-28</td>\n",
              "      <td>93.0</td>\n",
              "      <td>10.0</td>\n",
              "      <td>9.0</td>\n",
              "      <td>10.0</td>\n",
              "      <td>10.0</td>\n",
              "      <td>10.0</td>\n",
              "      <td>9.0</td>\n",
              "      <td>t</td>\n",
              "      <td>NaN</td>\n",
              "      <td>NaN</td>\n",
              "      <td>f</td>\n",
              "      <td>f</td>\n",
              "      <td>strict_14_with_grace_period</td>\n",
              "      <td>f</td>\n",
              "      <td>f</td>\n",
              "      <td>4</td>\n",
              "      <td>3.76</td>\n",
              "    </tr>\n",
              "    <tr>\n",
              "      <th>1</th>\n",
              "      <td>2695</td>\n",
              "      <td>https://www.airbnb.com/rooms/2695</td>\n",
              "      <td>20181107122246</td>\n",
              "      <td>2018-11-07</td>\n",
              "      <td>Prenzlauer Berg close to Mauerpark</td>\n",
              "      <td>NaN</td>\n",
              "      <td>In the summertime we are spending most of our ...</td>\n",
              "      <td>In the summertime we are spending most of our ...</td>\n",
              "      <td>none</td>\n",
              "      <td>NaN</td>\n",
              "      <td>NaN</td>\n",
              "      <td>Within walking distance you'll find the S-Bahn...</td>\n",
              "      <td>Außer deinem Zimmer kannst du noch die Küche u...</td>\n",
              "      <td>NaN</td>\n",
              "      <td>NaN</td>\n",
              "      <td>NaN</td>\n",
              "      <td>NaN</td>\n",
              "      <td>https://a0.muscache.com/im/pictures/97d4f6e8-1...</td>\n",
              "      <td>NaN</td>\n",
              "      <td>2986</td>\n",
              "      <td>https://www.airbnb.com/users/show/2986</td>\n",
              "      <td>Michael</td>\n",
              "      <td>2008-09-16</td>\n",
              "      <td>Berlin, Berlin, Germany</td>\n",
              "      <td>Living with my wife in Berlin.  Like travellin...</td>\n",
              "      <td>NaN</td>\n",
              "      <td>NaN</td>\n",
              "      <td>NaN</td>\n",
              "      <td>f</td>\n",
              "      <td>https://a0.muscache.com/im/pictures/50434955-1...</td>\n",
              "      <td>https://a0.muscache.com/im/pictures/50434955-1...</td>\n",
              "      <td>Prenzlauer Berg</td>\n",
              "      <td>1.0</td>\n",
              "      <td>1.0</td>\n",
              "      <td>['email', 'phone', 'reviews', 'jumio', 'govern...</td>\n",
              "      <td>t</td>\n",
              "      <td>t</td>\n",
              "      <td>Berlin, Berlin, Germany</td>\n",
              "      <td>NaN</td>\n",
              "      <td>Prenzlauer Berg Nordwest</td>\n",
              "      <td>Pankow</td>\n",
              "      <td>Berlin</td>\n",
              "      <td>Berlin</td>\n",
              "      <td>10437</td>\n",
              "      <td>Berlin</td>\n",
              "      <td>Berlin, Germany</td>\n",
              "      <td>DE</td>\n",
              "      <td>Germany</td>\n",
              "      <td>52.548513</td>\n",
              "      <td>13.404553</td>\n",
              "      <td>t</td>\n",
              "      <td>Apartment</td>\n",
              "      <td>Private room</td>\n",
              "      <td>2</td>\n",
              "      <td>1.0</td>\n",
              "      <td>1.0</td>\n",
              "      <td>1.0</td>\n",
              "      <td>Real Bed</td>\n",
              "      <td>{Wifi,Kitchen,Elevator,Heating,Washer,Essentia...</td>\n",
              "      <td>NaN</td>\n",
              "      <td>$17.00</td>\n",
              "      <td>NaN</td>\n",
              "      <td>NaN</td>\n",
              "      <td>$0.00</td>\n",
              "      <td>$0.00</td>\n",
              "      <td>1</td>\n",
              "      <td>$0.00</td>\n",
              "      <td>2</td>\n",
              "      <td>40</td>\n",
              "      <td>7 weeks ago</td>\n",
              "      <td>t</td>\n",
              "      <td>0</td>\n",
              "      <td>0</td>\n",
              "      <td>0</td>\n",
              "      <td>0</td>\n",
              "      <td>2018-11-07</td>\n",
              "      <td>6</td>\n",
              "      <td>2018-07-04</td>\n",
              "      <td>2018-10-01</td>\n",
              "      <td>100.0</td>\n",
              "      <td>10.0</td>\n",
              "      <td>10.0</td>\n",
              "      <td>10.0</td>\n",
              "      <td>10.0</td>\n",
              "      <td>10.0</td>\n",
              "      <td>10.0</td>\n",
              "      <td>t</td>\n",
              "      <td>NaN</td>\n",
              "      <td>NaN</td>\n",
              "      <td>f</td>\n",
              "      <td>f</td>\n",
              "      <td>flexible</td>\n",
              "      <td>f</td>\n",
              "      <td>f</td>\n",
              "      <td>1</td>\n",
              "      <td>1.42</td>\n",
              "    </tr>\n",
              "    <tr>\n",
              "      <th>2</th>\n",
              "      <td>3176</td>\n",
              "      <td>https://www.airbnb.com/rooms/3176</td>\n",
              "      <td>20181107122246</td>\n",
              "      <td>2018-11-07</td>\n",
              "      <td>Fabulous Flat in great Location</td>\n",
              "      <td>This beautiful first floor apartment  is situa...</td>\n",
              "      <td>1st floor (68m2) apartment on Kollwitzplatz/ P...</td>\n",
              "      <td>This beautiful first floor apartment  is situa...</td>\n",
              "      <td>none</td>\n",
              "      <td>The neighbourhood is famous for its variety of...</td>\n",
              "      <td>We welcome FAMILIES and cater especially for y...</td>\n",
              "      <td>We are 5 min walk  away from the tram M2, whic...</td>\n",
              "      <td>The apartment will be entirely yours. We are c...</td>\n",
              "      <td>Feel free to ask any questions prior to bookin...</td>\n",
              "      <td>It’s a non smoking flat, which likes to be tre...</td>\n",
              "      <td>NaN</td>\n",
              "      <td>NaN</td>\n",
              "      <td>https://a0.muscache.com/im/pictures/243355/84a...</td>\n",
              "      <td>NaN</td>\n",
              "      <td>3718</td>\n",
              "      <td>https://www.airbnb.com/users/show/3718</td>\n",
              "      <td>Britta</td>\n",
              "      <td>2008-10-19</td>\n",
              "      <td>Coledale, New South Wales, Australia</td>\n",
              "      <td>We love to travel ourselves a lot and prefer t...</td>\n",
              "      <td>within a day</td>\n",
              "      <td>100%</td>\n",
              "      <td>NaN</td>\n",
              "      <td>f</td>\n",
              "      <td>https://a0.muscache.com/im/users/3718/profile_...</td>\n",
              "      <td>https://a0.muscache.com/im/users/3718/profile_...</td>\n",
              "      <td>Prenzlauer Berg</td>\n",
              "      <td>1.0</td>\n",
              "      <td>1.0</td>\n",
              "      <td>['email', 'phone', 'facebook', 'reviews', 'man...</td>\n",
              "      <td>t</td>\n",
              "      <td>t</td>\n",
              "      <td>Berlin, Berlin, Germany</td>\n",
              "      <td>Prenzlauer Berg</td>\n",
              "      <td>Prenzlauer Berg Südwest</td>\n",
              "      <td>Pankow</td>\n",
              "      <td>Berlin</td>\n",
              "      <td>Berlin</td>\n",
              "      <td>10405</td>\n",
              "      <td>Berlin</td>\n",
              "      <td>Berlin, Germany</td>\n",
              "      <td>DE</td>\n",
              "      <td>Germany</td>\n",
              "      <td>52.534996</td>\n",
              "      <td>13.417579</td>\n",
              "      <td>t</td>\n",
              "      <td>Apartment</td>\n",
              "      <td>Entire home/apt</td>\n",
              "      <td>4</td>\n",
              "      <td>1.0</td>\n",
              "      <td>1.0</td>\n",
              "      <td>2.0</td>\n",
              "      <td>Real Bed</td>\n",
              "      <td>{Internet,Wifi,Kitchen,\"Buzzer/wireless interc...</td>\n",
              "      <td>720.0</td>\n",
              "      <td>$90.00</td>\n",
              "      <td>$520.00</td>\n",
              "      <td>$1,900.00</td>\n",
              "      <td>$200.00</td>\n",
              "      <td>$50.00</td>\n",
              "      <td>2</td>\n",
              "      <td>$20.00</td>\n",
              "      <td>62</td>\n",
              "      <td>1125</td>\n",
              "      <td>a week ago</td>\n",
              "      <td>t</td>\n",
              "      <td>0</td>\n",
              "      <td>0</td>\n",
              "      <td>0</td>\n",
              "      <td>220</td>\n",
              "      <td>2018-11-07</td>\n",
              "      <td>143</td>\n",
              "      <td>2009-06-20</td>\n",
              "      <td>2017-03-20</td>\n",
              "      <td>92.0</td>\n",
              "      <td>9.0</td>\n",
              "      <td>9.0</td>\n",
              "      <td>9.0</td>\n",
              "      <td>9.0</td>\n",
              "      <td>10.0</td>\n",
              "      <td>9.0</td>\n",
              "      <td>t</td>\n",
              "      <td>NaN</td>\n",
              "      <td>NaN</td>\n",
              "      <td>t</td>\n",
              "      <td>f</td>\n",
              "      <td>strict_14_with_grace_period</td>\n",
              "      <td>f</td>\n",
              "      <td>f</td>\n",
              "      <td>1</td>\n",
              "      <td>1.25</td>\n",
              "    </tr>\n",
              "    <tr>\n",
              "      <th>3</th>\n",
              "      <td>3309</td>\n",
              "      <td>https://www.airbnb.com/rooms/3309</td>\n",
              "      <td>20181107122246</td>\n",
              "      <td>2018-11-07</td>\n",
              "      <td>BerlinSpot Schöneberg near KaDeWe</td>\n",
              "      <td>First of all: I prefer short-notice bookings. ...</td>\n",
              "      <td>Your room is really big and has 26 sqm, is ver...</td>\n",
              "      <td>First of all: I prefer short-notice bookings. ...</td>\n",
              "      <td>none</td>\n",
              "      <td>My flat is in the middle of West-Berlin, direc...</td>\n",
              "      <td>The flat is a strictly non-smoking facility! A...</td>\n",
              "      <td>The public transportation is excellent: Severa...</td>\n",
              "      <td>I do have a strictly non-smoker-flat.  Keep th...</td>\n",
              "      <td>I'm working as a freelancing photographer. My ...</td>\n",
              "      <td>House-Rules and Information ..............(deu...</td>\n",
              "      <td>NaN</td>\n",
              "      <td>NaN</td>\n",
              "      <td>https://a0.muscache.com/im/pictures/29054294/b...</td>\n",
              "      <td>NaN</td>\n",
              "      <td>4108</td>\n",
              "      <td>https://www.airbnb.com/users/show/4108</td>\n",
              "      <td>Jana</td>\n",
              "      <td>2008-11-07</td>\n",
              "      <td>Berlin, Berlin, Germany</td>\n",
              "      <td>ENJOY EVERY DAY AS IF IT'S YOUR LAST!!! \\r\\n\\r...</td>\n",
              "      <td>NaN</td>\n",
              "      <td>NaN</td>\n",
              "      <td>NaN</td>\n",
              "      <td>f</td>\n",
              "      <td>https://a0.muscache.com/im/pictures/user/b5938...</td>\n",
              "      <td>https://a0.muscache.com/im/pictures/user/b5938...</td>\n",
              "      <td>Schöneberg</td>\n",
              "      <td>1.0</td>\n",
              "      <td>1.0</td>\n",
              "      <td>['email', 'phone', 'reviews', 'jumio', 'govern...</td>\n",
              "      <td>t</td>\n",
              "      <td>t</td>\n",
              "      <td>Berlin, Berlin, Germany</td>\n",
              "      <td>Schöneberg</td>\n",
              "      <td>Schöneberg-Nord</td>\n",
              "      <td>Tempelhof - Schöneberg</td>\n",
              "      <td>Berlin</td>\n",
              "      <td>Berlin</td>\n",
              "      <td>10777</td>\n",
              "      <td>Berlin</td>\n",
              "      <td>Berlin, Germany</td>\n",
              "      <td>DE</td>\n",
              "      <td>Germany</td>\n",
              "      <td>52.498855</td>\n",
              "      <td>13.349065</td>\n",
              "      <td>t</td>\n",
              "      <td>Apartment</td>\n",
              "      <td>Private room</td>\n",
              "      <td>2</td>\n",
              "      <td>1.0</td>\n",
              "      <td>1.0</td>\n",
              "      <td>1.0</td>\n",
              "      <td>Pull-out Sofa</td>\n",
              "      <td>{Internet,Wifi,\"Pets allowed\",\"Pets live on th...</td>\n",
              "      <td>0.0</td>\n",
              "      <td>$26.00</td>\n",
              "      <td>$175.00</td>\n",
              "      <td>$599.00</td>\n",
              "      <td>$250.00</td>\n",
              "      <td>$30.00</td>\n",
              "      <td>1</td>\n",
              "      <td>$18.00</td>\n",
              "      <td>5</td>\n",
              "      <td>360</td>\n",
              "      <td>4 weeks ago</td>\n",
              "      <td>t</td>\n",
              "      <td>0</td>\n",
              "      <td>0</td>\n",
              "      <td>22</td>\n",
              "      <td>297</td>\n",
              "      <td>2018-11-07</td>\n",
              "      <td>25</td>\n",
              "      <td>2013-08-12</td>\n",
              "      <td>2018-08-16</td>\n",
              "      <td>88.0</td>\n",
              "      <td>9.0</td>\n",
              "      <td>9.0</td>\n",
              "      <td>9.0</td>\n",
              "      <td>10.0</td>\n",
              "      <td>9.0</td>\n",
              "      <td>9.0</td>\n",
              "      <td>t</td>\n",
              "      <td>NaN</td>\n",
              "      <td>NaN</td>\n",
              "      <td>f</td>\n",
              "      <td>f</td>\n",
              "      <td>strict_14_with_grace_period</td>\n",
              "      <td>f</td>\n",
              "      <td>f</td>\n",
              "      <td>1</td>\n",
              "      <td>0.39</td>\n",
              "    </tr>\n",
              "    <tr>\n",
              "      <th>4</th>\n",
              "      <td>7071</td>\n",
              "      <td>https://www.airbnb.com/rooms/7071</td>\n",
              "      <td>20181107122246</td>\n",
              "      <td>2018-11-07</td>\n",
              "      <td>BrightRoom with sunny greenview!</td>\n",
              "      <td>Cozy and large room in the beautiful district ...</td>\n",
              "      <td>The BrightRoom is an approx. 20 sqm (215ft²), ...</td>\n",
              "      <td>Cozy and large room in the beautiful district ...</td>\n",
              "      <td>none</td>\n",
              "      <td>Great neighborhood with plenty of Cafés, Baker...</td>\n",
              "      <td>I hope you enjoy your stay to the fullest! Ple...</td>\n",
              "      <td>Best access to other parts of the city via pub...</td>\n",
              "      <td>The guests have access to the bathroom, a smal...</td>\n",
              "      <td>I am glad if I can give you advice or help as ...</td>\n",
              "      <td>Please take good care of everything during you...</td>\n",
              "      <td>NaN</td>\n",
              "      <td>NaN</td>\n",
              "      <td>https://a0.muscache.com/im/pictures/21278/32a1...</td>\n",
              "      <td>NaN</td>\n",
              "      <td>17391</td>\n",
              "      <td>https://www.airbnb.com/users/show/17391</td>\n",
              "      <td>Bright</td>\n",
              "      <td>2009-05-16</td>\n",
              "      <td>Berlin, Berlin, Germany</td>\n",
              "      <td>I'm a creative person, adventurer, and travele...</td>\n",
              "      <td>within an hour</td>\n",
              "      <td>100%</td>\n",
              "      <td>NaN</td>\n",
              "      <td>t</td>\n",
              "      <td>https://a0.muscache.com/im/pictures/user/48c3d...</td>\n",
              "      <td>https://a0.muscache.com/im/pictures/user/48c3d...</td>\n",
              "      <td>Prenzlauer Berg</td>\n",
              "      <td>1.0</td>\n",
              "      <td>1.0</td>\n",
              "      <td>['email', 'phone', 'reviews', 'jumio', 'govern...</td>\n",
              "      <td>t</td>\n",
              "      <td>t</td>\n",
              "      <td>Berlin, Berlin, Germany</td>\n",
              "      <td>Prenzlauer Berg</td>\n",
              "      <td>Helmholtzplatz</td>\n",
              "      <td>Pankow</td>\n",
              "      <td>Berlin</td>\n",
              "      <td>Berlin</td>\n",
              "      <td>10437</td>\n",
              "      <td>Berlin</td>\n",
              "      <td>Berlin, Germany</td>\n",
              "      <td>DE</td>\n",
              "      <td>Germany</td>\n",
              "      <td>52.543157</td>\n",
              "      <td>13.415091</td>\n",
              "      <td>t</td>\n",
              "      <td>Apartment</td>\n",
              "      <td>Private room</td>\n",
              "      <td>2</td>\n",
              "      <td>1.0</td>\n",
              "      <td>1.0</td>\n",
              "      <td>2.0</td>\n",
              "      <td>Real Bed</td>\n",
              "      <td>{Wifi,Heating,\"Family/kid friendly\",Essentials...</td>\n",
              "      <td>NaN</td>\n",
              "      <td>$42.00</td>\n",
              "      <td>NaN</td>\n",
              "      <td>NaN</td>\n",
              "      <td>$0.00</td>\n",
              "      <td>$0.00</td>\n",
              "      <td>1</td>\n",
              "      <td>$24.00</td>\n",
              "      <td>2</td>\n",
              "      <td>10</td>\n",
              "      <td>3 days ago</td>\n",
              "      <td>t</td>\n",
              "      <td>15</td>\n",
              "      <td>26</td>\n",
              "      <td>26</td>\n",
              "      <td>26</td>\n",
              "      <td>2018-11-07</td>\n",
              "      <td>197</td>\n",
              "      <td>2009-08-18</td>\n",
              "      <td>2018-11-04</td>\n",
              "      <td>96.0</td>\n",
              "      <td>10.0</td>\n",
              "      <td>10.0</td>\n",
              "      <td>10.0</td>\n",
              "      <td>10.0</td>\n",
              "      <td>10.0</td>\n",
              "      <td>9.0</td>\n",
              "      <td>t</td>\n",
              "      <td>NaN</td>\n",
              "      <td>NaN</td>\n",
              "      <td>f</td>\n",
              "      <td>f</td>\n",
              "      <td>moderate</td>\n",
              "      <td>f</td>\n",
              "      <td>f</td>\n",
              "      <td>1</td>\n",
              "      <td>1.75</td>\n",
              "    </tr>\n",
              "  </tbody>\n",
              "</table>\n",
              "</div>\n",
              "      <button class=\"colab-df-convert\" onclick=\"convertToInteractive('df-b6319e77-59d9-4960-b86f-907ca2e4e42f')\"\n",
              "              title=\"Convert this dataframe to an interactive table.\"\n",
              "              style=\"display:none;\">\n",
              "        \n",
              "  <svg xmlns=\"http://www.w3.org/2000/svg\" height=\"24px\"viewBox=\"0 0 24 24\"\n",
              "       width=\"24px\">\n",
              "    <path d=\"M0 0h24v24H0V0z\" fill=\"none\"/>\n",
              "    <path d=\"M18.56 5.44l.94 2.06.94-2.06 2.06-.94-2.06-.94-.94-2.06-.94 2.06-2.06.94zm-11 1L8.5 8.5l.94-2.06 2.06-.94-2.06-.94L8.5 2.5l-.94 2.06-2.06.94zm10 10l.94 2.06.94-2.06 2.06-.94-2.06-.94-.94-2.06-.94 2.06-2.06.94z\"/><path d=\"M17.41 7.96l-1.37-1.37c-.4-.4-.92-.59-1.43-.59-.52 0-1.04.2-1.43.59L10.3 9.45l-7.72 7.72c-.78.78-.78 2.05 0 2.83L4 21.41c.39.39.9.59 1.41.59.51 0 1.02-.2 1.41-.59l7.78-7.78 2.81-2.81c.8-.78.8-2.07 0-2.86zM5.41 20L4 18.59l7.72-7.72 1.47 1.35L5.41 20z\"/>\n",
              "  </svg>\n",
              "      </button>\n",
              "      \n",
              "  <style>\n",
              "    .colab-df-container {\n",
              "      display:flex;\n",
              "      flex-wrap:wrap;\n",
              "      gap: 12px;\n",
              "    }\n",
              "\n",
              "    .colab-df-convert {\n",
              "      background-color: #E8F0FE;\n",
              "      border: none;\n",
              "      border-radius: 50%;\n",
              "      cursor: pointer;\n",
              "      display: none;\n",
              "      fill: #1967D2;\n",
              "      height: 32px;\n",
              "      padding: 0 0 0 0;\n",
              "      width: 32px;\n",
              "    }\n",
              "\n",
              "    .colab-df-convert:hover {\n",
              "      background-color: #E2EBFA;\n",
              "      box-shadow: 0px 1px 2px rgba(60, 64, 67, 0.3), 0px 1px 3px 1px rgba(60, 64, 67, 0.15);\n",
              "      fill: #174EA6;\n",
              "    }\n",
              "\n",
              "    [theme=dark] .colab-df-convert {\n",
              "      background-color: #3B4455;\n",
              "      fill: #D2E3FC;\n",
              "    }\n",
              "\n",
              "    [theme=dark] .colab-df-convert:hover {\n",
              "      background-color: #434B5C;\n",
              "      box-shadow: 0px 1px 3px 1px rgba(0, 0, 0, 0.15);\n",
              "      filter: drop-shadow(0px 1px 2px rgba(0, 0, 0, 0.3));\n",
              "      fill: #FFFFFF;\n",
              "    }\n",
              "  </style>\n",
              "\n",
              "      <script>\n",
              "        const buttonEl =\n",
              "          document.querySelector('#df-b6319e77-59d9-4960-b86f-907ca2e4e42f button.colab-df-convert');\n",
              "        buttonEl.style.display =\n",
              "          google.colab.kernel.accessAllowed ? 'block' : 'none';\n",
              "\n",
              "        async function convertToInteractive(key) {\n",
              "          const element = document.querySelector('#df-b6319e77-59d9-4960-b86f-907ca2e4e42f');\n",
              "          const dataTable =\n",
              "            await google.colab.kernel.invokeFunction('convertToInteractive',\n",
              "                                                     [key], {});\n",
              "          if (!dataTable) return;\n",
              "\n",
              "          const docLinkHtml = 'Like what you see? Visit the ' +\n",
              "            '<a target=\"_blank\" href=https://colab.research.google.com/notebooks/data_table.ipynb>data table notebook</a>'\n",
              "            + ' to learn more about interactive tables.';\n",
              "          element.innerHTML = '';\n",
              "          dataTable['output_type'] = 'display_data';\n",
              "          await google.colab.output.renderOutput(dataTable, element);\n",
              "          const docLink = document.createElement('div');\n",
              "          docLink.innerHTML = docLinkHtml;\n",
              "          element.appendChild(docLink);\n",
              "        }\n",
              "      </script>\n",
              "    </div>\n",
              "  </div>\n",
              "  "
            ]
          },
          "metadata": {},
          "execution_count": 106
        }
      ],
      "source": [
        "df = pd.read_csv('listings_summary.csv') \n",
        "df.head(5)    "
      ]
    },
    {
      "cell_type": "code",
      "source": [
        "df.columns"
      ],
      "metadata": {
        "colab": {
          "base_uri": "https://localhost:8080/"
        },
        "id": "YUb3pQUZJ3xJ",
        "outputId": "0cf224d7-c41f-402a-cc1b-9b3c13cf7874"
      },
      "execution_count": null,
      "outputs": [
        {
          "output_type": "execute_result",
          "data": {
            "text/plain": [
              "Index(['id', 'listing_url', 'scrape_id', 'last_scraped', 'name', 'summary',\n",
              "       'space', 'description', 'experiences_offered', 'neighborhood_overview',\n",
              "       'notes', 'transit', 'access', 'interaction', 'house_rules',\n",
              "       'thumbnail_url', 'medium_url', 'picture_url', 'xl_picture_url',\n",
              "       'host_id', 'host_url', 'host_name', 'host_since', 'host_location',\n",
              "       'host_about', 'host_response_time', 'host_response_rate',\n",
              "       'host_acceptance_rate', 'host_is_superhost', 'host_thumbnail_url',\n",
              "       'host_picture_url', 'host_neighbourhood', 'host_listings_count',\n",
              "       'host_total_listings_count', 'host_verifications',\n",
              "       'host_has_profile_pic', 'host_identity_verified', 'street',\n",
              "       'neighbourhood', 'neighbourhood_cleansed',\n",
              "       'neighbourhood_group_cleansed', 'city', 'state', 'zipcode', 'market',\n",
              "       'smart_location', 'country_code', 'country', 'latitude', 'longitude',\n",
              "       'is_location_exact', 'property_type', 'room_type', 'accommodates',\n",
              "       'bathrooms', 'bedrooms', 'beds', 'bed_type', 'amenities', 'square_feet',\n",
              "       'price', 'weekly_price', 'monthly_price', 'security_deposit',\n",
              "       'cleaning_fee', 'guests_included', 'extra_people', 'minimum_nights',\n",
              "       'maximum_nights', 'calendar_updated', 'has_availability',\n",
              "       'availability_30', 'availability_60', 'availability_90',\n",
              "       'availability_365', 'calendar_last_scraped', 'number_of_reviews',\n",
              "       'first_review', 'last_review', 'review_scores_rating',\n",
              "       'review_scores_accuracy', 'review_scores_cleanliness',\n",
              "       'review_scores_checkin', 'review_scores_communication',\n",
              "       'review_scores_location', 'review_scores_value', 'requires_license',\n",
              "       'license', 'jurisdiction_names', 'instant_bookable',\n",
              "       'is_business_travel_ready', 'cancellation_policy',\n",
              "       'require_guest_profile_picture', 'require_guest_phone_verification',\n",
              "       'calculated_host_listings_count', 'reviews_per_month'],\n",
              "      dtype='object')"
            ]
          },
          "metadata": {},
          "execution_count": 107
        }
      ]
    },
    {
      "cell_type": "code",
      "execution_count": null,
      "metadata": {
        "colab": {
          "base_uri": "https://localhost:8080/",
          "height": 363
        },
        "id": "NW-UoXQkttzf",
        "outputId": "1f8f44d5-73a3-4734-da83-1473b20ed43b"
      },
      "outputs": [
        {
          "output_type": "execute_result",
          "data": {
            "text/plain": [
              "     host_has_profile_pic  host_since    neighbourhood_cleansed  \\\n",
              "id                                                                \n",
              "2015                    t  2008-08-18           Brunnenstr. Süd   \n",
              "2695                    t  2008-09-16  Prenzlauer Berg Nordwest   \n",
              "\n",
              "     neighbourhood_group_cleansed host_is_superhost  \\\n",
              "id                                                    \n",
              "2015                        Mitte                 t   \n",
              "2695                       Pankow                 f   \n",
              "\n",
              "                                            description   latitude  longitude  \\\n",
              "id                                                                              \n",
              "2015  Great location!  30 of 75 sq meters. This wood...  52.534537  13.402557   \n",
              "2695  In the summertime we are spending most of our ...  52.548513  13.404553   \n",
              "\n",
              "     is_location_exact property_type        room_type  accommodates  \\\n",
              "id                                                                    \n",
              "2015                 f    Guesthouse  Entire home/apt             3   \n",
              "2695                 t     Apartment     Private room             2   \n",
              "\n",
              "      bathrooms  bedrooms  bed_type  \\\n",
              "id                                    \n",
              "2015        1.0       1.0  Real Bed   \n",
              "2695        1.0       1.0  Real Bed   \n",
              "\n",
              "                                              amenities   price cleaning_fee  \\\n",
              "id                                                                             \n",
              "2015  {TV,\"Cable TV\",Wifi,Kitchen,Gym,Heating,\"Famil...  $60.00       $30.00   \n",
              "2695  {Wifi,Kitchen,Elevator,Heating,Washer,Essentia...  $17.00        $0.00   \n",
              "\n",
              "      review_scores_rating  reviews_per_month  number_of_reviews  \\\n",
              "id                                                                 \n",
              "2015                  93.0               3.76                118   \n",
              "2695                 100.0               1.42                  6   \n",
              "\n",
              "      review_scores_accuracy  review_scores_cleanliness  \\\n",
              "id                                                        \n",
              "2015                    10.0                        9.0   \n",
              "2695                    10.0                       10.0   \n",
              "\n",
              "      review_scores_checkin  review_scores_communication  \\\n",
              "id                                                         \n",
              "2015                   10.0                         10.0   \n",
              "2695                   10.0                         10.0   \n",
              "\n",
              "      review_scores_location  review_scores_value security_deposit  \\\n",
              "id                                                                   \n",
              "2015                    10.0                  9.0          $200.00   \n",
              "2695                    10.0                 10.0            $0.00   \n",
              "\n",
              "     extra_people  guests_included  minimum_nights instant_bookable  \\\n",
              "id                                                                    \n",
              "2015       $28.00                1               4                f   \n",
              "2695        $0.00                1               2                f   \n",
              "\n",
              "     is_business_travel_ready          cancellation_policy  availability_365  \n",
              "id                                                                            \n",
              "2015                        f  strict_14_with_grace_period               141  \n",
              "2695                        f                     flexible                 0  "
            ],
            "text/html": [
              "\n",
              "  <div id=\"df-0eb24f8b-813c-40cd-b89d-183c137ec2fa\">\n",
              "    <div class=\"colab-df-container\">\n",
              "      <div>\n",
              "<style scoped>\n",
              "    .dataframe tbody tr th:only-of-type {\n",
              "        vertical-align: middle;\n",
              "    }\n",
              "\n",
              "    .dataframe tbody tr th {\n",
              "        vertical-align: top;\n",
              "    }\n",
              "\n",
              "    .dataframe thead th {\n",
              "        text-align: right;\n",
              "    }\n",
              "</style>\n",
              "<table border=\"1\" class=\"dataframe\">\n",
              "  <thead>\n",
              "    <tr style=\"text-align: right;\">\n",
              "      <th></th>\n",
              "      <th>host_has_profile_pic</th>\n",
              "      <th>host_since</th>\n",
              "      <th>neighbourhood_cleansed</th>\n",
              "      <th>neighbourhood_group_cleansed</th>\n",
              "      <th>host_is_superhost</th>\n",
              "      <th>description</th>\n",
              "      <th>latitude</th>\n",
              "      <th>longitude</th>\n",
              "      <th>is_location_exact</th>\n",
              "      <th>property_type</th>\n",
              "      <th>room_type</th>\n",
              "      <th>accommodates</th>\n",
              "      <th>bathrooms</th>\n",
              "      <th>bedrooms</th>\n",
              "      <th>bed_type</th>\n",
              "      <th>amenities</th>\n",
              "      <th>price</th>\n",
              "      <th>cleaning_fee</th>\n",
              "      <th>review_scores_rating</th>\n",
              "      <th>reviews_per_month</th>\n",
              "      <th>number_of_reviews</th>\n",
              "      <th>review_scores_accuracy</th>\n",
              "      <th>review_scores_cleanliness</th>\n",
              "      <th>review_scores_checkin</th>\n",
              "      <th>review_scores_communication</th>\n",
              "      <th>review_scores_location</th>\n",
              "      <th>review_scores_value</th>\n",
              "      <th>security_deposit</th>\n",
              "      <th>extra_people</th>\n",
              "      <th>guests_included</th>\n",
              "      <th>minimum_nights</th>\n",
              "      <th>instant_bookable</th>\n",
              "      <th>is_business_travel_ready</th>\n",
              "      <th>cancellation_policy</th>\n",
              "      <th>availability_365</th>\n",
              "    </tr>\n",
              "    <tr>\n",
              "      <th>id</th>\n",
              "      <th></th>\n",
              "      <th></th>\n",
              "      <th></th>\n",
              "      <th></th>\n",
              "      <th></th>\n",
              "      <th></th>\n",
              "      <th></th>\n",
              "      <th></th>\n",
              "      <th></th>\n",
              "      <th></th>\n",
              "      <th></th>\n",
              "      <th></th>\n",
              "      <th></th>\n",
              "      <th></th>\n",
              "      <th></th>\n",
              "      <th></th>\n",
              "      <th></th>\n",
              "      <th></th>\n",
              "      <th></th>\n",
              "      <th></th>\n",
              "      <th></th>\n",
              "      <th></th>\n",
              "      <th></th>\n",
              "      <th></th>\n",
              "      <th></th>\n",
              "      <th></th>\n",
              "      <th></th>\n",
              "      <th></th>\n",
              "      <th></th>\n",
              "      <th></th>\n",
              "      <th></th>\n",
              "      <th></th>\n",
              "      <th></th>\n",
              "      <th></th>\n",
              "      <th></th>\n",
              "    </tr>\n",
              "  </thead>\n",
              "  <tbody>\n",
              "    <tr>\n",
              "      <th>2015</th>\n",
              "      <td>t</td>\n",
              "      <td>2008-08-18</td>\n",
              "      <td>Brunnenstr. Süd</td>\n",
              "      <td>Mitte</td>\n",
              "      <td>t</td>\n",
              "      <td>Great location!  30 of 75 sq meters. This wood...</td>\n",
              "      <td>52.534537</td>\n",
              "      <td>13.402557</td>\n",
              "      <td>f</td>\n",
              "      <td>Guesthouse</td>\n",
              "      <td>Entire home/apt</td>\n",
              "      <td>3</td>\n",
              "      <td>1.0</td>\n",
              "      <td>1.0</td>\n",
              "      <td>Real Bed</td>\n",
              "      <td>{TV,\"Cable TV\",Wifi,Kitchen,Gym,Heating,\"Famil...</td>\n",
              "      <td>$60.00</td>\n",
              "      <td>$30.00</td>\n",
              "      <td>93.0</td>\n",
              "      <td>3.76</td>\n",
              "      <td>118</td>\n",
              "      <td>10.0</td>\n",
              "      <td>9.0</td>\n",
              "      <td>10.0</td>\n",
              "      <td>10.0</td>\n",
              "      <td>10.0</td>\n",
              "      <td>9.0</td>\n",
              "      <td>$200.00</td>\n",
              "      <td>$28.00</td>\n",
              "      <td>1</td>\n",
              "      <td>4</td>\n",
              "      <td>f</td>\n",
              "      <td>f</td>\n",
              "      <td>strict_14_with_grace_period</td>\n",
              "      <td>141</td>\n",
              "    </tr>\n",
              "    <tr>\n",
              "      <th>2695</th>\n",
              "      <td>t</td>\n",
              "      <td>2008-09-16</td>\n",
              "      <td>Prenzlauer Berg Nordwest</td>\n",
              "      <td>Pankow</td>\n",
              "      <td>f</td>\n",
              "      <td>In the summertime we are spending most of our ...</td>\n",
              "      <td>52.548513</td>\n",
              "      <td>13.404553</td>\n",
              "      <td>t</td>\n",
              "      <td>Apartment</td>\n",
              "      <td>Private room</td>\n",
              "      <td>2</td>\n",
              "      <td>1.0</td>\n",
              "      <td>1.0</td>\n",
              "      <td>Real Bed</td>\n",
              "      <td>{Wifi,Kitchen,Elevator,Heating,Washer,Essentia...</td>\n",
              "      <td>$17.00</td>\n",
              "      <td>$0.00</td>\n",
              "      <td>100.0</td>\n",
              "      <td>1.42</td>\n",
              "      <td>6</td>\n",
              "      <td>10.0</td>\n",
              "      <td>10.0</td>\n",
              "      <td>10.0</td>\n",
              "      <td>10.0</td>\n",
              "      <td>10.0</td>\n",
              "      <td>10.0</td>\n",
              "      <td>$0.00</td>\n",
              "      <td>$0.00</td>\n",
              "      <td>1</td>\n",
              "      <td>2</td>\n",
              "      <td>f</td>\n",
              "      <td>f</td>\n",
              "      <td>flexible</td>\n",
              "      <td>0</td>\n",
              "    </tr>\n",
              "  </tbody>\n",
              "</table>\n",
              "</div>\n",
              "      <button class=\"colab-df-convert\" onclick=\"convertToInteractive('df-0eb24f8b-813c-40cd-b89d-183c137ec2fa')\"\n",
              "              title=\"Convert this dataframe to an interactive table.\"\n",
              "              style=\"display:none;\">\n",
              "        \n",
              "  <svg xmlns=\"http://www.w3.org/2000/svg\" height=\"24px\"viewBox=\"0 0 24 24\"\n",
              "       width=\"24px\">\n",
              "    <path d=\"M0 0h24v24H0V0z\" fill=\"none\"/>\n",
              "    <path d=\"M18.56 5.44l.94 2.06.94-2.06 2.06-.94-2.06-.94-.94-2.06-.94 2.06-2.06.94zm-11 1L8.5 8.5l.94-2.06 2.06-.94-2.06-.94L8.5 2.5l-.94 2.06-2.06.94zm10 10l.94 2.06.94-2.06 2.06-.94-2.06-.94-.94-2.06-.94 2.06-2.06.94z\"/><path d=\"M17.41 7.96l-1.37-1.37c-.4-.4-.92-.59-1.43-.59-.52 0-1.04.2-1.43.59L10.3 9.45l-7.72 7.72c-.78.78-.78 2.05 0 2.83L4 21.41c.39.39.9.59 1.41.59.51 0 1.02-.2 1.41-.59l7.78-7.78 2.81-2.81c.8-.78.8-2.07 0-2.86zM5.41 20L4 18.59l7.72-7.72 1.47 1.35L5.41 20z\"/>\n",
              "  </svg>\n",
              "      </button>\n",
              "      \n",
              "  <style>\n",
              "    .colab-df-container {\n",
              "      display:flex;\n",
              "      flex-wrap:wrap;\n",
              "      gap: 12px;\n",
              "    }\n",
              "\n",
              "    .colab-df-convert {\n",
              "      background-color: #E8F0FE;\n",
              "      border: none;\n",
              "      border-radius: 50%;\n",
              "      cursor: pointer;\n",
              "      display: none;\n",
              "      fill: #1967D2;\n",
              "      height: 32px;\n",
              "      padding: 0 0 0 0;\n",
              "      width: 32px;\n",
              "    }\n",
              "\n",
              "    .colab-df-convert:hover {\n",
              "      background-color: #E2EBFA;\n",
              "      box-shadow: 0px 1px 2px rgba(60, 64, 67, 0.3), 0px 1px 3px 1px rgba(60, 64, 67, 0.15);\n",
              "      fill: #174EA6;\n",
              "    }\n",
              "\n",
              "    [theme=dark] .colab-df-convert {\n",
              "      background-color: #3B4455;\n",
              "      fill: #D2E3FC;\n",
              "    }\n",
              "\n",
              "    [theme=dark] .colab-df-convert:hover {\n",
              "      background-color: #434B5C;\n",
              "      box-shadow: 0px 1px 3px 1px rgba(0, 0, 0, 0.15);\n",
              "      filter: drop-shadow(0px 1px 2px rgba(0, 0, 0, 0.3));\n",
              "      fill: #FFFFFF;\n",
              "    }\n",
              "  </style>\n",
              "\n",
              "      <script>\n",
              "        const buttonEl =\n",
              "          document.querySelector('#df-0eb24f8b-813c-40cd-b89d-183c137ec2fa button.colab-df-convert');\n",
              "        buttonEl.style.display =\n",
              "          google.colab.kernel.accessAllowed ? 'block' : 'none';\n",
              "\n",
              "        async function convertToInteractive(key) {\n",
              "          const element = document.querySelector('#df-0eb24f8b-813c-40cd-b89d-183c137ec2fa');\n",
              "          const dataTable =\n",
              "            await google.colab.kernel.invokeFunction('convertToInteractive',\n",
              "                                                     [key], {});\n",
              "          if (!dataTable) return;\n",
              "\n",
              "          const docLinkHtml = 'Like what you see? Visit the ' +\n",
              "            '<a target=\"_blank\" href=https://colab.research.google.com/notebooks/data_table.ipynb>data table notebook</a>'\n",
              "            + ' to learn more about interactive tables.';\n",
              "          element.innerHTML = '';\n",
              "          dataTable['output_type'] = 'display_data';\n",
              "          await google.colab.output.renderOutput(dataTable, element);\n",
              "          const docLink = document.createElement('div');\n",
              "          docLink.innerHTML = docLinkHtml;\n",
              "          element.appendChild(docLink);\n",
              "        }\n",
              "      </script>\n",
              "    </div>\n",
              "  </div>\n",
              "  "
            ]
          },
          "metadata": {},
          "execution_count": 58
        }
      ],
      "source": [
        "columns_to_keep = ['id','host_has_profile_pic','host_since','neighbourhood_cleansed', 'neighbourhood_group_cleansed',\n",
        "                   'host_is_superhost','description',\n",
        "                   'latitude', 'longitude','is_location_exact', 'property_type', 'room_type', 'accommodates', 'bathrooms',  \n",
        "                   'bedrooms', 'bed_type', 'amenities', 'price', 'cleaning_fee',\n",
        "                   'review_scores_rating','reviews_per_month','number_of_reviews',\n",
        "                   'review_scores_accuracy','review_scores_cleanliness','review_scores_checkin',\n",
        "                   'review_scores_communication','review_scores_location','review_scores_value',\n",
        "                   'security_deposit', 'extra_people', 'guests_included', 'minimum_nights',  \n",
        "                   'instant_bookable', 'is_business_travel_ready', 'cancellation_policy','availability_365']\n",
        "\n",
        "\n",
        "df = df[columns_to_keep].set_index('id') \n",
        "df.head(2)"
      ]
    },
    {
      "cell_type": "code",
      "execution_count": null,
      "metadata": {
        "colab": {
          "base_uri": "https://localhost:8080/"
        },
        "id": "IJ7hg-Qbttzg",
        "outputId": "a29fccae-729b-4103-d97b-b432bbb47ec1"
      },
      "outputs": [
        {
          "output_type": "execute_result",
          "data": {
            "text/plain": [
              "(22552, 96)"
            ]
          },
          "metadata": {},
          "execution_count": 108
        }
      ],
      "source": [
        "df.shape"
      ]
    },
    {
      "cell_type": "code",
      "source": [
        "df.describe()\n",
        "df.info()"
      ],
      "metadata": {
        "colab": {
          "base_uri": "https://localhost:8080/"
        },
        "id": "9XIVQYzxMkkd",
        "outputId": "113e5ca7-1a7d-4ffe-d93d-d3e46f325974"
      },
      "execution_count": null,
      "outputs": [
        {
          "output_type": "stream",
          "name": "stdout",
          "text": [
            "<class 'pandas.core.frame.DataFrame'>\n",
            "RangeIndex: 22552 entries, 0 to 22551\n",
            "Data columns (total 96 columns):\n",
            " #   Column                            Non-Null Count  Dtype  \n",
            "---  ------                            --------------  -----  \n",
            " 0   id                                22552 non-null  int64  \n",
            " 1   listing_url                       22552 non-null  object \n",
            " 2   scrape_id                         22552 non-null  int64  \n",
            " 3   last_scraped                      22552 non-null  object \n",
            " 4   name                              22493 non-null  object \n",
            " 5   summary                           21589 non-null  object \n",
            " 6   space                             14020 non-null  object \n",
            " 7   description                       22349 non-null  object \n",
            " 8   experiences_offered               22552 non-null  object \n",
            " 9   neighborhood_overview             11540 non-null  object \n",
            " 10  notes                             7215 non-null   object \n",
            " 11  transit                           13036 non-null  object \n",
            " 12  access                            10837 non-null  object \n",
            " 13  interaction                       10406 non-null  object \n",
            " 14  house_rules                       11449 non-null  object \n",
            " 15  thumbnail_url                     0 non-null      float64\n",
            " 16  medium_url                        0 non-null      float64\n",
            " 17  picture_url                       22552 non-null  object \n",
            " 18  xl_picture_url                    0 non-null      float64\n",
            " 19  host_id                           22552 non-null  int64  \n",
            " 20  host_url                          22552 non-null  object \n",
            " 21  host_name                         22526 non-null  object \n",
            " 22  host_since                        22526 non-null  object \n",
            " 23  host_location                     22436 non-null  object \n",
            " 24  host_about                        11189 non-null  object \n",
            " 25  host_response_time                9658 non-null   object \n",
            " 26  host_response_rate                9657 non-null   object \n",
            " 27  host_acceptance_rate              0 non-null      float64\n",
            " 28  host_is_superhost                 22526 non-null  object \n",
            " 29  host_thumbnail_url                22526 non-null  object \n",
            " 30  host_picture_url                  22526 non-null  object \n",
            " 31  host_neighbourhood                17458 non-null  object \n",
            " 32  host_listings_count               22526 non-null  float64\n",
            " 33  host_total_listings_count         22526 non-null  float64\n",
            " 34  host_verifications                22552 non-null  object \n",
            " 35  host_has_profile_pic              22526 non-null  object \n",
            " 36  host_identity_verified            22526 non-null  object \n",
            " 37  street                            22552 non-null  object \n",
            " 38  neighbourhood                     21421 non-null  object \n",
            " 39  neighbourhood_cleansed            22552 non-null  object \n",
            " 40  neighbourhood_group_cleansed      22552 non-null  object \n",
            " 41  city                              22547 non-null  object \n",
            " 42  state                             22468 non-null  object \n",
            " 43  zipcode                           21896 non-null  object \n",
            " 44  market                            22489 non-null  object \n",
            " 45  smart_location                    22552 non-null  object \n",
            " 46  country_code                      22552 non-null  object \n",
            " 47  country                           22552 non-null  object \n",
            " 48  latitude                          22552 non-null  float64\n",
            " 49  longitude                         22552 non-null  float64\n",
            " 50  is_location_exact                 22552 non-null  object \n",
            " 51  property_type                     22552 non-null  object \n",
            " 52  room_type                         22552 non-null  object \n",
            " 53  accommodates                      22552 non-null  int64  \n",
            " 54  bathrooms                         22520 non-null  float64\n",
            " 55  bedrooms                          22534 non-null  float64\n",
            " 56  beds                              22512 non-null  float64\n",
            " 57  bed_type                          22552 non-null  object \n",
            " 58  amenities                         22552 non-null  object \n",
            " 59  square_feet                       446 non-null    float64\n",
            " 60  price                             22552 non-null  object \n",
            " 61  weekly_price                      3681 non-null   object \n",
            " 62  monthly_price                     2659 non-null   object \n",
            " 63  security_deposit                  13191 non-null  object \n",
            " 64  cleaning_fee                      15406 non-null  object \n",
            " 65  guests_included                   22552 non-null  int64  \n",
            " 66  extra_people                      22552 non-null  object \n",
            " 67  minimum_nights                    22552 non-null  int64  \n",
            " 68  maximum_nights                    22552 non-null  int64  \n",
            " 69  calendar_updated                  22552 non-null  object \n",
            " 70  has_availability                  22552 non-null  object \n",
            " 71  availability_30                   22552 non-null  int64  \n",
            " 72  availability_60                   22552 non-null  int64  \n",
            " 73  availability_90                   22552 non-null  int64  \n",
            " 74  availability_365                  22552 non-null  int64  \n",
            " 75  calendar_last_scraped             22552 non-null  object \n",
            " 76  number_of_reviews                 22552 non-null  int64  \n",
            " 77  first_review                      18638 non-null  object \n",
            " 78  last_review                       18644 non-null  object \n",
            " 79  review_scores_rating              18163 non-null  float64\n",
            " 80  review_scores_accuracy            18138 non-null  float64\n",
            " 81  review_scores_cleanliness         18141 non-null  float64\n",
            " 82  review_scores_checkin             18120 non-null  float64\n",
            " 83  review_scores_communication       18134 non-null  float64\n",
            " 84  review_scores_location            18121 non-null  float64\n",
            " 85  review_scores_value               18117 non-null  float64\n",
            " 86  requires_license                  22552 non-null  object \n",
            " 87  license                           1638 non-null   object \n",
            " 88  jurisdiction_names                0 non-null      float64\n",
            " 89  instant_bookable                  22552 non-null  object \n",
            " 90  is_business_travel_ready          22552 non-null  object \n",
            " 91  cancellation_policy               22552 non-null  object \n",
            " 92  require_guest_profile_picture     22552 non-null  object \n",
            " 93  require_guest_phone_verification  22552 non-null  object \n",
            " 94  calculated_host_listings_count    22552 non-null  int64  \n",
            " 95  reviews_per_month                 18638 non-null  float64\n",
            "dtypes: float64(21), int64(13), object(62)\n",
            "memory usage: 16.5+ MB\n"
          ]
        }
      ]
    },
    {
      "cell_type": "markdown",
      "metadata": {
        "id": "C092wuC_ttzh"
      },
      "source": [
        "# Null Values\n",
        "### Inspection + Handling"
      ]
    },
    {
      "cell_type": "code",
      "execution_count": null,
      "metadata": {
        "colab": {
          "base_uri": "https://localhost:8080/"
        },
        "id": "06cts0aHttzi",
        "outputId": "2d96488b-025e-43da-8b61-8a9c7fcb0abd"
      },
      "outputs": [
        {
          "output_type": "execute_result",
          "data": {
            "text/plain": [
              "id                                     0\n",
              "listing_url                            0\n",
              "scrape_id                              0\n",
              "last_scraped                           0\n",
              "name                                  59\n",
              "                                    ... \n",
              "cancellation_policy                    0\n",
              "require_guest_profile_picture          0\n",
              "require_guest_phone_verification       0\n",
              "calculated_host_listings_count         0\n",
              "reviews_per_month                   3914\n",
              "Length: 96, dtype: int64"
            ]
          },
          "metadata": {},
          "execution_count": 110
        }
      ],
      "source": [
        "df.isnull().sum()    "
      ]
    },
    {
      "cell_type": "code",
      "source": [
        "df[\"review_scores_value\"].value_counts()"
      ],
      "metadata": {
        "colab": {
          "base_uri": "https://localhost:8080/"
        },
        "id": "DJ__WypMOgDU",
        "outputId": "c45af8b0-397d-4321-ab07-e9f80a23f928"
      },
      "execution_count": null,
      "outputs": [
        {
          "output_type": "execute_result",
          "data": {
            "text/plain": [
              "10.0    10020\n",
              "9.0      6376\n",
              "8.0      1306\n",
              "6.0       181\n",
              "7.0       161\n",
              "4.0        36\n",
              "2.0        23\n",
              "5.0        12\n",
              "3.0         2\n",
              "Name: review_scores_value, dtype: int64"
            ]
          },
          "metadata": {},
          "execution_count": 111
        }
      ]
    },
    {
      "cell_type": "markdown",
      "metadata": {
        "id": "OYYBMxD4ttzj"
      },
      "source": [
        "# f/t to int"
      ]
    },
    {
      "cell_type": "code",
      "execution_count": null,
      "metadata": {
        "id": "yfQhMOXXttzk"
      },
      "outputs": [],
      "source": [
        "df['is_location_exact'] = df['is_location_exact'].map({'f':0,'t':1})   \n",
        "df['host_is_superhost'] = df['host_is_superhost'].map({'f':0,'t':1})\n",
        "df['is_business_travel_ready'] = df['is_business_travel_ready'].map({'f':0,'t':1})\n",
        "df['instant_bookable'] = df['instant_bookable'].map({'f':0,'t':1})"
      ]
    },
    {
      "cell_type": "code",
      "execution_count": null,
      "metadata": {
        "colab": {
          "base_uri": "https://localhost:8080/",
          "height": 536
        },
        "id": "CmIIQA3tttzk",
        "outputId": "fcc00f3a-a56d-47e6-f554-542665c92bb8"
      },
      "outputs": [
        {
          "output_type": "execute_result",
          "data": {
            "text/plain": [
              "     id                        listing_url       scrape_id last_scraped  \\\n",
              "0  2015  https://www.airbnb.com/rooms/2015  20181107122246   2018-11-07   \n",
              "1  2695  https://www.airbnb.com/rooms/2695  20181107122246   2018-11-07   \n",
              "2  3176  https://www.airbnb.com/rooms/3176  20181107122246   2018-11-07   \n",
              "\n",
              "                                               name  \\\n",
              "0  Berlin-Mitte Value! Quiet courtyard/very central   \n",
              "1                Prenzlauer Berg close to Mauerpark   \n",
              "2                   Fabulous Flat in great Location   \n",
              "\n",
              "                                             summary  \\\n",
              "0  Great location!  30 of 75 sq meters. This wood...   \n",
              "1                                                NaN   \n",
              "2  This beautiful first floor apartment  is situa...   \n",
              "\n",
              "                                               space  \\\n",
              "0  A+++ location! This „Einliegerwohnung“ is an e...   \n",
              "1  In the summertime we are spending most of our ...   \n",
              "2  1st floor (68m2) apartment on Kollwitzplatz/ P...   \n",
              "\n",
              "                                         description experiences_offered  \\\n",
              "0  Great location!  30 of 75 sq meters. This wood...                none   \n",
              "1  In the summertime we are spending most of our ...                none   \n",
              "2  This beautiful first floor apartment  is situa...                none   \n",
              "\n",
              "                               neighborhood_overview  \\\n",
              "0  It is located in the former East Berlin area o...   \n",
              "1                                                NaN   \n",
              "2  The neighbourhood is famous for its variety of...   \n",
              "\n",
              "                                               notes  \\\n",
              "0  This is my home, not a hotel. I rent out occas...   \n",
              "1                                                NaN   \n",
              "2  We welcome FAMILIES and cater especially for y...   \n",
              "\n",
              "                                             transit  \\\n",
              "0  Close to U-Bahn U8 and U2 (metro), Trams M12, ...   \n",
              "1  Within walking distance you'll find the S-Bahn...   \n",
              "2  We are 5 min walk  away from the tram M2, whic...   \n",
              "\n",
              "                                              access  \\\n",
              "0  Simple kitchen/cooking, refrigerator, microwav...   \n",
              "1  Außer deinem Zimmer kannst du noch die Küche u...   \n",
              "2  The apartment will be entirely yours. We are c...   \n",
              "\n",
              "                                         interaction  \\\n",
              "0                                   Always available   \n",
              "1                                                NaN   \n",
              "2  Feel free to ask any questions prior to bookin...   \n",
              "\n",
              "                                         house_rules  thumbnail_url  \\\n",
              "0  No parties No events No pets No smoking, not e...            NaN   \n",
              "1                                                NaN            NaN   \n",
              "2  It’s a non smoking flat, which likes to be tre...            NaN   \n",
              "\n",
              "   medium_url                                        picture_url  \\\n",
              "0         NaN  https://a0.muscache.com/im/pictures/260fd609-7...   \n",
              "1         NaN  https://a0.muscache.com/im/pictures/97d4f6e8-1...   \n",
              "2         NaN  https://a0.muscache.com/im/pictures/243355/84a...   \n",
              "\n",
              "   xl_picture_url  host_id                                host_url host_name  \\\n",
              "0             NaN     2217  https://www.airbnb.com/users/show/2217       Ian   \n",
              "1             NaN     2986  https://www.airbnb.com/users/show/2986   Michael   \n",
              "2             NaN     3718  https://www.airbnb.com/users/show/3718    Britta   \n",
              "\n",
              "   host_since                         host_location  \\\n",
              "0  2008-08-18  Key Biscayne, Florida, United States   \n",
              "1  2008-09-16               Berlin, Berlin, Germany   \n",
              "2  2008-10-19  Coledale, New South Wales, Australia   \n",
              "\n",
              "                                          host_about host_response_time  \\\n",
              "0                        Believe in sharing economy.     within an hour   \n",
              "1  Living with my wife in Berlin.  Like travellin...                NaN   \n",
              "2  We love to travel ourselves a lot and prefer t...       within a day   \n",
              "\n",
              "  host_response_rate  host_acceptance_rate  host_is_superhost  \\\n",
              "0                96%                   NaN                1.0   \n",
              "1                NaN                   NaN                0.0   \n",
              "2               100%                   NaN                0.0   \n",
              "\n",
              "                                  host_thumbnail_url  \\\n",
              "0  https://a0.muscache.com/im/pictures/21428a22-4...   \n",
              "1  https://a0.muscache.com/im/pictures/50434955-1...   \n",
              "2  https://a0.muscache.com/im/users/3718/profile_...   \n",
              "\n",
              "                                    host_picture_url host_neighbourhood  \\\n",
              "0  https://a0.muscache.com/im/pictures/21428a22-4...              Mitte   \n",
              "1  https://a0.muscache.com/im/pictures/50434955-1...    Prenzlauer Berg   \n",
              "2  https://a0.muscache.com/im/users/3718/profile_...    Prenzlauer Berg   \n",
              "\n",
              "   host_listings_count  host_total_listings_count  \\\n",
              "0                  4.0                        4.0   \n",
              "1                  1.0                        1.0   \n",
              "2                  1.0                        1.0   \n",
              "\n",
              "                                  host_verifications host_has_profile_pic  \\\n",
              "0  ['email', 'phone', 'reviews', 'jumio', 'offlin...                    t   \n",
              "1  ['email', 'phone', 'reviews', 'jumio', 'govern...                    t   \n",
              "2  ['email', 'phone', 'facebook', 'reviews', 'man...                    t   \n",
              "\n",
              "  host_identity_verified                   street    neighbourhood  \\\n",
              "0                      t  Berlin, Berlin, Germany            Mitte   \n",
              "1                      t  Berlin, Berlin, Germany              NaN   \n",
              "2                      t  Berlin, Berlin, Germany  Prenzlauer Berg   \n",
              "\n",
              "     neighbourhood_cleansed neighbourhood_group_cleansed    city   state  \\\n",
              "0           Brunnenstr. Süd                        Mitte  Berlin  Berlin   \n",
              "1  Prenzlauer Berg Nordwest                       Pankow  Berlin  Berlin   \n",
              "2   Prenzlauer Berg Südwest                       Pankow  Berlin  Berlin   \n",
              "\n",
              "  zipcode  market   smart_location country_code  country   latitude  \\\n",
              "0   10119  Berlin  Berlin, Germany           DE  Germany  52.534537   \n",
              "1   10437  Berlin  Berlin, Germany           DE  Germany  52.548513   \n",
              "2   10405  Berlin  Berlin, Germany           DE  Germany  52.534996   \n",
              "\n",
              "   longitude  is_location_exact property_type        room_type  accommodates  \\\n",
              "0  13.402557                  0    Guesthouse  Entire home/apt             3   \n",
              "1  13.404553                  1     Apartment     Private room             2   \n",
              "2  13.417579                  1     Apartment  Entire home/apt             4   \n",
              "\n",
              "   bathrooms  bedrooms  beds  bed_type  \\\n",
              "0        1.0       1.0   2.0  Real Bed   \n",
              "1        1.0       1.0   1.0  Real Bed   \n",
              "2        1.0       1.0   2.0  Real Bed   \n",
              "\n",
              "                                           amenities  square_feet   price  \\\n",
              "0  {TV,\"Cable TV\",Wifi,Kitchen,Gym,Heating,\"Famil...          NaN  $60.00   \n",
              "1  {Wifi,Kitchen,Elevator,Heating,Washer,Essentia...          NaN  $17.00   \n",
              "2  {Internet,Wifi,Kitchen,\"Buzzer/wireless interc...        720.0  $90.00   \n",
              "\n",
              "  weekly_price monthly_price security_deposit cleaning_fee  guests_included  \\\n",
              "0          NaN           NaN          $200.00       $30.00                1   \n",
              "1          NaN           NaN            $0.00        $0.00                1   \n",
              "2      $520.00     $1,900.00          $200.00       $50.00                2   \n",
              "\n",
              "  extra_people  minimum_nights  maximum_nights calendar_updated  \\\n",
              "0       $28.00               4            1125     3 months ago   \n",
              "1        $0.00               2              40      7 weeks ago   \n",
              "2       $20.00              62            1125       a week ago   \n",
              "\n",
              "  has_availability  availability_30  availability_60  availability_90  \\\n",
              "0                t                0               21               51   \n",
              "1                t                0                0                0   \n",
              "2                t                0                0                0   \n",
              "\n",
              "   availability_365 calendar_last_scraped  number_of_reviews first_review  \\\n",
              "0               141            2018-11-07                118   2016-04-11   \n",
              "1                 0            2018-11-07                  6   2018-07-04   \n",
              "2               220            2018-11-07                143   2009-06-20   \n",
              "\n",
              "  last_review  review_scores_rating  review_scores_accuracy  \\\n",
              "0  2018-10-28                  93.0                    10.0   \n",
              "1  2018-10-01                 100.0                    10.0   \n",
              "2  2017-03-20                  92.0                     9.0   \n",
              "\n",
              "   review_scores_cleanliness  review_scores_checkin  \\\n",
              "0                        9.0                   10.0   \n",
              "1                       10.0                   10.0   \n",
              "2                        9.0                    9.0   \n",
              "\n",
              "   review_scores_communication  review_scores_location  review_scores_value  \\\n",
              "0                         10.0                    10.0                  9.0   \n",
              "1                         10.0                    10.0                 10.0   \n",
              "2                          9.0                    10.0                  9.0   \n",
              "\n",
              "  requires_license license  jurisdiction_names  instant_bookable  \\\n",
              "0                t     NaN                 NaN                 0   \n",
              "1                t     NaN                 NaN                 0   \n",
              "2                t     NaN                 NaN                 1   \n",
              "\n",
              "   is_business_travel_ready          cancellation_policy  \\\n",
              "0                         0  strict_14_with_grace_period   \n",
              "1                         0                     flexible   \n",
              "2                         0  strict_14_with_grace_period   \n",
              "\n",
              "  require_guest_profile_picture require_guest_phone_verification  \\\n",
              "0                             f                                f   \n",
              "1                             f                                f   \n",
              "2                             f                                f   \n",
              "\n",
              "   calculated_host_listings_count  reviews_per_month  \n",
              "0                               4               3.76  \n",
              "1                               1               1.42  \n",
              "2                               1               1.25  "
            ],
            "text/html": [
              "\n",
              "  <div id=\"df-f48ee5b5-dc00-4f57-9678-d33a5c165247\">\n",
              "    <div class=\"colab-df-container\">\n",
              "      <div>\n",
              "<style scoped>\n",
              "    .dataframe tbody tr th:only-of-type {\n",
              "        vertical-align: middle;\n",
              "    }\n",
              "\n",
              "    .dataframe tbody tr th {\n",
              "        vertical-align: top;\n",
              "    }\n",
              "\n",
              "    .dataframe thead th {\n",
              "        text-align: right;\n",
              "    }\n",
              "</style>\n",
              "<table border=\"1\" class=\"dataframe\">\n",
              "  <thead>\n",
              "    <tr style=\"text-align: right;\">\n",
              "      <th></th>\n",
              "      <th>id</th>\n",
              "      <th>listing_url</th>\n",
              "      <th>scrape_id</th>\n",
              "      <th>last_scraped</th>\n",
              "      <th>name</th>\n",
              "      <th>summary</th>\n",
              "      <th>space</th>\n",
              "      <th>description</th>\n",
              "      <th>experiences_offered</th>\n",
              "      <th>neighborhood_overview</th>\n",
              "      <th>notes</th>\n",
              "      <th>transit</th>\n",
              "      <th>access</th>\n",
              "      <th>interaction</th>\n",
              "      <th>house_rules</th>\n",
              "      <th>thumbnail_url</th>\n",
              "      <th>medium_url</th>\n",
              "      <th>picture_url</th>\n",
              "      <th>xl_picture_url</th>\n",
              "      <th>host_id</th>\n",
              "      <th>host_url</th>\n",
              "      <th>host_name</th>\n",
              "      <th>host_since</th>\n",
              "      <th>host_location</th>\n",
              "      <th>host_about</th>\n",
              "      <th>host_response_time</th>\n",
              "      <th>host_response_rate</th>\n",
              "      <th>host_acceptance_rate</th>\n",
              "      <th>host_is_superhost</th>\n",
              "      <th>host_thumbnail_url</th>\n",
              "      <th>host_picture_url</th>\n",
              "      <th>host_neighbourhood</th>\n",
              "      <th>host_listings_count</th>\n",
              "      <th>host_total_listings_count</th>\n",
              "      <th>host_verifications</th>\n",
              "      <th>host_has_profile_pic</th>\n",
              "      <th>host_identity_verified</th>\n",
              "      <th>street</th>\n",
              "      <th>neighbourhood</th>\n",
              "      <th>neighbourhood_cleansed</th>\n",
              "      <th>neighbourhood_group_cleansed</th>\n",
              "      <th>city</th>\n",
              "      <th>state</th>\n",
              "      <th>zipcode</th>\n",
              "      <th>market</th>\n",
              "      <th>smart_location</th>\n",
              "      <th>country_code</th>\n",
              "      <th>country</th>\n",
              "      <th>latitude</th>\n",
              "      <th>longitude</th>\n",
              "      <th>is_location_exact</th>\n",
              "      <th>property_type</th>\n",
              "      <th>room_type</th>\n",
              "      <th>accommodates</th>\n",
              "      <th>bathrooms</th>\n",
              "      <th>bedrooms</th>\n",
              "      <th>beds</th>\n",
              "      <th>bed_type</th>\n",
              "      <th>amenities</th>\n",
              "      <th>square_feet</th>\n",
              "      <th>price</th>\n",
              "      <th>weekly_price</th>\n",
              "      <th>monthly_price</th>\n",
              "      <th>security_deposit</th>\n",
              "      <th>cleaning_fee</th>\n",
              "      <th>guests_included</th>\n",
              "      <th>extra_people</th>\n",
              "      <th>minimum_nights</th>\n",
              "      <th>maximum_nights</th>\n",
              "      <th>calendar_updated</th>\n",
              "      <th>has_availability</th>\n",
              "      <th>availability_30</th>\n",
              "      <th>availability_60</th>\n",
              "      <th>availability_90</th>\n",
              "      <th>availability_365</th>\n",
              "      <th>calendar_last_scraped</th>\n",
              "      <th>number_of_reviews</th>\n",
              "      <th>first_review</th>\n",
              "      <th>last_review</th>\n",
              "      <th>review_scores_rating</th>\n",
              "      <th>review_scores_accuracy</th>\n",
              "      <th>review_scores_cleanliness</th>\n",
              "      <th>review_scores_checkin</th>\n",
              "      <th>review_scores_communication</th>\n",
              "      <th>review_scores_location</th>\n",
              "      <th>review_scores_value</th>\n",
              "      <th>requires_license</th>\n",
              "      <th>license</th>\n",
              "      <th>jurisdiction_names</th>\n",
              "      <th>instant_bookable</th>\n",
              "      <th>is_business_travel_ready</th>\n",
              "      <th>cancellation_policy</th>\n",
              "      <th>require_guest_profile_picture</th>\n",
              "      <th>require_guest_phone_verification</th>\n",
              "      <th>calculated_host_listings_count</th>\n",
              "      <th>reviews_per_month</th>\n",
              "    </tr>\n",
              "  </thead>\n",
              "  <tbody>\n",
              "    <tr>\n",
              "      <th>0</th>\n",
              "      <td>2015</td>\n",
              "      <td>https://www.airbnb.com/rooms/2015</td>\n",
              "      <td>20181107122246</td>\n",
              "      <td>2018-11-07</td>\n",
              "      <td>Berlin-Mitte Value! Quiet courtyard/very central</td>\n",
              "      <td>Great location!  30 of 75 sq meters. This wood...</td>\n",
              "      <td>A+++ location! This „Einliegerwohnung“ is an e...</td>\n",
              "      <td>Great location!  30 of 75 sq meters. This wood...</td>\n",
              "      <td>none</td>\n",
              "      <td>It is located in the former East Berlin area o...</td>\n",
              "      <td>This is my home, not a hotel. I rent out occas...</td>\n",
              "      <td>Close to U-Bahn U8 and U2 (metro), Trams M12, ...</td>\n",
              "      <td>Simple kitchen/cooking, refrigerator, microwav...</td>\n",
              "      <td>Always available</td>\n",
              "      <td>No parties No events No pets No smoking, not e...</td>\n",
              "      <td>NaN</td>\n",
              "      <td>NaN</td>\n",
              "      <td>https://a0.muscache.com/im/pictures/260fd609-7...</td>\n",
              "      <td>NaN</td>\n",
              "      <td>2217</td>\n",
              "      <td>https://www.airbnb.com/users/show/2217</td>\n",
              "      <td>Ian</td>\n",
              "      <td>2008-08-18</td>\n",
              "      <td>Key Biscayne, Florida, United States</td>\n",
              "      <td>Believe in sharing economy.</td>\n",
              "      <td>within an hour</td>\n",
              "      <td>96%</td>\n",
              "      <td>NaN</td>\n",
              "      <td>1.0</td>\n",
              "      <td>https://a0.muscache.com/im/pictures/21428a22-4...</td>\n",
              "      <td>https://a0.muscache.com/im/pictures/21428a22-4...</td>\n",
              "      <td>Mitte</td>\n",
              "      <td>4.0</td>\n",
              "      <td>4.0</td>\n",
              "      <td>['email', 'phone', 'reviews', 'jumio', 'offlin...</td>\n",
              "      <td>t</td>\n",
              "      <td>t</td>\n",
              "      <td>Berlin, Berlin, Germany</td>\n",
              "      <td>Mitte</td>\n",
              "      <td>Brunnenstr. Süd</td>\n",
              "      <td>Mitte</td>\n",
              "      <td>Berlin</td>\n",
              "      <td>Berlin</td>\n",
              "      <td>10119</td>\n",
              "      <td>Berlin</td>\n",
              "      <td>Berlin, Germany</td>\n",
              "      <td>DE</td>\n",
              "      <td>Germany</td>\n",
              "      <td>52.534537</td>\n",
              "      <td>13.402557</td>\n",
              "      <td>0</td>\n",
              "      <td>Guesthouse</td>\n",
              "      <td>Entire home/apt</td>\n",
              "      <td>3</td>\n",
              "      <td>1.0</td>\n",
              "      <td>1.0</td>\n",
              "      <td>2.0</td>\n",
              "      <td>Real Bed</td>\n",
              "      <td>{TV,\"Cable TV\",Wifi,Kitchen,Gym,Heating,\"Famil...</td>\n",
              "      <td>NaN</td>\n",
              "      <td>$60.00</td>\n",
              "      <td>NaN</td>\n",
              "      <td>NaN</td>\n",
              "      <td>$200.00</td>\n",
              "      <td>$30.00</td>\n",
              "      <td>1</td>\n",
              "      <td>$28.00</td>\n",
              "      <td>4</td>\n",
              "      <td>1125</td>\n",
              "      <td>3 months ago</td>\n",
              "      <td>t</td>\n",
              "      <td>0</td>\n",
              "      <td>21</td>\n",
              "      <td>51</td>\n",
              "      <td>141</td>\n",
              "      <td>2018-11-07</td>\n",
              "      <td>118</td>\n",
              "      <td>2016-04-11</td>\n",
              "      <td>2018-10-28</td>\n",
              "      <td>93.0</td>\n",
              "      <td>10.0</td>\n",
              "      <td>9.0</td>\n",
              "      <td>10.0</td>\n",
              "      <td>10.0</td>\n",
              "      <td>10.0</td>\n",
              "      <td>9.0</td>\n",
              "      <td>t</td>\n",
              "      <td>NaN</td>\n",
              "      <td>NaN</td>\n",
              "      <td>0</td>\n",
              "      <td>0</td>\n",
              "      <td>strict_14_with_grace_period</td>\n",
              "      <td>f</td>\n",
              "      <td>f</td>\n",
              "      <td>4</td>\n",
              "      <td>3.76</td>\n",
              "    </tr>\n",
              "    <tr>\n",
              "      <th>1</th>\n",
              "      <td>2695</td>\n",
              "      <td>https://www.airbnb.com/rooms/2695</td>\n",
              "      <td>20181107122246</td>\n",
              "      <td>2018-11-07</td>\n",
              "      <td>Prenzlauer Berg close to Mauerpark</td>\n",
              "      <td>NaN</td>\n",
              "      <td>In the summertime we are spending most of our ...</td>\n",
              "      <td>In the summertime we are spending most of our ...</td>\n",
              "      <td>none</td>\n",
              "      <td>NaN</td>\n",
              "      <td>NaN</td>\n",
              "      <td>Within walking distance you'll find the S-Bahn...</td>\n",
              "      <td>Außer deinem Zimmer kannst du noch die Küche u...</td>\n",
              "      <td>NaN</td>\n",
              "      <td>NaN</td>\n",
              "      <td>NaN</td>\n",
              "      <td>NaN</td>\n",
              "      <td>https://a0.muscache.com/im/pictures/97d4f6e8-1...</td>\n",
              "      <td>NaN</td>\n",
              "      <td>2986</td>\n",
              "      <td>https://www.airbnb.com/users/show/2986</td>\n",
              "      <td>Michael</td>\n",
              "      <td>2008-09-16</td>\n",
              "      <td>Berlin, Berlin, Germany</td>\n",
              "      <td>Living with my wife in Berlin.  Like travellin...</td>\n",
              "      <td>NaN</td>\n",
              "      <td>NaN</td>\n",
              "      <td>NaN</td>\n",
              "      <td>0.0</td>\n",
              "      <td>https://a0.muscache.com/im/pictures/50434955-1...</td>\n",
              "      <td>https://a0.muscache.com/im/pictures/50434955-1...</td>\n",
              "      <td>Prenzlauer Berg</td>\n",
              "      <td>1.0</td>\n",
              "      <td>1.0</td>\n",
              "      <td>['email', 'phone', 'reviews', 'jumio', 'govern...</td>\n",
              "      <td>t</td>\n",
              "      <td>t</td>\n",
              "      <td>Berlin, Berlin, Germany</td>\n",
              "      <td>NaN</td>\n",
              "      <td>Prenzlauer Berg Nordwest</td>\n",
              "      <td>Pankow</td>\n",
              "      <td>Berlin</td>\n",
              "      <td>Berlin</td>\n",
              "      <td>10437</td>\n",
              "      <td>Berlin</td>\n",
              "      <td>Berlin, Germany</td>\n",
              "      <td>DE</td>\n",
              "      <td>Germany</td>\n",
              "      <td>52.548513</td>\n",
              "      <td>13.404553</td>\n",
              "      <td>1</td>\n",
              "      <td>Apartment</td>\n",
              "      <td>Private room</td>\n",
              "      <td>2</td>\n",
              "      <td>1.0</td>\n",
              "      <td>1.0</td>\n",
              "      <td>1.0</td>\n",
              "      <td>Real Bed</td>\n",
              "      <td>{Wifi,Kitchen,Elevator,Heating,Washer,Essentia...</td>\n",
              "      <td>NaN</td>\n",
              "      <td>$17.00</td>\n",
              "      <td>NaN</td>\n",
              "      <td>NaN</td>\n",
              "      <td>$0.00</td>\n",
              "      <td>$0.00</td>\n",
              "      <td>1</td>\n",
              "      <td>$0.00</td>\n",
              "      <td>2</td>\n",
              "      <td>40</td>\n",
              "      <td>7 weeks ago</td>\n",
              "      <td>t</td>\n",
              "      <td>0</td>\n",
              "      <td>0</td>\n",
              "      <td>0</td>\n",
              "      <td>0</td>\n",
              "      <td>2018-11-07</td>\n",
              "      <td>6</td>\n",
              "      <td>2018-07-04</td>\n",
              "      <td>2018-10-01</td>\n",
              "      <td>100.0</td>\n",
              "      <td>10.0</td>\n",
              "      <td>10.0</td>\n",
              "      <td>10.0</td>\n",
              "      <td>10.0</td>\n",
              "      <td>10.0</td>\n",
              "      <td>10.0</td>\n",
              "      <td>t</td>\n",
              "      <td>NaN</td>\n",
              "      <td>NaN</td>\n",
              "      <td>0</td>\n",
              "      <td>0</td>\n",
              "      <td>flexible</td>\n",
              "      <td>f</td>\n",
              "      <td>f</td>\n",
              "      <td>1</td>\n",
              "      <td>1.42</td>\n",
              "    </tr>\n",
              "    <tr>\n",
              "      <th>2</th>\n",
              "      <td>3176</td>\n",
              "      <td>https://www.airbnb.com/rooms/3176</td>\n",
              "      <td>20181107122246</td>\n",
              "      <td>2018-11-07</td>\n",
              "      <td>Fabulous Flat in great Location</td>\n",
              "      <td>This beautiful first floor apartment  is situa...</td>\n",
              "      <td>1st floor (68m2) apartment on Kollwitzplatz/ P...</td>\n",
              "      <td>This beautiful first floor apartment  is situa...</td>\n",
              "      <td>none</td>\n",
              "      <td>The neighbourhood is famous for its variety of...</td>\n",
              "      <td>We welcome FAMILIES and cater especially for y...</td>\n",
              "      <td>We are 5 min walk  away from the tram M2, whic...</td>\n",
              "      <td>The apartment will be entirely yours. We are c...</td>\n",
              "      <td>Feel free to ask any questions prior to bookin...</td>\n",
              "      <td>It’s a non smoking flat, which likes to be tre...</td>\n",
              "      <td>NaN</td>\n",
              "      <td>NaN</td>\n",
              "      <td>https://a0.muscache.com/im/pictures/243355/84a...</td>\n",
              "      <td>NaN</td>\n",
              "      <td>3718</td>\n",
              "      <td>https://www.airbnb.com/users/show/3718</td>\n",
              "      <td>Britta</td>\n",
              "      <td>2008-10-19</td>\n",
              "      <td>Coledale, New South Wales, Australia</td>\n",
              "      <td>We love to travel ourselves a lot and prefer t...</td>\n",
              "      <td>within a day</td>\n",
              "      <td>100%</td>\n",
              "      <td>NaN</td>\n",
              "      <td>0.0</td>\n",
              "      <td>https://a0.muscache.com/im/users/3718/profile_...</td>\n",
              "      <td>https://a0.muscache.com/im/users/3718/profile_...</td>\n",
              "      <td>Prenzlauer Berg</td>\n",
              "      <td>1.0</td>\n",
              "      <td>1.0</td>\n",
              "      <td>['email', 'phone', 'facebook', 'reviews', 'man...</td>\n",
              "      <td>t</td>\n",
              "      <td>t</td>\n",
              "      <td>Berlin, Berlin, Germany</td>\n",
              "      <td>Prenzlauer Berg</td>\n",
              "      <td>Prenzlauer Berg Südwest</td>\n",
              "      <td>Pankow</td>\n",
              "      <td>Berlin</td>\n",
              "      <td>Berlin</td>\n",
              "      <td>10405</td>\n",
              "      <td>Berlin</td>\n",
              "      <td>Berlin, Germany</td>\n",
              "      <td>DE</td>\n",
              "      <td>Germany</td>\n",
              "      <td>52.534996</td>\n",
              "      <td>13.417579</td>\n",
              "      <td>1</td>\n",
              "      <td>Apartment</td>\n",
              "      <td>Entire home/apt</td>\n",
              "      <td>4</td>\n",
              "      <td>1.0</td>\n",
              "      <td>1.0</td>\n",
              "      <td>2.0</td>\n",
              "      <td>Real Bed</td>\n",
              "      <td>{Internet,Wifi,Kitchen,\"Buzzer/wireless interc...</td>\n",
              "      <td>720.0</td>\n",
              "      <td>$90.00</td>\n",
              "      <td>$520.00</td>\n",
              "      <td>$1,900.00</td>\n",
              "      <td>$200.00</td>\n",
              "      <td>$50.00</td>\n",
              "      <td>2</td>\n",
              "      <td>$20.00</td>\n",
              "      <td>62</td>\n",
              "      <td>1125</td>\n",
              "      <td>a week ago</td>\n",
              "      <td>t</td>\n",
              "      <td>0</td>\n",
              "      <td>0</td>\n",
              "      <td>0</td>\n",
              "      <td>220</td>\n",
              "      <td>2018-11-07</td>\n",
              "      <td>143</td>\n",
              "      <td>2009-06-20</td>\n",
              "      <td>2017-03-20</td>\n",
              "      <td>92.0</td>\n",
              "      <td>9.0</td>\n",
              "      <td>9.0</td>\n",
              "      <td>9.0</td>\n",
              "      <td>9.0</td>\n",
              "      <td>10.0</td>\n",
              "      <td>9.0</td>\n",
              "      <td>t</td>\n",
              "      <td>NaN</td>\n",
              "      <td>NaN</td>\n",
              "      <td>1</td>\n",
              "      <td>0</td>\n",
              "      <td>strict_14_with_grace_period</td>\n",
              "      <td>f</td>\n",
              "      <td>f</td>\n",
              "      <td>1</td>\n",
              "      <td>1.25</td>\n",
              "    </tr>\n",
              "  </tbody>\n",
              "</table>\n",
              "</div>\n",
              "      <button class=\"colab-df-convert\" onclick=\"convertToInteractive('df-f48ee5b5-dc00-4f57-9678-d33a5c165247')\"\n",
              "              title=\"Convert this dataframe to an interactive table.\"\n",
              "              style=\"display:none;\">\n",
              "        \n",
              "  <svg xmlns=\"http://www.w3.org/2000/svg\" height=\"24px\"viewBox=\"0 0 24 24\"\n",
              "       width=\"24px\">\n",
              "    <path d=\"M0 0h24v24H0V0z\" fill=\"none\"/>\n",
              "    <path d=\"M18.56 5.44l.94 2.06.94-2.06 2.06-.94-2.06-.94-.94-2.06-.94 2.06-2.06.94zm-11 1L8.5 8.5l.94-2.06 2.06-.94-2.06-.94L8.5 2.5l-.94 2.06-2.06.94zm10 10l.94 2.06.94-2.06 2.06-.94-2.06-.94-.94-2.06-.94 2.06-2.06.94z\"/><path d=\"M17.41 7.96l-1.37-1.37c-.4-.4-.92-.59-1.43-.59-.52 0-1.04.2-1.43.59L10.3 9.45l-7.72 7.72c-.78.78-.78 2.05 0 2.83L4 21.41c.39.39.9.59 1.41.59.51 0 1.02-.2 1.41-.59l7.78-7.78 2.81-2.81c.8-.78.8-2.07 0-2.86zM5.41 20L4 18.59l7.72-7.72 1.47 1.35L5.41 20z\"/>\n",
              "  </svg>\n",
              "      </button>\n",
              "      \n",
              "  <style>\n",
              "    .colab-df-container {\n",
              "      display:flex;\n",
              "      flex-wrap:wrap;\n",
              "      gap: 12px;\n",
              "    }\n",
              "\n",
              "    .colab-df-convert {\n",
              "      background-color: #E8F0FE;\n",
              "      border: none;\n",
              "      border-radius: 50%;\n",
              "      cursor: pointer;\n",
              "      display: none;\n",
              "      fill: #1967D2;\n",
              "      height: 32px;\n",
              "      padding: 0 0 0 0;\n",
              "      width: 32px;\n",
              "    }\n",
              "\n",
              "    .colab-df-convert:hover {\n",
              "      background-color: #E2EBFA;\n",
              "      box-shadow: 0px 1px 2px rgba(60, 64, 67, 0.3), 0px 1px 3px 1px rgba(60, 64, 67, 0.15);\n",
              "      fill: #174EA6;\n",
              "    }\n",
              "\n",
              "    [theme=dark] .colab-df-convert {\n",
              "      background-color: #3B4455;\n",
              "      fill: #D2E3FC;\n",
              "    }\n",
              "\n",
              "    [theme=dark] .colab-df-convert:hover {\n",
              "      background-color: #434B5C;\n",
              "      box-shadow: 0px 1px 3px 1px rgba(0, 0, 0, 0.15);\n",
              "      filter: drop-shadow(0px 1px 2px rgba(0, 0, 0, 0.3));\n",
              "      fill: #FFFFFF;\n",
              "    }\n",
              "  </style>\n",
              "\n",
              "      <script>\n",
              "        const buttonEl =\n",
              "          document.querySelector('#df-f48ee5b5-dc00-4f57-9678-d33a5c165247 button.colab-df-convert');\n",
              "        buttonEl.style.display =\n",
              "          google.colab.kernel.accessAllowed ? 'block' : 'none';\n",
              "\n",
              "        async function convertToInteractive(key) {\n",
              "          const element = document.querySelector('#df-f48ee5b5-dc00-4f57-9678-d33a5c165247');\n",
              "          const dataTable =\n",
              "            await google.colab.kernel.invokeFunction('convertToInteractive',\n",
              "                                                     [key], {});\n",
              "          if (!dataTable) return;\n",
              "\n",
              "          const docLinkHtml = 'Like what you see? Visit the ' +\n",
              "            '<a target=\"_blank\" href=https://colab.research.google.com/notebooks/data_table.ipynb>data table notebook</a>'\n",
              "            + ' to learn more about interactive tables.';\n",
              "          element.innerHTML = '';\n",
              "          dataTable['output_type'] = 'display_data';\n",
              "          await google.colab.output.renderOutput(dataTable, element);\n",
              "          const docLink = document.createElement('div');\n",
              "          docLink.innerHTML = docLinkHtml;\n",
              "          element.appendChild(docLink);\n",
              "        }\n",
              "      </script>\n",
              "    </div>\n",
              "  </div>\n",
              "  "
            ]
          },
          "metadata": {},
          "execution_count": 113
        }
      ],
      "source": [
        "df.head(3)"
      ]
    },
    {
      "cell_type": "markdown",
      "metadata": {
        "id": "aqDUovJQttzl"
      },
      "source": [
        "# Profile Pics"
      ]
    },
    {
      "cell_type": "code",
      "execution_count": null,
      "metadata": {
        "colab": {
          "base_uri": "https://localhost:8080/"
        },
        "id": "GzouUfXSttzl",
        "outputId": "685e3296-4968-4d97-9c16-6ef225c92273"
      },
      "outputs": [
        {
          "output_type": "execute_result",
          "data": {
            "text/plain": [
              "t      22470\n",
              "f         56\n",
              "NaN       26\n",
              "Name: host_has_profile_pic, dtype: int64"
            ]
          },
          "metadata": {},
          "execution_count": 114
        }
      ],
      "source": [
        "df['host_has_profile_pic'].unique()\n",
        "df['host_has_profile_pic'].nunique()  \n",
        "df['host_has_profile_pic'].value_counts(dropna=False)   "
      ]
    },
    {
      "cell_type": "code",
      "execution_count": null,
      "metadata": {
        "id": "2tTYIUEAttzm"
      },
      "outputs": [],
      "source": [
        "df['host_has_profile_pic'].fillna('f',inplace=True)  "
      ]
    },
    {
      "cell_type": "code",
      "execution_count": null,
      "metadata": {
        "colab": {
          "base_uri": "https://localhost:8080/",
          "height": 298
        },
        "id": "JfwMT5ACttzn",
        "outputId": "4567ced9-2bfd-4386-a9c8-f05d0bbb6644"
      },
      "outputs": [
        {
          "output_type": "execute_result",
          "data": {
            "text/plain": [
              "<matplotlib.axes._subplots.AxesSubplot at 0x7f7105dc3f10>"
            ]
          },
          "metadata": {},
          "execution_count": 116
        },
        {
          "output_type": "display_data",
          "data": {
            "text/plain": [
              "<Figure size 432x288 with 1 Axes>"
            ],
            "image/png": "[encoded data removed]"
          },
          "metadata": {
            "needs_background": "light"
          }
        }
      ],
      "source": [
        "df['host_has_profile_pic'] = df['host_has_profile_pic'].map({'f':0,'t':1})\n",
        "sns.countplot(x='host_has_profile_pic',data=df)"
      ]
    },
    {
      "cell_type": "code",
      "execution_count": null,
      "metadata": {
        "colab": {
          "base_uri": "https://localhost:8080/"
        },
        "id": "zLVF-66Lttzn",
        "outputId": "744f871c-db1f-44c0-8a8f-432799b7e2b9"
      },
      "outputs": [
        {
          "output_type": "execute_result",
          "data": {
            "text/plain": [
              "1    22470\n",
              "0       82\n",
              "Name: host_has_profile_pic, dtype: int64"
            ]
          },
          "metadata": {},
          "execution_count": 117
        }
      ],
      "source": [
        "df['host_has_profile_pic'].value_counts()"
      ]
    },
    {
      "cell_type": "markdown",
      "metadata": {
        "id": "4QAmmO-Ittzo"
      },
      "source": [
        "# Price"
      ]
    },
    {
      "cell_type": "code",
      "execution_count": null,
      "metadata": {
        "colab": {
          "base_uri": "https://localhost:8080/"
        },
        "id": "plb1cbVLttzo",
        "outputId": "4d0af167-e75d-4120-d31f-b56f139b395f"
      },
      "outputs": [
        {
          "output_type": "stream",
          "name": "stderr",
          "text": [
            "/usr/local/lib/python3.7/dist-packages/ipykernel_launcher.py:1: FutureWarning: The default value of regex will change from True to False in a future version. In addition, single character regular expressions will *not* be treated as literal strings when regex=True.\n",
            "  \"\"\"Entry point for launching an IPython kernel.\n",
            "/usr/local/lib/python3.7/dist-packages/ipykernel_launcher.py:2: FutureWarning: The default value of regex will change from True to False in a future version. In addition, single character regular expressions will *not* be treated as literal strings when regex=True.\n",
            "  \n",
            "/usr/local/lib/python3.7/dist-packages/ipykernel_launcher.py:3: FutureWarning: The default value of regex will change from True to False in a future version. In addition, single character regular expressions will *not* be treated as literal strings when regex=True.\n",
            "  This is separate from the ipykernel package so we can avoid doing imports until\n",
            "/usr/local/lib/python3.7/dist-packages/ipykernel_launcher.py:4: FutureWarning: The default value of regex will change from True to False in a future version. In addition, single character regular expressions will *not* be treated as literal strings when regex=True.\n",
            "  after removing the cwd from sys.path.\n"
          ]
        }
      ],
      "source": [
        "df['price'] = df['price'].str.replace('$', '').str.replace(',', '').astype(float)  \n",
        "df['cleaning_fee'] = df['cleaning_fee'].str.replace('$', '').str.replace(',', '').astype(float)\n",
        "df['security_deposit'] = df['security_deposit'].str.replace('$', '').str.replace(',', '').astype(float)\n",
        "df['extra_people'] = df['extra_people'].str.replace('$', '').str.replace(',', '').astype(float)"
      ]
    },
    {
      "cell_type": "code",
      "source": [
        "df['cleaning_fee'].value_counts(dropna=False)\n",
        "\n",
        "sns.countplot(x='cleaning_fee',data=df)"
      ],
      "metadata": {
        "colab": {
          "base_uri": "https://localhost:8080/",
          "height": 298
        },
        "id": "v775hUus4eV-",
        "outputId": "ddda1e3d-033f-4b97-fce4-88d9c18d5dae"
      },
      "execution_count": null,
      "outputs": [
        {
          "output_type": "execute_result",
          "data": {
            "text/plain": [
              "<matplotlib.axes._subplots.AxesSubplot at 0x7f710590ee90>"
            ]
          },
          "metadata": {},
          "execution_count": 119
        },
        {
          "output_type": "display_data",
          "data": {
            "text/plain": [
              "<Figure size 432x288 with 1 Axes>"
            ],
            "image/png": "[encoded data removed]"
          },
          "metadata": {
            "needs_background": "light"
          }
        }
      ]
    },
    {
      "cell_type": "code",
      "execution_count": null,
      "metadata": {
        "colab": {
          "base_uri": "https://localhost:8080/"
        },
        "id": "SAPLhhRzttzp",
        "outputId": "34887626-b9a0-4586-f719-9284ad26cfe6"
      },
      "outputs": [
        {
          "output_type": "execute_result",
          "data": {
            "text/plain": [
              "0"
            ]
          },
          "metadata": {},
          "execution_count": 120
        }
      ],
      "source": [
        "df['cleaning_fee'].fillna(df['cleaning_fee'].mean(), inplace=True)\n",
        "df['cleaning_fee'].isna().sum()"
      ]
    },
    {
      "cell_type": "code",
      "execution_count": null,
      "metadata": {
        "colab": {
          "base_uri": "https://localhost:8080/"
        },
        "id": "8Q840yszttzp",
        "outputId": "9887bc08-81eb-4014-860f-6a03ee260b00"
      },
      "outputs": [
        {
          "output_type": "execute_result",
          "data": {
            "text/plain": [
              "0"
            ]
          },
          "metadata": {},
          "execution_count": 121
        }
      ],
      "source": [
        "df['security_deposit'].fillna(df['security_deposit'].mean(), inplace=True)\n",
        "df['security_deposit'].isna().sum()"
      ]
    },
    {
      "cell_type": "code",
      "execution_count": null,
      "metadata": {
        "colab": {
          "base_uri": "https://localhost:8080/"
        },
        "id": "HrxH1G0Wttzq",
        "outputId": "e5db4a54-9fbf-4fb9-a421-0326a7243c1f"
      },
      "outputs": [
        {
          "output_type": "execute_result",
          "data": {
            "text/plain": [
              "count    22552.000000\n",
              "mean        67.143668\n",
              "std        220.266210\n",
              "min          0.000000\n",
              "25%         30.000000\n",
              "50%         45.000000\n",
              "75%         70.000000\n",
              "max       9000.000000\n",
              "Name: price, dtype: float64"
            ]
          },
          "metadata": {},
          "execution_count": 122
        }
      ],
      "source": [
        "df['price'].describe()"
      ]
    },
    {
      "cell_type": "code",
      "source": [
        "len(df[df['price']==0])\n",
        "to_drop = list(df[df['price']==0].index)"
      ],
      "metadata": {
        "id": "2P2Sp-To8PNY"
      },
      "execution_count": null,
      "outputs": []
    },
    {
      "cell_type": "code",
      "execution_count": null,
      "metadata": {
        "id": "Wzt9diUottzr"
      },
      "outputs": [],
      "source": [
        "df.drop(to_drop, inplace=True)\n",
        "df.reset_index(inplace=True)\n",
        "df['price'] = np.log1p(df['price'])  "
      ]
    },
    {
      "cell_type": "code",
      "source": [
        "len(df[df['price']==0])"
      ],
      "metadata": {
        "colab": {
          "base_uri": "https://localhost:8080/"
        },
        "id": "1XOcA2bj_3Nz",
        "outputId": "eadf5a6a-6b2f-43aa-90e7-868e02495303"
      },
      "execution_count": null,
      "outputs": [
        {
          "output_type": "execute_result",
          "data": {
            "text/plain": [
              "0"
            ]
          },
          "metadata": {},
          "execution_count": 125
        }
      ]
    },
    {
      "cell_type": "code",
      "source": [
        "plt.hist(df['price'])   "
      ],
      "metadata": {
        "colab": {
          "base_uri": "https://localhost:8080/",
          "height": 375
        },
        "id": "_fokmy5JBOeu",
        "outputId": "351bd6b7-7e41-4bbe-e0b7-ef0818d69797"
      },
      "execution_count": null,
      "outputs": [
        {
          "output_type": "execute_result",
          "data": {
            "text/plain": [
              "(array([1.0000e+00, 2.6000e+01, 2.0380e+03, 1.2248e+04, 6.9970e+03,\n",
              "        1.0720e+03, 1.1100e+02, 1.7000e+01, 8.0000e+00, 2.6000e+01]),\n",
              " array([0.69314718, 1.53434156, 2.37553594, 3.21673031, 4.05792469,\n",
              "        4.89911907, 5.74031345, 6.58150783, 7.42270221, 8.26389658,\n",
              "        9.10509096]),\n",
              " <a list of 10 Patch objects>)"
            ]
          },
          "metadata": {},
          "execution_count": 126
        },
        {
          "output_type": "display_data",
          "data": {
            "text/plain": [
              "<Figure size 432x288 with 1 Axes>"
            ],
            "image/png": "[encoded data removed]"
          },
          "metadata": {
            "needs_background": "light"
          }
        }
      ]
    },
    {
      "cell_type": "code",
      "source": [
        "df['price'].value_counts()"
      ],
      "metadata": {
        "colab": {
          "base_uri": "https://localhost:8080/"
        },
        "id": "9ek3wu78D-os",
        "outputId": "d9e40d15-4f6e-4bfc-cf3f-94a94f0ddbbf"
      },
      "execution_count": null,
      "outputs": [
        {
          "output_type": "execute_result",
          "data": {
            "text/plain": [
              "3.433987    1387\n",
              "3.583519    1256\n",
              "3.931826    1247\n",
              "3.713572    1191\n",
              "3.258097    1121\n",
              "            ... \n",
              "5.572154       1\n",
              "5.802118       1\n",
              "6.045005       1\n",
              "6.098074       1\n",
              "7.313887       1\n",
              "Name: price, Length: 294, dtype: int64"
            ]
          },
          "metadata": {},
          "execution_count": 127
        }
      ]
    },
    {
      "cell_type": "code",
      "execution_count": null,
      "metadata": {
        "colab": {
          "base_uri": "https://localhost:8080/",
          "height": 391
        },
        "id": "p_d3JAmtttzr",
        "outputId": "0b173d0d-d41d-4a1d-f3f9-1d5182772e96"
      },
      "outputs": [
        {
          "output_type": "stream",
          "name": "stderr",
          "text": [
            "/usr/local/lib/python3.7/dist-packages/seaborn/distributions.py:2619: FutureWarning: `distplot` is a deprecated function and will be removed in a future version. Please adapt your code to use either `displot` (a figure-level function with similar flexibility) or `histplot` (an axes-level function for histograms).\n",
            "  warnings.warn(msg, FutureWarning)\n"
          ]
        },
        {
          "output_type": "stream",
          "name": "stdout",
          "text": [
            "Skewness: 1.149665\n",
            "Kurtosis: 5.184078\n"
          ]
        },
        {
          "output_type": "display_data",
          "data": {
            "text/plain": [
              "<Figure size 432x288 with 1 Axes>"
            ],
            "image/png": "[encoded data removed]"
          },
          "metadata": {
            "needs_background": "light"
          }
        },
        {
          "output_type": "display_data",
          "data": {
            "text/plain": [
              "<Figure size 432x288 with 0 Axes>"
            ]
          },
          "metadata": {}
        }
      ],
      "source": [
        "sns.distplot(df['price'], fit=norm);\n",
        "fig = plt.figure()\n",
        "print(\"Skewness: %f\" % df['price'].skew())\n",
        "print(\"Kurtosis: %f\" % df['price'].kurt())    "
      ]
    },
    {
      "cell_type": "markdown",
      "metadata": {
        "id": "7JJvH29-ttzs"
      },
      "source": [
        "# Room Types"
      ]
    },
    {
      "cell_type": "code",
      "execution_count": null,
      "metadata": {
        "colab": {
          "base_uri": "https://localhost:8080/",
          "height": 300
        },
        "id": "FaLHPgsmttzs",
        "outputId": "dfd12484-ce71-4bdb-d5da-50f38e1d064a"
      },
      "outputs": [
        {
          "output_type": "execute_result",
          "data": {
            "text/plain": [
              "<matplotlib.axes._subplots.AxesSubplot at 0x7f7105a99390>"
            ]
          },
          "metadata": {},
          "execution_count": 129
        },
        {
          "output_type": "display_data",
          "data": {
            "text/plain": [
              "<Figure size 432x288 with 1 Axes>"
            ],
            "image/png": "[encoded data removed]"
          },
          "metadata": {
            "needs_background": "light"
          }
        }
      ],
      "source": [
        "sns.countplot(x='room_type',data=df)"
      ]
    },
    {
      "cell_type": "markdown",
      "metadata": {
        "id": "mMGIupA8ttzs"
      },
      "source": [
        "# Neighbourhood Group"
      ]
    },
    {
      "cell_type": "code",
      "execution_count": null,
      "metadata": {
        "colab": {
          "base_uri": "https://localhost:8080/",
          "height": 298
        },
        "id": "zkPN99Ilttzs",
        "outputId": "38169d4a-958a-47e9-d8f7-cb8c3446fb00"
      },
      "outputs": [
        {
          "output_type": "execute_result",
          "data": {
            "text/plain": [
              "<matplotlib.axes._subplots.AxesSubplot at 0x7f7105ab3b90>"
            ]
          },
          "metadata": {},
          "execution_count": 130
        },
        {
          "output_type": "display_data",
          "data": {
            "text/plain": [
              "<Figure size 432x288 with 1 Axes>"
            ],
            "image/png": "[encoded data removed]"
          },
          "metadata": {
            "needs_background": "light"
          }
        }
      ],
      "source": [
        "sns.countplot(x='neighbourhood_group_cleansed',data=df)"
      ]
    },
    {
      "cell_type": "markdown",
      "metadata": {
        "id": "WEPx-HhFttzt"
      },
      "source": [
        "# Neighbourhood"
      ]
    },
    {
      "cell_type": "code",
      "execution_count": null,
      "metadata": {
        "colab": {
          "base_uri": "https://localhost:8080/",
          "height": 298
        },
        "id": "cxK_ZOOFttzt",
        "outputId": "49c08d8f-9ac6-4528-dd40-c6801ac45f76"
      },
      "outputs": [
        {
          "output_type": "execute_result",
          "data": {
            "text/plain": [
              "<matplotlib.axes._subplots.AxesSubplot at 0x7f7105955a10>"
            ]
          },
          "metadata": {},
          "execution_count": 131
        },
        {
          "output_type": "display_data",
          "data": {
            "text/plain": [
              "<Figure size 432x288 with 1 Axes>"
            ],
            "image/png": "[encoded data removed]"
          },
          "metadata": {
            "needs_background": "light"
          }
        }
      ],
      "source": [
        "sns.countplot(x='neighbourhood_cleansed',data=df)"
      ]
    },
    {
      "cell_type": "code",
      "execution_count": null,
      "metadata": {
        "id": "27x5OwXwttzt"
      },
      "outputs": [],
      "source": [
        "z = df['neighbourhood_cleansed'].value_counts() "
      ]
    },
    {
      "cell_type": "code",
      "source": [
        "print(z)"
      ],
      "metadata": {
        "colab": {
          "base_uri": "https://localhost:8080/"
        },
        "id": "9kcRsHMuIqtw",
        "outputId": "6cbcab65-1d9d-431f-bee4-5f8a4e747e5b"
      },
      "execution_count": null,
      "outputs": [
        {
          "output_type": "stream",
          "name": "stdout",
          "text": [
            "Tempelhofer Vorstadt                  1324\n",
            "Frankfurter Allee Süd FK              1280\n",
            "Alexanderplatz                        1091\n",
            "Reuterstraße                          1002\n",
            "Rixdorf                                880\n",
            "                                      ... \n",
            "Malchow, Wartenberg und Falkenberg       3\n",
            "Allende-Viertel                          3\n",
            "Neu-Hohenschönhausen Süd                 2\n",
            "MV 2                                     1\n",
            "Hellersdorf-Ost                          1\n",
            "Name: neighbourhood_cleansed, Length: 136, dtype: int64\n"
          ]
        }
      ]
    },
    {
      "cell_type": "code",
      "execution_count": null,
      "metadata": {
        "scrolled": true,
        "colab": {
          "base_uri": "https://localhost:8080/"
        },
        "id": "Jrawk5IXttzt",
        "outputId": "b3c50b32-368e-4bb9-b52c-3582a5ed9d66"
      },
      "outputs": [
        {
          "output_type": "execute_result",
          "data": {
            "text/plain": [
              "90"
            ]
          },
          "metadata": {},
          "execution_count": 135
        }
      ],
      "source": [
        "others = []\n",
        "for i in set(df['neighbourhood_cleansed']):\n",
        "    if z[i]<100:\n",
        "        others.append(i)\n",
        "len(others)"
      ]
    },
    {
      "cell_type": "code",
      "execution_count": null,
      "metadata": {
        "scrolled": true,
        "colab": {
          "base_uri": "https://localhost:8080/"
        },
        "id": "AJdpDqA2ttzu",
        "outputId": "31d60435-6bfb-41d1-afc8-8a2bc5aef98c"
      },
      "outputs": [
        {
          "output_type": "stream",
          "name": "stderr",
          "text": [
            "100%|██████████| 22544/22544 [00:02<00:00, 11185.84it/s]\n"
          ]
        }
      ],
      "source": [
        "for i in tqdm(range(len(df))):\n",
        "    if df.loc[i,'neighbourhood_cleansed'] in others:   \n",
        "        df.loc[i,'neighbourhood_cleansed'] = 'Others'"
      ]
    },
    {
      "cell_type": "code",
      "source": [
        "len(df['neighbourhood_cleansed'].value_counts())"
      ],
      "metadata": {
        "colab": {
          "base_uri": "https://localhost:8080/"
        },
        "id": "MW5xjQTeMlVM",
        "outputId": "a4f67a91-715b-42ca-cda3-4afd55964e7e"
      },
      "execution_count": null,
      "outputs": [
        {
          "output_type": "execute_result",
          "data": {
            "text/plain": [
              "47"
            ]
          },
          "metadata": {},
          "execution_count": 137
        }
      ]
    },
    {
      "cell_type": "markdown",
      "metadata": {
        "id": "Uh_TRDylttzu"
      },
      "source": [
        "## Propery Type"
      ]
    },
    {
      "cell_type": "code",
      "execution_count": null,
      "metadata": {
        "id": "QtaD6Lu8ttzu"
      },
      "outputs": [],
      "source": [
        "z = df['property_type'].value_counts()"
      ]
    },
    {
      "cell_type": "code",
      "execution_count": null,
      "metadata": {
        "colab": {
          "base_uri": "https://localhost:8080/"
        },
        "id": "yJSoSUD-ttzu",
        "outputId": "1c330eba-afe1-4a9c-d9b8-16d9e45f48e5"
      },
      "outputs": [
        {
          "output_type": "execute_result",
          "data": {
            "text/plain": [
              "27"
            ]
          },
          "metadata": {},
          "execution_count": 139
        }
      ],
      "source": [
        "others = []\n",
        "for i in set(df['property_type']):\n",
        "    if z[i]<100:\n",
        "        others.append(i)\n",
        "len(others)"
      ]
    },
    {
      "cell_type": "code",
      "execution_count": null,
      "metadata": {
        "colab": {
          "base_uri": "https://localhost:8080/"
        },
        "id": "5e8Jrajvttzv",
        "outputId": "de614bd6-ac2f-4bfe-89fa-1d1440205b3c"
      },
      "outputs": [
        {
          "output_type": "stream",
          "name": "stderr",
          "text": [
            "100%|██████████| 22544/22544 [00:00<00:00, 85832.39it/s]\n"
          ]
        }
      ],
      "source": [
        "for i in tqdm(range(len(df))):\n",
        "    if df.loc[i,'neighbourhood_cleansed'] in others:\n",
        "        df.loc[i,'neighbourhood_cleansed'] = 'Others'"
      ]
    },
    {
      "cell_type": "code",
      "execution_count": null,
      "metadata": {
        "colab": {
          "base_uri": "https://localhost:8080/"
        },
        "id": "JlxnT8xwttzv",
        "outputId": "5ad121d3-85c4-416f-9784-63d9fb728972"
      },
      "outputs": [
        {
          "output_type": "stream",
          "name": "stderr",
          "text": [
            "100%|██████████| 22544/22544 [00:00<00:00, 81744.99it/s]\n"
          ]
        }
      ],
      "source": [
        "for i in tqdm(range(len(df))):\n",
        "    if df.loc[i,'neighbourhood_cleansed'] in others:\n",
        "        df.loc[i,'neighbourhood_cleansed'] = 'Others'"
      ]
    },
    {
      "cell_type": "markdown",
      "metadata": {
        "id": "cHRq2fZTttzw"
      },
      "source": [
        "# Bathrooms"
      ]
    },
    {
      "cell_type": "code",
      "execution_count": null,
      "metadata": {
        "colab": {
          "base_uri": "https://localhost:8080/"
        },
        "id": "x3tJP3Olttzw",
        "outputId": "cd820994-51ce-4ea9-ffbf-d6ea3ff730d0"
      },
      "outputs": [
        {
          "output_type": "execute_result",
          "data": {
            "text/plain": [
              "1.0    19801\n",
              "2.0     1268\n",
              "1.5     1145\n",
              "0.5      104\n",
              "2.5       74\n",
              "3.0       50\n",
              "0.0       41\n",
              "NaN       32\n",
              "4.0       12\n",
              "3.5        3\n",
              "7.0        3\n",
              "8.5        3\n",
              "5.0        2\n",
              "7.5        2\n",
              "8.0        2\n",
              "4.5        1\n",
              "6.0        1\n",
              "Name: bathrooms, dtype: int64"
            ]
          },
          "metadata": {},
          "execution_count": 142
        }
      ],
      "source": [
        "df['bathrooms'].value_counts(dropna=False)"
      ]
    },
    {
      "cell_type": "code",
      "execution_count": null,
      "metadata": {
        "id": "YWwNP_hWttzw"
      },
      "outputs": [],
      "source": [
        "df['bathrooms'].fillna(1,inplace=True)"
      ]
    },
    {
      "cell_type": "markdown",
      "metadata": {
        "id": "conH6KT6ttzw"
      },
      "source": [
        "# Bedroom"
      ]
    },
    {
      "cell_type": "code",
      "execution_count": null,
      "metadata": {
        "colab": {
          "base_uri": "https://localhost:8080/"
        },
        "id": "c3yT1ZBYttzw",
        "outputId": "2b398c92-f4ca-44e7-877f-a110e0810e50"
      },
      "outputs": [
        {
          "output_type": "execute_result",
          "data": {
            "text/plain": [
              "1.0     17159\n",
              "2.0      2970\n",
              "0.0      1477\n",
              "3.0       723\n",
              "4.0       143\n",
              "5.0        34\n",
              "6.0        10\n",
              "8.0         4\n",
              "7.0         3\n",
              "10.0        1\n",
              "12.0        1\n",
              "9.0         1\n",
              "Name: bedrooms, dtype: int64"
            ]
          },
          "metadata": {},
          "execution_count": 144
        }
      ],
      "source": [
        "df['bedrooms'].value_counts()"
      ]
    },
    {
      "cell_type": "code",
      "execution_count": null,
      "metadata": {
        "id": "6dD2w2Q5ttzx"
      },
      "outputs": [],
      "source": [
        "df['bedrooms'].fillna(1,inplace=True)"
      ]
    },
    {
      "cell_type": "markdown",
      "metadata": {
        "id": "hq_8hUJmttzx"
      },
      "source": [
        "# Host Details"
      ]
    },
    {
      "cell_type": "code",
      "execution_count": null,
      "metadata": {
        "id": "Lv98c7uZttzx",
        "colab": {
          "base_uri": "https://localhost:8080/",
          "height": 398
        },
        "outputId": "1e11c90b-5c35-4e6d-b80b-abc7a4ebd8cb"
      },
      "outputs": [
        {
          "output_type": "error",
          "ename": "ValueError",
          "evalue": "ignored",
          "traceback": [
            "\u001b[0;31m---------------------------------------------------------------------------\u001b[0m",
            "\u001b[0;31mValueError\u001b[0m                                Traceback (most recent call last)",
            "\u001b[0;32m<ipython-input-147-8a7071ed1000>\u001b[0m in \u001b[0;36m<module>\u001b[0;34m()\u001b[0m\n\u001b[1;32m      3\u001b[0m \u001b[0;34m\u001b[0m\u001b[0m\n\u001b[1;32m      4\u001b[0m \u001b[0mdf\u001b[0m\u001b[0;34m.\u001b[0m\u001b[0mdrop\u001b[0m\u001b[0;34m(\u001b[0m\u001b[0mz\u001b[0m\u001b[0;34m,\u001b[0m\u001b[0minplace\u001b[0m\u001b[0;34m=\u001b[0m\u001b[0;32mTrue\u001b[0m\u001b[0;34m)\u001b[0m\u001b[0;34m\u001b[0m\u001b[0;34m\u001b[0m\u001b[0m\n\u001b[0;32m----> 5\u001b[0;31m \u001b[0mdf\u001b[0m\u001b[0;34m.\u001b[0m\u001b[0mreset_index\u001b[0m\u001b[0;34m(\u001b[0m\u001b[0minplace\u001b[0m\u001b[0;34m=\u001b[0m\u001b[0;32mTrue\u001b[0m\u001b[0;34m)\u001b[0m\u001b[0;34m\u001b[0m\u001b[0;34m\u001b[0m\u001b[0m\n\u001b[0m\u001b[1;32m      6\u001b[0m \u001b[0;34m\u001b[0m\u001b[0m\n\u001b[1;32m      7\u001b[0m \u001b[0mz\u001b[0m \u001b[0;34m=\u001b[0m \u001b[0mdf\u001b[0m\u001b[0;34m[\u001b[0m\u001b[0;34m'host_is_superhost'\u001b[0m\u001b[0;34m]\u001b[0m\u001b[0;34m.\u001b[0m\u001b[0misnull\u001b[0m\u001b[0;34m(\u001b[0m\u001b[0;34m)\u001b[0m\u001b[0;34m\u001b[0m\u001b[0;34m\u001b[0m\u001b[0m\n",
            "\u001b[0;32m/usr/local/lib/python3.7/dist-packages/pandas/util/_decorators.py\u001b[0m in \u001b[0;36mwrapper\u001b[0;34m(*args, **kwargs)\u001b[0m\n\u001b[1;32m    309\u001b[0m                     \u001b[0mstacklevel\u001b[0m\u001b[0;34m=\u001b[0m\u001b[0mstacklevel\u001b[0m\u001b[0;34m,\u001b[0m\u001b[0;34m\u001b[0m\u001b[0;34m\u001b[0m\u001b[0m\n\u001b[1;32m    310\u001b[0m                 )\n\u001b[0;32m--> 311\u001b[0;31m             \u001b[0;32mreturn\u001b[0m \u001b[0mfunc\u001b[0m\u001b[0;34m(\u001b[0m\u001b[0;34m*\u001b[0m\u001b[0margs\u001b[0m\u001b[0;34m,\u001b[0m \u001b[0;34m**\u001b[0m\u001b[0mkwargs\u001b[0m\u001b[0;34m)\u001b[0m\u001b[0;34m\u001b[0m\u001b[0;34m\u001b[0m\u001b[0m\n\u001b[0m\u001b[1;32m    312\u001b[0m \u001b[0;34m\u001b[0m\u001b[0m\n\u001b[1;32m    313\u001b[0m         \u001b[0;32mreturn\u001b[0m \u001b[0mwrapper\u001b[0m\u001b[0;34m\u001b[0m\u001b[0;34m\u001b[0m\u001b[0m\n",
            "\u001b[0;32m/usr/local/lib/python3.7/dist-packages/pandas/core/frame.py\u001b[0m in \u001b[0;36mreset_index\u001b[0;34m(self, level, drop, inplace, col_level, col_fill)\u001b[0m\n\u001b[1;32m   5797\u001b[0m                     )\n\u001b[1;32m   5798\u001b[0m \u001b[0;34m\u001b[0m\u001b[0m\n\u001b[0;32m-> 5799\u001b[0;31m                 \u001b[0mnew_obj\u001b[0m\u001b[0;34m.\u001b[0m\u001b[0minsert\u001b[0m\u001b[0;34m(\u001b[0m\u001b[0;36m0\u001b[0m\u001b[0;34m,\u001b[0m \u001b[0mname\u001b[0m\u001b[0;34m,\u001b[0m \u001b[0mlevel_values\u001b[0m\u001b[0;34m)\u001b[0m\u001b[0;34m\u001b[0m\u001b[0;34m\u001b[0m\u001b[0m\n\u001b[0m\u001b[1;32m   5800\u001b[0m \u001b[0;34m\u001b[0m\u001b[0m\n\u001b[1;32m   5801\u001b[0m         \u001b[0mnew_obj\u001b[0m\u001b[0;34m.\u001b[0m\u001b[0mindex\u001b[0m \u001b[0;34m=\u001b[0m \u001b[0mnew_index\u001b[0m\u001b[0;34m\u001b[0m\u001b[0;34m\u001b[0m\u001b[0m\n",
            "\u001b[0;32m/usr/local/lib/python3.7/dist-packages/pandas/core/frame.py\u001b[0m in \u001b[0;36minsert\u001b[0;34m(self, loc, column, value, allow_duplicates)\u001b[0m\n\u001b[1;32m   4412\u001b[0m         \u001b[0;32mif\u001b[0m \u001b[0;32mnot\u001b[0m \u001b[0mallow_duplicates\u001b[0m \u001b[0;32mand\u001b[0m \u001b[0mcolumn\u001b[0m \u001b[0;32min\u001b[0m \u001b[0mself\u001b[0m\u001b[0;34m.\u001b[0m\u001b[0mcolumns\u001b[0m\u001b[0;34m:\u001b[0m\u001b[0;34m\u001b[0m\u001b[0;34m\u001b[0m\u001b[0m\n\u001b[1;32m   4413\u001b[0m             \u001b[0;31m# Should this be a different kind of error??\u001b[0m\u001b[0;34m\u001b[0m\u001b[0;34m\u001b[0m\u001b[0;34m\u001b[0m\u001b[0m\n\u001b[0;32m-> 4414\u001b[0;31m             \u001b[0;32mraise\u001b[0m \u001b[0mValueError\u001b[0m\u001b[0;34m(\u001b[0m\u001b[0;34mf\"cannot insert {column}, already exists\"\u001b[0m\u001b[0;34m)\u001b[0m\u001b[0;34m\u001b[0m\u001b[0;34m\u001b[0m\u001b[0m\n\u001b[0m\u001b[1;32m   4415\u001b[0m         \u001b[0;32mif\u001b[0m \u001b[0;32mnot\u001b[0m \u001b[0misinstance\u001b[0m\u001b[0;34m(\u001b[0m\u001b[0mloc\u001b[0m\u001b[0;34m,\u001b[0m \u001b[0mint\u001b[0m\u001b[0;34m)\u001b[0m\u001b[0;34m:\u001b[0m\u001b[0;34m\u001b[0m\u001b[0;34m\u001b[0m\u001b[0m\n\u001b[1;32m   4416\u001b[0m             \u001b[0;32mraise\u001b[0m \u001b[0mTypeError\u001b[0m\u001b[0;34m(\u001b[0m\u001b[0;34m\"loc must be int\"\u001b[0m\u001b[0;34m)\u001b[0m\u001b[0;34m\u001b[0m\u001b[0;34m\u001b[0m\u001b[0m\n",
            "\u001b[0;31mValueError\u001b[0m: cannot insert level_0, already exists"
          ]
        }
      ],
      "source": [
        "z = df['host_since'].isnull()\n",
        "z = list(df[z].index)           \n",
        "\n",
        "df.drop(z,inplace=True)\n",
        "df.reset_index(inplace=True)\n",
        "\n",
        "z = df['host_is_superhost'].isnull()\n",
        "z = list(df[z].index)\n",
        "\n",
        "df.drop(z,inplace=True)\n",
        "df.reset_index(inplace=True)\n"
      ]
    },
    {
      "cell_type": "markdown",
      "metadata": {
        "id": "yZDc4f6pttzy"
      },
      "source": [
        "# Reviews"
      ]
    },
    {
      "cell_type": "code",
      "execution_count": null,
      "metadata": {
        "id": "Tk9_rdVxttzy"
      },
      "outputs": [],
      "source": [
        "dropped = ['review_scores_rating','review_scores_accuracy','review_scores_cleanliness','review_scores_checkin',\n",
        "            'review_scores_communication','review_scores_location','review_scores_value']\n",
        "df.drop(dropped,axis=1,inplace=True)   "
      ]
    },
    {
      "cell_type": "code",
      "execution_count": null,
      "metadata": {
        "colab": {
          "base_uri": "https://localhost:8080/",
          "height": 582
        },
        "id": "o_yedv9Bttzy",
        "outputId": "3f32e1ba-a014-453d-f8ca-4b40852d05ed"
      },
      "outputs": [
        {
          "output_type": "execute_result",
          "data": {
            "text/plain": [
              "   level_0  index    id  host_has_profile_pic  host_since  \\\n",
              "0        0      0  2015                     1  2008-08-18   \n",
              "1        1      1  2695                     1  2008-09-16   \n",
              "2        2      2  3176                     1  2008-10-19   \n",
              "3        3      3  3309                     1  2008-11-07   \n",
              "4        4      4  7071                     1  2009-05-16   \n",
              "\n",
              "     neighbourhood_cleansed neighbourhood_group_cleansed  host_is_superhost  \\\n",
              "0           Brunnenstr. Süd                        Mitte                1.0   \n",
              "1  Prenzlauer Berg Nordwest                       Pankow                0.0   \n",
              "2   Prenzlauer Berg Südwest                       Pankow                0.0   \n",
              "3           Schöneberg-Nord       Tempelhof - Schöneberg                0.0   \n",
              "4            Helmholtzplatz                       Pankow                1.0   \n",
              "\n",
              "                                         description   latitude  longitude  \\\n",
              "0  Great location!  30 of 75 sq meters. This wood...  52.534537  13.402557   \n",
              "1  In the summertime we are spending most of our ...  52.548513  13.404553   \n",
              "2  This beautiful first floor apartment  is situa...  52.534996  13.417579   \n",
              "3  First of all: I prefer short-notice bookings. ...  52.498855  13.349065   \n",
              "4  Cozy and large room in the beautiful district ...  52.543157  13.415091   \n",
              "\n",
              "   is_location_exact property_type        room_type  accommodates  bathrooms  \\\n",
              "0                  0    Guesthouse  Entire home/apt             3        1.0   \n",
              "1                  1     Apartment     Private room             2        1.0   \n",
              "2                  1     Apartment  Entire home/apt             4        1.0   \n",
              "3                  1     Apartment     Private room             2        1.0   \n",
              "4                  1     Apartment     Private room             2        1.0   \n",
              "\n",
              "   bedrooms       bed_type                                          amenities  \\\n",
              "0       1.0       Real Bed  {TV,\"Cable TV\",Wifi,Kitchen,Gym,Heating,\"Famil...   \n",
              "1       1.0       Real Bed  {Wifi,Kitchen,Elevator,Heating,Washer,Essentia...   \n",
              "2       1.0       Real Bed  {Internet,Wifi,Kitchen,\"Buzzer/wireless interc...   \n",
              "3       1.0  Pull-out Sofa  {Internet,Wifi,\"Pets allowed\",\"Pets live on th...   \n",
              "4       1.0       Real Bed  {Wifi,Heating,\"Family/kid friendly\",Essentials...   \n",
              "\n",
              "      price  cleaning_fee  reviews_per_month  number_of_reviews  \\\n",
              "0  4.110874          30.0               3.76                118   \n",
              "1  2.890372           0.0               1.42                  6   \n",
              "2  4.510860          50.0               1.25                143   \n",
              "3  3.295837          30.0               0.39                 25   \n",
              "4  3.761200           0.0               1.75                197   \n",
              "\n",
              "   security_deposit  extra_people  guests_included  minimum_nights  \\\n",
              "0             200.0          28.0                1               4   \n",
              "1               0.0           0.0                1               2   \n",
              "2             200.0          20.0                2              62   \n",
              "3             250.0          18.0                1               5   \n",
              "4               0.0          24.0                1               2   \n",
              "\n",
              "   instant_bookable  is_business_travel_ready          cancellation_policy  \\\n",
              "0                 0                         0  strict_14_with_grace_period   \n",
              "1                 0                         0                     flexible   \n",
              "2                 1                         0  strict_14_with_grace_period   \n",
              "3                 0                         0  strict_14_with_grace_period   \n",
              "4                 0                         0                     moderate   \n",
              "\n",
              "   availability_365  \n",
              "0               141  \n",
              "1                 0  \n",
              "2               220  \n",
              "3               297  \n",
              "4                26  "
            ],
            "text/html": [
              "\n",
              "  <div id=\"df-9e3c9126-0ada-41e2-8f47-7a880e74317e\">\n",
              "    <div class=\"colab-df-container\">\n",
              "      <div>\n",
              "<style scoped>\n",
              "    .dataframe tbody tr th:only-of-type {\n",
              "        vertical-align: middle;\n",
              "    }\n",
              "\n",
              "    .dataframe tbody tr th {\n",
              "        vertical-align: top;\n",
              "    }\n",
              "\n",
              "    .dataframe thead th {\n",
              "        text-align: right;\n",
              "    }\n",
              "</style>\n",
              "<table border=\"1\" class=\"dataframe\">\n",
              "  <thead>\n",
              "    <tr style=\"text-align: right;\">\n",
              "      <th></th>\n",
              "      <th>level_0</th>\n",
              "      <th>index</th>\n",
              "      <th>id</th>\n",
              "      <th>host_has_profile_pic</th>\n",
              "      <th>host_since</th>\n",
              "      <th>neighbourhood_cleansed</th>\n",
              "      <th>neighbourhood_group_cleansed</th>\n",
              "      <th>host_is_superhost</th>\n",
              "      <th>description</th>\n",
              "      <th>latitude</th>\n",
              "      <th>longitude</th>\n",
              "      <th>is_location_exact</th>\n",
              "      <th>property_type</th>\n",
              "      <th>room_type</th>\n",
              "      <th>accommodates</th>\n",
              "      <th>bathrooms</th>\n",
              "      <th>bedrooms</th>\n",
              "      <th>bed_type</th>\n",
              "      <th>amenities</th>\n",
              "      <th>price</th>\n",
              "      <th>cleaning_fee</th>\n",
              "      <th>reviews_per_month</th>\n",
              "      <th>number_of_reviews</th>\n",
              "      <th>security_deposit</th>\n",
              "      <th>extra_people</th>\n",
              "      <th>guests_included</th>\n",
              "      <th>minimum_nights</th>\n",
              "      <th>instant_bookable</th>\n",
              "      <th>is_business_travel_ready</th>\n",
              "      <th>cancellation_policy</th>\n",
              "      <th>availability_365</th>\n",
              "    </tr>\n",
              "  </thead>\n",
              "  <tbody>\n",
              "    <tr>\n",
              "      <th>0</th>\n",
              "      <td>0</td>\n",
              "      <td>0</td>\n",
              "      <td>2015</td>\n",
              "      <td>1</td>\n",
              "      <td>2008-08-18</td>\n",
              "      <td>Brunnenstr. Süd</td>\n",
              "      <td>Mitte</td>\n",
              "      <td>1.0</td>\n",
              "      <td>Great location!  30 of 75 sq meters. This wood...</td>\n",
              "      <td>52.534537</td>\n",
              "      <td>13.402557</td>\n",
              "      <td>0</td>\n",
              "      <td>Guesthouse</td>\n",
              "      <td>Entire home/apt</td>\n",
              "      <td>3</td>\n",
              "      <td>1.0</td>\n",
              "      <td>1.0</td>\n",
              "      <td>Real Bed</td>\n",
              "      <td>{TV,\"Cable TV\",Wifi,Kitchen,Gym,Heating,\"Famil...</td>\n",
              "      <td>4.110874</td>\n",
              "      <td>30.0</td>\n",
              "      <td>3.76</td>\n",
              "      <td>118</td>\n",
              "      <td>200.0</td>\n",
              "      <td>28.0</td>\n",
              "      <td>1</td>\n",
              "      <td>4</td>\n",
              "      <td>0</td>\n",
              "      <td>0</td>\n",
              "      <td>strict_14_with_grace_period</td>\n",
              "      <td>141</td>\n",
              "    </tr>\n",
              "    <tr>\n",
              "      <th>1</th>\n",
              "      <td>1</td>\n",
              "      <td>1</td>\n",
              "      <td>2695</td>\n",
              "      <td>1</td>\n",
              "      <td>2008-09-16</td>\n",
              "      <td>Prenzlauer Berg Nordwest</td>\n",
              "      <td>Pankow</td>\n",
              "      <td>0.0</td>\n",
              "      <td>In the summertime we are spending most of our ...</td>\n",
              "      <td>52.548513</td>\n",
              "      <td>13.404553</td>\n",
              "      <td>1</td>\n",
              "      <td>Apartment</td>\n",
              "      <td>Private room</td>\n",
              "      <td>2</td>\n",
              "      <td>1.0</td>\n",
              "      <td>1.0</td>\n",
              "      <td>Real Bed</td>\n",
              "      <td>{Wifi,Kitchen,Elevator,Heating,Washer,Essentia...</td>\n",
              "      <td>2.890372</td>\n",
              "      <td>0.0</td>\n",
              "      <td>1.42</td>\n",
              "      <td>6</td>\n",
              "      <td>0.0</td>\n",
              "      <td>0.0</td>\n",
              "      <td>1</td>\n",
              "      <td>2</td>\n",
              "      <td>0</td>\n",
              "      <td>0</td>\n",
              "      <td>flexible</td>\n",
              "      <td>0</td>\n",
              "    </tr>\n",
              "    <tr>\n",
              "      <th>2</th>\n",
              "      <td>2</td>\n",
              "      <td>2</td>\n",
              "      <td>3176</td>\n",
              "      <td>1</td>\n",
              "      <td>2008-10-19</td>\n",
              "      <td>Prenzlauer Berg Südwest</td>\n",
              "      <td>Pankow</td>\n",
              "      <td>0.0</td>\n",
              "      <td>This beautiful first floor apartment  is situa...</td>\n",
              "      <td>52.534996</td>\n",
              "      <td>13.417579</td>\n",
              "      <td>1</td>\n",
              "      <td>Apartment</td>\n",
              "      <td>Entire home/apt</td>\n",
              "      <td>4</td>\n",
              "      <td>1.0</td>\n",
              "      <td>1.0</td>\n",
              "      <td>Real Bed</td>\n",
              "      <td>{Internet,Wifi,Kitchen,\"Buzzer/wireless interc...</td>\n",
              "      <td>4.510860</td>\n",
              "      <td>50.0</td>\n",
              "      <td>1.25</td>\n",
              "      <td>143</td>\n",
              "      <td>200.0</td>\n",
              "      <td>20.0</td>\n",
              "      <td>2</td>\n",
              "      <td>62</td>\n",
              "      <td>1</td>\n",
              "      <td>0</td>\n",
              "      <td>strict_14_with_grace_period</td>\n",
              "      <td>220</td>\n",
              "    </tr>\n",
              "    <tr>\n",
              "      <th>3</th>\n",
              "      <td>3</td>\n",
              "      <td>3</td>\n",
              "      <td>3309</td>\n",
              "      <td>1</td>\n",
              "      <td>2008-11-07</td>\n",
              "      <td>Schöneberg-Nord</td>\n",
              "      <td>Tempelhof - Schöneberg</td>\n",
              "      <td>0.0</td>\n",
              "      <td>First of all: I prefer short-notice bookings. ...</td>\n",
              "      <td>52.498855</td>\n",
              "      <td>13.349065</td>\n",
              "      <td>1</td>\n",
              "      <td>Apartment</td>\n",
              "      <td>Private room</td>\n",
              "      <td>2</td>\n",
              "      <td>1.0</td>\n",
              "      <td>1.0</td>\n",
              "      <td>Pull-out Sofa</td>\n",
              "      <td>{Internet,Wifi,\"Pets allowed\",\"Pets live on th...</td>\n",
              "      <td>3.295837</td>\n",
              "      <td>30.0</td>\n",
              "      <td>0.39</td>\n",
              "      <td>25</td>\n",
              "      <td>250.0</td>\n",
              "      <td>18.0</td>\n",
              "      <td>1</td>\n",
              "      <td>5</td>\n",
              "      <td>0</td>\n",
              "      <td>0</td>\n",
              "      <td>strict_14_with_grace_period</td>\n",
              "      <td>297</td>\n",
              "    </tr>\n",
              "    <tr>\n",
              "      <th>4</th>\n",
              "      <td>4</td>\n",
              "      <td>4</td>\n",
              "      <td>7071</td>\n",
              "      <td>1</td>\n",
              "      <td>2009-05-16</td>\n",
              "      <td>Helmholtzplatz</td>\n",
              "      <td>Pankow</td>\n",
              "      <td>1.0</td>\n",
              "      <td>Cozy and large room in the beautiful district ...</td>\n",
              "      <td>52.543157</td>\n",
              "      <td>13.415091</td>\n",
              "      <td>1</td>\n",
              "      <td>Apartment</td>\n",
              "      <td>Private room</td>\n",
              "      <td>2</td>\n",
              "      <td>1.0</td>\n",
              "      <td>1.0</td>\n",
              "      <td>Real Bed</td>\n",
              "      <td>{Wifi,Heating,\"Family/kid friendly\",Essentials...</td>\n",
              "      <td>3.761200</td>\n",
              "      <td>0.0</td>\n",
              "      <td>1.75</td>\n",
              "      <td>197</td>\n",
              "      <td>0.0</td>\n",
              "      <td>24.0</td>\n",
              "      <td>1</td>\n",
              "      <td>2</td>\n",
              "      <td>0</td>\n",
              "      <td>0</td>\n",
              "      <td>moderate</td>\n",
              "      <td>26</td>\n",
              "    </tr>\n",
              "  </tbody>\n",
              "</table>\n",
              "</div>\n",
              "      <button class=\"colab-df-convert\" onclick=\"convertToInteractive('df-9e3c9126-0ada-41e2-8f47-7a880e74317e')\"\n",
              "              title=\"Convert this dataframe to an interactive table.\"\n",
              "              style=\"display:none;\">\n",
              "        \n",
              "  <svg xmlns=\"http://www.w3.org/2000/svg\" height=\"24px\"viewBox=\"0 0 24 24\"\n",
              "       width=\"24px\">\n",
              "    <path d=\"M0 0h24v24H0V0z\" fill=\"none\"/>\n",
              "    <path d=\"M18.56 5.44l.94 2.06.94-2.06 2.06-.94-2.06-.94-.94-2.06-.94 2.06-2.06.94zm-11 1L8.5 8.5l.94-2.06 2.06-.94-2.06-.94L8.5 2.5l-.94 2.06-2.06.94zm10 10l.94 2.06.94-2.06 2.06-.94-2.06-.94-.94-2.06-.94 2.06-2.06.94z\"/><path d=\"M17.41 7.96l-1.37-1.37c-.4-.4-.92-.59-1.43-.59-.52 0-1.04.2-1.43.59L10.3 9.45l-7.72 7.72c-.78.78-.78 2.05 0 2.83L4 21.41c.39.39.9.59 1.41.59.51 0 1.02-.2 1.41-.59l7.78-7.78 2.81-2.81c.8-.78.8-2.07 0-2.86zM5.41 20L4 18.59l7.72-7.72 1.47 1.35L5.41 20z\"/>\n",
              "  </svg>\n",
              "      </button>\n",
              "      \n",
              "  <style>\n",
              "    .colab-df-container {\n",
              "      display:flex;\n",
              "      flex-wrap:wrap;\n",
              "      gap: 12px;\n",
              "    }\n",
              "\n",
              "    .colab-df-convert {\n",
              "      background-color: #E8F0FE;\n",
              "      border: none;\n",
              "      border-radius: 50%;\n",
              "      cursor: pointer;\n",
              "      display: none;\n",
              "      fill: #1967D2;\n",
              "      height: 32px;\n",
              "      padding: 0 0 0 0;\n",
              "      width: 32px;\n",
              "    }\n",
              "\n",
              "    .colab-df-convert:hover {\n",
              "      background-color: #E2EBFA;\n",
              "      box-shadow: 0px 1px 2px rgba(60, 64, 67, 0.3), 0px 1px 3px 1px rgba(60, 64, 67, 0.15);\n",
              "      fill: #174EA6;\n",
              "    }\n",
              "\n",
              "    [theme=dark] .colab-df-convert {\n",
              "      background-color: #3B4455;\n",
              "      fill: #D2E3FC;\n",
              "    }\n",
              "\n",
              "    [theme=dark] .colab-df-convert:hover {\n",
              "      background-color: #434B5C;\n",
              "      box-shadow: 0px 1px 3px 1px rgba(0, 0, 0, 0.15);\n",
              "      filter: drop-shadow(0px 1px 2px rgba(0, 0, 0, 0.3));\n",
              "      fill: #FFFFFF;\n",
              "    }\n",
              "  </style>\n",
              "\n",
              "      <script>\n",
              "        const buttonEl =\n",
              "          document.querySelector('#df-9e3c9126-0ada-41e2-8f47-7a880e74317e button.colab-df-convert');\n",
              "        buttonEl.style.display =\n",
              "          google.colab.kernel.accessAllowed ? 'block' : 'none';\n",
              "\n",
              "        async function convertToInteractive(key) {\n",
              "          const element = document.querySelector('#df-9e3c9126-0ada-41e2-8f47-7a880e74317e');\n",
              "          const dataTable =\n",
              "            await google.colab.kernel.invokeFunction('convertToInteractive',\n",
              "                                                     [key], {});\n",
              "          if (!dataTable) return;\n",
              "\n",
              "          const docLinkHtml = 'Like what you see? Visit the ' +\n",
              "            '<a target=\"_blank\" href=https://colab.research.google.com/notebooks/data_table.ipynb>data table notebook</a>'\n",
              "            + ' to learn more about interactive tables.';\n",
              "          element.innerHTML = '';\n",
              "          dataTable['output_type'] = 'display_data';\n",
              "          await google.colab.output.renderOutput(dataTable, element);\n",
              "          const docLink = document.createElement('div');\n",
              "          docLink.innerHTML = docLinkHtml;\n",
              "          element.appendChild(docLink);\n",
              "        }\n",
              "      </script>\n",
              "    </div>\n",
              "  </div>\n",
              "  "
            ]
          },
          "metadata": {},
          "execution_count": 98
        }
      ],
      "source": [
        "df.head()"
      ]
    },
    {
      "cell_type": "markdown",
      "metadata": {
        "id": "_x2Kd_k2ttzy"
      },
      "source": [
        "# Cancellation"
      ]
    },
    {
      "cell_type": "code",
      "execution_count": null,
      "metadata": {
        "colab": {
          "base_uri": "https://localhost:8080/"
        },
        "id": "eLHyfV5sttzz",
        "outputId": "65ca254c-4bbf-4854-8c07-96b3e2add355"
      },
      "outputs": [
        {
          "output_type": "execute_result",
          "data": {
            "text/plain": [
              "flexible                       9082\n",
              "moderate                       7086\n",
              "strict_14_with_grace_period    6283\n",
              "super_strict_30                  53\n",
              "super_strict_60                  14\n",
              "Name: cancellation_policy, dtype: int64"
            ]
          },
          "metadata": {},
          "execution_count": 102
        }
      ],
      "source": [
        "df['cancellation_policy'].value_counts(dropna=False)"
      ]
    },
    {
      "cell_type": "markdown",
      "metadata": {
        "id": "qD7Za11xttzz"
      },
      "source": [
        "# Dropping features"
      ]
    },
    {
      "cell_type": "code",
      "execution_count": null,
      "metadata": {
        "id": "17MFr7Y_ttzz",
        "colab": {
          "base_uri": "https://localhost:8080/",
          "height": 527
        },
        "outputId": "2b6a824e-47b8-478a-dd69-f91b11814629"
      },
      "outputs": [
        {
          "output_type": "error",
          "ename": "KeyError",
          "evalue": "ignored",
          "traceback": [
            "\u001b[0;31m---------------------------------------------------------------------------\u001b[0m",
            "\u001b[0;31mKeyError\u001b[0m                                  Traceback (most recent call last)",
            "\u001b[0;32m/usr/local/lib/python3.7/dist-packages/pandas/core/indexes/base.py\u001b[0m in \u001b[0;36mget_loc\u001b[0;34m(self, key, method, tolerance)\u001b[0m\n\u001b[1;32m   3360\u001b[0m             \u001b[0;32mtry\u001b[0m\u001b[0;34m:\u001b[0m\u001b[0;34m\u001b[0m\u001b[0;34m\u001b[0m\u001b[0m\n\u001b[0;32m-> 3361\u001b[0;31m                 \u001b[0;32mreturn\u001b[0m \u001b[0mself\u001b[0m\u001b[0;34m.\u001b[0m\u001b[0m_engine\u001b[0m\u001b[0;34m.\u001b[0m\u001b[0mget_loc\u001b[0m\u001b[0;34m(\u001b[0m\u001b[0mcasted_key\u001b[0m\u001b[0;34m)\u001b[0m\u001b[0;34m\u001b[0m\u001b[0;34m\u001b[0m\u001b[0m\n\u001b[0m\u001b[1;32m   3362\u001b[0m             \u001b[0;32mexcept\u001b[0m \u001b[0mKeyError\u001b[0m \u001b[0;32mas\u001b[0m \u001b[0merr\u001b[0m\u001b[0;34m:\u001b[0m\u001b[0;34m\u001b[0m\u001b[0;34m\u001b[0m\u001b[0m\n",
            "\u001b[0;32m/usr/local/lib/python3.7/dist-packages/pandas/_libs/index.pyx\u001b[0m in \u001b[0;36mpandas._libs.index.IndexEngine.get_loc\u001b[0;34m()\u001b[0m\n",
            "\u001b[0;32m/usr/local/lib/python3.7/dist-packages/pandas/_libs/index.pyx\u001b[0m in \u001b[0;36mpandas._libs.index.IndexEngine.get_loc\u001b[0;34m()\u001b[0m\n",
            "\u001b[0;32mpandas/_libs/hashtable_class_helper.pxi\u001b[0m in \u001b[0;36mpandas._libs.hashtable.PyObjectHashTable.get_item\u001b[0;34m()\u001b[0m\n",
            "\u001b[0;32mpandas/_libs/hashtable_class_helper.pxi\u001b[0m in \u001b[0;36mpandas._libs.hashtable.PyObjectHashTable.get_item\u001b[0;34m()\u001b[0m\n",
            "\u001b[0;31mKeyError\u001b[0m: 'price'",
            "\nThe above exception was the direct cause of the following exception:\n",
            "\u001b[0;31mKeyError\u001b[0m                                  Traceback (most recent call last)",
            "\u001b[0;32m<ipython-input-103-bf1f5386aada>\u001b[0m in \u001b[0;36m<module>\u001b[0;34m()\u001b[0m\n\u001b[0;32m----> 1\u001b[0;31m \u001b[0my\u001b[0m \u001b[0;34m=\u001b[0m \u001b[0mdf\u001b[0m\u001b[0;34m[\u001b[0m\u001b[0;34m'price'\u001b[0m\u001b[0;34m]\u001b[0m\u001b[0;34m\u001b[0m\u001b[0;34m\u001b[0m\u001b[0m\n\u001b[0m\u001b[1;32m      2\u001b[0m \u001b[0mdf\u001b[0m\u001b[0;34m.\u001b[0m\u001b[0mdrop\u001b[0m\u001b[0;34m(\u001b[0m\u001b[0;34m[\u001b[0m\u001b[0;34m'price'\u001b[0m\u001b[0;34m]\u001b[0m\u001b[0;34m,\u001b[0m\u001b[0maxis\u001b[0m\u001b[0;34m=\u001b[0m\u001b[0;36m1\u001b[0m\u001b[0;34m,\u001b[0m\u001b[0minplace\u001b[0m\u001b[0;34m=\u001b[0m\u001b[0;32mTrue\u001b[0m\u001b[0;34m)\u001b[0m\u001b[0;34m\u001b[0m\u001b[0;34m\u001b[0m\u001b[0m\n",
            "\u001b[0;32m/usr/local/lib/python3.7/dist-packages/pandas/core/frame.py\u001b[0m in \u001b[0;36m__getitem__\u001b[0;34m(self, key)\u001b[0m\n\u001b[1;32m   3456\u001b[0m             \u001b[0;32mif\u001b[0m \u001b[0mself\u001b[0m\u001b[0;34m.\u001b[0m\u001b[0mcolumns\u001b[0m\u001b[0;34m.\u001b[0m\u001b[0mnlevels\u001b[0m \u001b[0;34m>\u001b[0m \u001b[0;36m1\u001b[0m\u001b[0;34m:\u001b[0m\u001b[0;34m\u001b[0m\u001b[0;34m\u001b[0m\u001b[0m\n\u001b[1;32m   3457\u001b[0m                 \u001b[0;32mreturn\u001b[0m \u001b[0mself\u001b[0m\u001b[0;34m.\u001b[0m\u001b[0m_getitem_multilevel\u001b[0m\u001b[0;34m(\u001b[0m\u001b[0mkey\u001b[0m\u001b[0;34m)\u001b[0m\u001b[0;34m\u001b[0m\u001b[0;34m\u001b[0m\u001b[0m\n\u001b[0;32m-> 3458\u001b[0;31m             \u001b[0mindexer\u001b[0m \u001b[0;34m=\u001b[0m \u001b[0mself\u001b[0m\u001b[0;34m.\u001b[0m\u001b[0mcolumns\u001b[0m\u001b[0;34m.\u001b[0m\u001b[0mget_loc\u001b[0m\u001b[0;34m(\u001b[0m\u001b[0mkey\u001b[0m\u001b[0;34m)\u001b[0m\u001b[0;34m\u001b[0m\u001b[0;34m\u001b[0m\u001b[0m\n\u001b[0m\u001b[1;32m   3459\u001b[0m             \u001b[0;32mif\u001b[0m \u001b[0mis_integer\u001b[0m\u001b[0;34m(\u001b[0m\u001b[0mindexer\u001b[0m\u001b[0;34m)\u001b[0m\u001b[0;34m:\u001b[0m\u001b[0;34m\u001b[0m\u001b[0;34m\u001b[0m\u001b[0m\n\u001b[1;32m   3460\u001b[0m                 \u001b[0mindexer\u001b[0m \u001b[0;34m=\u001b[0m \u001b[0;34m[\u001b[0m\u001b[0mindexer\u001b[0m\u001b[0;34m]\u001b[0m\u001b[0;34m\u001b[0m\u001b[0;34m\u001b[0m\u001b[0m\n",
            "\u001b[0;32m/usr/local/lib/python3.7/dist-packages/pandas/core/indexes/base.py\u001b[0m in \u001b[0;36mget_loc\u001b[0;34m(self, key, method, tolerance)\u001b[0m\n\u001b[1;32m   3361\u001b[0m                 \u001b[0;32mreturn\u001b[0m \u001b[0mself\u001b[0m\u001b[0;34m.\u001b[0m\u001b[0m_engine\u001b[0m\u001b[0;34m.\u001b[0m\u001b[0mget_loc\u001b[0m\u001b[0;34m(\u001b[0m\u001b[0mcasted_key\u001b[0m\u001b[0;34m)\u001b[0m\u001b[0;34m\u001b[0m\u001b[0;34m\u001b[0m\u001b[0m\n\u001b[1;32m   3362\u001b[0m             \u001b[0;32mexcept\u001b[0m \u001b[0mKeyError\u001b[0m \u001b[0;32mas\u001b[0m \u001b[0merr\u001b[0m\u001b[0;34m:\u001b[0m\u001b[0;34m\u001b[0m\u001b[0;34m\u001b[0m\u001b[0m\n\u001b[0;32m-> 3363\u001b[0;31m                 \u001b[0;32mraise\u001b[0m \u001b[0mKeyError\u001b[0m\u001b[0;34m(\u001b[0m\u001b[0mkey\u001b[0m\u001b[0;34m)\u001b[0m \u001b[0;32mfrom\u001b[0m \u001b[0merr\u001b[0m\u001b[0;34m\u001b[0m\u001b[0;34m\u001b[0m\u001b[0m\n\u001b[0m\u001b[1;32m   3364\u001b[0m \u001b[0;34m\u001b[0m\u001b[0m\n\u001b[1;32m   3365\u001b[0m         \u001b[0;32mif\u001b[0m \u001b[0mis_scalar\u001b[0m\u001b[0;34m(\u001b[0m\u001b[0mkey\u001b[0m\u001b[0;34m)\u001b[0m \u001b[0;32mand\u001b[0m \u001b[0misna\u001b[0m\u001b[0;34m(\u001b[0m\u001b[0mkey\u001b[0m\u001b[0;34m)\u001b[0m \u001b[0;32mand\u001b[0m \u001b[0;32mnot\u001b[0m \u001b[0mself\u001b[0m\u001b[0;34m.\u001b[0m\u001b[0mhasnans\u001b[0m\u001b[0;34m:\u001b[0m\u001b[0;34m\u001b[0m\u001b[0;34m\u001b[0m\u001b[0m\n",
            "\u001b[0;31mKeyError\u001b[0m: 'price'"
          ]
        }
      ],
      "source": [
        "y = df['price']\n",
        "df.drop(['price'],axis=1,inplace=True)    "
      ]
    },
    {
      "cell_type": "code",
      "execution_count": null,
      "metadata": {
        "id": "VtyrgI_jttzz",
        "outputId": "4c4ef280-a6d5-40c5-8680-789e371b1dc4",
        "colab": {
          "base_uri": "https://localhost:8080/"
        }
      },
      "outputs": [
        {
          "output_type": "execute_result",
          "data": {
            "text/plain": [
              "level_0                            0\n",
              "index                              0\n",
              "id                                 0\n",
              "host_has_profile_pic               0\n",
              "host_since                         0\n",
              "neighbourhood_cleansed             0\n",
              "neighbourhood_group_cleansed       0\n",
              "host_is_superhost                  0\n",
              "description                      203\n",
              "latitude                           0\n",
              "longitude                          0\n",
              "is_location_exact                  0\n",
              "property_type                      0\n",
              "room_type                          0\n",
              "accommodates                       0\n",
              "bathrooms                          0\n",
              "bedrooms                           0\n",
              "bed_type                           0\n",
              "amenities                          0\n",
              "cleaning_fee                       0\n",
              "reviews_per_month               3901\n",
              "number_of_reviews                  0\n",
              "security_deposit                   0\n",
              "extra_people                       0\n",
              "guests_included                    0\n",
              "minimum_nights                     0\n",
              "instant_bookable                   0\n",
              "is_business_travel_ready           0\n",
              "cancellation_policy                0\n",
              "availability_365                   0\n",
              "dtype: int64"
            ]
          },
          "metadata": {},
          "execution_count": 58
        }
      ],
      "source": [
        "df.isnull().sum()   #this tells you which column has how many null vvalues"
      ]
    },
    {
      "cell_type": "markdown",
      "metadata": {
        "id": "LbG9WnYuttz0"
      },
      "source": [
        "## Size estimation"
      ]
    },
    {
      "cell_type": "code",
      "source": [
        "df['description']"
      ],
      "metadata": {
        "colab": {
          "base_uri": "https://localhost:8080/",
          "height": 527
        },
        "id": "ISICkoKbP9z3",
        "outputId": "a339305a-d3c1-4185-9b31-8068cf8d772d"
      },
      "execution_count": null,
      "outputs": [
        {
          "output_type": "error",
          "ename": "KeyError",
          "evalue": "ignored",
          "traceback": [
            "\u001b[0;31m---------------------------------------------------------------------------\u001b[0m",
            "\u001b[0;31mKeyError\u001b[0m                                  Traceback (most recent call last)",
            "\u001b[0;32m/usr/local/lib/python3.7/dist-packages/pandas/core/indexes/base.py\u001b[0m in \u001b[0;36mget_loc\u001b[0;34m(self, key, method, tolerance)\u001b[0m\n\u001b[1;32m   3360\u001b[0m             \u001b[0;32mtry\u001b[0m\u001b[0;34m:\u001b[0m\u001b[0;34m\u001b[0m\u001b[0;34m\u001b[0m\u001b[0m\n\u001b[0;32m-> 3361\u001b[0;31m                 \u001b[0;32mreturn\u001b[0m \u001b[0mself\u001b[0m\u001b[0;34m.\u001b[0m\u001b[0m_engine\u001b[0m\u001b[0;34m.\u001b[0m\u001b[0mget_loc\u001b[0m\u001b[0;34m(\u001b[0m\u001b[0mcasted_key\u001b[0m\u001b[0;34m)\u001b[0m\u001b[0;34m\u001b[0m\u001b[0;34m\u001b[0m\u001b[0m\n\u001b[0m\u001b[1;32m   3362\u001b[0m             \u001b[0;32mexcept\u001b[0m \u001b[0mKeyError\u001b[0m \u001b[0;32mas\u001b[0m \u001b[0merr\u001b[0m\u001b[0;34m:\u001b[0m\u001b[0;34m\u001b[0m\u001b[0;34m\u001b[0m\u001b[0m\n",
            "\u001b[0;32m/usr/local/lib/python3.7/dist-packages/pandas/_libs/index.pyx\u001b[0m in \u001b[0;36mpandas._libs.index.IndexEngine.get_loc\u001b[0;34m()\u001b[0m\n",
            "\u001b[0;32m/usr/local/lib/python3.7/dist-packages/pandas/_libs/index.pyx\u001b[0m in \u001b[0;36mpandas._libs.index.IndexEngine.get_loc\u001b[0;34m()\u001b[0m\n",
            "\u001b[0;32mpandas/_libs/hashtable_class_helper.pxi\u001b[0m in \u001b[0;36mpandas._libs.hashtable.PyObjectHashTable.get_item\u001b[0;34m()\u001b[0m\n",
            "\u001b[0;32mpandas/_libs/hashtable_class_helper.pxi\u001b[0m in \u001b[0;36mpandas._libs.hashtable.PyObjectHashTable.get_item\u001b[0;34m()\u001b[0m\n",
            "\u001b[0;31mKeyError\u001b[0m: 'description'",
            "\nThe above exception was the direct cause of the following exception:\n",
            "\u001b[0;31mKeyError\u001b[0m                                  Traceback (most recent call last)",
            "\u001b[0;32m<ipython-input-74-07a83523c62c>\u001b[0m in \u001b[0;36m<module>\u001b[0;34m()\u001b[0m\n\u001b[0;32m----> 1\u001b[0;31m \u001b[0mdf\u001b[0m\u001b[0;34m[\u001b[0m\u001b[0;34m'description'\u001b[0m\u001b[0;34m]\u001b[0m\u001b[0;34m\u001b[0m\u001b[0;34m\u001b[0m\u001b[0m\n\u001b[0m",
            "\u001b[0;32m/usr/local/lib/python3.7/dist-packages/pandas/core/frame.py\u001b[0m in \u001b[0;36m__getitem__\u001b[0;34m(self, key)\u001b[0m\n\u001b[1;32m   3456\u001b[0m             \u001b[0;32mif\u001b[0m \u001b[0mself\u001b[0m\u001b[0;34m.\u001b[0m\u001b[0mcolumns\u001b[0m\u001b[0;34m.\u001b[0m\u001b[0mnlevels\u001b[0m \u001b[0;34m>\u001b[0m \u001b[0;36m1\u001b[0m\u001b[0;34m:\u001b[0m\u001b[0;34m\u001b[0m\u001b[0;34m\u001b[0m\u001b[0m\n\u001b[1;32m   3457\u001b[0m                 \u001b[0;32mreturn\u001b[0m \u001b[0mself\u001b[0m\u001b[0;34m.\u001b[0m\u001b[0m_getitem_multilevel\u001b[0m\u001b[0;34m(\u001b[0m\u001b[0mkey\u001b[0m\u001b[0;34m)\u001b[0m\u001b[0;34m\u001b[0m\u001b[0;34m\u001b[0m\u001b[0m\n\u001b[0;32m-> 3458\u001b[0;31m             \u001b[0mindexer\u001b[0m \u001b[0;34m=\u001b[0m \u001b[0mself\u001b[0m\u001b[0;34m.\u001b[0m\u001b[0mcolumns\u001b[0m\u001b[0;34m.\u001b[0m\u001b[0mget_loc\u001b[0m\u001b[0;34m(\u001b[0m\u001b[0mkey\u001b[0m\u001b[0;34m)\u001b[0m\u001b[0;34m\u001b[0m\u001b[0;34m\u001b[0m\u001b[0m\n\u001b[0m\u001b[1;32m   3459\u001b[0m             \u001b[0;32mif\u001b[0m \u001b[0mis_integer\u001b[0m\u001b[0;34m(\u001b[0m\u001b[0mindexer\u001b[0m\u001b[0;34m)\u001b[0m\u001b[0;34m:\u001b[0m\u001b[0;34m\u001b[0m\u001b[0;34m\u001b[0m\u001b[0m\n\u001b[1;32m   3460\u001b[0m                 \u001b[0mindexer\u001b[0m \u001b[0;34m=\u001b[0m \u001b[0;34m[\u001b[0m\u001b[0mindexer\u001b[0m\u001b[0;34m]\u001b[0m\u001b[0;34m\u001b[0m\u001b[0;34m\u001b[0m\u001b[0m\n",
            "\u001b[0;32m/usr/local/lib/python3.7/dist-packages/pandas/core/indexes/base.py\u001b[0m in \u001b[0;36mget_loc\u001b[0;34m(self, key, method, tolerance)\u001b[0m\n\u001b[1;32m   3361\u001b[0m                 \u001b[0;32mreturn\u001b[0m \u001b[0mself\u001b[0m\u001b[0;34m.\u001b[0m\u001b[0m_engine\u001b[0m\u001b[0;34m.\u001b[0m\u001b[0mget_loc\u001b[0m\u001b[0;34m(\u001b[0m\u001b[0mcasted_key\u001b[0m\u001b[0;34m)\u001b[0m\u001b[0;34m\u001b[0m\u001b[0;34m\u001b[0m\u001b[0m\n\u001b[1;32m   3362\u001b[0m             \u001b[0;32mexcept\u001b[0m \u001b[0mKeyError\u001b[0m \u001b[0;32mas\u001b[0m \u001b[0merr\u001b[0m\u001b[0;34m:\u001b[0m\u001b[0;34m\u001b[0m\u001b[0;34m\u001b[0m\u001b[0m\n\u001b[0;32m-> 3363\u001b[0;31m                 \u001b[0;32mraise\u001b[0m \u001b[0mKeyError\u001b[0m\u001b[0;34m(\u001b[0m\u001b[0mkey\u001b[0m\u001b[0;34m)\u001b[0m \u001b[0;32mfrom\u001b[0m \u001b[0merr\u001b[0m\u001b[0;34m\u001b[0m\u001b[0;34m\u001b[0m\u001b[0m\n\u001b[0m\u001b[1;32m   3364\u001b[0m \u001b[0;34m\u001b[0m\u001b[0m\n\u001b[1;32m   3365\u001b[0m         \u001b[0;32mif\u001b[0m \u001b[0mis_scalar\u001b[0m\u001b[0;34m(\u001b[0m\u001b[0mkey\u001b[0m\u001b[0;34m)\u001b[0m \u001b[0;32mand\u001b[0m \u001b[0misna\u001b[0m\u001b[0;34m(\u001b[0m\u001b[0mkey\u001b[0m\u001b[0;34m)\u001b[0m \u001b[0;32mand\u001b[0m \u001b[0;32mnot\u001b[0m \u001b[0mself\u001b[0m\u001b[0;34m.\u001b[0m\u001b[0mhasnans\u001b[0m\u001b[0;34m:\u001b[0m\u001b[0;34m\u001b[0m\u001b[0;34m\u001b[0m\u001b[0m\n",
            "\u001b[0;31mKeyError\u001b[0m: 'description'"
          ]
        }
      ]
    },
    {
      "cell_type": "code",
      "execution_count": null,
      "metadata": {
        "colab": {
          "base_uri": "https://localhost:8080/"
        },
        "id": "g6tO1OyMttz0",
        "outputId": "9feb9a8a-37d5-4eea-c144-5e41de6e7eaa"
      },
      "outputs": [
        {
          "output_type": "stream",
          "name": "stderr",
          "text": [
            "/usr/local/lib/python3.7/dist-packages/ipykernel_launcher.py:2: FutureWarning: The default value of regex will change from True to False in a future version.\n",
            "  \n"
          ]
        }
      ],
      "source": [
        "df['size'] = df['description'].str.extract('(\\d{2,3}\\s?[smSM])', expand=True)        #string preprocessing,  # took size from description\n",
        "df['size'] = df['size'].str.replace(\"\\D\", \"\")   # modified/cleaned the size obtained\n",
        "df['size'] = df['size'].astype(float)   # changed it to float because it was string\n"
      ]
    },
    {
      "cell_type": "code",
      "source": [
        "df['size'].value_counts(dropna=False)"
      ],
      "metadata": {
        "colab": {
          "base_uri": "https://localhost:8080/"
        },
        "id": "IOng_JhAQyRo",
        "outputId": "303b56fb-badd-47de-e245-b28f4af750e9"
      },
      "execution_count": null,
      "outputs": [
        {
          "output_type": "execute_result",
          "data": {
            "text/plain": [
              "NaN      11778\n",
              "10.0      2331\n",
              "15.0      1263\n",
              "20.0       857\n",
              "30.0       444\n",
              "         ...  \n",
              "144.0        1\n",
              "688.0        1\n",
              "147.0        1\n",
              "126.0        1\n",
              "240.0        1\n",
              "Name: size, Length: 219, dtype: int64"
            ]
          },
          "metadata": {},
          "execution_count": 61
        }
      ]
    },
    {
      "cell_type": "code",
      "execution_count": null,
      "metadata": {
        "id": "6r8xb6rpttz0"
      },
      "outputs": [],
      "source": [
        "cols = ['accommodates', 'bathrooms', 'bedrooms', 'cleaning_fee', \n",
        "                 'security_deposit', 'extra_people', 'guests_included', 'size']\n",
        "\n",
        "sub_df = df[cols]\n",
        "\n",
        "df.drop(cols,inplace=True, axis=1)"
      ]
    },
    {
      "cell_type": "code",
      "execution_count": null,
      "metadata": {
        "id": "UTXRHraAttz0"
      },
      "outputs": [],
      "source": [
        "train_data = sub_df[sub_df['size'].notnull()]\n",
        "test_data  = sub_df[sub_df['size'].isnull()]\n",
        "\n",
        "X_train = train_data.drop('size', axis=1)\n",
        "X_test  = test_data.drop('size', axis=1)\n",
        "\n",
        "y_train = train_data['size']"
      ]
    },
    {
      "cell_type": "code",
      "execution_count": null,
      "metadata": {
        "colab": {
          "base_uri": "https://localhost:8080/"
        },
        "id": "gnIgnD5Zttz1",
        "outputId": "71cc65f6-6081-45ef-8749-6e9eada6a804"
      },
      "outputs": [
        {
          "output_type": "execute_result",
          "data": {
            "text/plain": [
              "LinearRegression()"
            ]
          },
          "metadata": {},
          "execution_count": 64
        }
      ],
      "source": [
        "from sklearn.linear_model import LinearRegression\n",
        "linreg = LinearRegression()\n",
        "linreg.fit(X_train, y_train)"
      ]
    },
    {
      "cell_type": "code",
      "execution_count": null,
      "metadata": {
        "id": "9Xz_4AECttz1"
      },
      "outputs": [],
      "source": [
        "y_test = linreg.predict(X_test)"
      ]
    },
    {
      "cell_type": "code",
      "execution_count": null,
      "metadata": {
        "colab": {
          "base_uri": "https://localhost:8080/"
        },
        "id": "Cu3mcOGwttz1",
        "outputId": "f1d438e6-76ef-4b9a-e5e7-298ee4ff75e4"
      },
      "outputs": [
        {
          "output_type": "execute_result",
          "data": {
            "text/plain": [
              "(13101.20952169146, 0.026865995167252188)"
            ]
          },
          "metadata": {},
          "execution_count": 66
        }
      ],
      "source": [
        "mse(y_train,linreg.predict(X_train)),r2_score(y_train,linreg.predict(X_train))    # mse= mean square error. mean of square of errors. the less it is, the better results are\n",
        "# mse shouls be less and r2_score should be aound 1.. both re reverse which means model is bad\n"
      ]
    },
    {
      "cell_type": "code",
      "execution_count": null,
      "metadata": {
        "id": "vc_FpveJttz1"
      },
      "outputs": [],
      "source": [
        "y_test = pd.DataFrame(y_test)   # made y_test a dataframe\n",
        "y_test.columns = ['size'] # named it as size."
      ]
    },
    {
      "cell_type": "code",
      "execution_count": null,
      "metadata": {
        "id": "En-lK7RLttz2"
      },
      "outputs": [],
      "source": [
        "prelim_index = pd.DataFrame(X_test.index)\n",
        "prelim_index.columns = ['prelim']\n",
        "\n",
        "y_test = pd.concat([y_test, prelim_index], axis=1)\n",
        "y_test.set_index(['prelim'], inplace=True)"
      ]
    },
    {
      "cell_type": "code",
      "execution_count": null,
      "metadata": {
        "id": "EzPxM482ttz2"
      },
      "outputs": [],
      "source": [
        "new_test_data = pd.concat([X_test, y_test], axis=1)\n",
        "sub_df_new = pd.concat([new_test_data, train_data], axis=0)\n",
        "df = pd.concat([sub_df_new, df], axis=1)"
      ]
    },
    {
      "cell_type": "code",
      "execution_count": null,
      "metadata": {
        "colab": {
          "base_uri": "https://localhost:8080/"
        },
        "id": "9lIL-0tsttz2",
        "outputId": "7d779985-ea9e-41fa-ac8a-fe037ab7234e"
      },
      "outputs": [
        {
          "output_type": "execute_result",
          "data": {
            "text/plain": [
              "Index(['accommodates', 'bathrooms', 'bedrooms', 'cleaning_fee',\n",
              "       'security_deposit', 'extra_people', 'guests_included', 'size'],\n",
              "      dtype='object')"
            ]
          },
          "metadata": {},
          "execution_count": 70
        }
      ],
      "source": [
        "sub_df_new.columns"
      ]
    },
    {
      "cell_type": "code",
      "execution_count": null,
      "metadata": {
        "colab": {
          "base_uri": "https://localhost:8080/",
          "height": 582
        },
        "id": "v0YAXPfEttz2",
        "outputId": "1b72c83f-b99c-4c24-9266-1d7fde43890f"
      },
      "outputs": [
        {
          "output_type": "execute_result",
          "data": {
            "text/plain": [
              "   accommodates  bathrooms  bedrooms  cleaning_fee  security_deposit  \\\n",
              "0             3        1.0       1.0          30.0             200.0   \n",
              "1             2        1.0       1.0           0.0               0.0   \n",
              "2             4        1.0       1.0          50.0             200.0   \n",
              "3             2        1.0       1.0          30.0             250.0   \n",
              "4             2        1.0       1.0           0.0               0.0   \n",
              "\n",
              "   extra_people  guests_included  size  level_0  index    id  \\\n",
              "0          28.0                1  75.0        0      0  2015   \n",
              "1           0.0                1  25.0        1      1  2695   \n",
              "2          20.0                2  68.0        2      2  3176   \n",
              "3          18.0                1  26.0        3      3  3309   \n",
              "4          24.0                1  20.0        4      4  7071   \n",
              "\n",
              "   host_has_profile_pic  host_since    neighbourhood_cleansed  \\\n",
              "0                     1  2008-08-18           Brunnenstr. Süd   \n",
              "1                     1  2008-09-16  Prenzlauer Berg Nordwest   \n",
              "2                     1  2008-10-19   Prenzlauer Berg Südwest   \n",
              "3                     1  2008-11-07           Schöneberg-Nord   \n",
              "4                     1  2009-05-16            Helmholtzplatz   \n",
              "\n",
              "  neighbourhood_group_cleansed  host_is_superhost  \\\n",
              "0                        Mitte                1.0   \n",
              "1                       Pankow                0.0   \n",
              "2                       Pankow                0.0   \n",
              "3       Tempelhof - Schöneberg                0.0   \n",
              "4                       Pankow                1.0   \n",
              "\n",
              "                                         description   latitude  longitude  \\\n",
              "0  Great location!  30 of 75 sq meters. This wood...  52.534537  13.402557   \n",
              "1  In the summertime we are spending most of our ...  52.548513  13.404553   \n",
              "2  This beautiful first floor apartment  is situa...  52.534996  13.417579   \n",
              "3  First of all: I prefer short-notice bookings. ...  52.498855  13.349065   \n",
              "4  Cozy and large room in the beautiful district ...  52.543157  13.415091   \n",
              "\n",
              "   is_location_exact property_type        room_type       bed_type  \\\n",
              "0                  0    Guesthouse  Entire home/apt       Real Bed   \n",
              "1                  1     Apartment     Private room       Real Bed   \n",
              "2                  1     Apartment  Entire home/apt       Real Bed   \n",
              "3                  1     Apartment     Private room  Pull-out Sofa   \n",
              "4                  1     Apartment     Private room       Real Bed   \n",
              "\n",
              "                                           amenities  reviews_per_month  \\\n",
              "0  {TV,\"Cable TV\",Wifi,Kitchen,Gym,Heating,\"Famil...               3.76   \n",
              "1  {Wifi,Kitchen,Elevator,Heating,Washer,Essentia...               1.42   \n",
              "2  {Internet,Wifi,Kitchen,\"Buzzer/wireless interc...               1.25   \n",
              "3  {Internet,Wifi,\"Pets allowed\",\"Pets live on th...               0.39   \n",
              "4  {Wifi,Heating,\"Family/kid friendly\",Essentials...               1.75   \n",
              "\n",
              "   number_of_reviews  minimum_nights  instant_bookable  \\\n",
              "0                118               4                 0   \n",
              "1                  6               2                 0   \n",
              "2                143              62                 1   \n",
              "3                 25               5                 0   \n",
              "4                197               2                 0   \n",
              "\n",
              "   is_business_travel_ready          cancellation_policy  availability_365  \n",
              "0                         0  strict_14_with_grace_period               141  \n",
              "1                         0                     flexible                 0  \n",
              "2                         0  strict_14_with_grace_period               220  \n",
              "3                         0  strict_14_with_grace_period               297  \n",
              "4                         0                     moderate                26  "
            ],
            "text/html": [
              "\n",
              "  <div id=\"df-a6b2ac36-63b6-4c1d-8407-312be893c02f\">\n",
              "    <div class=\"colab-df-container\">\n",
              "      <div>\n",
              "<style scoped>\n",
              "    .dataframe tbody tr th:only-of-type {\n",
              "        vertical-align: middle;\n",
              "    }\n",
              "\n",
              "    .dataframe tbody tr th {\n",
              "        vertical-align: top;\n",
              "    }\n",
              "\n",
              "    .dataframe thead th {\n",
              "        text-align: right;\n",
              "    }\n",
              "</style>\n",
              "<table border=\"1\" class=\"dataframe\">\n",
              "  <thead>\n",
              "    <tr style=\"text-align: right;\">\n",
              "      <th></th>\n",
              "      <th>accommodates</th>\n",
              "      <th>bathrooms</th>\n",
              "      <th>bedrooms</th>\n",
              "      <th>cleaning_fee</th>\n",
              "      <th>security_deposit</th>\n",
              "      <th>extra_people</th>\n",
              "      <th>guests_included</th>\n",
              "      <th>size</th>\n",
              "      <th>level_0</th>\n",
              "      <th>index</th>\n",
              "      <th>id</th>\n",
              "      <th>host_has_profile_pic</th>\n",
              "      <th>host_since</th>\n",
              "      <th>neighbourhood_cleansed</th>\n",
              "      <th>neighbourhood_group_cleansed</th>\n",
              "      <th>host_is_superhost</th>\n",
              "      <th>description</th>\n",
              "      <th>latitude</th>\n",
              "      <th>longitude</th>\n",
              "      <th>is_location_exact</th>\n",
              "      <th>property_type</th>\n",
              "      <th>room_type</th>\n",
              "      <th>bed_type</th>\n",
              "      <th>amenities</th>\n",
              "      <th>reviews_per_month</th>\n",
              "      <th>number_of_reviews</th>\n",
              "      <th>minimum_nights</th>\n",
              "      <th>instant_bookable</th>\n",
              "      <th>is_business_travel_ready</th>\n",
              "      <th>cancellation_policy</th>\n",
              "      <th>availability_365</th>\n",
              "    </tr>\n",
              "  </thead>\n",
              "  <tbody>\n",
              "    <tr>\n",
              "      <th>0</th>\n",
              "      <td>3</td>\n",
              "      <td>1.0</td>\n",
              "      <td>1.0</td>\n",
              "      <td>30.0</td>\n",
              "      <td>200.0</td>\n",
              "      <td>28.0</td>\n",
              "      <td>1</td>\n",
              "      <td>75.0</td>\n",
              "      <td>0</td>\n",
              "      <td>0</td>\n",
              "      <td>2015</td>\n",
              "      <td>1</td>\n",
              "      <td>2008-08-18</td>\n",
              "      <td>Brunnenstr. Süd</td>\n",
              "      <td>Mitte</td>\n",
              "      <td>1.0</td>\n",
              "      <td>Great location!  30 of 75 sq meters. This wood...</td>\n",
              "      <td>52.534537</td>\n",
              "      <td>13.402557</td>\n",
              "      <td>0</td>\n",
              "      <td>Guesthouse</td>\n",
              "      <td>Entire home/apt</td>\n",
              "      <td>Real Bed</td>\n",
              "      <td>{TV,\"Cable TV\",Wifi,Kitchen,Gym,Heating,\"Famil...</td>\n",
              "      <td>3.76</td>\n",
              "      <td>118</td>\n",
              "      <td>4</td>\n",
              "      <td>0</td>\n",
              "      <td>0</td>\n",
              "      <td>strict_14_with_grace_period</td>\n",
              "      <td>141</td>\n",
              "    </tr>\n",
              "    <tr>\n",
              "      <th>1</th>\n",
              "      <td>2</td>\n",
              "      <td>1.0</td>\n",
              "      <td>1.0</td>\n",
              "      <td>0.0</td>\n",
              "      <td>0.0</td>\n",
              "      <td>0.0</td>\n",
              "      <td>1</td>\n",
              "      <td>25.0</td>\n",
              "      <td>1</td>\n",
              "      <td>1</td>\n",
              "      <td>2695</td>\n",
              "      <td>1</td>\n",
              "      <td>2008-09-16</td>\n",
              "      <td>Prenzlauer Berg Nordwest</td>\n",
              "      <td>Pankow</td>\n",
              "      <td>0.0</td>\n",
              "      <td>In the summertime we are spending most of our ...</td>\n",
              "      <td>52.548513</td>\n",
              "      <td>13.404553</td>\n",
              "      <td>1</td>\n",
              "      <td>Apartment</td>\n",
              "      <td>Private room</td>\n",
              "      <td>Real Bed</td>\n",
              "      <td>{Wifi,Kitchen,Elevator,Heating,Washer,Essentia...</td>\n",
              "      <td>1.42</td>\n",
              "      <td>6</td>\n",
              "      <td>2</td>\n",
              "      <td>0</td>\n",
              "      <td>0</td>\n",
              "      <td>flexible</td>\n",
              "      <td>0</td>\n",
              "    </tr>\n",
              "    <tr>\n",
              "      <th>2</th>\n",
              "      <td>4</td>\n",
              "      <td>1.0</td>\n",
              "      <td>1.0</td>\n",
              "      <td>50.0</td>\n",
              "      <td>200.0</td>\n",
              "      <td>20.0</td>\n",
              "      <td>2</td>\n",
              "      <td>68.0</td>\n",
              "      <td>2</td>\n",
              "      <td>2</td>\n",
              "      <td>3176</td>\n",
              "      <td>1</td>\n",
              "      <td>2008-10-19</td>\n",
              "      <td>Prenzlauer Berg Südwest</td>\n",
              "      <td>Pankow</td>\n",
              "      <td>0.0</td>\n",
              "      <td>This beautiful first floor apartment  is situa...</td>\n",
              "      <td>52.534996</td>\n",
              "      <td>13.417579</td>\n",
              "      <td>1</td>\n",
              "      <td>Apartment</td>\n",
              "      <td>Entire home/apt</td>\n",
              "      <td>Real Bed</td>\n",
              "      <td>{Internet,Wifi,Kitchen,\"Buzzer/wireless interc...</td>\n",
              "      <td>1.25</td>\n",
              "      <td>143</td>\n",
              "      <td>62</td>\n",
              "      <td>1</td>\n",
              "      <td>0</td>\n",
              "      <td>strict_14_with_grace_period</td>\n",
              "      <td>220</td>\n",
              "    </tr>\n",
              "    <tr>\n",
              "      <th>3</th>\n",
              "      <td>2</td>\n",
              "      <td>1.0</td>\n",
              "      <td>1.0</td>\n",
              "      <td>30.0</td>\n",
              "      <td>250.0</td>\n",
              "      <td>18.0</td>\n",
              "      <td>1</td>\n",
              "      <td>26.0</td>\n",
              "      <td>3</td>\n",
              "      <td>3</td>\n",
              "      <td>3309</td>\n",
              "      <td>1</td>\n",
              "      <td>2008-11-07</td>\n",
              "      <td>Schöneberg-Nord</td>\n",
              "      <td>Tempelhof - Schöneberg</td>\n",
              "      <td>0.0</td>\n",
              "      <td>First of all: I prefer short-notice bookings. ...</td>\n",
              "      <td>52.498855</td>\n",
              "      <td>13.349065</td>\n",
              "      <td>1</td>\n",
              "      <td>Apartment</td>\n",
              "      <td>Private room</td>\n",
              "      <td>Pull-out Sofa</td>\n",
              "      <td>{Internet,Wifi,\"Pets allowed\",\"Pets live on th...</td>\n",
              "      <td>0.39</td>\n",
              "      <td>25</td>\n",
              "      <td>5</td>\n",
              "      <td>0</td>\n",
              "      <td>0</td>\n",
              "      <td>strict_14_with_grace_period</td>\n",
              "      <td>297</td>\n",
              "    </tr>\n",
              "    <tr>\n",
              "      <th>4</th>\n",
              "      <td>2</td>\n",
              "      <td>1.0</td>\n",
              "      <td>1.0</td>\n",
              "      <td>0.0</td>\n",
              "      <td>0.0</td>\n",
              "      <td>24.0</td>\n",
              "      <td>1</td>\n",
              "      <td>20.0</td>\n",
              "      <td>4</td>\n",
              "      <td>4</td>\n",
              "      <td>7071</td>\n",
              "      <td>1</td>\n",
              "      <td>2009-05-16</td>\n",
              "      <td>Helmholtzplatz</td>\n",
              "      <td>Pankow</td>\n",
              "      <td>1.0</td>\n",
              "      <td>Cozy and large room in the beautiful district ...</td>\n",
              "      <td>52.543157</td>\n",
              "      <td>13.415091</td>\n",
              "      <td>1</td>\n",
              "      <td>Apartment</td>\n",
              "      <td>Private room</td>\n",
              "      <td>Real Bed</td>\n",
              "      <td>{Wifi,Heating,\"Family/kid friendly\",Essentials...</td>\n",
              "      <td>1.75</td>\n",
              "      <td>197</td>\n",
              "      <td>2</td>\n",
              "      <td>0</td>\n",
              "      <td>0</td>\n",
              "      <td>moderate</td>\n",
              "      <td>26</td>\n",
              "    </tr>\n",
              "  </tbody>\n",
              "</table>\n",
              "</div>\n",
              "      <button class=\"colab-df-convert\" onclick=\"convertToInteractive('df-a6b2ac36-63b6-4c1d-8407-312be893c02f')\"\n",
              "              title=\"Convert this dataframe to an interactive table.\"\n",
              "              style=\"display:none;\">\n",
              "        \n",
              "  <svg xmlns=\"http://www.w3.org/2000/svg\" height=\"24px\"viewBox=\"0 0 24 24\"\n",
              "       width=\"24px\">\n",
              "    <path d=\"M0 0h24v24H0V0z\" fill=\"none\"/>\n",
              "    <path d=\"M18.56 5.44l.94 2.06.94-2.06 2.06-.94-2.06-.94-.94-2.06-.94 2.06-2.06.94zm-11 1L8.5 8.5l.94-2.06 2.06-.94-2.06-.94L8.5 2.5l-.94 2.06-2.06.94zm10 10l.94 2.06.94-2.06 2.06-.94-2.06-.94-.94-2.06-.94 2.06-2.06.94z\"/><path d=\"M17.41 7.96l-1.37-1.37c-.4-.4-.92-.59-1.43-.59-.52 0-1.04.2-1.43.59L10.3 9.45l-7.72 7.72c-.78.78-.78 2.05 0 2.83L4 21.41c.39.39.9.59 1.41.59.51 0 1.02-.2 1.41-.59l7.78-7.78 2.81-2.81c.8-.78.8-2.07 0-2.86zM5.41 20L4 18.59l7.72-7.72 1.47 1.35L5.41 20z\"/>\n",
              "  </svg>\n",
              "      </button>\n",
              "      \n",
              "  <style>\n",
              "    .colab-df-container {\n",
              "      display:flex;\n",
              "      flex-wrap:wrap;\n",
              "      gap: 12px;\n",
              "    }\n",
              "\n",
              "    .colab-df-convert {\n",
              "      background-color: #E8F0FE;\n",
              "      border: none;\n",
              "      border-radius: 50%;\n",
              "      cursor: pointer;\n",
              "      display: none;\n",
              "      fill: #1967D2;\n",
              "      height: 32px;\n",
              "      padding: 0 0 0 0;\n",
              "      width: 32px;\n",
              "    }\n",
              "\n",
              "    .colab-df-convert:hover {\n",
              "      background-color: #E2EBFA;\n",
              "      box-shadow: 0px 1px 2px rgba(60, 64, 67, 0.3), 0px 1px 3px 1px rgba(60, 64, 67, 0.15);\n",
              "      fill: #174EA6;\n",
              "    }\n",
              "\n",
              "    [theme=dark] .colab-df-convert {\n",
              "      background-color: #3B4455;\n",
              "      fill: #D2E3FC;\n",
              "    }\n",
              "\n",
              "    [theme=dark] .colab-df-convert:hover {\n",
              "      background-color: #434B5C;\n",
              "      box-shadow: 0px 1px 3px 1px rgba(0, 0, 0, 0.15);\n",
              "      filter: drop-shadow(0px 1px 2px rgba(0, 0, 0, 0.3));\n",
              "      fill: #FFFFFF;\n",
              "    }\n",
              "  </style>\n",
              "\n",
              "      <script>\n",
              "        const buttonEl =\n",
              "          document.querySelector('#df-a6b2ac36-63b6-4c1d-8407-312be893c02f button.colab-df-convert');\n",
              "        buttonEl.style.display =\n",
              "          google.colab.kernel.accessAllowed ? 'block' : 'none';\n",
              "\n",
              "        async function convertToInteractive(key) {\n",
              "          const element = document.querySelector('#df-a6b2ac36-63b6-4c1d-8407-312be893c02f');\n",
              "          const dataTable =\n",
              "            await google.colab.kernel.invokeFunction('convertToInteractive',\n",
              "                                                     [key], {});\n",
              "          if (!dataTable) return;\n",
              "\n",
              "          const docLinkHtml = 'Like what you see? Visit the ' +\n",
              "            '<a target=\"_blank\" href=https://colab.research.google.com/notebooks/data_table.ipynb>data table notebook</a>'\n",
              "            + ' to learn more about interactive tables.';\n",
              "          element.innerHTML = '';\n",
              "          dataTable['output_type'] = 'display_data';\n",
              "          await google.colab.output.renderOutput(dataTable, element);\n",
              "          const docLink = document.createElement('div');\n",
              "          docLink.innerHTML = docLinkHtml;\n",
              "          element.appendChild(docLink);\n",
              "        }\n",
              "      </script>\n",
              "    </div>\n",
              "  </div>\n",
              "  "
            ]
          },
          "metadata": {},
          "execution_count": 71
        }
      ],
      "source": [
        "df.head()"
      ]
    },
    {
      "cell_type": "code",
      "execution_count": null,
      "metadata": {
        "id": "pCZVd0LNttz3"
      },
      "outputs": [],
      "source": [
        "dropped = ['index','id','level_0','description']\n",
        "df.drop(dropped,axis=1,inplace=True)\n"
      ]
    },
    {
      "cell_type": "code",
      "source": [
        "df.columns"
      ],
      "metadata": {
        "colab": {
          "base_uri": "https://localhost:8080/"
        },
        "id": "BbPtMu15ZtkI",
        "outputId": "6d263372-1288-4ffb-9d7b-f6164c698d8b"
      },
      "execution_count": null,
      "outputs": [
        {
          "output_type": "execute_result",
          "data": {
            "text/plain": [
              "Index(['accommodates', 'bathrooms', 'bedrooms', 'cleaning_fee',\n",
              "       'security_deposit', 'extra_people', 'guests_included', 'size',\n",
              "       'host_has_profile_pic', 'host_since', 'neighbourhood_cleansed',\n",
              "       'neighbourhood_group_cleansed', 'host_is_superhost', 'latitude',\n",
              "       'longitude', 'is_location_exact', 'property_type', 'room_type',\n",
              "       'bed_type', 'amenities', 'reviews_per_month', 'number_of_reviews',\n",
              "       'minimum_nights', 'instant_bookable', 'is_business_travel_ready',\n",
              "       'cancellation_policy', 'availability_365'],\n",
              "      dtype='object')"
            ]
          },
          "metadata": {},
          "execution_count": 73
        }
      ]
    },
    {
      "cell_type": "markdown",
      "metadata": {
        "id": "ujQhHNVTttz3"
      },
      "source": [
        "# Data processing"
      ]
    },
    {
      "cell_type": "code",
      "source": [
        "df.amenities"
      ],
      "metadata": {
        "colab": {
          "base_uri": "https://localhost:8080/"
        },
        "id": "z0P861nvaZKK",
        "outputId": "5dd578d6-f720-4d24-f4d4-fea399199fc5"
      },
      "execution_count": null,
      "outputs": [
        {
          "output_type": "execute_result",
          "data": {
            "text/plain": [
              "0        {TV,\"Cable TV\",Wifi,Kitchen,Gym,Heating,\"Famil...\n",
              "1        {Wifi,Kitchen,Elevator,Heating,Washer,Essentia...\n",
              "2        {Internet,Wifi,Kitchen,\"Buzzer/wireless interc...\n",
              "3        {Internet,Wifi,\"Pets allowed\",\"Pets live on th...\n",
              "4        {Wifi,Heating,\"Family/kid friendly\",Essentials...\n",
              "                               ...                        \n",
              "22513    {Wifi,\"Smoking allowed\",Heating,Essentials,Sha...\n",
              "22514    {TV,Wifi,Kitchen,\"Free parking on premises\",\"F...\n",
              "22515    {Wifi,Kitchen,Heating,Washer,\"Fire extinguishe...\n",
              "22516    {Wifi,\"Paid parking off premises\",Doorman,Elev...\n",
              "22517    {Wifi,\"Air conditioning\",Kitchen,Breakfast,Hea...\n",
              "Name: amenities, Length: 22518, dtype: object"
            ]
          },
          "metadata": {},
          "execution_count": 131
        }
      ]
    },
    {
      "cell_type": "code",
      "execution_count": null,
      "metadata": {
        "colab": {
          "base_uri": "https://localhost:8080/"
        },
        "id": "8Uo4dl-vttz3",
        "outputId": "70226382-c5e4-40ac-96dc-1e3c160dd0f6"
      },
      "outputs": [
        {
          "output_type": "stream",
          "name": "stderr",
          "text": [
            "100%|██████████| 22518/22518 [00:07<00:00, 3073.20it/s]\n"
          ]
        }
      ],
      "source": [
        "for i in tqdm(range(len(df))):\n",
        "    df.loc[i,'No_of_amentities'] = len(df.loc[i,'amenities'].split(','))"
      ]
    },
    {
      "cell_type": "code",
      "execution_count": null,
      "metadata": {
        "id": "Pzpyr1PMttz3"
      },
      "outputs": [],
      "source": [
        "df['Laptop_friendly_workspace'] = df['amenities'].str.contains('Laptop friendly workspace')\n",
        "df['TV'] = df['amenities'].str.contains('TV')\n",
        "df['Family_kid_friendly'] = df['amenities'].str.contains('Family/kid friendly')\n",
        "df['Host_greets_you'] = df['amenities'].str.contains('Host greets you')\n",
        "df['Smoking_allowed'] = df['amenities'].str.contains('Smoking allowed')\n",
        "df['Hot_water'] = df['amenities'].str.contains('Hot water')\n",
        "df['Fridge'] = df['amenities'].str.contains('Refrigerator')\n"
      ]
    },
    {
      "cell_type": "code",
      "execution_count": null,
      "metadata": {
        "colab": {
          "base_uri": "https://localhost:8080/",
          "height": 356
        },
        "id": "7RCMK2h3ttz3",
        "outputId": "a23be28c-f3bb-4862-b6bb-d0aa0d8b4d08"
      },
      "outputs": [
        {
          "output_type": "execute_result",
          "data": {
            "text/plain": [
              "   accommodates  bathrooms  bedrooms  cleaning_fee  security_deposit  \\\n",
              "0             3        1.0       1.0          30.0             200.0   \n",
              "1             2        1.0       1.0           0.0               0.0   \n",
              "2             4        1.0       1.0          50.0             200.0   \n",
              "3             2        1.0       1.0          30.0             250.0   \n",
              "4             2        1.0       1.0           0.0               0.0   \n",
              "\n",
              "   extra_people  guests_included  size  host_has_profile_pic  host_since  \\\n",
              "0          28.0                1  75.0                     1  2008-08-18   \n",
              "1           0.0                1  25.0                     1  2008-09-16   \n",
              "2          20.0                2  68.0                     1  2008-10-19   \n",
              "3          18.0                1  26.0                     1  2008-11-07   \n",
              "4          24.0                1  20.0                     1  2009-05-16   \n",
              "\n",
              "     neighbourhood_cleansed neighbourhood_group_cleansed  host_is_superhost  \\\n",
              "0           Brunnenstr. Süd                        Mitte                1.0   \n",
              "1  Prenzlauer Berg Nordwest                       Pankow                0.0   \n",
              "2   Prenzlauer Berg Südwest                       Pankow                0.0   \n",
              "3           Schöneberg-Nord       Tempelhof - Schöneberg                0.0   \n",
              "4            Helmholtzplatz                       Pankow                1.0   \n",
              "\n",
              "    latitude  longitude  is_location_exact property_type        room_type  \\\n",
              "0  52.534537  13.402557                  0    Guesthouse  Entire home/apt   \n",
              "1  52.548513  13.404553                  1     Apartment     Private room   \n",
              "2  52.534996  13.417579                  1     Apartment  Entire home/apt   \n",
              "3  52.498855  13.349065                  1     Apartment     Private room   \n",
              "4  52.543157  13.415091                  1     Apartment     Private room   \n",
              "\n",
              "        bed_type                                          amenities     price  \\\n",
              "0       Real Bed  {TV,\"Cable TV\",Wifi,Kitchen,Gym,Heating,\"Famil...  4.110874   \n",
              "1       Real Bed  {Wifi,Kitchen,Elevator,Heating,Washer,Essentia...  2.890372   \n",
              "2       Real Bed  {Internet,Wifi,Kitchen,\"Buzzer/wireless interc...  4.510860   \n",
              "3  Pull-out Sofa  {Internet,Wifi,\"Pets allowed\",\"Pets live on th...  3.295837   \n",
              "4       Real Bed  {Wifi,Heating,\"Family/kid friendly\",Essentials...  3.761200   \n",
              "\n",
              "   reviews_per_month  number_of_reviews  minimum_nights  instant_bookable  \\\n",
              "0               3.76                118               4                 0   \n",
              "1               1.42                  6               2                 0   \n",
              "2               1.25                143              62                 1   \n",
              "3               0.39                 25               5                 0   \n",
              "4               1.75                197               2                 0   \n",
              "\n",
              "   is_business_travel_ready          cancellation_policy  availability_365  \\\n",
              "0                         0  strict_14_with_grace_period               141   \n",
              "1                         0                     flexible                 0   \n",
              "2                         0  strict_14_with_grace_period               220   \n",
              "3                         0  strict_14_with_grace_period               297   \n",
              "4                         0                     moderate                26   \n",
              "\n",
              "   No_of_amentities  Laptop_friendly_workspace     TV  Family_kid_friendly  \\\n",
              "0              29.0                       True   True                 True   \n",
              "1              10.0                       True  False                False   \n",
              "2              19.0                       True  False                 True   \n",
              "3              29.0                       True  False                False   \n",
              "4              13.0                       True  False                 True   \n",
              "\n",
              "   Host_greets_you  Smoking_allowed  Hot_water  Fridge  \n",
              "0            False            False       True    True  \n",
              "1            False            False      False   False  \n",
              "2            False            False      False   False  \n",
              "3             True            False       True   False  \n",
              "4            False            False       True   False  "
            ],
            "text/html": [
              "\n",
              "  <div id=\"df-2aa2443c-8e66-4173-b22a-eb283e5014ca\">\n",
              "    <div class=\"colab-df-container\">\n",
              "      <div>\n",
              "<style scoped>\n",
              "    .dataframe tbody tr th:only-of-type {\n",
              "        vertical-align: middle;\n",
              "    }\n",
              "\n",
              "    .dataframe tbody tr th {\n",
              "        vertical-align: top;\n",
              "    }\n",
              "\n",
              "    .dataframe thead th {\n",
              "        text-align: right;\n",
              "    }\n",
              "</style>\n",
              "<table border=\"1\" class=\"dataframe\">\n",
              "  <thead>\n",
              "    <tr style=\"text-align: right;\">\n",
              "      <th></th>\n",
              "      <th>accommodates</th>\n",
              "      <th>bathrooms</th>\n",
              "      <th>bedrooms</th>\n",
              "      <th>cleaning_fee</th>\n",
              "      <th>security_deposit</th>\n",
              "      <th>extra_people</th>\n",
              "      <th>guests_included</th>\n",
              "      <th>size</th>\n",
              "      <th>host_has_profile_pic</th>\n",
              "      <th>host_since</th>\n",
              "      <th>neighbourhood_cleansed</th>\n",
              "      <th>neighbourhood_group_cleansed</th>\n",
              "      <th>host_is_superhost</th>\n",
              "      <th>latitude</th>\n",
              "      <th>longitude</th>\n",
              "      <th>is_location_exact</th>\n",
              "      <th>property_type</th>\n",
              "      <th>room_type</th>\n",
              "      <th>bed_type</th>\n",
              "      <th>amenities</th>\n",
              "      <th>price</th>\n",
              "      <th>reviews_per_month</th>\n",
              "      <th>number_of_reviews</th>\n",
              "      <th>minimum_nights</th>\n",
              "      <th>instant_bookable</th>\n",
              "      <th>is_business_travel_ready</th>\n",
              "      <th>cancellation_policy</th>\n",
              "      <th>availability_365</th>\n",
              "      <th>No_of_amentities</th>\n",
              "      <th>Laptop_friendly_workspace</th>\n",
              "      <th>TV</th>\n",
              "      <th>Family_kid_friendly</th>\n",
              "      <th>Host_greets_you</th>\n",
              "      <th>Smoking_allowed</th>\n",
              "      <th>Hot_water</th>\n",
              "      <th>Fridge</th>\n",
              "    </tr>\n",
              "  </thead>\n",
              "  <tbody>\n",
              "    <tr>\n",
              "      <th>0</th>\n",
              "      <td>3</td>\n",
              "      <td>1.0</td>\n",
              "      <td>1.0</td>\n",
              "      <td>30.0</td>\n",
              "      <td>200.0</td>\n",
              "      <td>28.0</td>\n",
              "      <td>1</td>\n",
              "      <td>75.0</td>\n",
              "      <td>1</td>\n",
              "      <td>2008-08-18</td>\n",
              "      <td>Brunnenstr. Süd</td>\n",
              "      <td>Mitte</td>\n",
              "      <td>1.0</td>\n",
              "      <td>52.534537</td>\n",
              "      <td>13.402557</td>\n",
              "      <td>0</td>\n",
              "      <td>Guesthouse</td>\n",
              "      <td>Entire home/apt</td>\n",
              "      <td>Real Bed</td>\n",
              "      <td>{TV,\"Cable TV\",Wifi,Kitchen,Gym,Heating,\"Famil...</td>\n",
              "      <td>4.110874</td>\n",
              "      <td>3.76</td>\n",
              "      <td>118</td>\n",
              "      <td>4</td>\n",
              "      <td>0</td>\n",
              "      <td>0</td>\n",
              "      <td>strict_14_with_grace_period</td>\n",
              "      <td>141</td>\n",
              "      <td>29.0</td>\n",
              "      <td>True</td>\n",
              "      <td>True</td>\n",
              "      <td>True</td>\n",
              "      <td>False</td>\n",
              "      <td>False</td>\n",
              "      <td>True</td>\n",
              "      <td>True</td>\n",
              "    </tr>\n",
              "    <tr>\n",
              "      <th>1</th>\n",
              "      <td>2</td>\n",
              "      <td>1.0</td>\n",
              "      <td>1.0</td>\n",
              "      <td>0.0</td>\n",
              "      <td>0.0</td>\n",
              "      <td>0.0</td>\n",
              "      <td>1</td>\n",
              "      <td>25.0</td>\n",
              "      <td>1</td>\n",
              "      <td>2008-09-16</td>\n",
              "      <td>Prenzlauer Berg Nordwest</td>\n",
              "      <td>Pankow</td>\n",
              "      <td>0.0</td>\n",
              "      <td>52.548513</td>\n",
              "      <td>13.404553</td>\n",
              "      <td>1</td>\n",
              "      <td>Apartment</td>\n",
              "      <td>Private room</td>\n",
              "      <td>Real Bed</td>\n",
              "      <td>{Wifi,Kitchen,Elevator,Heating,Washer,Essentia...</td>\n",
              "      <td>2.890372</td>\n",
              "      <td>1.42</td>\n",
              "      <td>6</td>\n",
              "      <td>2</td>\n",
              "      <td>0</td>\n",
              "      <td>0</td>\n",
              "      <td>flexible</td>\n",
              "      <td>0</td>\n",
              "      <td>10.0</td>\n",
              "      <td>True</td>\n",
              "      <td>False</td>\n",
              "      <td>False</td>\n",
              "      <td>False</td>\n",
              "      <td>False</td>\n",
              "      <td>False</td>\n",
              "      <td>False</td>\n",
              "    </tr>\n",
              "    <tr>\n",
              "      <th>2</th>\n",
              "      <td>4</td>\n",
              "      <td>1.0</td>\n",
              "      <td>1.0</td>\n",
              "      <td>50.0</td>\n",
              "      <td>200.0</td>\n",
              "      <td>20.0</td>\n",
              "      <td>2</td>\n",
              "      <td>68.0</td>\n",
              "      <td>1</td>\n",
              "      <td>2008-10-19</td>\n",
              "      <td>Prenzlauer Berg Südwest</td>\n",
              "      <td>Pankow</td>\n",
              "      <td>0.0</td>\n",
              "      <td>52.534996</td>\n",
              "      <td>13.417579</td>\n",
              "      <td>1</td>\n",
              "      <td>Apartment</td>\n",
              "      <td>Entire home/apt</td>\n",
              "      <td>Real Bed</td>\n",
              "      <td>{Internet,Wifi,Kitchen,\"Buzzer/wireless interc...</td>\n",
              "      <td>4.510860</td>\n",
              "      <td>1.25</td>\n",
              "      <td>143</td>\n",
              "      <td>62</td>\n",
              "      <td>1</td>\n",
              "      <td>0</td>\n",
              "      <td>strict_14_with_grace_period</td>\n",
              "      <td>220</td>\n",
              "      <td>19.0</td>\n",
              "      <td>True</td>\n",
              "      <td>False</td>\n",
              "      <td>True</td>\n",
              "      <td>False</td>\n",
              "      <td>False</td>\n",
              "      <td>False</td>\n",
              "      <td>False</td>\n",
              "    </tr>\n",
              "    <tr>\n",
              "      <th>3</th>\n",
              "      <td>2</td>\n",
              "      <td>1.0</td>\n",
              "      <td>1.0</td>\n",
              "      <td>30.0</td>\n",
              "      <td>250.0</td>\n",
              "      <td>18.0</td>\n",
              "      <td>1</td>\n",
              "      <td>26.0</td>\n",
              "      <td>1</td>\n",
              "      <td>2008-11-07</td>\n",
              "      <td>Schöneberg-Nord</td>\n",
              "      <td>Tempelhof - Schöneberg</td>\n",
              "      <td>0.0</td>\n",
              "      <td>52.498855</td>\n",
              "      <td>13.349065</td>\n",
              "      <td>1</td>\n",
              "      <td>Apartment</td>\n",
              "      <td>Private room</td>\n",
              "      <td>Pull-out Sofa</td>\n",
              "      <td>{Internet,Wifi,\"Pets allowed\",\"Pets live on th...</td>\n",
              "      <td>3.295837</td>\n",
              "      <td>0.39</td>\n",
              "      <td>25</td>\n",
              "      <td>5</td>\n",
              "      <td>0</td>\n",
              "      <td>0</td>\n",
              "      <td>strict_14_with_grace_period</td>\n",
              "      <td>297</td>\n",
              "      <td>29.0</td>\n",
              "      <td>True</td>\n",
              "      <td>False</td>\n",
              "      <td>False</td>\n",
              "      <td>True</td>\n",
              "      <td>False</td>\n",
              "      <td>True</td>\n",
              "      <td>False</td>\n",
              "    </tr>\n",
              "    <tr>\n",
              "      <th>4</th>\n",
              "      <td>2</td>\n",
              "      <td>1.0</td>\n",
              "      <td>1.0</td>\n",
              "      <td>0.0</td>\n",
              "      <td>0.0</td>\n",
              "      <td>24.0</td>\n",
              "      <td>1</td>\n",
              "      <td>20.0</td>\n",
              "      <td>1</td>\n",
              "      <td>2009-05-16</td>\n",
              "      <td>Helmholtzplatz</td>\n",
              "      <td>Pankow</td>\n",
              "      <td>1.0</td>\n",
              "      <td>52.543157</td>\n",
              "      <td>13.415091</td>\n",
              "      <td>1</td>\n",
              "      <td>Apartment</td>\n",
              "      <td>Private room</td>\n",
              "      <td>Real Bed</td>\n",
              "      <td>{Wifi,Heating,\"Family/kid friendly\",Essentials...</td>\n",
              "      <td>3.761200</td>\n",
              "      <td>1.75</td>\n",
              "      <td>197</td>\n",
              "      <td>2</td>\n",
              "      <td>0</td>\n",
              "      <td>0</td>\n",
              "      <td>moderate</td>\n",
              "      <td>26</td>\n",
              "      <td>13.0</td>\n",
              "      <td>True</td>\n",
              "      <td>False</td>\n",
              "      <td>True</td>\n",
              "      <td>False</td>\n",
              "      <td>False</td>\n",
              "      <td>True</td>\n",
              "      <td>False</td>\n",
              "    </tr>\n",
              "  </tbody>\n",
              "</table>\n",
              "</div>\n",
              "      <button class=\"colab-df-convert\" onclick=\"convertToInteractive('df-2aa2443c-8e66-4173-b22a-eb283e5014ca')\"\n",
              "              title=\"Convert this dataframe to an interactive table.\"\n",
              "              style=\"display:none;\">\n",
              "        \n",
              "  <svg xmlns=\"http://www.w3.org/2000/svg\" height=\"24px\"viewBox=\"0 0 24 24\"\n",
              "       width=\"24px\">\n",
              "    <path d=\"M0 0h24v24H0V0z\" fill=\"none\"/>\n",
              "    <path d=\"M18.56 5.44l.94 2.06.94-2.06 2.06-.94-2.06-.94-.94-2.06-.94 2.06-2.06.94zm-11 1L8.5 8.5l.94-2.06 2.06-.94-2.06-.94L8.5 2.5l-.94 2.06-2.06.94zm10 10l.94 2.06.94-2.06 2.06-.94-2.06-.94-.94-2.06-.94 2.06-2.06.94z\"/><path d=\"M17.41 7.96l-1.37-1.37c-.4-.4-.92-.59-1.43-.59-.52 0-1.04.2-1.43.59L10.3 9.45l-7.72 7.72c-.78.78-.78 2.05 0 2.83L4 21.41c.39.39.9.59 1.41.59.51 0 1.02-.2 1.41-.59l7.78-7.78 2.81-2.81c.8-.78.8-2.07 0-2.86zM5.41 20L4 18.59l7.72-7.72 1.47 1.35L5.41 20z\"/>\n",
              "  </svg>\n",
              "      </button>\n",
              "      \n",
              "  <style>\n",
              "    .colab-df-container {\n",
              "      display:flex;\n",
              "      flex-wrap:wrap;\n",
              "      gap: 12px;\n",
              "    }\n",
              "\n",
              "    .colab-df-convert {\n",
              "      background-color: #E8F0FE;\n",
              "      border: none;\n",
              "      border-radius: 50%;\n",
              "      cursor: pointer;\n",
              "      display: none;\n",
              "      fill: #1967D2;\n",
              "      height: 32px;\n",
              "      padding: 0 0 0 0;\n",
              "      width: 32px;\n",
              "    }\n",
              "\n",
              "    .colab-df-convert:hover {\n",
              "      background-color: #E2EBFA;\n",
              "      box-shadow: 0px 1px 2px rgba(60, 64, 67, 0.3), 0px 1px 3px 1px rgba(60, 64, 67, 0.15);\n",
              "      fill: #174EA6;\n",
              "    }\n",
              "\n",
              "    [theme=dark] .colab-df-convert {\n",
              "      background-color: #3B4455;\n",
              "      fill: #D2E3FC;\n",
              "    }\n",
              "\n",
              "    [theme=dark] .colab-df-convert:hover {\n",
              "      background-color: #434B5C;\n",
              "      box-shadow: 0px 1px 3px 1px rgba(0, 0, 0, 0.15);\n",
              "      filter: drop-shadow(0px 1px 2px rgba(0, 0, 0, 0.3));\n",
              "      fill: #FFFFFF;\n",
              "    }\n",
              "  </style>\n",
              "\n",
              "      <script>\n",
              "        const buttonEl =\n",
              "          document.querySelector('#df-2aa2443c-8e66-4173-b22a-eb283e5014ca button.colab-df-convert');\n",
              "        buttonEl.style.display =\n",
              "          google.colab.kernel.accessAllowed ? 'block' : 'none';\n",
              "\n",
              "        async function convertToInteractive(key) {\n",
              "          const element = document.querySelector('#df-2aa2443c-8e66-4173-b22a-eb283e5014ca');\n",
              "          const dataTable =\n",
              "            await google.colab.kernel.invokeFunction('convertToInteractive',\n",
              "                                                     [key], {});\n",
              "          if (!dataTable) return;\n",
              "\n",
              "          const docLinkHtml = 'Like what you see? Visit the ' +\n",
              "            '<a target=\"_blank\" href=https://colab.research.google.com/notebooks/data_table.ipynb>data table notebook</a>'\n",
              "            + ' to learn more about interactive tables.';\n",
              "          element.innerHTML = '';\n",
              "          dataTable['output_type'] = 'display_data';\n",
              "          await google.colab.output.renderOutput(dataTable, element);\n",
              "          const docLink = document.createElement('div');\n",
              "          docLink.innerHTML = docLinkHtml;\n",
              "          element.appendChild(docLink);\n",
              "        }\n",
              "      </script>\n",
              "    </div>\n",
              "  </div>\n",
              "  "
            ]
          },
          "metadata": {},
          "execution_count": 134
        }
      ],
      "source": [
        "df.head()"
      ]
    },
    {
      "cell_type": "code",
      "execution_count": null,
      "metadata": {
        "id": "37JMb3obttz4"
      },
      "outputs": [],
      "source": [
        "dropped = ['amenities']\n",
        "df.drop(dropped,axis=1,inplace=True)"
      ]
    },
    {
      "cell_type": "code",
      "execution_count": null,
      "metadata": {
        "id": "fxxv2NhHttz4"
      },
      "outputs": [],
      "source": [
        "category = ['neighbourhood_cleansed','neighbourhood_group_cleansed','property_type','room_type',\n",
        "           'bed_type','cancellation_policy']\n",
        "\n",
        "for i in category:\n",
        "    df[i] = df[i].astype('category')\n",
        "\n"
      ]
    },
    {
      "cell_type": "code",
      "execution_count": null,
      "metadata": {
        "id": "lr_bnp_Sttz4"
      },
      "outputs": [],
      "source": [
        "# for i in category:\n",
        "#     df[i] = df[i].cat.codes\n",
        "\n",
        "# # df['room_type'] = df['room_type'].cat.codes\n",
        "# # df['neighbourhood'] = df['neighbourhood'].cat.codes\n",
        "# # df['neighbourhood_group'] = df['neighbourhood_group'].cat.codes"
      ]
    },
    {
      "cell_type": "markdown",
      "metadata": {
        "id": "k6JqeXP2ttz4"
      },
      "source": [
        "# Feature Engineering"
      ]
    },
    {
      "cell_type": "markdown",
      "metadata": {
        "id": "FyiCPF-Ettz4"
      },
      "source": [
        "### Duration"
      ]
    },
    {
      "cell_type": "code",
      "source": [
        "df.host_since.isnull().sum()\n",
        "df.host_since.value_counts()"
      ],
      "metadata": {
        "colab": {
          "base_uri": "https://localhost:8080/"
        },
        "id": "TXpuK8MWd9IO",
        "outputId": "34dc725e-4f7a-452a-f315-0ac9815ce37d"
      },
      "execution_count": null,
      "outputs": [
        {
          "output_type": "execute_result",
          "data": {
            "text/plain": [
              "4.756164     51\n",
              "8.265753     51\n",
              "6.482192     41\n",
              "5.841096     34\n",
              "5.761644     34\n",
              "             ..\n",
              "10.945205     1\n",
              "11.049315     1\n",
              "13.191781     1\n",
              "10.153425     1\n",
              "3.046575      1\n",
              "Name: host_since, Length: 2914, dtype: int64"
            ]
          },
          "metadata": {},
          "execution_count": 157
        }
      ]
    },
    {
      "cell_type": "code",
      "execution_count": null,
      "metadata": {
        "id": "BgoTkCfbttz5"
      },
      "outputs": [],
      "source": [
        "from dateutil import parser\n",
        "\n",
        "def diff_date(row):\n",
        "    today = parser.parse('2021-11-22')\n",
        "    return ((today - parser.parse(row['host_since'])).days)/365\n"
      ]
    },
    {
      "cell_type": "code",
      "execution_count": null,
      "metadata": {
        "colab": {
          "base_uri": "https://localhost:8080/",
          "height": 343
        },
        "id": "E2qSkS_qttz5",
        "outputId": "62eb07a8-3117-4fc1-e83c-680c798b7897"
      },
      "outputs": [
        {
          "output_type": "error",
          "ename": "TypeError",
          "evalue": "ignored",
          "traceback": [
            "\u001b[0;31m---------------------------------------------------------------------------\u001b[0m",
            "\u001b[0;31mTypeError\u001b[0m                                 Traceback (most recent call last)",
            "\u001b[0;32m<ipython-input-159-4ac9134a4721>\u001b[0m in \u001b[0;36m<module>\u001b[0;34m()\u001b[0m\n\u001b[0;32m----> 1\u001b[0;31m \u001b[0mdf\u001b[0m\u001b[0;34m[\u001b[0m\u001b[0;34m'host_since'\u001b[0m\u001b[0;34m]\u001b[0m \u001b[0;34m=\u001b[0m \u001b[0mdf\u001b[0m\u001b[0;34m.\u001b[0m\u001b[0mapply\u001b[0m\u001b[0;34m(\u001b[0m\u001b[0mdiff_date\u001b[0m\u001b[0;34m,\u001b[0m\u001b[0maxis\u001b[0m\u001b[0;34m=\u001b[0m\u001b[0;36m1\u001b[0m\u001b[0;34m)\u001b[0m   \u001b[0;31m# .apply is used to apply something on the entire dataset\u001b[0m\u001b[0;34m\u001b[0m\u001b[0;34m\u001b[0m\u001b[0m\n\u001b[0m\u001b[1;32m      2\u001b[0m \u001b[0mdf\u001b[0m\u001b[0;34m[\u001b[0m\u001b[0;34m'host_since'\u001b[0m\u001b[0;34m]\u001b[0m\u001b[0;34m.\u001b[0m\u001b[0mdescribe\u001b[0m\u001b[0;34m(\u001b[0m\u001b[0;34m)\u001b[0m\u001b[0;34m\u001b[0m\u001b[0;34m\u001b[0m\u001b[0m\n",
            "\u001b[0;32m/usr/local/lib/python3.7/dist-packages/pandas/core/frame.py\u001b[0m in \u001b[0;36mapply\u001b[0;34m(self, func, axis, raw, result_type, args, **kwargs)\u001b[0m\n\u001b[1;32m   8738\u001b[0m             \u001b[0mkwargs\u001b[0m\u001b[0;34m=\u001b[0m\u001b[0mkwargs\u001b[0m\u001b[0;34m,\u001b[0m\u001b[0;34m\u001b[0m\u001b[0;34m\u001b[0m\u001b[0m\n\u001b[1;32m   8739\u001b[0m         )\n\u001b[0;32m-> 8740\u001b[0;31m         \u001b[0;32mreturn\u001b[0m \u001b[0mop\u001b[0m\u001b[0;34m.\u001b[0m\u001b[0mapply\u001b[0m\u001b[0;34m(\u001b[0m\u001b[0;34m)\u001b[0m\u001b[0;34m\u001b[0m\u001b[0;34m\u001b[0m\u001b[0m\n\u001b[0m\u001b[1;32m   8741\u001b[0m \u001b[0;34m\u001b[0m\u001b[0m\n\u001b[1;32m   8742\u001b[0m     def applymap(\n",
            "\u001b[0;32m/usr/local/lib/python3.7/dist-packages/pandas/core/apply.py\u001b[0m in \u001b[0;36mapply\u001b[0;34m(self)\u001b[0m\n\u001b[1;32m    686\u001b[0m             \u001b[0;32mreturn\u001b[0m \u001b[0mself\u001b[0m\u001b[0;34m.\u001b[0m\u001b[0mapply_raw\u001b[0m\u001b[0;34m(\u001b[0m\u001b[0;34m)\u001b[0m\u001b[0;34m\u001b[0m\u001b[0;34m\u001b[0m\u001b[0m\n\u001b[1;32m    687\u001b[0m \u001b[0;34m\u001b[0m\u001b[0m\n\u001b[0;32m--> 688\u001b[0;31m         \u001b[0;32mreturn\u001b[0m \u001b[0mself\u001b[0m\u001b[0;34m.\u001b[0m\u001b[0mapply_standard\u001b[0m\u001b[0;34m(\u001b[0m\u001b[0;34m)\u001b[0m\u001b[0;34m\u001b[0m\u001b[0;34m\u001b[0m\u001b[0m\n\u001b[0m\u001b[1;32m    689\u001b[0m \u001b[0;34m\u001b[0m\u001b[0m\n\u001b[1;32m    690\u001b[0m     \u001b[0;32mdef\u001b[0m \u001b[0magg\u001b[0m\u001b[0;34m(\u001b[0m\u001b[0mself\u001b[0m\u001b[0;34m)\u001b[0m\u001b[0;34m:\u001b[0m\u001b[0;34m\u001b[0m\u001b[0;34m\u001b[0m\u001b[0m\n",
            "\u001b[0;32m/usr/local/lib/python3.7/dist-packages/pandas/core/apply.py\u001b[0m in \u001b[0;36mapply_standard\u001b[0;34m(self)\u001b[0m\n\u001b[1;32m    810\u001b[0m \u001b[0;34m\u001b[0m\u001b[0m\n\u001b[1;32m    811\u001b[0m     \u001b[0;32mdef\u001b[0m \u001b[0mapply_standard\u001b[0m\u001b[0;34m(\u001b[0m\u001b[0mself\u001b[0m\u001b[0;34m)\u001b[0m\u001b[0;34m:\u001b[0m\u001b[0;34m\u001b[0m\u001b[0;34m\u001b[0m\u001b[0m\n\u001b[0;32m--> 812\u001b[0;31m         \u001b[0mresults\u001b[0m\u001b[0;34m,\u001b[0m \u001b[0mres_index\u001b[0m \u001b[0;34m=\u001b[0m \u001b[0mself\u001b[0m\u001b[0;34m.\u001b[0m\u001b[0mapply_series_generator\u001b[0m\u001b[0;34m(\u001b[0m\u001b[0;34m)\u001b[0m\u001b[0;34m\u001b[0m\u001b[0;34m\u001b[0m\u001b[0m\n\u001b[0m\u001b[1;32m    813\u001b[0m \u001b[0;34m\u001b[0m\u001b[0m\n\u001b[1;32m    814\u001b[0m         \u001b[0;31m# wrap results\u001b[0m\u001b[0;34m\u001b[0m\u001b[0;34m\u001b[0m\u001b[0;34m\u001b[0m\u001b[0m\n",
            "\u001b[0;32m/usr/local/lib/python3.7/dist-packages/pandas/core/apply.py\u001b[0m in \u001b[0;36mapply_series_generator\u001b[0;34m(self)\u001b[0m\n\u001b[1;32m    826\u001b[0m             \u001b[0;32mfor\u001b[0m \u001b[0mi\u001b[0m\u001b[0;34m,\u001b[0m \u001b[0mv\u001b[0m \u001b[0;32min\u001b[0m \u001b[0menumerate\u001b[0m\u001b[0;34m(\u001b[0m\u001b[0mseries_gen\u001b[0m\u001b[0;34m)\u001b[0m\u001b[0;34m:\u001b[0m\u001b[0;34m\u001b[0m\u001b[0;34m\u001b[0m\u001b[0m\n\u001b[1;32m    827\u001b[0m                 \u001b[0;31m# ignore SettingWithCopy here in case the user mutates\u001b[0m\u001b[0;34m\u001b[0m\u001b[0;34m\u001b[0m\u001b[0;34m\u001b[0m\u001b[0m\n\u001b[0;32m--> 828\u001b[0;31m                 \u001b[0mresults\u001b[0m\u001b[0;34m[\u001b[0m\u001b[0mi\u001b[0m\u001b[0;34m]\u001b[0m \u001b[0;34m=\u001b[0m \u001b[0mself\u001b[0m\u001b[0;34m.\u001b[0m\u001b[0mf\u001b[0m\u001b[0;34m(\u001b[0m\u001b[0mv\u001b[0m\u001b[0;34m)\u001b[0m\u001b[0;34m\u001b[0m\u001b[0;34m\u001b[0m\u001b[0m\n\u001b[0m\u001b[1;32m    829\u001b[0m                 \u001b[0;32mif\u001b[0m \u001b[0misinstance\u001b[0m\u001b[0;34m(\u001b[0m\u001b[0mresults\u001b[0m\u001b[0;34m[\u001b[0m\u001b[0mi\u001b[0m\u001b[0;34m]\u001b[0m\u001b[0;34m,\u001b[0m \u001b[0mABCSeries\u001b[0m\u001b[0;34m)\u001b[0m\u001b[0;34m:\u001b[0m\u001b[0;34m\u001b[0m\u001b[0;34m\u001b[0m\u001b[0m\n\u001b[1;32m    830\u001b[0m                     \u001b[0;31m# If we have a view on v, we need to make a copy because\u001b[0m\u001b[0;34m\u001b[0m\u001b[0;34m\u001b[0m\u001b[0;34m\u001b[0m\u001b[0m\n",
            "\u001b[0;32m<ipython-input-158-5896cf8e9a8e>\u001b[0m in \u001b[0;36mdiff_date\u001b[0;34m(row)\u001b[0m\n\u001b[1;32m      3\u001b[0m \u001b[0;32mdef\u001b[0m \u001b[0mdiff_date\u001b[0m\u001b[0;34m(\u001b[0m\u001b[0mrow\u001b[0m\u001b[0;34m)\u001b[0m\u001b[0;34m:\u001b[0m\u001b[0;34m\u001b[0m\u001b[0;34m\u001b[0m\u001b[0m\n\u001b[1;32m      4\u001b[0m     \u001b[0mtoday\u001b[0m \u001b[0;34m=\u001b[0m \u001b[0mparser\u001b[0m\u001b[0;34m.\u001b[0m\u001b[0mparse\u001b[0m\u001b[0;34m(\u001b[0m\u001b[0;34m'2021-11-22'\u001b[0m\u001b[0;34m)\u001b[0m\u001b[0;34m\u001b[0m\u001b[0;34m\u001b[0m\u001b[0m\n\u001b[0;32m----> 5\u001b[0;31m     \u001b[0;32mreturn\u001b[0m \u001b[0;34m(\u001b[0m\u001b[0;34m(\u001b[0m\u001b[0mtoday\u001b[0m \u001b[0;34m-\u001b[0m \u001b[0mparser\u001b[0m\u001b[0;34m.\u001b[0m\u001b[0mparse\u001b[0m\u001b[0;34m(\u001b[0m\u001b[0mrow\u001b[0m\u001b[0;34m[\u001b[0m\u001b[0;34m'host_since'\u001b[0m\u001b[0;34m]\u001b[0m\u001b[0;34m)\u001b[0m\u001b[0;34m)\u001b[0m\u001b[0;34m.\u001b[0m\u001b[0mdays\u001b[0m\u001b[0;34m)\u001b[0m\u001b[0;34m/\u001b[0m\u001b[0;36m365\u001b[0m\u001b[0;34m\u001b[0m\u001b[0;34m\u001b[0m\u001b[0m\n\u001b[0m",
            "\u001b[0;32m/usr/local/lib/python3.7/dist-packages/dateutil/parser/_parser.py\u001b[0m in \u001b[0;36mparse\u001b[0;34m(timestr, parserinfo, **kwargs)\u001b[0m\n\u001b[1;32m   1366\u001b[0m         \u001b[0;32mreturn\u001b[0m \u001b[0mparser\u001b[0m\u001b[0;34m(\u001b[0m\u001b[0mparserinfo\u001b[0m\u001b[0;34m)\u001b[0m\u001b[0;34m.\u001b[0m\u001b[0mparse\u001b[0m\u001b[0;34m(\u001b[0m\u001b[0mtimestr\u001b[0m\u001b[0;34m,\u001b[0m \u001b[0;34m**\u001b[0m\u001b[0mkwargs\u001b[0m\u001b[0;34m)\u001b[0m\u001b[0;34m\u001b[0m\u001b[0;34m\u001b[0m\u001b[0m\n\u001b[1;32m   1367\u001b[0m     \u001b[0;32melse\u001b[0m\u001b[0;34m:\u001b[0m\u001b[0;34m\u001b[0m\u001b[0;34m\u001b[0m\u001b[0m\n\u001b[0;32m-> 1368\u001b[0;31m         \u001b[0;32mreturn\u001b[0m \u001b[0mDEFAULTPARSER\u001b[0m\u001b[0;34m.\u001b[0m\u001b[0mparse\u001b[0m\u001b[0;34m(\u001b[0m\u001b[0mtimestr\u001b[0m\u001b[0;34m,\u001b[0m \u001b[0;34m**\u001b[0m\u001b[0mkwargs\u001b[0m\u001b[0;34m)\u001b[0m\u001b[0;34m\u001b[0m\u001b[0;34m\u001b[0m\u001b[0m\n\u001b[0m\u001b[1;32m   1369\u001b[0m \u001b[0;34m\u001b[0m\u001b[0m\n\u001b[1;32m   1370\u001b[0m \u001b[0;34m\u001b[0m\u001b[0m\n",
            "\u001b[0;32m/usr/local/lib/python3.7/dist-packages/dateutil/parser/_parser.py\u001b[0m in \u001b[0;36mparse\u001b[0;34m(self, timestr, default, ignoretz, tzinfos, **kwargs)\u001b[0m\n\u001b[1;32m    638\u001b[0m                                                       second=0, microsecond=0)\n\u001b[1;32m    639\u001b[0m \u001b[0;34m\u001b[0m\u001b[0m\n\u001b[0;32m--> 640\u001b[0;31m         \u001b[0mres\u001b[0m\u001b[0;34m,\u001b[0m \u001b[0mskipped_tokens\u001b[0m \u001b[0;34m=\u001b[0m \u001b[0mself\u001b[0m\u001b[0;34m.\u001b[0m\u001b[0m_parse\u001b[0m\u001b[0;34m(\u001b[0m\u001b[0mtimestr\u001b[0m\u001b[0;34m,\u001b[0m \u001b[0;34m**\u001b[0m\u001b[0mkwargs\u001b[0m\u001b[0;34m)\u001b[0m\u001b[0;34m\u001b[0m\u001b[0;34m\u001b[0m\u001b[0m\n\u001b[0m\u001b[1;32m    641\u001b[0m \u001b[0;34m\u001b[0m\u001b[0m\n\u001b[1;32m    642\u001b[0m         \u001b[0;32mif\u001b[0m \u001b[0mres\u001b[0m \u001b[0;32mis\u001b[0m \u001b[0;32mNone\u001b[0m\u001b[0;34m:\u001b[0m\u001b[0;34m\u001b[0m\u001b[0;34m\u001b[0m\u001b[0m\n",
            "\u001b[0;32m/usr/local/lib/python3.7/dist-packages/dateutil/parser/_parser.py\u001b[0m in \u001b[0;36m_parse\u001b[0;34m(self, timestr, dayfirst, yearfirst, fuzzy, fuzzy_with_tokens)\u001b[0m\n\u001b[1;32m    717\u001b[0m \u001b[0;34m\u001b[0m\u001b[0m\n\u001b[1;32m    718\u001b[0m         \u001b[0mres\u001b[0m \u001b[0;34m=\u001b[0m \u001b[0mself\u001b[0m\u001b[0;34m.\u001b[0m\u001b[0m_result\u001b[0m\u001b[0;34m(\u001b[0m\u001b[0;34m)\u001b[0m\u001b[0;34m\u001b[0m\u001b[0;34m\u001b[0m\u001b[0m\n\u001b[0;32m--> 719\u001b[0;31m         \u001b[0ml\u001b[0m \u001b[0;34m=\u001b[0m \u001b[0m_timelex\u001b[0m\u001b[0;34m.\u001b[0m\u001b[0msplit\u001b[0m\u001b[0;34m(\u001b[0m\u001b[0mtimestr\u001b[0m\u001b[0;34m)\u001b[0m         \u001b[0;31m# Splits the timestr into tokens\u001b[0m\u001b[0;34m\u001b[0m\u001b[0;34m\u001b[0m\u001b[0m\n\u001b[0m\u001b[1;32m    720\u001b[0m \u001b[0;34m\u001b[0m\u001b[0m\n\u001b[1;32m    721\u001b[0m         \u001b[0mskipped_idxs\u001b[0m \u001b[0;34m=\u001b[0m \u001b[0;34m[\u001b[0m\u001b[0;34m]\u001b[0m\u001b[0;34m\u001b[0m\u001b[0;34m\u001b[0m\u001b[0m\n",
            "\u001b[0;32m/usr/local/lib/python3.7/dist-packages/dateutil/parser/_parser.py\u001b[0m in \u001b[0;36msplit\u001b[0;34m(cls, s)\u001b[0m\n\u001b[1;32m    199\u001b[0m     \u001b[0;34m@\u001b[0m\u001b[0mclassmethod\u001b[0m\u001b[0;34m\u001b[0m\u001b[0;34m\u001b[0m\u001b[0m\n\u001b[1;32m    200\u001b[0m     \u001b[0;32mdef\u001b[0m \u001b[0msplit\u001b[0m\u001b[0;34m(\u001b[0m\u001b[0mcls\u001b[0m\u001b[0;34m,\u001b[0m \u001b[0ms\u001b[0m\u001b[0;34m)\u001b[0m\u001b[0;34m:\u001b[0m\u001b[0;34m\u001b[0m\u001b[0;34m\u001b[0m\u001b[0m\n\u001b[0;32m--> 201\u001b[0;31m         \u001b[0;32mreturn\u001b[0m \u001b[0mlist\u001b[0m\u001b[0;34m(\u001b[0m\u001b[0mcls\u001b[0m\u001b[0;34m(\u001b[0m\u001b[0ms\u001b[0m\u001b[0;34m)\u001b[0m\u001b[0;34m)\u001b[0m\u001b[0;34m\u001b[0m\u001b[0;34m\u001b[0m\u001b[0m\n\u001b[0m\u001b[1;32m    202\u001b[0m \u001b[0;34m\u001b[0m\u001b[0m\n\u001b[1;32m    203\u001b[0m     \u001b[0;34m@\u001b[0m\u001b[0mclassmethod\u001b[0m\u001b[0;34m\u001b[0m\u001b[0;34m\u001b[0m\u001b[0m\n",
            "\u001b[0;32m/usr/local/lib/python3.7/dist-packages/dateutil/parser/_parser.py\u001b[0m in \u001b[0;36m__init__\u001b[0;34m(self, instream)\u001b[0m\n\u001b[1;32m     68\u001b[0m         \u001b[0;32melif\u001b[0m \u001b[0mgetattr\u001b[0m\u001b[0;34m(\u001b[0m\u001b[0minstream\u001b[0m\u001b[0;34m,\u001b[0m \u001b[0;34m'read'\u001b[0m\u001b[0;34m,\u001b[0m \u001b[0;32mNone\u001b[0m\u001b[0;34m)\u001b[0m \u001b[0;32mis\u001b[0m \u001b[0;32mNone\u001b[0m\u001b[0;34m:\u001b[0m\u001b[0;34m\u001b[0m\u001b[0;34m\u001b[0m\u001b[0m\n\u001b[1;32m     69\u001b[0m             raise TypeError('Parser must be a string or character stream, not '\n\u001b[0;32m---> 70\u001b[0;31m                             '{itype}'.format(itype=instream.__class__.__name__))\n\u001b[0m\u001b[1;32m     71\u001b[0m \u001b[0;34m\u001b[0m\u001b[0m\n\u001b[1;32m     72\u001b[0m         \u001b[0mself\u001b[0m\u001b[0;34m.\u001b[0m\u001b[0minstream\u001b[0m \u001b[0;34m=\u001b[0m \u001b[0minstream\u001b[0m\u001b[0;34m\u001b[0m\u001b[0;34m\u001b[0m\u001b[0m\n",
            "\u001b[0;31mTypeError\u001b[0m: Parser must be a string or character stream, not float"
          ]
        }
      ],
      "source": [
        "df['host_since'] = df.apply(diff_date,axis=1)   # .apply is used to apply something on the entire dataset\n",
        "df['host_since'].describe()"
      ]
    },
    {
      "cell_type": "markdown",
      "metadata": {
        "id": "nyhVTlXfttz5"
      },
      "source": [
        "### Distances"
      ]
    },
    {
      "cell_type": "code",
      "execution_count": null,
      "metadata": {
        "id": "7zc8ExsDttz5"
      },
      "outputs": [],
      "source": [
        "from math import sin, cos, sqrt, atan2, radians\n",
        "def haversine_distance_central(row):\n",
        "    berlin_lat,berlin_long = radians(52.5200), radians(13.4050)\n",
        "    R = 6373.0\n",
        "    long = radians(row['longitude'])\n",
        "    lat = radians(row['latitude'])\n",
        "    \n",
        "    dlon = long - berlin_long\n",
        "    dlat = lat - berlin_lat\n",
        "    a = sin(dlat / 2)**2 + cos(lat) * cos(berlin_lat) * sin(dlon / 2)**2\n",
        "    c = 2 * atan2(sqrt(a), sqrt(1 - a))\n",
        "    return R * c"
      ]
    },
    {
      "cell_type": "code",
      "execution_count": null,
      "metadata": {
        "id": "cqp9ziKmttz6"
      },
      "outputs": [],
      "source": [
        "def haversine_distance_airport(row):\n",
        "    berlin_lat,berlin_long = radians(52.3733), radians(13.5064)\n",
        "    R = 6373.0\n",
        "    long = radians(row['longitude'])\n",
        "    lat = radians(row['latitude'])\n",
        "    \n",
        "    dlon = long - berlin_long\n",
        "    dlat = lat - berlin_lat\n",
        "    a = sin(dlat / 2)**2 + cos(lat) * cos(berlin_lat) * sin(dlon / 2)**2\n",
        "    c = 2 * atan2(sqrt(a), sqrt(1 - a))\n",
        "    return R * c"
      ]
    },
    {
      "cell_type": "code",
      "execution_count": null,
      "metadata": {
        "id": "ir6SRIIUttz6"
      },
      "outputs": [],
      "source": [
        "def haversine_distance_rail(row):\n",
        "    berlin_lat,berlin_long = radians(52.5073), radians(13.3324)\n",
        "    R = 6373.0\n",
        "    long = radians(row['longitude'])\n",
        "    lat = radians(row['latitude'])\n",
        "    \n",
        "    dlon = long - berlin_long\n",
        "    dlat = lat - berlin_lat\n",
        "    a = sin(dlat / 2)**2 + cos(lat) * cos(berlin_lat) * sin(dlon / 2)**2\n",
        "    c = 2 * atan2(sqrt(a), sqrt(1 - a))\n",
        "    return R * c"
      ]
    },
    {
      "cell_type": "code",
      "execution_count": null,
      "metadata": {
        "id": "2TaSYGSNttz6"
      },
      "outputs": [],
      "source": [
        "df['distance_central'] = df.apply(haversine_distance_central,axis=1)\n",
        "df['distance_airport'] = df.apply(haversine_distance_airport,axis=1)\n",
        "df['distance_railways'] = df.apply(haversine_distance_airport,axis=1)\n",
        "df['distance_avg'] = ( df['distance_central'] + df['distance_airport'] + df['distance_railways'] )/3.0"
      ]
    },
    {
      "cell_type": "code",
      "execution_count": null,
      "metadata": {
        "id": "-ktrWucxttz6"
      },
      "outputs": [],
      "source": [
        "df['distance_avg'].describe()"
      ]
    },
    {
      "cell_type": "code",
      "execution_count": null,
      "metadata": {
        "id": "T-6FAJDbttz6"
      },
      "outputs": [],
      "source": [
        "df.head()"
      ]
    },
    {
      "cell_type": "code",
      "source": [
        "df.shape"
      ],
      "metadata": {
        "id": "p_tK8DmRfT85"
      },
      "execution_count": null,
      "outputs": []
    },
    {
      "cell_type": "code",
      "execution_count": null,
      "metadata": {
        "colab": {
          "base_uri": "https://localhost:8080/"
        },
        "id": "rT3I6mG8ttz7",
        "outputId": "d485cbfe-f139-47c6-ce62-44b6f64cbd0a"
      },
      "outputs": [
        {
          "output_type": "stream",
          "name": "stdout",
          "text": [
            "reviews_per_month {nan, 1.25, 1.75, 0.75, nan, nan, 0.5, 1.0, 2.25, 6.43, 2.0, 3.5, 2.5, 2.75, 5.0, nan, 3.75, 17.01, 3.25, 3.0, nan, 4.75, 4.0, 4.5, 4.25, nan, 5.75, 5.5, 5.25, nan, nan, nan, nan, nan, nan, nan, nan, nan, nan, nan, nan, 8.25, 8.75, 7.5, 36.67, 8.0, 9.25, 10.25, 10.75, 10.0, nan, nan, nan, nan, nan, nan, nan, nan, nan, nan, nan, nan, nan, nan, 4.72, 4.97, 5.72, 5.47, 5.22, nan, nan, 6.47, 6.72, nan, nan, nan, nan, nan, nan, nan, nan, nan, nan, nan, nan, nan, nan, nan, nan, nan, nan, nan, nan, nan, nan, nan, nan, nan, nan, nan, nan, nan, nan, nan, nan, nan, nan, nan, nan, nan, nan, 8.44, nan, nan, nan, nan, nan, nan, nan, nan, nan, nan, nan, nan, nan, 7.0, nan, nan, nan, nan, nan, nan, nan, nan, nan, nan, nan, nan, 0.59, 0.84, nan, nan, nan, nan, nan, nan, nan, nan, nan, nan, nan, nan, nan, 0.09, nan, nan, nan, nan, nan, nan, nan, nan, nan, nan, nan, nan, nan, nan, nan, nan, nan, nan, nan, nan, nan, nan, nan, nan, nan, nan, nan, nan, nan, nan, nan, nan, nan, nan, nan, nan, nan, nan, nan, nan, nan, nan, nan, nan, nan, nan, nan, nan, 0.34, nan, nan, nan, nan, nan, nan, nan, nan, nan, nan, nan, nan, nan, nan, nan, nan, nan, nan, nan, nan, nan, nan, nan, nan, nan, nan, nan, nan, nan, nan, nan, nan, nan, nan, nan, nan, nan, nan, nan, nan, nan, nan, nan, nan, nan, nan, nan, nan, nan, nan, nan, nan, nan, nan, nan, nan, nan, nan, nan, nan, nan, nan, nan, nan, nan, nan, nan, nan, nan, nan, nan, nan, nan, nan, nan, nan, nan, nan, nan, nan, nan, nan, nan, nan, nan, nan, nan, nan, nan, nan, nan, 1.93, 1.59, 1.09, 1.84, 1.34, 1.68, 1.18, 1.43, nan, nan, nan, nan, nan, nan, nan, nan, nan, nan, nan, nan, nan, nan, nan, nan, nan, nan, nan, nan, nan, nan, nan, nan, nan, 2.18, 2.68, 2.43, 2.93, 3.68, 3.43, 3.18, 3.93, nan, nan, nan, nan, nan, nan, nan, nan, nan, nan, nan, nan, nan, nan, nan, nan, nan, nan, nan, nan, nan, nan, nan, nan, nan, nan, nan, nan, 1.9, 1.4, nan, nan, nan, 2.4, nan, nan, nan, nan, 3.65, nan, nan, nan, nan, nan, nan, nan, nan, nan, nan, 6.7, nan, nan, nan, 0.18, 0.43, nan, nan, nan, nan, nan, nan, nan, nan, nan, nan, nan, nan, nan, nan, nan, nan, nan, nan, nan, 7.45, 7.7, nan, nan, nan, nan, nan, nan, nan, nan, nan, nan, nan, nan, nan, nan, nan, nan, nan, nan, nan, nan, nan, nan, nan, nan, nan, nan, nan, nan, nan, nan, nan, nan, nan, nan, nan, nan, nan, nan, nan, nan, nan, nan, nan, nan, nan, nan, nan, nan, 0.93, 0.68, nan, nan, nan, nan, nan, nan, nan, nan, nan, nan, nan, nan, nan, nan, nan, nan, nan, nan, nan, nan, nan, nan, nan, nan, nan, nan, nan, nan, nan, nan, nan, nan, nan, nan, nan, nan, nan, nan, nan, nan, nan, nan, nan, nan, nan, nan, nan, nan, nan, nan, nan, nan, nan, nan, nan, nan, nan, nan, nan, nan, nan, nan, nan, nan, nan, nan, nan, nan, nan, nan, nan, nan, nan, nan, nan, nan, nan, nan, nan, nan, nan, nan, nan, nan, nan, nan, nan, nan, nan, nan, nan, nan, nan, nan, nan, nan, nan, nan, nan, nan, nan, nan, nan, nan, nan, nan, nan, nan, nan, nan, nan, nan, nan, nan, nan, nan, nan, nan, nan, nan, nan, nan, nan, nan, nan, nan, nan, nan, nan, nan, nan, nan, nan, nan, 0.02, nan, nan, nan, nan, nan, nan, nan, nan, nan, nan, nan, nan, nan, nan, 0.77, 0.52, 2.61, 3.36, 3.86, 0.27, 1.02, 1.27, 1.52, 1.77, 2.77, 2.52, 3.27, nan, nan, nan, nan, nan, nan, nan, nan, nan, nan, nan, nan, nan, nan, nan, nan, nan, nan, nan, nan, nan, nan, nan, nan, nan, nan, 8.14, nan, nan, nan, nan, nan, nan, nan, nan, nan, nan, 4.36, 4.61, 4.86, 5.11, 5.86, 4.11, 6.86, 5.61, 6.61, 5.36, 6.36, 7.36, 7.11, nan, nan, nan, nan, nan, nan, nan, nan, nan, nan, nan, nan, nan, nan, nan, nan, nan, nan, nan, 1.33, 1.08, 1.83, 1.58, nan, 2.33, 2.08, 2.58, nan, nan, 3.33, 3.08, 3.83, 3.58, nan, 4.33, 4.08, 4.83, 4.58, 5.83, 5.58, 5.08, 5.33, nan, 6.08, nan, nan, nan, nan, 7.58, nan, nan, nan, 6.33, 7.33, 7.83, 3.78, 3.28, 3.03, 9.58, 3.05, 3.55, 4.05, 4.55, nan, nan, nan, 5.8, nan, nan, nan, nan, nan, nan, 6.05, 5.55, 5.3, 6.3, 7.8, 6.8, nan, nan, nan, nan, nan, nan, nan, nan, nan, nan, nan, nan, nan, nan, nan, nan, nan, nan, nan, nan, nan, nan, nan, 0.61, 0.86, 0.36, nan, nan, nan, nan, nan, nan, nan, nan, nan, nan, nan, nan, nan, nan, nan, 4.77, 4.02, 4.52, 4.27, 5.77, 5.52, 5.02, 5.27, 6.52, 0.11, 6.27, 6.77, 7.27, nan, nan, nan, nan, nan, nan, nan, nan, nan, 9.77, 8.02, nan, nan, nan, nan, nan, nan, nan, nan, nan, nan, nan, nan, nan, nan, nan, nan, nan, nan, nan, nan, nan, nan, nan, nan, nan, nan, nan, nan, nan, nan, nan, nan, nan, nan, nan, nan, nan, nan, nan, nan, nan, nan, nan, nan, nan, nan, nan, nan, nan, nan, nan, nan, nan, nan, nan, nan, nan, nan, nan, nan, nan, nan, nan, nan, nan, nan, nan, nan, nan, nan, nan, nan, nan, nan, nan, nan, nan, nan, nan, nan, nan, nan, nan, nan, nan, nan, nan, nan, nan, nan, nan, nan, nan, nan, nan, nan, nan, nan, nan, nan, nan, nan, nan, 0.7, 1.7, 1.95, 1.86, 1.61, 1.36, 1.11, 0.95, 1.2, 1.45, nan, nan, nan, nan, nan, nan, nan, nan, nan, nan, nan, nan, nan, nan, nan, nan, nan, nan, nan, nan, nan, nan, nan, nan, nan, nan, nan, nan, nan, nan, nan, nan, nan, nan, nan, nan, nan, nan, nan, nan, nan, nan, nan, nan, nan, nan, nan, nan, nan, nan, nan, nan, nan, nan, nan, nan, nan, nan, nan, nan, nan, nan, nan, nan, nan, nan, nan, nan, nan, nan, nan, nan, nan, nan, nan, nan, nan, nan, 0.45, 0.2, nan, nan, nan, nan, nan, nan, nan, nan, nan, nan, nan, nan, nan, nan, nan, nan, nan, nan, nan, nan, nan, nan, nan, nan, nan, nan, nan, nan, nan, nan, nan, nan, nan, nan, nan, nan, nan, nan, nan, nan, nan, nan, nan, nan, nan, nan, 0.73, nan, nan, nan, nan, 1.23, 1.48, 1.98, nan, nan, 2.48, 2.73, 2.98, nan, nan, 3.73, 3.23, nan, nan, nan, nan, nan, nan, 3.98, nan, nan, nan, nan, nan, nan, nan, nan, nan, nan, nan, nan, nan, nan, nan, nan, nan, nan, nan, nan, nan, nan, nan, nan, nan, nan, nan, nan, nan, nan, nan, nan, nan, nan, nan, nan, nan, nan, nan, nan, nan, nan, nan, nan, nan, nan, nan, nan, nan, nan, nan, nan, nan, nan, nan, nan, nan, nan, nan, nan, nan, nan, nan, nan, nan, nan, nan, nan, nan, nan, nan, nan, nan, nan, nan, nan, nan, nan, nan, nan, nan, nan, nan, nan, nan, nan, nan, nan, nan, nan, nan, nan, nan, nan, nan, nan, nan, nan, nan, 0.29, nan, nan, nan, nan, nan, nan, nan, nan, nan, nan, nan, nan, nan, nan, nan, nan, nan, nan, nan, nan, nan, nan, nan, nan, nan, nan, nan, nan, nan, nan, 0.04, nan, nan, nan, nan, nan, nan, 1.5, nan, nan, nan, nan, nan, nan, nan, nan, nan, nan, nan, nan, nan, nan, nan, nan, nan, nan, nan, nan, nan, nan, nan, nan, nan, nan, nan, nan, nan, nan, nan, nan, nan, nan, nan, nan, nan, nan, nan, nan, nan, nan, nan, nan, nan, nan, nan, nan, nan, nan, nan, nan, nan, nan, nan, 0.54, 1.63, 1.13, 1.88, 4.47, 4.22, 1.38, 2.13, 2.63, 2.88, 2.38, 3.63, 3.38, 4.38, 6.88, 6.29, 7.29, nan, nan, nan, nan, nan, nan, nan, nan, nan, nan, nan, nan, nan, nan, nan, nan, nan, nan, 9.3, 9.8, nan, nan, nan, nan, nan, nan, nan, nan, nan, nan, nan, nan, nan, nan, nan, nan, nan, nan, nan, nan, nan, nan, nan, nan, nan, nan, nan, nan, nan, 8.47, 8.72, nan, nan, nan, nan, nan, nan, nan, nan, nan, nan, nan, nan, nan, nan, nan, nan, nan, nan, nan, nan, nan, nan, nan, nan, nan, nan, nan, nan, nan, nan, nan, nan, nan, nan, nan, 4.69, 4.19, 5.94, 5.19, 5.69, nan, nan, nan, nan, nan, nan, nan, nan, nan, nan, 7.19, nan, nan, nan, nan, nan, nan, nan, nan, nan, nan, nan, nan, nan, 0.88, 0.13, 0.63, 0.38, nan, nan, 2.16, 2.91, 2.66, 2.41, nan, 3.91, 3.66, 3.41, 3.16, nan, 4.41, 4.66, 4.91, 4.16, nan, 5.41, 5.91, 5.16, 5.66, 6.41, 6.66, 6.16, 6.91, 7.16, 8.16, nan, nan, nan, nan, nan, nan, nan, nan, nan, nan, nan, nan, nan, nan, nan, nan, nan, nan, nan, nan, nan, nan, nan, nan, 3.88, 3.13, 4.13, 4.63, 4.88, nan, nan, 5.13, 5.63, 5.88, 5.38, nan, 6.63, 6.13, nan, nan, 7.38, 7.13, 4.53, nan, nan, nan, nan, nan, nan, nan, nan, nan, nan, nan, nan, nan, nan, nan, nan, nan, nan, nan, nan, nan, nan, nan, nan, nan, nan, nan, nan, 4.1, 4.85, 5.35, 5.6, 5.85, 5.1, 6.6, 7.85, 7.35, 10.1, nan, nan, nan, nan, nan, nan, nan, nan, nan, nan, 0.47, 0.97, 0.72, 1.47, 1.97, 1.72, 1.22, nan, nan, nan, nan, nan, nan, nan, nan, nan, nan, nan, nan, nan, nan, nan, nan, nan, 12.04, 0.22, nan, nan, nan, nan, nan, nan, nan, nan, nan, nan, nan, nan, nan, nan, nan, nan, nan, nan, nan, nan, nan, nan, nan, nan, nan, nan, nan, nan, nan, nan, nan, nan, nan, nan, nan, nan, nan, nan, nan, nan, nan, nan, nan, nan, nan, nan, nan, nan, nan, nan, nan, nan, nan, nan, nan, nan, nan, nan, nan, nan, nan, nan, nan, nan, nan, nan, nan, nan, nan, nan, nan, nan, nan, nan, nan, nan, nan, nan, nan, nan, nan, nan, nan, nan, nan, nan, nan, nan, nan, nan, nan, 4.01, 4.76, nan, nan, nan, nan, nan, nan, nan, nan, nan, nan, nan, nan, nan, nan, nan, nan, nan, nan, nan, nan, nan, 1.81, 1.31, 2.56, 2.06, 2.81, 3.56, nan, nan, nan, nan, nan, 3.81, nan, nan, nan, nan, nan, nan, nan, nan, 0.06, 0.31, nan, nan, nan, nan, nan, nan, nan, nan, nan, nan, nan, nan, nan, nan, nan, nan, nan, nan, nan, nan, nan, nan, nan, nan, nan, nan, nan, nan, nan, nan, nan, nan, nan, nan, nan, nan, nan, nan, nan, nan, nan, nan, nan, nan, nan, nan, nan, nan, nan, nan, nan, nan, nan, nan, nan, nan, nan, nan, nan, nan, nan, nan, nan, nan, nan, nan, nan, nan, nan, nan, nan, nan, nan, nan, nan, nan, nan, nan, nan, nan, nan, nan, nan, nan, nan, nan, nan, nan, nan, nan, nan, nan, nan, nan, nan, nan, 0.56, 1.15, 1.65, 2.9, 2.15, 2.65, 3.15, 3.4, 0.81, 1.06, 1.56, 2.31, 3.06, nan, nan, nan, nan, nan, nan, nan, nan, nan, nan, nan, nan, nan, nan, nan, nan, nan, nan, nan, nan, nan, nan, nan, nan, nan, nan, nan, nan, nan, nan, nan, nan, nan, nan, nan, nan, nan, nan, nan, nan, nan, nan, nan, nan, nan, nan, nan, nan, nan, 0.25, nan, nan, nan, nan, nan, nan, nan, nan, nan, nan, nan, nan, nan, nan, nan, nan, nan, nan, nan, nan, nan, nan, nan, nan, nan, nan, nan, nan, nan, nan, nan, nan, nan, nan, nan, nan, nan, nan, nan, nan, nan, nan, nan, nan, nan, nan, nan, nan, nan, nan, nan, nan, nan, nan, nan, nan, nan, nan, nan, nan, nan, nan, nan, nan, nan, nan, 0.15, nan, nan, nan, nan, nan, nan, nan, nan, nan, nan, nan, 0.65, 0.9, 0.4, nan, nan, nan, nan, nan, nan, nan, nan, nan, nan, nan, nan, nan, nan, nan, nan, nan, nan, nan, nan, nan, nan, nan, nan, nan, nan, nan, nan, nan, 8.05, 8.8, nan, nan, nan, nan, nan, nan, nan, nan, nan, nan, nan, nan, nan, nan, nan, nan, nan, nan, nan, nan, nan, nan, nan, nan, nan, nan, nan, nan, nan, nan, nan, nan, nan, nan, nan, nan, nan, nan, nan, nan, nan, nan, nan, nan, nan, nan, nan, nan, nan, nan, nan, nan, nan, nan, nan, nan, nan, nan, nan, nan, nan, nan, nan, nan, nan, nan, nan, nan, 2.24, 2.74, 2.99, 2.49, 3.74, 3.49, 3.99, 3.24, 4.49, 4.24, 4.74, 4.99, 5.49, 5.99, 5.24, 5.74, 6.99, 6.49, 6.74, 7.74, 7.24, 8.49, 3.31, nan, nan, nan, nan, nan, nan, nan, nan, nan, nan, nan, nan, nan, nan, nan, nan, nan, nan, nan, 1.71, 1.46, 1.21, 1.96, 2.96, 2.71, 2.21, 2.46, 3.21, 3.71, 3.96, 3.46, nan, 4.21, 4.46, 4.71, nan, nan, 5.21, 5.96, 5.46, nan, 5.71, 6.21, 6.96, 6.71, nan, nan, nan, nan, nan, nan, nan, nan, nan, nan, nan, nan, nan, nan, nan, nan, nan, 0.74, 0.49, 0.24, 0.99, 1.24, 1.49, 1.99, 1.74, nan, nan, nan, nan, nan, nan, nan, nan, nan, nan, nan, nan, nan, 4.68, 4.93, 4.18, 4.43, 5.93, 5.68, 5.43, 6.68, 6.18, 7.93, 7.43, 7.68, 8.18, nan, nan, nan, nan, nan, nan, nan, nan, nan, nan, 9.43, nan, nan, nan, nan, nan, nan, nan, nan, nan, nan, nan, nan, nan, nan, nan, nan, nan, nan, nan, nan, nan, nan, nan, nan, nan, nan, nan, nan, nan, nan, nan, nan, nan, nan, nan, nan, nan, nan, nan, nan, nan, nan, nan, nan, nan, nan, nan, nan, nan, nan, nan, nan, nan, nan, nan, nan, nan, nan, nan, nan, 8.37, nan, nan, nan, nan, 33.43, nan, nan, nan, nan, nan, nan, nan, nan, nan, nan, nan, nan, nan, nan, nan, nan, nan, nan, nan, nan, nan, nan, nan, nan, nan, nan, nan, nan, nan, nan, nan, nan, nan, nan, nan, nan, nan, nan, nan, nan, nan, 0.83, 0.58, nan, nan, nan, nan, nan, nan, nan, nan, nan, nan, nan, nan, nan, nan, nan, nan, nan, nan, nan, nan, nan, nan, nan, nan, nan, nan, nan, nan, nan, nan, nan, nan, nan, nan, nan, nan, nan, nan, nan, nan, nan, nan, nan, nan, nan, nan, nan, nan, nan, nan, nan, nan, nan, nan, nan, nan, nan, nan, nan, nan, nan, 0.08, 11.16, nan, nan, nan, nan, nan, nan, nan, nan, nan, nan, 0.33, nan, nan, nan, nan, nan, nan, nan, nan, nan, 10.13, nan, nan, nan, nan, nan, nan, nan, nan, nan, nan, nan, nan, nan, nan, nan, nan, nan, nan, nan, nan, nan, nan, nan, nan, nan, nan, nan, nan, nan, nan, nan, nan, nan, nan, nan, nan, nan, nan, nan, 2.14, 2.89, 2.39, 2.64, 3.39, 3.14, 3.64, nan, nan, nan, nan, nan, nan, nan, nan, 1.42, 2.83, 3.76, 2.42, 4.35, 4.6, 6.35, 2.51, 2.01, 2.26, 2.76, 3.51, 4.51, 5.26, 7.76, 8.08, 8.83, 9.87, 15.88, 11.15, 15.51, nan, nan, nan, nan, nan, nan, 2.86, 2.11, 2.36, nan, 3.61, 3.11, nan, nan, nan, nan, nan, nan, nan, nan, nan, nan, nan, nan, nan, nan, nan, nan, nan, nan, nan, nan, nan, nan, nan, nan, nan, nan, nan, nan, nan, nan, nan, nan, nan, nan, nan, nan, nan, nan, nan, nan, nan, nan, nan, 0.42, nan, nan, nan, nan, nan, nan, nan, nan, nan, nan, nan, nan, nan, nan, nan, nan, nan, nan, nan, nan, nan, 0.17, nan, nan, nan, nan, nan, nan, nan, nan, nan, nan, nan, nan, nan, nan, nan, nan, nan, nan, nan, nan, nan, nan, nan, nan, nan, nan, nan, nan, nan, nan, nan, nan, 0.67, 0.92, nan, nan, nan, nan, nan, nan, nan, nan, nan, nan, nan, nan, 6.5, nan, nan, nan, nan, nan, nan, nan, nan, nan, nan, nan, nan, nan, nan, nan, nan, nan, nan, nan, nan, nan, nan, nan, nan, nan, nan, nan, nan, nan, nan, nan, nan, nan, nan, nan, nan, nan, nan, nan, nan, nan, nan, nan, nan, nan, nan, nan, nan, nan, nan, nan, nan, nan, nan, nan, nan, nan, nan, nan, nan, nan, nan, nan, nan, nan, 8.13, 9.38, nan, nan, nan, nan, nan, nan, nan, nan, nan, nan, nan, nan, nan, nan, nan, nan, nan, nan, nan, nan, nan, nan, nan, nan, nan, nan, 0.01, nan, nan, nan, nan, nan, nan, nan, nan, nan, nan, nan, nan, nan, nan, 0.76, 0.26, 0.51, 1.01, 1.76, 1.26, 1.51, nan, nan, nan, nan, nan, nan, nan, 4.82, 4.32, 4.07, 4.57, 5.82, 5.57, 5.32, 5.07, 6.32, nan, nan, nan, nan, nan, nan, nan, nan, nan, nan, nan, 7.57, 9.32, nan, nan, nan, nan, nan, nan, 0.79, nan, nan, nan, 1.54, 1.29, 1.04, 1.79, 6.58, 2.54, 2.04, 2.29, 2.79, nan, 3.04, 3.54, 3.29, 3.79, nan, 4.79, 4.54, 4.04, 4.29, 5.29, 5.04, 5.54, 5.79, 6.79, nan, nan, nan, nan, nan, nan, nan, nan, nan, nan, nan, 7.79, 7.84, 7.09, 7.34, 7.59, nan, nan, nan, nan, nan, nan, 3.01, 3.26, nan, nan, nan, nan, nan, nan, nan, nan, nan, nan, nan, nan, 4.26, 5.51, 6.51, 5.01, 6.26, 7.26, 8.76, nan, nan, nan, nan, nan, nan, nan, nan, nan, nan, nan, nan, nan, nan, nan, nan, nan, nan, nan, nan, nan, nan, nan, nan, nan, nan, nan, nan, nan, nan, nan, nan, nan, nan, nan, nan, nan, nan, nan, nan, nan, nan, nan, nan, nan, nan, nan, nan, nan, nan, nan, nan, nan, nan, nan, nan, nan, nan, nan, nan, nan, nan, nan, nan, nan, nan, nan, nan, nan, nan, nan, nan, nan, nan, nan, nan, nan, nan, nan, nan, 0.6, 0.35, 0.85, nan, nan, nan, nan, nan, nan, nan, nan, nan, nan, 8.45, 9.7, nan, nan, nan, nan, nan, nan, nan, nan, nan, nan, 0.1, nan, nan, nan, nan, nan, nan, nan, nan, nan, nan, nan, nan, nan, nan, nan, nan, nan, nan, nan, nan, nan, nan, nan, nan, nan, nan, nan, nan, nan, nan, nan, nan, nan, nan, nan, nan, nan, nan, nan, nan, nan, nan, nan, nan, nan, nan, nan, nan, nan, nan, nan, nan, nan, nan, nan, nan, nan, nan, nan, nan, nan, nan, nan, nan, nan, nan, nan, nan, nan, nan, nan, nan, nan, nan, nan, nan, nan, nan, nan, nan, nan, nan, nan, nan, nan, nan, nan, nan, nan, nan, nan, nan, nan, 0.94, 0.69, 2.53, 2.78, 2.28, 2.03, 3.53, 2.1, 3.19, 1.44, 1.69, 2.44, 3.44, nan, nan, nan, nan, nan, nan, nan, nan, nan, nan, nan, nan, nan, nan, nan, nan, nan, nan, nan, nan, nan, nan, nan, nan, nan, nan, nan, nan, nan, nan, nan, nan, nan, nan, nan, nan, nan, nan, nan, nan, nan, nan, nan, 2.22, 2.47, 2.72, 2.97, 3.97, 3.22, 3.72, 3.47, nan, nan, nan, nan, nan, nan, nan, nan, nan, 0.19, 0.44, nan, nan, 6.25, nan, nan, nan, nan, nan, nan, nan, nan, nan, nan, nan, nan, nan, nan, 1.19, 1.94, nan, 2.94, 2.19, 2.69, 3.69, 3.94, nan, nan, nan, nan, nan, nan, nan, nan, nan, nan, nan, nan, nan, nan, nan, nan, 3.89, nan, nan, nan, nan, nan, nan, nan, nan, nan, nan, nan, nan, nan, nan, nan, nan, nan, nan, nan, nan, nan, nan, nan, nan, nan, nan, nan, nan, nan, nan, nan, nan, nan, nan, nan, nan, nan, nan, nan, nan, nan, nan, nan, nan, nan, nan, nan, nan, nan, nan, nan, nan, nan, nan, nan, nan, nan, nan, nan, nan, nan, nan, nan, nan, nan, nan, nan, nan, nan, nan, nan, nan, nan, nan, nan, nan, nan, nan, nan, nan, nan, 0.03, nan, nan, nan, nan, nan, nan, nan, nan, nan, nan, nan, nan, nan, nan, nan, nan, nan, nan, nan, nan, nan, nan, nan, nan, nan, nan, nan, nan, nan, nan, 0.53, 0.28, 0.78, 1.03, 1.28, 1.53, 1.78, nan, nan, nan, nan, nan, nan, nan, nan, nan, 8.46, nan, nan, nan, nan, nan, nan, nan, nan, nan, nan, nan, nan, 10.71, nan, nan, nan, nan, nan, nan, nan, nan, nan, nan, nan, nan, nan, nan, nan, nan, nan, nan, nan, nan, nan, nan, nan, nan, nan, nan, nan, nan, nan, nan, nan, nan, nan, nan, nan, nan, nan, nan, 4.65, 4.4, 4.15, 4.9, nan, 5.4, 5.15, 5.9, 5.65, 6.15, 6.65, 7.4, 7.15, 7.65, 8.15, 9.4, 10.65, nan, nan, nan, nan, nan, nan, nan, nan, nan, nan, nan, nan, nan, nan, nan, nan, 1.12, 1.37, 1.62, 1.87, 2.62, 2.12, 2.87, 2.37, 3.62, 3.12, 3.37, 3.87, nan, 4.12, 4.62, 4.37, 4.87, nan, 5.87, 5.37, 5.12, 5.62, 6.62, 6.37, 6.12, 6.87, 7.87, 7.12, nan, nan, nan, 0.62, 0.12, 0.37, 0.87, nan, nan, nan, 2.59, 2.09, 2.34, 2.84, 3.59, 3.09, 3.84, 3.34, 4.34, 4.09, 4.59, 4.84, nan, 5.34, 5.09, 5.59, nan, nan, 6.59, 6.34, 6.84, 6.09, nan, nan, nan, 6.0, nan, nan, nan, nan, nan, nan, 8.34, nan, nan, nan, nan, nan, nan, nan, nan, nan, nan, 4.31, 4.56, 4.81, 4.06, 5.56, 5.06, 5.31, 6.56, 6.06, 7.31, 7.56, 7.06, nan, nan, nan, nan, nan, nan, nan, nan, nan, nan, nan, nan, nan, nan, nan, nan, nan, nan, nan, nan, nan, nan, nan, nan, nan, nan, nan, nan, nan, nan, nan, nan, nan, nan, nan, nan, 8.28, 8.03, 10.78, 11.03, nan, nan, nan, nan, nan, nan, nan, nan, nan, nan, 6.19, 6.69, 6.94, 0.71, 0.96, 2.8, 2.3, 4.94, 4.44, 4.64, 5.64, 7.14, 2.05, 2.55, 3.8, 3.3, 4.8, 5.05, 6.89, 7.64, nan, nan, nan, nan, nan, nan, nan, nan, nan, nan, nan, nan, nan, nan, nan, nan, nan, nan, nan, nan, nan, nan, nan, nan, nan, nan, 0.21, nan, nan, nan, nan, nan, nan, nan, nan, nan, nan, nan, nan, nan, nan, nan, 0.46, nan, nan, nan, nan, nan, nan, nan, nan, nan, nan, nan, nan, nan, nan, nan, nan, nan, nan, nan, nan, nan, nan, nan, nan, nan, nan, nan, nan, nan, nan, nan, nan, nan, nan, nan, nan, nan, nan, nan, nan, nan, nan, nan, nan, nan, nan, nan, nan, nan, nan, nan, nan, nan, nan, nan, nan, nan, nan, nan, nan, nan, nan, nan, nan, nan, nan, nan, nan, nan, nan, nan, nan, nan, nan, nan, nan, nan, nan, nan, nan, nan, nan, nan, nan, nan, nan, nan, nan, nan, nan, nan, nan, nan, nan, nan, nan, nan, nan, nan, nan, nan, nan, nan, nan, nan, nan, nan, nan, nan, nan, nan, nan, nan, nan, nan, 2.02, 2.27, 3.52, 3.77, 3.02, nan, nan, nan, nan, nan, nan, nan, nan, nan, nan, nan, nan, nan, nan, nan, nan, nan, nan, nan, nan, nan, nan, nan, nan, nan, nan, nan, nan, nan, nan, 0.3, nan, nan, nan, 0.05, nan, nan, nan, nan, nan, nan, nan, nan, nan, nan, nan, nan, nan, nan, nan, nan, nan, nan, nan, nan, nan, nan, nan, nan, nan, nan, nan, nan, nan, nan, nan, nan, nan, nan, nan, nan, nan, nan, nan, nan, nan, nan, nan, nan, nan, nan, nan, nan, nan, nan, nan, nan, nan, nan, nan, nan, nan, nan, nan, nan, nan, nan, nan, nan, nan, nan, nan, nan, 0.55, 1.14, 1.89, 1.39, 1.64, 0.8, 1.55, 1.05, 1.8, 1.3, nan, nan, nan, nan, nan, nan, nan, nan, nan, nan, nan, nan, nan, nan, nan, nan, nan, nan, nan, nan, nan, nan, nan, nan, nan, nan, nan, nan, nan, nan, nan, nan, nan, nan, nan, nan, nan, nan, nan, nan, nan, nan, nan, nan, nan, nan, nan, nan, nan, nan, nan, nan, nan, nan, nan, nan, nan, nan, nan, nan, nan, nan, nan, nan, nan, nan, nan, nan, nan, nan, nan, nan, nan, nan, nan, nan, nan, nan, nan, nan, nan, nan, nan, nan, nan, nan, nan, nan, nan, nan, nan, nan, nan, nan, nan, nan, nan, nan, nan, nan, nan, nan, nan, nan, nan, nan, nan, nan, nan, nan, nan, nan, nan, nan, nan, nan, nan, nan, nan, nan, nan, nan, nan, nan, nan, nan, nan, nan, nan, nan, nan, nan, nan, nan, nan, nan, nan, nan, nan, nan, nan, nan, nan, nan, nan, nan, nan, nan, nan, nan, nan, nan, nan, nan, nan, nan, nan, nan, nan, nan, nan, nan, nan, nan, nan, nan, nan, nan, nan, nan, nan, nan, nan, nan, nan, nan, nan, nan, nan, nan, nan, 0.14, 0.64, 0.89, 0.39, nan, nan, nan, nan, nan, nan, nan, nan, nan, nan, nan, nan, nan, 4.48, 4.98, 4.23, 4.73, 5.48, 5.98, 5.23, 5.73, 6.23, 6.48, 6.98, 7.73, 7.23, nan, nan, nan, nan, nan, nan, nan, nan, nan, nan, 8.98, 9.73, nan, nan, nan, nan, nan, nan, nan, nan, nan, nan, nan, nan, nan, nan, 2.95, 2.45, 2.7, 2.2, 3.45, 3.2, 3.7, 3.95, 4.45, 4.95, 4.2, 4.7, nan, 5.2, 5.95, nan, nan, nan, 6.2, 6.95, 5.45, nan, nan, 7.2, nan, nan, nan, nan, nan, nan, nan, nan, nan, nan, nan, nan, nan, nan, nan, nan, nan, nan, nan, nan, nan, nan, nan, 1.67, 1.17, 1.92, 2.17, 2.67, 2.92, 3.92, 3.42, 3.17, 3.67, 4.67, 4.17, 4.92, 4.42, 5.42, 5.92, 5.17, 5.67, 6.17, 6.67, 6.42, 6.92, 7.92, 7.67, 8.67, 8.92, 10.67, nan, nan, nan, nan, nan, nan, nan, nan, nan, nan, nan, nan, 4.89, 4.39, 4.14, nan, nan, 5.89, 5.14, 5.39, nan, nan, 6.39, nan, nan, nan, nan, nan, nan, nan, nan, nan, nan, nan, nan, nan, 7.89, nan, nan, nan, nan, nan, nan, nan, nan, nan, nan, nan, nan, nan, nan, nan, nan, nan, nan, 0.48, 0.98, 2.82, 2.32, 2.07, 2.57, 3.57, 3.07, 3.82, 3.32, 1.73, 2.23, 3.48, nan, nan, nan, nan, nan, nan, nan, nan, nan, 0.23, nan, nan, nan, nan, nan, nan, nan, nan, nan, nan, nan, nan, nan, nan, nan, nan, nan, nan, nan, nan, nan, nan, nan, nan, nan, nan, nan, nan, nan, nan, nan, nan, nan, nan, nan, nan, nan, nan, nan, nan, nan, nan, nan, nan, nan, nan, nan, nan, nan, nan, nan, nan, nan, nan, nan, nan, nan, nan, nan, nan, nan, nan, nan, nan, nan, nan, nan, nan, nan, nan, nan, nan, nan, nan, nan, nan, nan, nan, nan, nan, nan, nan, nan, nan, nan, nan, nan, nan, nan, nan, nan, nan, nan, nan, nan, nan, nan, 0.57, 0.82, nan, nan, nan, nan, nan, nan, nan, nan, nan, nan, nan, nan, nan, nan, nan, nan, nan, nan, nan, nan, nan, nan, nan, nan, nan, nan, nan, nan, nan, nan, nan, nan, nan, nan, nan, nan, nan, nan, nan, nan, nan, nan, nan, nan, nan, nan, nan, nan, nan, nan, nan, nan, nan, nan, nan, nan, nan, nan, nan, nan, nan, nan, nan, nan, nan, nan, nan, nan, nan, nan, nan, nan, nan, nan, nan, nan, nan, nan, nan, nan, nan, nan, nan, 0.32, 0.07, nan, nan, nan, nan, nan, nan, nan, nan, nan, nan, nan, nan, nan, nan, nan, nan, nan, nan, nan, nan, nan, nan, 1.6, 1.1, 1.35, 1.85, 2.6, 2.85, 2.35, 3.6, 3.85, 3.35, 3.1, nan, nan, nan, nan, nan, nan, nan, nan, nan, nan, nan, nan, nan, nan, nan, nan, nan, nan, nan, nan, nan, nan, nan, nan, nan, nan, nan, nan, nan, nan, nan, nan, nan, 1.16, 1.41, 1.66, 1.91, 1.82, 1.57, 1.32, 1.07, nan, nan, nan, nan, nan, nan, nan, nan, nan, nan, nan, nan, nan, nan, nan, nan, nan, nan, nan, nan, nan, nan, nan, nan, nan, nan, nan, nan, nan, nan, nan, nan, nan, nan, nan, nan, nan, nan, nan, nan, nan, nan, nan, nan, nan, nan, nan, nan, nan, nan, nan, nan, nan, nan, nan, nan, nan, nan, nan, nan, nan, nan, 0.41, nan, nan, nan, nan, nan, nan, nan, nan, nan, nan, nan, nan, nan, 4.3, nan, nan, nan, nan, nan, nan, nan, nan, nan, nan, nan, nan, nan, nan, nan, nan, nan, nan, nan, nan, nan, nan, nan, nan, nan, 0.16, nan, 6.55, nan, nan, nan, nan, nan, nan, nan, nan, nan, nan, nan, nan, nan, nan, nan, nan, nan, nan, nan, nan, nan, nan, nan, nan, nan, nan, nan, 7.3, nan, nan, nan, nan, nan, nan, nan, 0.91, 0.66, nan, nan, nan, nan, nan, nan, nan, nan, nan, nan, nan, nan, nan, nan, nan, nan, nan, nan, nan, nan, nan, nan, nan, nan, nan, nan, nan, nan, nan, nan, nan, nan, nan, nan, nan, nan, nan, nan, nan, nan, nan, nan, nan, nan, nan, nan, nan, nan, 3.9, nan, nan, nan, nan, nan, nan, nan, nan, nan, nan, nan, nan, nan, nan, nan, nan, nan, nan, nan, nan, nan, nan, nan, nan, nan, nan, nan, nan, nan, nan, nan, nan, nan, nan, nan, nan, nan, nan, nan, nan, 9.81, 10.31, nan, nan, nan, nan, nan, nan, nan, nan, nan, nan, nan, nan, nan, nan, nan, nan, nan, nan, nan, nan, nan, nan, nan, nan, nan, nan, nan, nan, nan, nan, 4.78, 4.03, 5.03, 5.28, 4.28, 6.28, 6.53, 5.78, 6.03, nan, nan, nan, nan, nan, nan, nan, nan, nan, nan}\n"
          ]
        }
      ],
      "source": [
        "i=20\n",
        "for i in df.columns[i:i+1]:\n",
        "    print(i,set(df[i]))\n"
      ]
    },
    {
      "cell_type": "code",
      "execution_count": null,
      "metadata": {
        "colab": {
          "base_uri": "https://localhost:8080/"
        },
        "id": "51a0u2kzttz7",
        "outputId": "c77f44ff-c173-437e-f63c-874bf2c9deea"
      },
      "outputs": [
        {
          "output_type": "stream",
          "name": "stdout",
          "text": [
            "0.109424    2464\n",
            "0.058664    1321\n",
            "0.056755    1278\n",
            "0.048361    1089\n",
            "0.044365     999\n",
            "0.039080     880\n",
            "0.035305     795\n",
            "0.034328     773\n",
            "0.032596     734\n",
            "0.029399     662\n",
            "0.028511     642\n",
            "0.027622     622\n",
            "0.027445     618\n",
            "0.025180     567\n",
            "0.024603     554\n",
            "0.022959     517\n",
            "0.021716     489\n",
            "0.021494     484\n",
            "0.021050     474\n",
            "0.020384     459\n",
            "0.018252     411\n",
            "0.017275     389\n",
            "0.016742     377\n",
            "0.008082     364\n",
            "0.016120     363\n",
            "0.015721     354\n",
            "0.015365     346\n",
            "0.012390     279\n",
            "0.012124     273\n",
            "0.011902     268\n",
            "0.010703     241\n",
            "0.010481     236\n",
            "0.009415     212\n",
            "0.008882     200\n",
            "0.008349     188\n",
            "0.007949     179\n",
            "0.007505     169\n",
            "0.007461     168\n",
            "0.007105     160\n",
            "0.006883     155\n",
            "0.006839     154\n",
            "0.006128     138\n",
            "0.005995     135\n",
            "0.005373     121\n",
            "0.005107     115\n",
            "0.004530     102\n",
            "Name: neighbourhood_cleansed_freq, dtype: int64\n",
            "0.243539    5484\n",
            "0.205347    4624\n",
            "0.157119    3538\n",
            "0.155165    3494\n",
            "0.070610    1590\n",
            "0.069234    1559\n",
            "0.030509     687\n",
            "0.026423     595\n",
            "0.019407     437\n",
            "0.010925     246\n",
            "0.006217     140\n",
            "0.005507     124\n",
            "Name: neighbourhood_group_cleansed_freq, dtype: int64\n",
            "0.896838    20195\n",
            "0.027178      612\n",
            "0.020428      460\n",
            "0.017586      396\n",
            "0.007727      174\n",
            "0.005684      128\n",
            "0.004352       98\n",
            "0.003286       74\n",
            "0.002842       64\n",
            "0.002531       57\n",
            "0.002220       50\n",
            "0.002087       47\n",
            "0.001910       43\n",
            "0.000488       22\n",
            "0.000888       20\n",
            "0.000755       17\n",
            "0.000311       14\n",
            "0.000533       12\n",
            "0.000444       10\n",
            "0.000044        6\n",
            "0.000089        6\n",
            "0.000266        6\n",
            "0.000178        4\n",
            "0.000133        3\n",
            "Name: property_type_freq, dtype: int64\n",
            "0.511413    11516\n",
            "0.475442    10706\n",
            "0.013145      296\n",
            "Name: room_type_freq, dtype: int64\n",
            "0.965183    21734\n",
            "0.019984      450\n",
            "0.010614      239\n",
            "0.003197       72\n",
            "0.001021       23\n",
            "Name: bed_type_freq, dtype: int64\n",
            "0.403322    9082\n",
            "0.314682    7086\n",
            "0.279021    6283\n",
            "0.002354      53\n",
            "0.000622      14\n",
            "Name: cancellation_policy_freq, dtype: int64\n"
          ]
        }
      ],
      "source": [
        "for c in category:\n",
        "    df[c+'_freq'] = df[c].map(df.groupby(c).size() / df.shape[0])   # shape is rows* columns.. shape[0]--rows, shape[1]--columns\n",
        "    indexer = pd.factorize(df[c], sort=True)[1]\n",
        "    df[c] = indexer.get_indexer(df[c])\n",
        "    print(df[c+'_freq'].value_counts())"
      ]
    },
    {
      "cell_type": "code",
      "execution_count": null,
      "metadata": {
        "colab": {
          "base_uri": "https://localhost:8080/",
          "height": 270
        },
        "id": "vmKIHyegttz7",
        "outputId": "b66de3b4-9c6b-4e18-b644-8fcad3488034"
      },
      "outputs": [
        {
          "output_type": "execute_result",
          "data": {
            "text/plain": [
              "   accommodates  bathrooms  bedrooms  cleaning_fee  security_deposit  \\\n",
              "0             3        1.0       1.0          30.0             200.0   \n",
              "1             2        1.0       1.0           0.0               0.0   \n",
              "2             4        1.0       1.0          50.0             200.0   \n",
              "3             2        1.0       1.0          30.0             250.0   \n",
              "4             2        1.0       1.0           0.0               0.0   \n",
              "\n",
              "   extra_people  guests_included  size  host_has_profile_pic  host_since  \\\n",
              "0          28.0                1  75.0                     1   13.271233   \n",
              "1           0.0                1  25.0                     1   13.191781   \n",
              "2          20.0                2  68.0                     1   13.101370   \n",
              "3          18.0                1  26.0                     1   13.049315   \n",
              "4          24.0                1  20.0                     1   12.528767   \n",
              "\n",
              "   neighbourhood_cleansed  neighbourhood_group_cleansed  host_is_superhost  \\\n",
              "0                       5                             4                1.0   \n",
              "1                      27                             6                0.0   \n",
              "2                      30                             6                0.0   \n",
              "3                      36                            10                0.0   \n",
              "4                      10                             6                1.0   \n",
              "\n",
              "    latitude  longitude  is_location_exact  property_type  room_type  \\\n",
              "0  52.534537  13.402557                  0             16          0   \n",
              "1  52.548513  13.404553                  1              1          1   \n",
              "2  52.534996  13.417579                  1              1          0   \n",
              "3  52.498855  13.349065                  1              1          1   \n",
              "4  52.543157  13.415091                  1              1          1   \n",
              "\n",
              "   bed_type     price  reviews_per_month  number_of_reviews  minimum_nights  \\\n",
              "0         4  4.110874               3.76                118               4   \n",
              "1         4  2.890372               1.42                  6               2   \n",
              "2         4  4.510860               1.25                143              62   \n",
              "3         3  3.295837               0.39                 25               5   \n",
              "4         4  3.761200               1.75                197               2   \n",
              "\n",
              "   instant_bookable  is_business_travel_ready  cancellation_policy  \\\n",
              "0                 0                         0                    2   \n",
              "1                 0                         0                    0   \n",
              "2                 1                         0                    2   \n",
              "3                 0                         0                    2   \n",
              "4                 0                         0                    1   \n",
              "\n",
              "   availability_365  No_of_amentities  Laptop_friendly_workspace     TV  \\\n",
              "0               141              29.0                       True   True   \n",
              "1                 0              10.0                       True  False   \n",
              "2               220              19.0                       True  False   \n",
              "3               297              29.0                       True  False   \n",
              "4                26              13.0                       True  False   \n",
              "\n",
              "   Family_kid_friendly  Host_greets_you  Smoking_allowed  Hot_water  Fridge  \\\n",
              "0                 True            False            False       True    True   \n",
              "1                False            False            False      False   False   \n",
              "2                 True            False            False      False   False   \n",
              "3                False             True            False       True   False   \n",
              "4                 True            False            False       True   False   \n",
              "\n",
              "   distance_central  distance_airport  distance_railways  distance_avg  \\\n",
              "0          1.625414         19.266232          19.266232     13.385959   \n",
              "1          3.171617         20.675116          20.675116     14.840616   \n",
              "2          1.872657         18.966373          18.966373     13.268467   \n",
              "3          4.457682         17.574477          17.574477     13.202212   \n",
              "4          2.664743         19.880937          19.880937     14.142206   \n",
              "\n",
              "   neighbourhood_cleansed_freq  neighbourhood_group_cleansed_freq  \\\n",
              "0                     0.034328                           0.205347   \n",
              "1                     0.027622                           0.157119   \n",
              "2                     0.027445                           0.157119   \n",
              "3                     0.025180                           0.069234   \n",
              "4                     0.020384                           0.157119   \n",
              "\n",
              "   property_type_freq  room_type_freq  bed_type_freq  cancellation_policy_freq  \n",
              "0            0.002531        0.475442       0.965183                  0.279021  \n",
              "1            0.896838        0.511413       0.965183                  0.403322  \n",
              "2            0.896838        0.475442       0.965183                  0.279021  \n",
              "3            0.896838        0.511413       0.019984                  0.279021  \n",
              "4            0.896838        0.511413       0.965183                  0.314682  "
            ],
            "text/html": [
              "\n",
              "  <div id=\"df-f2b1c00a-83d3-4bf0-ab69-2c32d435063f\">\n",
              "    <div class=\"colab-df-container\">\n",
              "      <div>\n",
              "<style scoped>\n",
              "    .dataframe tbody tr th:only-of-type {\n",
              "        vertical-align: middle;\n",
              "    }\n",
              "\n",
              "    .dataframe tbody tr th {\n",
              "        vertical-align: top;\n",
              "    }\n",
              "\n",
              "    .dataframe thead th {\n",
              "        text-align: right;\n",
              "    }\n",
              "</style>\n",
              "<table border=\"1\" class=\"dataframe\">\n",
              "  <thead>\n",
              "    <tr style=\"text-align: right;\">\n",
              "      <th></th>\n",
              "      <th>accommodates</th>\n",
              "      <th>bathrooms</th>\n",
              "      <th>bedrooms</th>\n",
              "      <th>cleaning_fee</th>\n",
              "      <th>security_deposit</th>\n",
              "      <th>extra_people</th>\n",
              "      <th>guests_included</th>\n",
              "      <th>size</th>\n",
              "      <th>host_has_profile_pic</th>\n",
              "      <th>host_since</th>\n",
              "      <th>neighbourhood_cleansed</th>\n",
              "      <th>neighbourhood_group_cleansed</th>\n",
              "      <th>host_is_superhost</th>\n",
              "      <th>latitude</th>\n",
              "      <th>longitude</th>\n",
              "      <th>is_location_exact</th>\n",
              "      <th>property_type</th>\n",
              "      <th>room_type</th>\n",
              "      <th>bed_type</th>\n",
              "      <th>price</th>\n",
              "      <th>reviews_per_month</th>\n",
              "      <th>number_of_reviews</th>\n",
              "      <th>minimum_nights</th>\n",
              "      <th>instant_bookable</th>\n",
              "      <th>is_business_travel_ready</th>\n",
              "      <th>cancellation_policy</th>\n",
              "      <th>availability_365</th>\n",
              "      <th>No_of_amentities</th>\n",
              "      <th>Laptop_friendly_workspace</th>\n",
              "      <th>TV</th>\n",
              "      <th>Family_kid_friendly</th>\n",
              "      <th>Host_greets_you</th>\n",
              "      <th>Smoking_allowed</th>\n",
              "      <th>Hot_water</th>\n",
              "      <th>Fridge</th>\n",
              "      <th>distance_central</th>\n",
              "      <th>distance_airport</th>\n",
              "      <th>distance_railways</th>\n",
              "      <th>distance_avg</th>\n",
              "      <th>neighbourhood_cleansed_freq</th>\n",
              "      <th>neighbourhood_group_cleansed_freq</th>\n",
              "      <th>property_type_freq</th>\n",
              "      <th>room_type_freq</th>\n",
              "      <th>bed_type_freq</th>\n",
              "      <th>cancellation_policy_freq</th>\n",
              "    </tr>\n",
              "  </thead>\n",
              "  <tbody>\n",
              "    <tr>\n",
              "      <th>0</th>\n",
              "      <td>3</td>\n",
              "      <td>1.0</td>\n",
              "      <td>1.0</td>\n",
              "      <td>30.0</td>\n",
              "      <td>200.0</td>\n",
              "      <td>28.0</td>\n",
              "      <td>1</td>\n",
              "      <td>75.0</td>\n",
              "      <td>1</td>\n",
              "      <td>13.271233</td>\n",
              "      <td>5</td>\n",
              "      <td>4</td>\n",
              "      <td>1.0</td>\n",
              "      <td>52.534537</td>\n",
              "      <td>13.402557</td>\n",
              "      <td>0</td>\n",
              "      <td>16</td>\n",
              "      <td>0</td>\n",
              "      <td>4</td>\n",
              "      <td>4.110874</td>\n",
              "      <td>3.76</td>\n",
              "      <td>118</td>\n",
              "      <td>4</td>\n",
              "      <td>0</td>\n",
              "      <td>0</td>\n",
              "      <td>2</td>\n",
              "      <td>141</td>\n",
              "      <td>29.0</td>\n",
              "      <td>True</td>\n",
              "      <td>True</td>\n",
              "      <td>True</td>\n",
              "      <td>False</td>\n",
              "      <td>False</td>\n",
              "      <td>True</td>\n",
              "      <td>True</td>\n",
              "      <td>1.625414</td>\n",
              "      <td>19.266232</td>\n",
              "      <td>19.266232</td>\n",
              "      <td>13.385959</td>\n",
              "      <td>0.034328</td>\n",
              "      <td>0.205347</td>\n",
              "      <td>0.002531</td>\n",
              "      <td>0.475442</td>\n",
              "      <td>0.965183</td>\n",
              "      <td>0.279021</td>\n",
              "    </tr>\n",
              "    <tr>\n",
              "      <th>1</th>\n",
              "      <td>2</td>\n",
              "      <td>1.0</td>\n",
              "      <td>1.0</td>\n",
              "      <td>0.0</td>\n",
              "      <td>0.0</td>\n",
              "      <td>0.0</td>\n",
              "      <td>1</td>\n",
              "      <td>25.0</td>\n",
              "      <td>1</td>\n",
              "      <td>13.191781</td>\n",
              "      <td>27</td>\n",
              "      <td>6</td>\n",
              "      <td>0.0</td>\n",
              "      <td>52.548513</td>\n",
              "      <td>13.404553</td>\n",
              "      <td>1</td>\n",
              "      <td>1</td>\n",
              "      <td>1</td>\n",
              "      <td>4</td>\n",
              "      <td>2.890372</td>\n",
              "      <td>1.42</td>\n",
              "      <td>6</td>\n",
              "      <td>2</td>\n",
              "      <td>0</td>\n",
              "      <td>0</td>\n",
              "      <td>0</td>\n",
              "      <td>0</td>\n",
              "      <td>10.0</td>\n",
              "      <td>True</td>\n",
              "      <td>False</td>\n",
              "      <td>False</td>\n",
              "      <td>False</td>\n",
              "      <td>False</td>\n",
              "      <td>False</td>\n",
              "      <td>False</td>\n",
              "      <td>3.171617</td>\n",
              "      <td>20.675116</td>\n",
              "      <td>20.675116</td>\n",
              "      <td>14.840616</td>\n",
              "      <td>0.027622</td>\n",
              "      <td>0.157119</td>\n",
              "      <td>0.896838</td>\n",
              "      <td>0.511413</td>\n",
              "      <td>0.965183</td>\n",
              "      <td>0.403322</td>\n",
              "    </tr>\n",
              "    <tr>\n",
              "      <th>2</th>\n",
              "      <td>4</td>\n",
              "      <td>1.0</td>\n",
              "      <td>1.0</td>\n",
              "      <td>50.0</td>\n",
              "      <td>200.0</td>\n",
              "      <td>20.0</td>\n",
              "      <td>2</td>\n",
              "      <td>68.0</td>\n",
              "      <td>1</td>\n",
              "      <td>13.101370</td>\n",
              "      <td>30</td>\n",
              "      <td>6</td>\n",
              "      <td>0.0</td>\n",
              "      <td>52.534996</td>\n",
              "      <td>13.417579</td>\n",
              "      <td>1</td>\n",
              "      <td>1</td>\n",
              "      <td>0</td>\n",
              "      <td>4</td>\n",
              "      <td>4.510860</td>\n",
              "      <td>1.25</td>\n",
              "      <td>143</td>\n",
              "      <td>62</td>\n",
              "      <td>1</td>\n",
              "      <td>0</td>\n",
              "      <td>2</td>\n",
              "      <td>220</td>\n",
              "      <td>19.0</td>\n",
              "      <td>True</td>\n",
              "      <td>False</td>\n",
              "      <td>True</td>\n",
              "      <td>False</td>\n",
              "      <td>False</td>\n",
              "      <td>False</td>\n",
              "      <td>False</td>\n",
              "      <td>1.872657</td>\n",
              "      <td>18.966373</td>\n",
              "      <td>18.966373</td>\n",
              "      <td>13.268467</td>\n",
              "      <td>0.027445</td>\n",
              "      <td>0.157119</td>\n",
              "      <td>0.896838</td>\n",
              "      <td>0.475442</td>\n",
              "      <td>0.965183</td>\n",
              "      <td>0.279021</td>\n",
              "    </tr>\n",
              "    <tr>\n",
              "      <th>3</th>\n",
              "      <td>2</td>\n",
              "      <td>1.0</td>\n",
              "      <td>1.0</td>\n",
              "      <td>30.0</td>\n",
              "      <td>250.0</td>\n",
              "      <td>18.0</td>\n",
              "      <td>1</td>\n",
              "      <td>26.0</td>\n",
              "      <td>1</td>\n",
              "      <td>13.049315</td>\n",
              "      <td>36</td>\n",
              "      <td>10</td>\n",
              "      <td>0.0</td>\n",
              "      <td>52.498855</td>\n",
              "      <td>13.349065</td>\n",
              "      <td>1</td>\n",
              "      <td>1</td>\n",
              "      <td>1</td>\n",
              "      <td>3</td>\n",
              "      <td>3.295837</td>\n",
              "      <td>0.39</td>\n",
              "      <td>25</td>\n",
              "      <td>5</td>\n",
              "      <td>0</td>\n",
              "      <td>0</td>\n",
              "      <td>2</td>\n",
              "      <td>297</td>\n",
              "      <td>29.0</td>\n",
              "      <td>True</td>\n",
              "      <td>False</td>\n",
              "      <td>False</td>\n",
              "      <td>True</td>\n",
              "      <td>False</td>\n",
              "      <td>True</td>\n",
              "      <td>False</td>\n",
              "      <td>4.457682</td>\n",
              "      <td>17.574477</td>\n",
              "      <td>17.574477</td>\n",
              "      <td>13.202212</td>\n",
              "      <td>0.025180</td>\n",
              "      <td>0.069234</td>\n",
              "      <td>0.896838</td>\n",
              "      <td>0.511413</td>\n",
              "      <td>0.019984</td>\n",
              "      <td>0.279021</td>\n",
              "    </tr>\n",
              "    <tr>\n",
              "      <th>4</th>\n",
              "      <td>2</td>\n",
              "      <td>1.0</td>\n",
              "      <td>1.0</td>\n",
              "      <td>0.0</td>\n",
              "      <td>0.0</td>\n",
              "      <td>24.0</td>\n",
              "      <td>1</td>\n",
              "      <td>20.0</td>\n",
              "      <td>1</td>\n",
              "      <td>12.528767</td>\n",
              "      <td>10</td>\n",
              "      <td>6</td>\n",
              "      <td>1.0</td>\n",
              "      <td>52.543157</td>\n",
              "      <td>13.415091</td>\n",
              "      <td>1</td>\n",
              "      <td>1</td>\n",
              "      <td>1</td>\n",
              "      <td>4</td>\n",
              "      <td>3.761200</td>\n",
              "      <td>1.75</td>\n",
              "      <td>197</td>\n",
              "      <td>2</td>\n",
              "      <td>0</td>\n",
              "      <td>0</td>\n",
              "      <td>1</td>\n",
              "      <td>26</td>\n",
              "      <td>13.0</td>\n",
              "      <td>True</td>\n",
              "      <td>False</td>\n",
              "      <td>True</td>\n",
              "      <td>False</td>\n",
              "      <td>False</td>\n",
              "      <td>True</td>\n",
              "      <td>False</td>\n",
              "      <td>2.664743</td>\n",
              "      <td>19.880937</td>\n",
              "      <td>19.880937</td>\n",
              "      <td>14.142206</td>\n",
              "      <td>0.020384</td>\n",
              "      <td>0.157119</td>\n",
              "      <td>0.896838</td>\n",
              "      <td>0.511413</td>\n",
              "      <td>0.965183</td>\n",
              "      <td>0.314682</td>\n",
              "    </tr>\n",
              "  </tbody>\n",
              "</table>\n",
              "</div>\n",
              "      <button class=\"colab-df-convert\" onclick=\"convertToInteractive('df-f2b1c00a-83d3-4bf0-ab69-2c32d435063f')\"\n",
              "              title=\"Convert this dataframe to an interactive table.\"\n",
              "              style=\"display:none;\">\n",
              "        \n",
              "  <svg xmlns=\"http://www.w3.org/2000/svg\" height=\"24px\"viewBox=\"0 0 24 24\"\n",
              "       width=\"24px\">\n",
              "    <path d=\"M0 0h24v24H0V0z\" fill=\"none\"/>\n",
              "    <path d=\"M18.56 5.44l.94 2.06.94-2.06 2.06-.94-2.06-.94-.94-2.06-.94 2.06-2.06.94zm-11 1L8.5 8.5l.94-2.06 2.06-.94-2.06-.94L8.5 2.5l-.94 2.06-2.06.94zm10 10l.94 2.06.94-2.06 2.06-.94-2.06-.94-.94-2.06-.94 2.06-2.06.94z\"/><path d=\"M17.41 7.96l-1.37-1.37c-.4-.4-.92-.59-1.43-.59-.52 0-1.04.2-1.43.59L10.3 9.45l-7.72 7.72c-.78.78-.78 2.05 0 2.83L4 21.41c.39.39.9.59 1.41.59.51 0 1.02-.2 1.41-.59l7.78-7.78 2.81-2.81c.8-.78.8-2.07 0-2.86zM5.41 20L4 18.59l7.72-7.72 1.47 1.35L5.41 20z\"/>\n",
              "  </svg>\n",
              "      </button>\n",
              "      \n",
              "  <style>\n",
              "    .colab-df-container {\n",
              "      display:flex;\n",
              "      flex-wrap:wrap;\n",
              "      gap: 12px;\n",
              "    }\n",
              "\n",
              "    .colab-df-convert {\n",
              "      background-color: #E8F0FE;\n",
              "      border: none;\n",
              "      border-radius: 50%;\n",
              "      cursor: pointer;\n",
              "      display: none;\n",
              "      fill: #1967D2;\n",
              "      height: 32px;\n",
              "      padding: 0 0 0 0;\n",
              "      width: 32px;\n",
              "    }\n",
              "\n",
              "    .colab-df-convert:hover {\n",
              "      background-color: #E2EBFA;\n",
              "      box-shadow: 0px 1px 2px rgba(60, 64, 67, 0.3), 0px 1px 3px 1px rgba(60, 64, 67, 0.15);\n",
              "      fill: #174EA6;\n",
              "    }\n",
              "\n",
              "    [theme=dark] .colab-df-convert {\n",
              "      background-color: #3B4455;\n",
              "      fill: #D2E3FC;\n",
              "    }\n",
              "\n",
              "    [theme=dark] .colab-df-convert:hover {\n",
              "      background-color: #434B5C;\n",
              "      box-shadow: 0px 1px 3px 1px rgba(0, 0, 0, 0.15);\n",
              "      filter: drop-shadow(0px 1px 2px rgba(0, 0, 0, 0.3));\n",
              "      fill: #FFFFFF;\n",
              "    }\n",
              "  </style>\n",
              "\n",
              "      <script>\n",
              "        const buttonEl =\n",
              "          document.querySelector('#df-f2b1c00a-83d3-4bf0-ab69-2c32d435063f button.colab-df-convert');\n",
              "        buttonEl.style.display =\n",
              "          google.colab.kernel.accessAllowed ? 'block' : 'none';\n",
              "\n",
              "        async function convertToInteractive(key) {\n",
              "          const element = document.querySelector('#df-f2b1c00a-83d3-4bf0-ab69-2c32d435063f');\n",
              "          const dataTable =\n",
              "            await google.colab.kernel.invokeFunction('convertToInteractive',\n",
              "                                                     [key], {});\n",
              "          if (!dataTable) return;\n",
              "\n",
              "          const docLinkHtml = 'Like what you see? Visit the ' +\n",
              "            '<a target=\"_blank\" href=https://colab.research.google.com/notebooks/data_table.ipynb>data table notebook</a>'\n",
              "            + ' to learn more about interactive tables.';\n",
              "          element.innerHTML = '';\n",
              "          dataTable['output_type'] = 'display_data';\n",
              "          await google.colab.output.renderOutput(dataTable, element);\n",
              "          const docLink = document.createElement('div');\n",
              "          docLink.innerHTML = docLinkHtml;\n",
              "          element.appendChild(docLink);\n",
              "        }\n",
              "      </script>\n",
              "    </div>\n",
              "  </div>\n",
              "  "
            ]
          },
          "metadata": {},
          "execution_count": 169
        }
      ],
      "source": [
        "df.head()"
      ]
    },
    {
      "cell_type": "code",
      "execution_count": null,
      "metadata": {
        "colab": {
          "base_uri": "https://localhost:8080/"
        },
        "id": "UnncFXYZttz7",
        "outputId": "d48f8d26-4bc2-4796-f7ed-d71271d06170"
      },
      "outputs": [
        {
          "output_type": "execute_result",
          "data": {
            "text/plain": [
              "accommodates                            0\n",
              "bathrooms                               0\n",
              "bedrooms                                0\n",
              "cleaning_fee                            0\n",
              "security_deposit                        0\n",
              "extra_people                            0\n",
              "guests_included                         0\n",
              "size                                    0\n",
              "host_has_profile_pic                    0\n",
              "host_since                              0\n",
              "neighbourhood_cleansed                  0\n",
              "neighbourhood_group_cleansed            0\n",
              "host_is_superhost                       0\n",
              "latitude                                0\n",
              "longitude                               0\n",
              "is_location_exact                       0\n",
              "property_type                           0\n",
              "room_type                               0\n",
              "bed_type                                0\n",
              "price                                   0\n",
              "reviews_per_month                    3901\n",
              "number_of_reviews                       0\n",
              "minimum_nights                          0\n",
              "instant_bookable                        0\n",
              "is_business_travel_ready                0\n",
              "cancellation_policy                     0\n",
              "availability_365                        0\n",
              "No_of_amentities                        0\n",
              "Laptop_friendly_workspace               0\n",
              "TV                                      0\n",
              "Family_kid_friendly                     0\n",
              "Host_greets_you                         0\n",
              "Smoking_allowed                         0\n",
              "Hot_water                               0\n",
              "Fridge                                  0\n",
              "distance_central                        0\n",
              "distance_airport                        0\n",
              "distance_railways                       0\n",
              "distance_avg                            0\n",
              "neighbourhood_cleansed_freq             0\n",
              "neighbourhood_group_cleansed_freq       0\n",
              "property_type_freq                      0\n",
              "room_type_freq                          0\n",
              "bed_type_freq                           0\n",
              "cancellation_policy_freq                0\n",
              "dtype: int64"
            ]
          },
          "metadata": {},
          "execution_count": 170
        }
      ],
      "source": [
        "df.isna().sum()"
      ]
    },
    {
      "cell_type": "code",
      "source": [
        "df['reviews_per_month'].value_counts()   #check distribution, if skewed, then mediun, else mean"
      ],
      "metadata": {
        "colab": {
          "base_uri": "https://localhost:8080/"
        },
        "id": "mfEbTM9Hi7CD",
        "outputId": "b3e9f52e-0690-4456-f1ae-b2fee73298e7"
      },
      "execution_count": null,
      "outputs": [
        {
          "output_type": "execute_result",
          "data": {
            "text/plain": [
              "0.54     3972\n",
              "0.03      618\n",
              "0.07      398\n",
              "0.06      359\n",
              "0.10      333\n",
              "         ... \n",
              "7.93        1\n",
              "5.88        1\n",
              "6.42        1\n",
              "5.24        1\n",
              "10.00       1\n",
              "Name: reviews_per_month, Length: 768, dtype: int64"
            ]
          },
          "metadata": {},
          "execution_count": 173
        }
      ]
    },
    {
      "cell_type": "code",
      "execution_count": null,
      "metadata": {
        "colab": {
          "base_uri": "https://localhost:8080/"
        },
        "id": "QH4PVhVOttz8",
        "outputId": "b739d54b-222a-495f-fcef-fc305291693c"
      },
      "outputs": [
        {
          "output_type": "execute_result",
          "data": {
            "text/plain": [
              "(22518, 45)"
            ]
          },
          "metadata": {},
          "execution_count": 174
        }
      ],
      "source": [
        "df['reviews_per_month'].fillna(df['reviews_per_month'].median(), inplace=True)\n",
        "df.shape"
      ]
    },
    {
      "cell_type": "markdown",
      "metadata": {
        "id": "ul2Oxke9ttz8"
      },
      "source": [
        " # Model"
      ]
    },
    {
      "cell_type": "code",
      "execution_count": null,
      "metadata": {
        "id": "FDwtIzV_ttz8"
      },
      "outputs": [],
      "source": [
        "X_train, X_val , y_train, y_val = train_test_split(df,y,test_size=0.3)"
      ]
    },
    {
      "cell_type": "code",
      "execution_count": null,
      "metadata": {
        "id": "Vp-_MHCYttz8",
        "outputId": "a8240e4c-50d4-4eda-8f50-7c28b24926dc"
      },
      "outputs": [
        {
          "ename": "ValueError",
          "evalue": "could not convert string to float: 'Meine schöne 1 Zimmer Wohnung mitten in Berlin. 50m entfernt von der U8 Pankstraße. Sodass alle Sehenswürdigkeiten in Berlin leicht erreichbar sind. Interessante Umgebung mit urigen Bars und Restaurants. Beste Tapas, gegrillte Hähnchen und Kebabs in Berlin. In meiner vollsanierten und sauberen Wohnung findest du ein großes Bett und ein saniertes Badezimmer mit Badewanne. Die Küche ist sehr gut ausgestattet. Meine Unterkunft ist gut für paare, alleinreisende abenteurer und geschäftsreisende.'",
          "output_type": "error",
          "traceback": [
            "\u001b[1;31m---------------------------------------------------------------------------\u001b[0m",
            "\u001b[1;31mValueError\u001b[0m                                Traceback (most recent call last)",
            "\u001b[1;32m<ipython-input-70-390977db0f65>\u001b[0m in \u001b[0;36m<module>\u001b[1;34m()\u001b[0m\n\u001b[0;32m      1\u001b[0m \u001b[0mscaler\u001b[0m \u001b[1;33m=\u001b[0m \u001b[0mStandardScaler\u001b[0m\u001b[1;33m(\u001b[0m\u001b[1;33m)\u001b[0m\u001b[1;33m\u001b[0m\u001b[0m\n\u001b[1;32m----> 2\u001b[1;33m \u001b[0mscaler\u001b[0m\u001b[1;33m.\u001b[0m\u001b[0mfit_transform\u001b[0m\u001b[1;33m(\u001b[0m\u001b[0mX_train\u001b[0m\u001b[1;33m)\u001b[0m\u001b[1;33m\u001b[0m\u001b[0m\n\u001b[0m\u001b[0;32m      3\u001b[0m \u001b[0mscaler\u001b[0m\u001b[1;33m.\u001b[0m\u001b[0mtransform\u001b[0m\u001b[1;33m(\u001b[0m\u001b[0mX_val\u001b[0m\u001b[1;33m)\u001b[0m\u001b[1;33m\u001b[0m\u001b[0m\n",
            "\u001b[1;32mC:\\Users\\Ayush_Kumar\\Anaconda3\\lib\\site-packages\\sklearn\\base.py\u001b[0m in \u001b[0;36mfit_transform\u001b[1;34m(self, X, y, **fit_params)\u001b[0m\n\u001b[0;32m    515\u001b[0m         \u001b[1;32mif\u001b[0m \u001b[0my\u001b[0m \u001b[1;32mis\u001b[0m \u001b[1;32mNone\u001b[0m\u001b[1;33m:\u001b[0m\u001b[1;33m\u001b[0m\u001b[0m\n\u001b[0;32m    516\u001b[0m             \u001b[1;31m# fit method of arity 1 (unsupervised transformation)\u001b[0m\u001b[1;33m\u001b[0m\u001b[1;33m\u001b[0m\u001b[0m\n\u001b[1;32m--> 517\u001b[1;33m             \u001b[1;32mreturn\u001b[0m \u001b[0mself\u001b[0m\u001b[1;33m.\u001b[0m\u001b[0mfit\u001b[0m\u001b[1;33m(\u001b[0m\u001b[0mX\u001b[0m\u001b[1;33m,\u001b[0m \u001b[1;33m**\u001b[0m\u001b[0mfit_params\u001b[0m\u001b[1;33m)\u001b[0m\u001b[1;33m.\u001b[0m\u001b[0mtransform\u001b[0m\u001b[1;33m(\u001b[0m\u001b[0mX\u001b[0m\u001b[1;33m)\u001b[0m\u001b[1;33m\u001b[0m\u001b[0m\n\u001b[0m\u001b[0;32m    518\u001b[0m         \u001b[1;32melse\u001b[0m\u001b[1;33m:\u001b[0m\u001b[1;33m\u001b[0m\u001b[0m\n\u001b[0;32m    519\u001b[0m             \u001b[1;31m# fit method of arity 2 (supervised transformation)\u001b[0m\u001b[1;33m\u001b[0m\u001b[1;33m\u001b[0m\u001b[0m\n",
            "\u001b[1;32mC:\\Users\\Ayush_Kumar\\Anaconda3\\lib\\site-packages\\sklearn\\preprocessing\\data.py\u001b[0m in \u001b[0;36mfit\u001b[1;34m(self, X, y)\u001b[0m\n\u001b[0;32m    588\u001b[0m         \u001b[1;31m# Reset internal state before fitting\u001b[0m\u001b[1;33m\u001b[0m\u001b[1;33m\u001b[0m\u001b[0m\n\u001b[0;32m    589\u001b[0m         \u001b[0mself\u001b[0m\u001b[1;33m.\u001b[0m\u001b[0m_reset\u001b[0m\u001b[1;33m(\u001b[0m\u001b[1;33m)\u001b[0m\u001b[1;33m\u001b[0m\u001b[0m\n\u001b[1;32m--> 590\u001b[1;33m         \u001b[1;32mreturn\u001b[0m \u001b[0mself\u001b[0m\u001b[1;33m.\u001b[0m\u001b[0mpartial_fit\u001b[0m\u001b[1;33m(\u001b[0m\u001b[0mX\u001b[0m\u001b[1;33m,\u001b[0m \u001b[0my\u001b[0m\u001b[1;33m)\u001b[0m\u001b[1;33m\u001b[0m\u001b[0m\n\u001b[0m\u001b[0;32m    591\u001b[0m \u001b[1;33m\u001b[0m\u001b[0m\n\u001b[0;32m    592\u001b[0m     \u001b[1;32mdef\u001b[0m \u001b[0mpartial_fit\u001b[0m\u001b[1;33m(\u001b[0m\u001b[0mself\u001b[0m\u001b[1;33m,\u001b[0m \u001b[0mX\u001b[0m\u001b[1;33m,\u001b[0m \u001b[0my\u001b[0m\u001b[1;33m=\u001b[0m\u001b[1;32mNone\u001b[0m\u001b[1;33m)\u001b[0m\u001b[1;33m:\u001b[0m\u001b[1;33m\u001b[0m\u001b[0m\n",
            "\u001b[1;32mC:\\Users\\Ayush_Kumar\\Anaconda3\\lib\\site-packages\\sklearn\\preprocessing\\data.py\u001b[0m in \u001b[0;36mpartial_fit\u001b[1;34m(self, X, y)\u001b[0m\n\u001b[0;32m    610\u001b[0m         \"\"\"\n\u001b[0;32m    611\u001b[0m         X = check_array(X, accept_sparse=('csr', 'csc'), copy=self.copy,\n\u001b[1;32m--> 612\u001b[1;33m                         warn_on_dtype=True, estimator=self, dtype=FLOAT_DTYPES)\n\u001b[0m\u001b[0;32m    613\u001b[0m \u001b[1;33m\u001b[0m\u001b[0m\n\u001b[0;32m    614\u001b[0m         \u001b[1;31m# Even in the case of `with_mean=False`, we update the mean anyway\u001b[0m\u001b[1;33m\u001b[0m\u001b[1;33m\u001b[0m\u001b[0m\n",
            "\u001b[1;32mC:\\Users\\Ayush_Kumar\\Anaconda3\\lib\\site-packages\\sklearn\\utils\\validation.py\u001b[0m in \u001b[0;36mcheck_array\u001b[1;34m(array, accept_sparse, dtype, order, copy, force_all_finite, ensure_2d, allow_nd, ensure_min_samples, ensure_min_features, warn_on_dtype, estimator)\u001b[0m\n\u001b[0;32m    431\u001b[0m                                       force_all_finite)\n\u001b[0;32m    432\u001b[0m     \u001b[1;32melse\u001b[0m\u001b[1;33m:\u001b[0m\u001b[1;33m\u001b[0m\u001b[0m\n\u001b[1;32m--> 433\u001b[1;33m         \u001b[0marray\u001b[0m \u001b[1;33m=\u001b[0m \u001b[0mnp\u001b[0m\u001b[1;33m.\u001b[0m\u001b[0marray\u001b[0m\u001b[1;33m(\u001b[0m\u001b[0marray\u001b[0m\u001b[1;33m,\u001b[0m \u001b[0mdtype\u001b[0m\u001b[1;33m=\u001b[0m\u001b[0mdtype\u001b[0m\u001b[1;33m,\u001b[0m \u001b[0morder\u001b[0m\u001b[1;33m=\u001b[0m\u001b[0morder\u001b[0m\u001b[1;33m,\u001b[0m \u001b[0mcopy\u001b[0m\u001b[1;33m=\u001b[0m\u001b[0mcopy\u001b[0m\u001b[1;33m)\u001b[0m\u001b[1;33m\u001b[0m\u001b[0m\n\u001b[0m\u001b[0;32m    434\u001b[0m \u001b[1;33m\u001b[0m\u001b[0m\n\u001b[0;32m    435\u001b[0m         \u001b[1;32mif\u001b[0m \u001b[0mensure_2d\u001b[0m\u001b[1;33m:\u001b[0m\u001b[1;33m\u001b[0m\u001b[0m\n",
            "\u001b[1;31mValueError\u001b[0m: could not convert string to float: 'Meine schöne 1 Zimmer Wohnung mitten in Berlin. 50m entfernt von der U8 Pankstraße. Sodass alle Sehenswürdigkeiten in Berlin leicht erreichbar sind. Interessante Umgebung mit urigen Bars und Restaurants. Beste Tapas, gegrillte Hähnchen und Kebabs in Berlin. In meiner vollsanierten und sauberen Wohnung findest du ein großes Bett und ein saniertes Badezimmer mit Badewanne. Die Küche ist sehr gut ausgestattet. Meine Unterkunft ist gut für paare, alleinreisende abenteurer und geschäftsreisende.'"
          ]
        }
      ],
      "source": [
        "scaler = StandardScaler()         # onject is created of class StandardScalar\n",
        "scaler.fit_transform(X_train)     # scalar-- it will scale the vales and fit it  # this isdone to fit  values in certain range # mean=0, sd=1\n",
        "scaler.transform(X_val)"
      ]
    },
    {
      "cell_type": "markdown",
      "metadata": {
        "id": "omRYKTzkttz8"
      },
      "source": [
        "## Linear Regression"
      ]
    },
    {
      "cell_type": "code",
      "execution_count": null,
      "metadata": {
        "id": "_5tNi178ttz9"
      },
      "outputs": [],
      "source": [
        "model = Lasso(alpha=1e-6)     # an instance of model is created.... "
      ]
    },
    {
      "cell_type": "code",
      "execution_count": null,
      "metadata": {
        "id": "w_trJGfmttz9",
        "outputId": "35ce00bf-1201-49ce-d32a-9c9a1f1d419a"
      },
      "outputs": [
        {
          "ename": "ValueError",
          "evalue": "could not convert string to float: 'Meine schöne 1 Zimmer Wohnung mitten in Berlin. 50m entfernt von der U8 Pankstraße. Sodass alle Sehenswürdigkeiten in Berlin leicht erreichbar sind. Interessante Umgebung mit urigen Bars und Restaurants. Beste Tapas, gegrillte Hähnchen und Kebabs in Berlin. In meiner vollsanierten und sauberen Wohnung findest du ein großes Bett und ein saniertes Badezimmer mit Badewanne. Die Küche ist sehr gut ausgestattet. Meine Unterkunft ist gut für paare, alleinreisende abenteurer und geschäftsreisende.'",
          "output_type": "error",
          "traceback": [
            "\u001b[1;31m---------------------------------------------------------------------------\u001b[0m",
            "\u001b[1;31mValueError\u001b[0m                                Traceback (most recent call last)",
            "\u001b[1;32m<ipython-input-72-b7a8c64777c1>\u001b[0m in \u001b[0;36m<module>\u001b[1;34m()\u001b[0m\n\u001b[1;32m----> 1\u001b[1;33m \u001b[0mmodel\u001b[0m\u001b[1;33m.\u001b[0m\u001b[0mfit\u001b[0m\u001b[1;33m(\u001b[0m\u001b[0mX_train\u001b[0m\u001b[1;33m,\u001b[0m\u001b[0my_train\u001b[0m\u001b[1;33m)\u001b[0m\u001b[1;33m\u001b[0m\u001b[0m\n\u001b[0m",
            "\u001b[1;32mC:\\Users\\Ayush_Kumar\\Anaconda3\\lib\\site-packages\\sklearn\\linear_model\\coordinate_descent.py\u001b[0m in \u001b[0;36mfit\u001b[1;34m(self, X, y, check_input)\u001b[0m\n\u001b[0;32m    705\u001b[0m                              \u001b[0morder\u001b[0m\u001b[1;33m=\u001b[0m\u001b[1;34m'F'\u001b[0m\u001b[1;33m,\u001b[0m \u001b[0mdtype\u001b[0m\u001b[1;33m=\u001b[0m\u001b[1;33m[\u001b[0m\u001b[0mnp\u001b[0m\u001b[1;33m.\u001b[0m\u001b[0mfloat64\u001b[0m\u001b[1;33m,\u001b[0m \u001b[0mnp\u001b[0m\u001b[1;33m.\u001b[0m\u001b[0mfloat32\u001b[0m\u001b[1;33m]\u001b[0m\u001b[1;33m,\u001b[0m\u001b[1;33m\u001b[0m\u001b[0m\n\u001b[0;32m    706\u001b[0m                              \u001b[0mcopy\u001b[0m\u001b[1;33m=\u001b[0m\u001b[0mself\u001b[0m\u001b[1;33m.\u001b[0m\u001b[0mcopy_X\u001b[0m \u001b[1;32mand\u001b[0m \u001b[0mself\u001b[0m\u001b[1;33m.\u001b[0m\u001b[0mfit_intercept\u001b[0m\u001b[1;33m,\u001b[0m\u001b[1;33m\u001b[0m\u001b[0m\n\u001b[1;32m--> 707\u001b[1;33m                              multi_output=True, y_numeric=True)\n\u001b[0m\u001b[0;32m    708\u001b[0m             y = check_array(y, order='F', copy=False, dtype=X.dtype.type,\n\u001b[0;32m    709\u001b[0m                             ensure_2d=False)\n",
            "\u001b[1;32mC:\\Users\\Ayush_Kumar\\Anaconda3\\lib\\site-packages\\sklearn\\utils\\validation.py\u001b[0m in \u001b[0;36mcheck_X_y\u001b[1;34m(X, y, accept_sparse, dtype, order, copy, force_all_finite, ensure_2d, allow_nd, multi_output, ensure_min_samples, ensure_min_features, y_numeric, warn_on_dtype, estimator)\u001b[0m\n\u001b[0;32m    571\u001b[0m     X = check_array(X, accept_sparse, dtype, order, copy, force_all_finite,\n\u001b[0;32m    572\u001b[0m                     \u001b[0mensure_2d\u001b[0m\u001b[1;33m,\u001b[0m \u001b[0mallow_nd\u001b[0m\u001b[1;33m,\u001b[0m \u001b[0mensure_min_samples\u001b[0m\u001b[1;33m,\u001b[0m\u001b[1;33m\u001b[0m\u001b[0m\n\u001b[1;32m--> 573\u001b[1;33m                     ensure_min_features, warn_on_dtype, estimator)\n\u001b[0m\u001b[0;32m    574\u001b[0m     \u001b[1;32mif\u001b[0m \u001b[0mmulti_output\u001b[0m\u001b[1;33m:\u001b[0m\u001b[1;33m\u001b[0m\u001b[0m\n\u001b[0;32m    575\u001b[0m         y = check_array(y, 'csr', force_all_finite=True, ensure_2d=False,\n",
            "\u001b[1;32mC:\\Users\\Ayush_Kumar\\Anaconda3\\lib\\site-packages\\sklearn\\utils\\validation.py\u001b[0m in \u001b[0;36mcheck_array\u001b[1;34m(array, accept_sparse, dtype, order, copy, force_all_finite, ensure_2d, allow_nd, ensure_min_samples, ensure_min_features, warn_on_dtype, estimator)\u001b[0m\n\u001b[0;32m    431\u001b[0m                                       force_all_finite)\n\u001b[0;32m    432\u001b[0m     \u001b[1;32melse\u001b[0m\u001b[1;33m:\u001b[0m\u001b[1;33m\u001b[0m\u001b[0m\n\u001b[1;32m--> 433\u001b[1;33m         \u001b[0marray\u001b[0m \u001b[1;33m=\u001b[0m \u001b[0mnp\u001b[0m\u001b[1;33m.\u001b[0m\u001b[0marray\u001b[0m\u001b[1;33m(\u001b[0m\u001b[0marray\u001b[0m\u001b[1;33m,\u001b[0m \u001b[0mdtype\u001b[0m\u001b[1;33m=\u001b[0m\u001b[0mdtype\u001b[0m\u001b[1;33m,\u001b[0m \u001b[0morder\u001b[0m\u001b[1;33m=\u001b[0m\u001b[0morder\u001b[0m\u001b[1;33m,\u001b[0m \u001b[0mcopy\u001b[0m\u001b[1;33m=\u001b[0m\u001b[0mcopy\u001b[0m\u001b[1;33m)\u001b[0m\u001b[1;33m\u001b[0m\u001b[0m\n\u001b[0m\u001b[0;32m    434\u001b[0m \u001b[1;33m\u001b[0m\u001b[0m\n\u001b[0;32m    435\u001b[0m         \u001b[1;32mif\u001b[0m \u001b[0mensure_2d\u001b[0m\u001b[1;33m:\u001b[0m\u001b[1;33m\u001b[0m\u001b[0m\n",
            "\u001b[1;31mValueError\u001b[0m: could not convert string to float: 'Meine schöne 1 Zimmer Wohnung mitten in Berlin. 50m entfernt von der U8 Pankstraße. Sodass alle Sehenswürdigkeiten in Berlin leicht erreichbar sind. Interessante Umgebung mit urigen Bars und Restaurants. Beste Tapas, gegrillte Hähnchen und Kebabs in Berlin. In meiner vollsanierten und sauberen Wohnung findest du ein großes Bett und ein saniertes Badezimmer mit Badewanne. Die Küche ist sehr gut ausgestattet. Meine Unterkunft ist gut für paare, alleinreisende abenteurer und geschäftsreisende.'"
          ]
        }
      ],
      "source": [
        "model.fit(X_train,y_train)    # input features and output labels"
      ]
    },
    {
      "cell_type": "code",
      "execution_count": null,
      "metadata": {
        "id": "_73Nrsxuttz9",
        "outputId": "bf9e4284-4cdd-437f-ae35-90066850b548"
      },
      "outputs": [
        {
          "ename": "NotFittedError",
          "evalue": "This Lasso instance is not fitted yet. Call 'fit' with appropriate arguments before using this method.",
          "output_type": "error",
          "traceback": [
            "\u001b[1;31m---------------------------------------------------------------------------\u001b[0m",
            "\u001b[1;31mNotFittedError\u001b[0m                            Traceback (most recent call last)",
            "\u001b[1;32m<ipython-input-73-ee8b309cb7b1>\u001b[0m in \u001b[0;36m<module>\u001b[1;34m()\u001b[0m\n\u001b[1;32m----> 1\u001b[1;33m \u001b[0mtrain_rmse\u001b[0m \u001b[1;33m=\u001b[0m\u001b[1;33m(\u001b[0m\u001b[0mr2_score\u001b[0m\u001b[1;33m(\u001b[0m\u001b[0my_train\u001b[0m\u001b[1;33m,\u001b[0m \u001b[0mmodel\u001b[0m\u001b[1;33m.\u001b[0m\u001b[0mpredict\u001b[0m\u001b[1;33m(\u001b[0m\u001b[0mX_train\u001b[0m\u001b[1;33m)\u001b[0m\u001b[1;33m)\u001b[0m\u001b[1;33m)\u001b[0m\u001b[1;33m\u001b[0m\u001b[0m\n\u001b[0m\u001b[0;32m      2\u001b[0m \u001b[0mtest_rmse\u001b[0m \u001b[1;33m=\u001b[0m\u001b[1;33m(\u001b[0m\u001b[0mr2_score\u001b[0m\u001b[1;33m(\u001b[0m\u001b[0my_val\u001b[0m\u001b[1;33m,\u001b[0m \u001b[0mmodel\u001b[0m\u001b[1;33m.\u001b[0m\u001b[0mpredict\u001b[0m\u001b[1;33m(\u001b[0m\u001b[0mX_val\u001b[0m\u001b[1;33m)\u001b[0m\u001b[1;33m)\u001b[0m\u001b[1;33m)\u001b[0m\u001b[1;33m\u001b[0m\u001b[0m\n\u001b[0;32m      3\u001b[0m \u001b[0mprint\u001b[0m\u001b[1;33m(\u001b[0m\u001b[1;34m'Train error= '\u001b[0m\u001b[1;33m,\u001b[0m\u001b[0mtrain_rmse\u001b[0m\u001b[1;33m)\u001b[0m\u001b[1;33m\u001b[0m\u001b[0m\n\u001b[0;32m      4\u001b[0m \u001b[0mprint\u001b[0m\u001b[1;33m(\u001b[0m\u001b[1;34m'Test error= '\u001b[0m\u001b[1;33m,\u001b[0m\u001b[0mtest_rmse\u001b[0m\u001b[1;33m)\u001b[0m\u001b[1;33m\u001b[0m\u001b[0m\n",
            "\u001b[1;32mC:\\Users\\Ayush_Kumar\\Anaconda3\\lib\\site-packages\\sklearn\\linear_model\\base.py\u001b[0m in \u001b[0;36mpredict\u001b[1;34m(self, X)\u001b[0m\n\u001b[0;32m    254\u001b[0m             \u001b[0mReturns\u001b[0m \u001b[0mpredicted\u001b[0m \u001b[0mvalues\u001b[0m\u001b[1;33m.\u001b[0m\u001b[1;33m\u001b[0m\u001b[0m\n\u001b[0;32m    255\u001b[0m         \"\"\"\n\u001b[1;32m--> 256\u001b[1;33m         \u001b[1;32mreturn\u001b[0m \u001b[0mself\u001b[0m\u001b[1;33m.\u001b[0m\u001b[0m_decision_function\u001b[0m\u001b[1;33m(\u001b[0m\u001b[0mX\u001b[0m\u001b[1;33m)\u001b[0m\u001b[1;33m\u001b[0m\u001b[0m\n\u001b[0m\u001b[0;32m    257\u001b[0m \u001b[1;33m\u001b[0m\u001b[0m\n\u001b[0;32m    258\u001b[0m     \u001b[0m_preprocess_data\u001b[0m \u001b[1;33m=\u001b[0m \u001b[0mstaticmethod\u001b[0m\u001b[1;33m(\u001b[0m\u001b[0m_preprocess_data\u001b[0m\u001b[1;33m)\u001b[0m\u001b[1;33m\u001b[0m\u001b[0m\n",
            "\u001b[1;32mC:\\Users\\Ayush_Kumar\\Anaconda3\\lib\\site-packages\\sklearn\\linear_model\\coordinate_descent.py\u001b[0m in \u001b[0;36m_decision_function\u001b[1;34m(self, X)\u001b[0m\n\u001b[0;32m    784\u001b[0m             \u001b[0mThe\u001b[0m \u001b[0mpredicted\u001b[0m \u001b[0mdecision\u001b[0m \u001b[0mfunction\u001b[0m\u001b[1;33m\u001b[0m\u001b[0m\n\u001b[0;32m    785\u001b[0m         \"\"\"\n\u001b[1;32m--> 786\u001b[1;33m         \u001b[0mcheck_is_fitted\u001b[0m\u001b[1;33m(\u001b[0m\u001b[0mself\u001b[0m\u001b[1;33m,\u001b[0m \u001b[1;34m'n_iter_'\u001b[0m\u001b[1;33m)\u001b[0m\u001b[1;33m\u001b[0m\u001b[0m\n\u001b[0m\u001b[0;32m    787\u001b[0m         \u001b[1;32mif\u001b[0m \u001b[0msparse\u001b[0m\u001b[1;33m.\u001b[0m\u001b[0misspmatrix\u001b[0m\u001b[1;33m(\u001b[0m\u001b[0mX\u001b[0m\u001b[1;33m)\u001b[0m\u001b[1;33m:\u001b[0m\u001b[1;33m\u001b[0m\u001b[0m\n\u001b[0;32m    788\u001b[0m             return safe_sparse_dot(X, self.coef_.T,\n",
            "\u001b[1;32mC:\\Users\\Ayush_Kumar\\Anaconda3\\lib\\site-packages\\sklearn\\utils\\validation.py\u001b[0m in \u001b[0;36mcheck_is_fitted\u001b[1;34m(estimator, attributes, msg, all_or_any)\u001b[0m\n\u001b[0;32m    766\u001b[0m \u001b[1;33m\u001b[0m\u001b[0m\n\u001b[0;32m    767\u001b[0m     \u001b[1;32mif\u001b[0m \u001b[1;32mnot\u001b[0m \u001b[0mall_or_any\u001b[0m\u001b[1;33m(\u001b[0m\u001b[1;33m[\u001b[0m\u001b[0mhasattr\u001b[0m\u001b[1;33m(\u001b[0m\u001b[0mestimator\u001b[0m\u001b[1;33m,\u001b[0m \u001b[0mattr\u001b[0m\u001b[1;33m)\u001b[0m \u001b[1;32mfor\u001b[0m \u001b[0mattr\u001b[0m \u001b[1;32min\u001b[0m \u001b[0mattributes\u001b[0m\u001b[1;33m]\u001b[0m\u001b[1;33m)\u001b[0m\u001b[1;33m:\u001b[0m\u001b[1;33m\u001b[0m\u001b[0m\n\u001b[1;32m--> 768\u001b[1;33m         \u001b[1;32mraise\u001b[0m \u001b[0mNotFittedError\u001b[0m\u001b[1;33m(\u001b[0m\u001b[0mmsg\u001b[0m \u001b[1;33m%\u001b[0m \u001b[1;33m{\u001b[0m\u001b[1;34m'name'\u001b[0m\u001b[1;33m:\u001b[0m \u001b[0mtype\u001b[0m\u001b[1;33m(\u001b[0m\u001b[0mestimator\u001b[0m\u001b[1;33m)\u001b[0m\u001b[1;33m.\u001b[0m\u001b[0m__name__\u001b[0m\u001b[1;33m}\u001b[0m\u001b[1;33m)\u001b[0m\u001b[1;33m\u001b[0m\u001b[0m\n\u001b[0m\u001b[0;32m    769\u001b[0m \u001b[1;33m\u001b[0m\u001b[0m\n\u001b[0;32m    770\u001b[0m \u001b[1;33m\u001b[0m\u001b[0m\n",
            "\u001b[1;31mNotFittedError\u001b[0m: This Lasso instance is not fitted yet. Call 'fit' with appropriate arguments before using this method."
          ]
        }
      ],
      "source": [
        "train_rmse =(r2_score(y_train, model.predict(X_train)))\n",
        "test_rmse =(r2_score(y_val, model.predict(X_val)))\n",
        "print('Train r2 score= ',train_rmse)\n",
        "print('Test r2 score= ',test_rmse)\n"
      ]
    },
    {
      "cell_type": "code",
      "execution_count": null,
      "metadata": {
        "id": "rqaxz3Tsttz9"
      },
      "outputs": [],
      "source": [
        "for i in range(len(model.coef_)):     # printing the weights(coefficient) of model\n",
        "    print(df.columns[i],' ',model.coef_[i])"
      ]
    },
    {
      "cell_type": "markdown",
      "metadata": {
        "id": "uyv03JuQttz-"
      },
      "source": [
        "## LightGBM"
      ]
    },
    {
      "cell_type": "code",
      "execution_count": null,
      "metadata": {
        "id": "SFRIJjaettz-"
      },
      "outputs": [],
      "source": [
        "for i in range(len(X_train.columns)):\n",
        "    print(i,' ',X_train.columns[i])         # printing columns"
      ]
    },
    {
      "cell_type": "code",
      "execution_count": null,
      "metadata": {
        "id": "oIy-6V_Pttz-"
      },
      "outputs": [],
      "source": [
        "import lightgbm as lgbm\n",
        "params = {'objective': 'regression',\n",
        "          'metric': 'rmse',\n",
        "          'learning_rate':0.01,\n",
        "          'max_depth':5                   # this we need to define manually\n",
        "         } \n",
        "train_set = lgbm.Dataset(X_train,y_train, silent=True)\n",
        "model = lgbm.train(params, train_set=train_set,num_boost_round=1000,categorical_feature=[2,3,8,9,13,21])"
      ]
    },
    {
      "cell_type": "code",
      "execution_count": null,
      "metadata": {
        "id": "VeoNsQ7_ttz-"
      },
      "outputs": [],
      "source": [
        "yp_train = model.predict(X_train)\n",
        "yp_val = model.predict(X_val)"
      ]
    },
    {
      "cell_type": "code",
      "execution_count": null,
      "metadata": {
        "id": "EucjzDKKttz-"
      },
      "outputs": [],
      "source": [
        "train_r2 =(r2_score(y_train, yp_train))\n",
        "test_r2 =(r2_score(y_val, yp_val))\n",
        "    \n",
        "print('Train r2 score= ',train_r2)\n",
        "print('Test r2 score= ',test_r2)\n"
      ]
    },
    {
      "cell_type": "code",
      "execution_count": null,
      "metadata": {
        "id": "Ef-6SO5kttz_"
      },
      "outputs": [],
      "source": [
        "train_rmse =(mse(y_train, yp_train))\n",
        "test_rmse =(mse(y_val, yp_val))       # mse should be less\n",
        "    \n",
        "print('Train error= ',train_rmse)\n",
        "print('Test error= ',test_rmse)\n"
      ]
    },
    {
      "cell_type": "code",
      "execution_count": null,
      "metadata": {
        "id": "urLGZWqEttz_"
      },
      "outputs": [],
      "source": [
        "def adj_r2(r2,n,p):\n",
        "    return 1- ((1-r2)*(n-1))/(n-p-1)"
      ]
    },
    {
      "cell_type": "code",
      "execution_count": null,
      "metadata": {
        "id": "WhrYZW9Dttz_"
      },
      "outputs": [],
      "source": [
        "adj_r2(train_r2,X_train.shape[0],X_train.shape[1])"
      ]
    },
    {
      "cell_type": "code",
      "execution_count": null,
      "metadata": {
        "id": "KTY0d1b1ttz_"
      },
      "outputs": [],
      "source": [
        "adj_r2(test_r2,X_val.shape[0],X_val.shape[1])"
      ]
    },
    {
      "cell_type": "code",
      "execution_count": null,
      "metadata": {
        "id": "K8Sd0Jx0tt0A"
      },
      "outputs": [],
      "source": [
        "# r2 score and adjusted r2 score should be high.. error should be low\n"
      ]
    }
  ],
  "metadata": {
    "kernelspec": {
      "display_name": "Python 3",
      "language": "python",
      "name": "python3"
    },
    "language_info": {
      "codemirror_mode": {
        "name": "ipython",
        "version": 3
      },
      "file_extension": ".py",
      "mimetype": "text/x-python",
      "name": "python",
      "nbconvert_exporter": "python",
      "pygments_lexer": "ipython3",
      "version": "3.6.10"
    },
    "colab": {
      "name": "Price and activity prediction.ipynb",
      "provenance": []
    }
  },
  "nbformat": 4,
  "nbformat_minor": 0
}