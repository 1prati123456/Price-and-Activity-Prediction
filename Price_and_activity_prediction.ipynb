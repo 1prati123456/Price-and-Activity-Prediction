{
 "cells": [
  {
   "cell_type": "code",
   "execution_count": 1,
   "metadata": {
    "id": "xq2S6MhvttzR"
   },
   "outputs": [],
   "source": [
    "import pandas as pd\n",
    "import seaborn as sns\n",
    "import numpy as np\n",
    "from scipy.stats import norm   \n",
    "import scipy\n",
    "import matplotlib.pyplot as plt\n",
    "from tqdm import tqdm \n",
    "pd.set_option('display.max_columns', 500)"
   ]
  },
  {
   "cell_type": "code",
   "execution_count": 2,
   "metadata": {
    "id": "rk9zfw9SttzZ"
   },
   "outputs": [],
   "source": [
    "from sklearn.model_selection import train_test_split \n",
    "from sklearn.linear_model import Lasso   \n",
    "from sklearn.metrics import mean_squared_error as mse \n",
    "from sklearn.metrics import mean_absolute_error as mae   \n",
    "from sklearn.metrics import r2_score  \n",
    "from sklearn.preprocessing import StandardScaler, MinMaxScaler "
   ]
  },
  {
   "cell_type": "markdown",
   "metadata": {
    "id": "GsVtbnRZttza"
   },
   "source": [
    "# Reading data"
   ]
  },
  {
   "cell_type": "code",
   "execution_count": 5,
   "metadata": {
    "colab": {
     "base_uri": "https://localhost:8080/",
     "height": 738
    },
    "id": "KrtmfOWpttzc",
    "outputId": "57a3a7f7-6688-4788-81cd-53fd948989de",
    "scrolled": true
   },
   "outputs": [
    {
     "data": {
      "text/html": [
       "<div>\n",
       "<style scoped>\n",
       "    .dataframe tbody tr th:only-of-type {\n",
       "        vertical-align: middle;\n",
       "    }\n",
       "\n",
       "    .dataframe tbody tr th {\n",
       "        vertical-align: top;\n",
       "    }\n",
       "\n",
       "    .dataframe thead th {\n",
       "        text-align: right;\n",
       "    }\n",
       "</style>\n",
       "<table border=\"1\" class=\"dataframe\">\n",
       "  <thead>\n",
       "    <tr style=\"text-align: right;\">\n",
       "      <th></th>\n",
       "      <th>id</th>\n",
       "      <th>listing_url</th>\n",
       "      <th>scrape_id</th>\n",
       "      <th>last_scraped</th>\n",
       "      <th>name</th>\n",
       "      <th>summary</th>\n",
       "      <th>space</th>\n",
       "      <th>description</th>\n",
       "      <th>experiences_offered</th>\n",
       "      <th>neighborhood_overview</th>\n",
       "      <th>notes</th>\n",
       "      <th>transit</th>\n",
       "      <th>access</th>\n",
       "      <th>interaction</th>\n",
       "      <th>house_rules</th>\n",
       "      <th>thumbnail_url</th>\n",
       "      <th>medium_url</th>\n",
       "      <th>picture_url</th>\n",
       "      <th>xl_picture_url</th>\n",
       "      <th>host_id</th>\n",
       "      <th>host_url</th>\n",
       "      <th>host_name</th>\n",
       "      <th>host_since</th>\n",
       "      <th>host_location</th>\n",
       "      <th>host_about</th>\n",
       "      <th>host_response_time</th>\n",
       "      <th>host_response_rate</th>\n",
       "      <th>host_acceptance_rate</th>\n",
       "      <th>host_is_superhost</th>\n",
       "      <th>host_thumbnail_url</th>\n",
       "      <th>host_picture_url</th>\n",
       "      <th>host_neighbourhood</th>\n",
       "      <th>host_listings_count</th>\n",
       "      <th>host_total_listings_count</th>\n",
       "      <th>host_verifications</th>\n",
       "      <th>host_has_profile_pic</th>\n",
       "      <th>host_identity_verified</th>\n",
       "      <th>street</th>\n",
       "      <th>neighbourhood</th>\n",
       "      <th>neighbourhood_cleansed</th>\n",
       "      <th>neighbourhood_group_cleansed</th>\n",
       "      <th>city</th>\n",
       "      <th>state</th>\n",
       "      <th>zipcode</th>\n",
       "      <th>market</th>\n",
       "      <th>smart_location</th>\n",
       "      <th>country_code</th>\n",
       "      <th>country</th>\n",
       "      <th>latitude</th>\n",
       "      <th>longitude</th>\n",
       "      <th>is_location_exact</th>\n",
       "      <th>property_type</th>\n",
       "      <th>room_type</th>\n",
       "      <th>accommodates</th>\n",
       "      <th>bathrooms</th>\n",
       "      <th>bedrooms</th>\n",
       "      <th>beds</th>\n",
       "      <th>bed_type</th>\n",
       "      <th>amenities</th>\n",
       "      <th>square_feet</th>\n",
       "      <th>price</th>\n",
       "      <th>weekly_price</th>\n",
       "      <th>monthly_price</th>\n",
       "      <th>security_deposit</th>\n",
       "      <th>cleaning_fee</th>\n",
       "      <th>guests_included</th>\n",
       "      <th>extra_people</th>\n",
       "      <th>minimum_nights</th>\n",
       "      <th>maximum_nights</th>\n",
       "      <th>calendar_updated</th>\n",
       "      <th>has_availability</th>\n",
       "      <th>availability_30</th>\n",
       "      <th>availability_60</th>\n",
       "      <th>availability_90</th>\n",
       "      <th>availability_365</th>\n",
       "      <th>calendar_last_scraped</th>\n",
       "      <th>number_of_reviews</th>\n",
       "      <th>first_review</th>\n",
       "      <th>last_review</th>\n",
       "      <th>review_scores_rating</th>\n",
       "      <th>review_scores_accuracy</th>\n",
       "      <th>review_scores_cleanliness</th>\n",
       "      <th>review_scores_checkin</th>\n",
       "      <th>review_scores_communication</th>\n",
       "      <th>review_scores_location</th>\n",
       "      <th>review_scores_value</th>\n",
       "      <th>requires_license</th>\n",
       "      <th>license</th>\n",
       "      <th>jurisdiction_names</th>\n",
       "      <th>instant_bookable</th>\n",
       "      <th>is_business_travel_ready</th>\n",
       "      <th>cancellation_policy</th>\n",
       "      <th>require_guest_profile_picture</th>\n",
       "      <th>require_guest_phone_verification</th>\n",
       "      <th>calculated_host_listings_count</th>\n",
       "      <th>reviews_per_month</th>\n",
       "    </tr>\n",
       "  </thead>\n",
       "  <tbody>\n",
       "    <tr>\n",
       "      <th>0</th>\n",
       "      <td>2015</td>\n",
       "      <td>https://www.airbnb.com/rooms/2015</td>\n",
       "      <td>20181107122246</td>\n",
       "      <td>2018-11-07</td>\n",
       "      <td>Berlin-Mitte Value! Quiet courtyard/very central</td>\n",
       "      <td>Great location!  30 of 75 sq meters. This wood...</td>\n",
       "      <td>A+++ location! This „Einliegerwohnung“ is an e...</td>\n",
       "      <td>Great location!  30 of 75 sq meters. This wood...</td>\n",
       "      <td>none</td>\n",
       "      <td>It is located in the former East Berlin area o...</td>\n",
       "      <td>This is my home, not a hotel. I rent out occas...</td>\n",
       "      <td>Close to U-Bahn U8 and U2 (metro), Trams M12, ...</td>\n",
       "      <td>Simple kitchen/cooking, refrigerator, microwav...</td>\n",
       "      <td>Always available</td>\n",
       "      <td>No parties No events No pets No smoking, not e...</td>\n",
       "      <td>NaN</td>\n",
       "      <td>NaN</td>\n",
       "      <td>https://a0.muscache.com/im/pictures/260fd609-7...</td>\n",
       "      <td>NaN</td>\n",
       "      <td>2217</td>\n",
       "      <td>https://www.airbnb.com/users/show/2217</td>\n",
       "      <td>Ian</td>\n",
       "      <td>2008-08-18</td>\n",
       "      <td>Key Biscayne, Florida, United States</td>\n",
       "      <td>Believe in sharing economy.</td>\n",
       "      <td>within an hour</td>\n",
       "      <td>96%</td>\n",
       "      <td>NaN</td>\n",
       "      <td>t</td>\n",
       "      <td>https://a0.muscache.com/im/pictures/21428a22-4...</td>\n",
       "      <td>https://a0.muscache.com/im/pictures/21428a22-4...</td>\n",
       "      <td>Mitte</td>\n",
       "      <td>4.0</td>\n",
       "      <td>4.0</td>\n",
       "      <td>['email', 'phone', 'reviews', 'jumio', 'offlin...</td>\n",
       "      <td>t</td>\n",
       "      <td>t</td>\n",
       "      <td>Berlin, Berlin, Germany</td>\n",
       "      <td>Mitte</td>\n",
       "      <td>Brunnenstr. Süd</td>\n",
       "      <td>Mitte</td>\n",
       "      <td>Berlin</td>\n",
       "      <td>Berlin</td>\n",
       "      <td>10119</td>\n",
       "      <td>Berlin</td>\n",
       "      <td>Berlin, Germany</td>\n",
       "      <td>DE</td>\n",
       "      <td>Germany</td>\n",
       "      <td>52.534537</td>\n",
       "      <td>13.402557</td>\n",
       "      <td>f</td>\n",
       "      <td>Guesthouse</td>\n",
       "      <td>Entire home/apt</td>\n",
       "      <td>3</td>\n",
       "      <td>1.0</td>\n",
       "      <td>1.0</td>\n",
       "      <td>2.0</td>\n",
       "      <td>Real Bed</td>\n",
       "      <td>{TV,\"Cable TV\",Wifi,Kitchen,Gym,Heating,\"Famil...</td>\n",
       "      <td>NaN</td>\n",
       "      <td>$60.00</td>\n",
       "      <td>NaN</td>\n",
       "      <td>NaN</td>\n",
       "      <td>$200.00</td>\n",
       "      <td>$30.00</td>\n",
       "      <td>1</td>\n",
       "      <td>$28.00</td>\n",
       "      <td>4</td>\n",
       "      <td>1125</td>\n",
       "      <td>3 months ago</td>\n",
       "      <td>t</td>\n",
       "      <td>0</td>\n",
       "      <td>21</td>\n",
       "      <td>51</td>\n",
       "      <td>141</td>\n",
       "      <td>2018-11-07</td>\n",
       "      <td>118</td>\n",
       "      <td>2016-04-11</td>\n",
       "      <td>2018-10-28</td>\n",
       "      <td>93.0</td>\n",
       "      <td>10.0</td>\n",
       "      <td>9.0</td>\n",
       "      <td>10.0</td>\n",
       "      <td>10.0</td>\n",
       "      <td>10.0</td>\n",
       "      <td>9.0</td>\n",
       "      <td>t</td>\n",
       "      <td>NaN</td>\n",
       "      <td>NaN</td>\n",
       "      <td>f</td>\n",
       "      <td>f</td>\n",
       "      <td>strict_14_with_grace_period</td>\n",
       "      <td>f</td>\n",
       "      <td>f</td>\n",
       "      <td>4</td>\n",
       "      <td>3.76</td>\n",
       "    </tr>\n",
       "    <tr>\n",
       "      <th>1</th>\n",
       "      <td>2695</td>\n",
       "      <td>https://www.airbnb.com/rooms/2695</td>\n",
       "      <td>20181107122246</td>\n",
       "      <td>2018-11-07</td>\n",
       "      <td>Prenzlauer Berg close to Mauerpark</td>\n",
       "      <td>NaN</td>\n",
       "      <td>In the summertime we are spending most of our ...</td>\n",
       "      <td>In the summertime we are spending most of our ...</td>\n",
       "      <td>none</td>\n",
       "      <td>NaN</td>\n",
       "      <td>NaN</td>\n",
       "      <td>Within walking distance you'll find the S-Bahn...</td>\n",
       "      <td>Außer deinem Zimmer kannst du noch die Küche u...</td>\n",
       "      <td>NaN</td>\n",
       "      <td>NaN</td>\n",
       "      <td>NaN</td>\n",
       "      <td>NaN</td>\n",
       "      <td>https://a0.muscache.com/im/pictures/97d4f6e8-1...</td>\n",
       "      <td>NaN</td>\n",
       "      <td>2986</td>\n",
       "      <td>https://www.airbnb.com/users/show/2986</td>\n",
       "      <td>Michael</td>\n",
       "      <td>2008-09-16</td>\n",
       "      <td>Berlin, Berlin, Germany</td>\n",
       "      <td>Living with my wife in Berlin.  Like travellin...</td>\n",
       "      <td>NaN</td>\n",
       "      <td>NaN</td>\n",
       "      <td>NaN</td>\n",
       "      <td>f</td>\n",
       "      <td>https://a0.muscache.com/im/pictures/50434955-1...</td>\n",
       "      <td>https://a0.muscache.com/im/pictures/50434955-1...</td>\n",
       "      <td>Prenzlauer Berg</td>\n",
       "      <td>1.0</td>\n",
       "      <td>1.0</td>\n",
       "      <td>['email', 'phone', 'reviews', 'jumio', 'govern...</td>\n",
       "      <td>t</td>\n",
       "      <td>t</td>\n",
       "      <td>Berlin, Berlin, Germany</td>\n",
       "      <td>NaN</td>\n",
       "      <td>Prenzlauer Berg Nordwest</td>\n",
       "      <td>Pankow</td>\n",
       "      <td>Berlin</td>\n",
       "      <td>Berlin</td>\n",
       "      <td>10437</td>\n",
       "      <td>Berlin</td>\n",
       "      <td>Berlin, Germany</td>\n",
       "      <td>DE</td>\n",
       "      <td>Germany</td>\n",
       "      <td>52.548513</td>\n",
       "      <td>13.404553</td>\n",
       "      <td>t</td>\n",
       "      <td>Apartment</td>\n",
       "      <td>Private room</td>\n",
       "      <td>2</td>\n",
       "      <td>1.0</td>\n",
       "      <td>1.0</td>\n",
       "      <td>1.0</td>\n",
       "      <td>Real Bed</td>\n",
       "      <td>{Wifi,Kitchen,Elevator,Heating,Washer,Essentia...</td>\n",
       "      <td>NaN</td>\n",
       "      <td>$17.00</td>\n",
       "      <td>NaN</td>\n",
       "      <td>NaN</td>\n",
       "      <td>$0.00</td>\n",
       "      <td>$0.00</td>\n",
       "      <td>1</td>\n",
       "      <td>$0.00</td>\n",
       "      <td>2</td>\n",
       "      <td>40</td>\n",
       "      <td>7 weeks ago</td>\n",
       "      <td>t</td>\n",
       "      <td>0</td>\n",
       "      <td>0</td>\n",
       "      <td>0</td>\n",
       "      <td>0</td>\n",
       "      <td>2018-11-07</td>\n",
       "      <td>6</td>\n",
       "      <td>2018-07-04</td>\n",
       "      <td>2018-10-01</td>\n",
       "      <td>100.0</td>\n",
       "      <td>10.0</td>\n",
       "      <td>10.0</td>\n",
       "      <td>10.0</td>\n",
       "      <td>10.0</td>\n",
       "      <td>10.0</td>\n",
       "      <td>10.0</td>\n",
       "      <td>t</td>\n",
       "      <td>NaN</td>\n",
       "      <td>NaN</td>\n",
       "      <td>f</td>\n",
       "      <td>f</td>\n",
       "      <td>flexible</td>\n",
       "      <td>f</td>\n",
       "      <td>f</td>\n",
       "      <td>1</td>\n",
       "      <td>1.42</td>\n",
       "    </tr>\n",
       "    <tr>\n",
       "      <th>2</th>\n",
       "      <td>3176</td>\n",
       "      <td>https://www.airbnb.com/rooms/3176</td>\n",
       "      <td>20181107122246</td>\n",
       "      <td>2018-11-07</td>\n",
       "      <td>Fabulous Flat in great Location</td>\n",
       "      <td>This beautiful first floor apartment  is situa...</td>\n",
       "      <td>1st floor (68m2) apartment on Kollwitzplatz/ P...</td>\n",
       "      <td>This beautiful first floor apartment  is situa...</td>\n",
       "      <td>none</td>\n",
       "      <td>The neighbourhood is famous for its variety of...</td>\n",
       "      <td>We welcome FAMILIES and cater especially for y...</td>\n",
       "      <td>We are 5 min walk  away from the tram M2, whic...</td>\n",
       "      <td>The apartment will be entirely yours. We are c...</td>\n",
       "      <td>Feel free to ask any questions prior to bookin...</td>\n",
       "      <td>It’s a non smoking flat, which likes to be tre...</td>\n",
       "      <td>NaN</td>\n",
       "      <td>NaN</td>\n",
       "      <td>https://a0.muscache.com/im/pictures/243355/84a...</td>\n",
       "      <td>NaN</td>\n",
       "      <td>3718</td>\n",
       "      <td>https://www.airbnb.com/users/show/3718</td>\n",
       "      <td>Britta</td>\n",
       "      <td>2008-10-19</td>\n",
       "      <td>Coledale, New South Wales, Australia</td>\n",
       "      <td>We love to travel ourselves a lot and prefer t...</td>\n",
       "      <td>within a day</td>\n",
       "      <td>100%</td>\n",
       "      <td>NaN</td>\n",
       "      <td>f</td>\n",
       "      <td>https://a0.muscache.com/im/users/3718/profile_...</td>\n",
       "      <td>https://a0.muscache.com/im/users/3718/profile_...</td>\n",
       "      <td>Prenzlauer Berg</td>\n",
       "      <td>1.0</td>\n",
       "      <td>1.0</td>\n",
       "      <td>['email', 'phone', 'facebook', 'reviews', 'man...</td>\n",
       "      <td>t</td>\n",
       "      <td>t</td>\n",
       "      <td>Berlin, Berlin, Germany</td>\n",
       "      <td>Prenzlauer Berg</td>\n",
       "      <td>Prenzlauer Berg Südwest</td>\n",
       "      <td>Pankow</td>\n",
       "      <td>Berlin</td>\n",
       "      <td>Berlin</td>\n",
       "      <td>10405</td>\n",
       "      <td>Berlin</td>\n",
       "      <td>Berlin, Germany</td>\n",
       "      <td>DE</td>\n",
       "      <td>Germany</td>\n",
       "      <td>52.534996</td>\n",
       "      <td>13.417579</td>\n",
       "      <td>t</td>\n",
       "      <td>Apartment</td>\n",
       "      <td>Entire home/apt</td>\n",
       "      <td>4</td>\n",
       "      <td>1.0</td>\n",
       "      <td>1.0</td>\n",
       "      <td>2.0</td>\n",
       "      <td>Real Bed</td>\n",
       "      <td>{Internet,Wifi,Kitchen,\"Buzzer/wireless interc...</td>\n",
       "      <td>720.0</td>\n",
       "      <td>$90.00</td>\n",
       "      <td>$520.00</td>\n",
       "      <td>$1,900.00</td>\n",
       "      <td>$200.00</td>\n",
       "      <td>$50.00</td>\n",
       "      <td>2</td>\n",
       "      <td>$20.00</td>\n",
       "      <td>62</td>\n",
       "      <td>1125</td>\n",
       "      <td>a week ago</td>\n",
       "      <td>t</td>\n",
       "      <td>0</td>\n",
       "      <td>0</td>\n",
       "      <td>0</td>\n",
       "      <td>220</td>\n",
       "      <td>2018-11-07</td>\n",
       "      <td>143</td>\n",
       "      <td>2009-06-20</td>\n",
       "      <td>2017-03-20</td>\n",
       "      <td>92.0</td>\n",
       "      <td>9.0</td>\n",
       "      <td>9.0</td>\n",
       "      <td>9.0</td>\n",
       "      <td>9.0</td>\n",
       "      <td>10.0</td>\n",
       "      <td>9.0</td>\n",
       "      <td>t</td>\n",
       "      <td>NaN</td>\n",
       "      <td>NaN</td>\n",
       "      <td>t</td>\n",
       "      <td>f</td>\n",
       "      <td>strict_14_with_grace_period</td>\n",
       "      <td>f</td>\n",
       "      <td>f</td>\n",
       "      <td>1</td>\n",
       "      <td>1.25</td>\n",
       "    </tr>\n",
       "    <tr>\n",
       "      <th>3</th>\n",
       "      <td>3309</td>\n",
       "      <td>https://www.airbnb.com/rooms/3309</td>\n",
       "      <td>20181107122246</td>\n",
       "      <td>2018-11-07</td>\n",
       "      <td>BerlinSpot Schöneberg near KaDeWe</td>\n",
       "      <td>First of all: I prefer short-notice bookings. ...</td>\n",
       "      <td>Your room is really big and has 26 sqm, is ver...</td>\n",
       "      <td>First of all: I prefer short-notice bookings. ...</td>\n",
       "      <td>none</td>\n",
       "      <td>My flat is in the middle of West-Berlin, direc...</td>\n",
       "      <td>The flat is a strictly non-smoking facility! A...</td>\n",
       "      <td>The public transportation is excellent: Severa...</td>\n",
       "      <td>I do have a strictly non-smoker-flat.  Keep th...</td>\n",
       "      <td>I'm working as a freelancing photographer. My ...</td>\n",
       "      <td>House-Rules and Information ..............(deu...</td>\n",
       "      <td>NaN</td>\n",
       "      <td>NaN</td>\n",
       "      <td>https://a0.muscache.com/im/pictures/29054294/b...</td>\n",
       "      <td>NaN</td>\n",
       "      <td>4108</td>\n",
       "      <td>https://www.airbnb.com/users/show/4108</td>\n",
       "      <td>Jana</td>\n",
       "      <td>2008-11-07</td>\n",
       "      <td>Berlin, Berlin, Germany</td>\n",
       "      <td>ENJOY EVERY DAY AS IF IT'S YOUR LAST!!! \\r\\n\\r...</td>\n",
       "      <td>NaN</td>\n",
       "      <td>NaN</td>\n",
       "      <td>NaN</td>\n",
       "      <td>f</td>\n",
       "      <td>https://a0.muscache.com/im/pictures/user/b5938...</td>\n",
       "      <td>https://a0.muscache.com/im/pictures/user/b5938...</td>\n",
       "      <td>Schöneberg</td>\n",
       "      <td>1.0</td>\n",
       "      <td>1.0</td>\n",
       "      <td>['email', 'phone', 'reviews', 'jumio', 'govern...</td>\n",
       "      <td>t</td>\n",
       "      <td>t</td>\n",
       "      <td>Berlin, Berlin, Germany</td>\n",
       "      <td>Schöneberg</td>\n",
       "      <td>Schöneberg-Nord</td>\n",
       "      <td>Tempelhof - Schöneberg</td>\n",
       "      <td>Berlin</td>\n",
       "      <td>Berlin</td>\n",
       "      <td>10777</td>\n",
       "      <td>Berlin</td>\n",
       "      <td>Berlin, Germany</td>\n",
       "      <td>DE</td>\n",
       "      <td>Germany</td>\n",
       "      <td>52.498855</td>\n",
       "      <td>13.349065</td>\n",
       "      <td>t</td>\n",
       "      <td>Apartment</td>\n",
       "      <td>Private room</td>\n",
       "      <td>2</td>\n",
       "      <td>1.0</td>\n",
       "      <td>1.0</td>\n",
       "      <td>1.0</td>\n",
       "      <td>Pull-out Sofa</td>\n",
       "      <td>{Internet,Wifi,\"Pets allowed\",\"Pets live on th...</td>\n",
       "      <td>0.0</td>\n",
       "      <td>$26.00</td>\n",
       "      <td>$175.00</td>\n",
       "      <td>$599.00</td>\n",
       "      <td>$250.00</td>\n",
       "      <td>$30.00</td>\n",
       "      <td>1</td>\n",
       "      <td>$18.00</td>\n",
       "      <td>5</td>\n",
       "      <td>360</td>\n",
       "      <td>4 weeks ago</td>\n",
       "      <td>t</td>\n",
       "      <td>0</td>\n",
       "      <td>0</td>\n",
       "      <td>22</td>\n",
       "      <td>297</td>\n",
       "      <td>2018-11-07</td>\n",
       "      <td>25</td>\n",
       "      <td>2013-08-12</td>\n",
       "      <td>2018-08-16</td>\n",
       "      <td>88.0</td>\n",
       "      <td>9.0</td>\n",
       "      <td>9.0</td>\n",
       "      <td>9.0</td>\n",
       "      <td>10.0</td>\n",
       "      <td>9.0</td>\n",
       "      <td>9.0</td>\n",
       "      <td>t</td>\n",
       "      <td>NaN</td>\n",
       "      <td>NaN</td>\n",
       "      <td>f</td>\n",
       "      <td>f</td>\n",
       "      <td>strict_14_with_grace_period</td>\n",
       "      <td>f</td>\n",
       "      <td>f</td>\n",
       "      <td>1</td>\n",
       "      <td>0.39</td>\n",
       "    </tr>\n",
       "    <tr>\n",
       "      <th>4</th>\n",
       "      <td>7071</td>\n",
       "      <td>https://www.airbnb.com/rooms/7071</td>\n",
       "      <td>20181107122246</td>\n",
       "      <td>2018-11-07</td>\n",
       "      <td>BrightRoom with sunny greenview!</td>\n",
       "      <td>Cozy and large room in the beautiful district ...</td>\n",
       "      <td>The BrightRoom is an approx. 20 sqm (215ft²), ...</td>\n",
       "      <td>Cozy and large room in the beautiful district ...</td>\n",
       "      <td>none</td>\n",
       "      <td>Great neighborhood with plenty of Cafés, Baker...</td>\n",
       "      <td>I hope you enjoy your stay to the fullest! Ple...</td>\n",
       "      <td>Best access to other parts of the city via pub...</td>\n",
       "      <td>The guests have access to the bathroom, a smal...</td>\n",
       "      <td>I am glad if I can give you advice or help as ...</td>\n",
       "      <td>Please take good care of everything during you...</td>\n",
       "      <td>NaN</td>\n",
       "      <td>NaN</td>\n",
       "      <td>https://a0.muscache.com/im/pictures/21278/32a1...</td>\n",
       "      <td>NaN</td>\n",
       "      <td>17391</td>\n",
       "      <td>https://www.airbnb.com/users/show/17391</td>\n",
       "      <td>Bright</td>\n",
       "      <td>2009-05-16</td>\n",
       "      <td>Berlin, Berlin, Germany</td>\n",
       "      <td>I'm a creative person, adventurer, and travele...</td>\n",
       "      <td>within an hour</td>\n",
       "      <td>100%</td>\n",
       "      <td>NaN</td>\n",
       "      <td>t</td>\n",
       "      <td>https://a0.muscache.com/im/pictures/user/48c3d...</td>\n",
       "      <td>https://a0.muscache.com/im/pictures/user/48c3d...</td>\n",
       "      <td>Prenzlauer Berg</td>\n",
       "      <td>1.0</td>\n",
       "      <td>1.0</td>\n",
       "      <td>['email', 'phone', 'reviews', 'jumio', 'govern...</td>\n",
       "      <td>t</td>\n",
       "      <td>t</td>\n",
       "      <td>Berlin, Berlin, Germany</td>\n",
       "      <td>Prenzlauer Berg</td>\n",
       "      <td>Helmholtzplatz</td>\n",
       "      <td>Pankow</td>\n",
       "      <td>Berlin</td>\n",
       "      <td>Berlin</td>\n",
       "      <td>10437</td>\n",
       "      <td>Berlin</td>\n",
       "      <td>Berlin, Germany</td>\n",
       "      <td>DE</td>\n",
       "      <td>Germany</td>\n",
       "      <td>52.543157</td>\n",
       "      <td>13.415091</td>\n",
       "      <td>t</td>\n",
       "      <td>Apartment</td>\n",
       "      <td>Private room</td>\n",
       "      <td>2</td>\n",
       "      <td>1.0</td>\n",
       "      <td>1.0</td>\n",
       "      <td>2.0</td>\n",
       "      <td>Real Bed</td>\n",
       "      <td>{Wifi,Heating,\"Family/kid friendly\",Essentials...</td>\n",
       "      <td>NaN</td>\n",
       "      <td>$42.00</td>\n",
       "      <td>NaN</td>\n",
       "      <td>NaN</td>\n",
       "      <td>$0.00</td>\n",
       "      <td>$0.00</td>\n",
       "      <td>1</td>\n",
       "      <td>$24.00</td>\n",
       "      <td>2</td>\n",
       "      <td>10</td>\n",
       "      <td>3 days ago</td>\n",
       "      <td>t</td>\n",
       "      <td>15</td>\n",
       "      <td>26</td>\n",
       "      <td>26</td>\n",
       "      <td>26</td>\n",
       "      <td>2018-11-07</td>\n",
       "      <td>197</td>\n",
       "      <td>2009-08-18</td>\n",
       "      <td>2018-11-04</td>\n",
       "      <td>96.0</td>\n",
       "      <td>10.0</td>\n",
       "      <td>10.0</td>\n",
       "      <td>10.0</td>\n",
       "      <td>10.0</td>\n",
       "      <td>10.0</td>\n",
       "      <td>9.0</td>\n",
       "      <td>t</td>\n",
       "      <td>NaN</td>\n",
       "      <td>NaN</td>\n",
       "      <td>f</td>\n",
       "      <td>f</td>\n",
       "      <td>moderate</td>\n",
       "      <td>f</td>\n",
       "      <td>f</td>\n",
       "      <td>1</td>\n",
       "      <td>1.75</td>\n",
       "    </tr>\n",
       "  </tbody>\n",
       "</table>\n",
       "</div>"
      ],
      "text/plain": [
       "     id                        listing_url       scrape_id last_scraped  \\\n",
       "0  2015  https://www.airbnb.com/rooms/2015  20181107122246   2018-11-07   \n",
       "1  2695  https://www.airbnb.com/rooms/2695  20181107122246   2018-11-07   \n",
       "2  3176  https://www.airbnb.com/rooms/3176  20181107122246   2018-11-07   \n",
       "3  3309  https://www.airbnb.com/rooms/3309  20181107122246   2018-11-07   \n",
       "4  7071  https://www.airbnb.com/rooms/7071  20181107122246   2018-11-07   \n",
       "\n",
       "                                               name  \\\n",
       "0  Berlin-Mitte Value! Quiet courtyard/very central   \n",
       "1                Prenzlauer Berg close to Mauerpark   \n",
       "2                   Fabulous Flat in great Location   \n",
       "3                 BerlinSpot Schöneberg near KaDeWe   \n",
       "4                  BrightRoom with sunny greenview!   \n",
       "\n",
       "                                             summary  \\\n",
       "0  Great location!  30 of 75 sq meters. This wood...   \n",
       "1                                                NaN   \n",
       "2  This beautiful first floor apartment  is situa...   \n",
       "3  First of all: I prefer short-notice bookings. ...   \n",
       "4  Cozy and large room in the beautiful district ...   \n",
       "\n",
       "                                               space  \\\n",
       "0  A+++ location! This „Einliegerwohnung“ is an e...   \n",
       "1  In the summertime we are spending most of our ...   \n",
       "2  1st floor (68m2) apartment on Kollwitzplatz/ P...   \n",
       "3  Your room is really big and has 26 sqm, is ver...   \n",
       "4  The BrightRoom is an approx. 20 sqm (215ft²), ...   \n",
       "\n",
       "                                         description experiences_offered  \\\n",
       "0  Great location!  30 of 75 sq meters. This wood...                none   \n",
       "1  In the summertime we are spending most of our ...                none   \n",
       "2  This beautiful first floor apartment  is situa...                none   \n",
       "3  First of all: I prefer short-notice bookings. ...                none   \n",
       "4  Cozy and large room in the beautiful district ...                none   \n",
       "\n",
       "                               neighborhood_overview  \\\n",
       "0  It is located in the former East Berlin area o...   \n",
       "1                                                NaN   \n",
       "2  The neighbourhood is famous for its variety of...   \n",
       "3  My flat is in the middle of West-Berlin, direc...   \n",
       "4  Great neighborhood with plenty of Cafés, Baker...   \n",
       "\n",
       "                                               notes  \\\n",
       "0  This is my home, not a hotel. I rent out occas...   \n",
       "1                                                NaN   \n",
       "2  We welcome FAMILIES and cater especially for y...   \n",
       "3  The flat is a strictly non-smoking facility! A...   \n",
       "4  I hope you enjoy your stay to the fullest! Ple...   \n",
       "\n",
       "                                             transit  \\\n",
       "0  Close to U-Bahn U8 and U2 (metro), Trams M12, ...   \n",
       "1  Within walking distance you'll find the S-Bahn...   \n",
       "2  We are 5 min walk  away from the tram M2, whic...   \n",
       "3  The public transportation is excellent: Severa...   \n",
       "4  Best access to other parts of the city via pub...   \n",
       "\n",
       "                                              access  \\\n",
       "0  Simple kitchen/cooking, refrigerator, microwav...   \n",
       "1  Außer deinem Zimmer kannst du noch die Küche u...   \n",
       "2  The apartment will be entirely yours. We are c...   \n",
       "3  I do have a strictly non-smoker-flat.  Keep th...   \n",
       "4  The guests have access to the bathroom, a smal...   \n",
       "\n",
       "                                         interaction  \\\n",
       "0                                   Always available   \n",
       "1                                                NaN   \n",
       "2  Feel free to ask any questions prior to bookin...   \n",
       "3  I'm working as a freelancing photographer. My ...   \n",
       "4  I am glad if I can give you advice or help as ...   \n",
       "\n",
       "                                         house_rules  thumbnail_url  \\\n",
       "0  No parties No events No pets No smoking, not e...            NaN   \n",
       "1                                                NaN            NaN   \n",
       "2  It’s a non smoking flat, which likes to be tre...            NaN   \n",
       "3  House-Rules and Information ..............(deu...            NaN   \n",
       "4  Please take good care of everything during you...            NaN   \n",
       "\n",
       "   medium_url                                        picture_url  \\\n",
       "0         NaN  https://a0.muscache.com/im/pictures/260fd609-7...   \n",
       "1         NaN  https://a0.muscache.com/im/pictures/97d4f6e8-1...   \n",
       "2         NaN  https://a0.muscache.com/im/pictures/243355/84a...   \n",
       "3         NaN  https://a0.muscache.com/im/pictures/29054294/b...   \n",
       "4         NaN  https://a0.muscache.com/im/pictures/21278/32a1...   \n",
       "\n",
       "   xl_picture_url  host_id                                 host_url host_name  \\\n",
       "0             NaN     2217   https://www.airbnb.com/users/show/2217       Ian   \n",
       "1             NaN     2986   https://www.airbnb.com/users/show/2986   Michael   \n",
       "2             NaN     3718   https://www.airbnb.com/users/show/3718    Britta   \n",
       "3             NaN     4108   https://www.airbnb.com/users/show/4108      Jana   \n",
       "4             NaN    17391  https://www.airbnb.com/users/show/17391    Bright   \n",
       "\n",
       "   host_since                         host_location  \\\n",
       "0  2008-08-18  Key Biscayne, Florida, United States   \n",
       "1  2008-09-16               Berlin, Berlin, Germany   \n",
       "2  2008-10-19  Coledale, New South Wales, Australia   \n",
       "3  2008-11-07               Berlin, Berlin, Germany   \n",
       "4  2009-05-16               Berlin, Berlin, Germany   \n",
       "\n",
       "                                          host_about host_response_time  \\\n",
       "0                        Believe in sharing economy.     within an hour   \n",
       "1  Living with my wife in Berlin.  Like travellin...                NaN   \n",
       "2  We love to travel ourselves a lot and prefer t...       within a day   \n",
       "3  ENJOY EVERY DAY AS IF IT'S YOUR LAST!!! \\r\\n\\r...                NaN   \n",
       "4  I'm a creative person, adventurer, and travele...     within an hour   \n",
       "\n",
       "  host_response_rate  host_acceptance_rate host_is_superhost  \\\n",
       "0                96%                   NaN                 t   \n",
       "1                NaN                   NaN                 f   \n",
       "2               100%                   NaN                 f   \n",
       "3                NaN                   NaN                 f   \n",
       "4               100%                   NaN                 t   \n",
       "\n",
       "                                  host_thumbnail_url  \\\n",
       "0  https://a0.muscache.com/im/pictures/21428a22-4...   \n",
       "1  https://a0.muscache.com/im/pictures/50434955-1...   \n",
       "2  https://a0.muscache.com/im/users/3718/profile_...   \n",
       "3  https://a0.muscache.com/im/pictures/user/b5938...   \n",
       "4  https://a0.muscache.com/im/pictures/user/48c3d...   \n",
       "\n",
       "                                    host_picture_url host_neighbourhood  \\\n",
       "0  https://a0.muscache.com/im/pictures/21428a22-4...              Mitte   \n",
       "1  https://a0.muscache.com/im/pictures/50434955-1...    Prenzlauer Berg   \n",
       "2  https://a0.muscache.com/im/users/3718/profile_...    Prenzlauer Berg   \n",
       "3  https://a0.muscache.com/im/pictures/user/b5938...         Schöneberg   \n",
       "4  https://a0.muscache.com/im/pictures/user/48c3d...    Prenzlauer Berg   \n",
       "\n",
       "   host_listings_count  host_total_listings_count  \\\n",
       "0                  4.0                        4.0   \n",
       "1                  1.0                        1.0   \n",
       "2                  1.0                        1.0   \n",
       "3                  1.0                        1.0   \n",
       "4                  1.0                        1.0   \n",
       "\n",
       "                                  host_verifications host_has_profile_pic  \\\n",
       "0  ['email', 'phone', 'reviews', 'jumio', 'offlin...                    t   \n",
       "1  ['email', 'phone', 'reviews', 'jumio', 'govern...                    t   \n",
       "2  ['email', 'phone', 'facebook', 'reviews', 'man...                    t   \n",
       "3  ['email', 'phone', 'reviews', 'jumio', 'govern...                    t   \n",
       "4  ['email', 'phone', 'reviews', 'jumio', 'govern...                    t   \n",
       "\n",
       "  host_identity_verified                   street    neighbourhood  \\\n",
       "0                      t  Berlin, Berlin, Germany            Mitte   \n",
       "1                      t  Berlin, Berlin, Germany              NaN   \n",
       "2                      t  Berlin, Berlin, Germany  Prenzlauer Berg   \n",
       "3                      t  Berlin, Berlin, Germany       Schöneberg   \n",
       "4                      t  Berlin, Berlin, Germany  Prenzlauer Berg   \n",
       "\n",
       "     neighbourhood_cleansed neighbourhood_group_cleansed    city   state  \\\n",
       "0           Brunnenstr. Süd                        Mitte  Berlin  Berlin   \n",
       "1  Prenzlauer Berg Nordwest                       Pankow  Berlin  Berlin   \n",
       "2   Prenzlauer Berg Südwest                       Pankow  Berlin  Berlin   \n",
       "3           Schöneberg-Nord       Tempelhof - Schöneberg  Berlin  Berlin   \n",
       "4            Helmholtzplatz                       Pankow  Berlin  Berlin   \n",
       "\n",
       "  zipcode  market   smart_location country_code  country   latitude  \\\n",
       "0   10119  Berlin  Berlin, Germany           DE  Germany  52.534537   \n",
       "1   10437  Berlin  Berlin, Germany           DE  Germany  52.548513   \n",
       "2   10405  Berlin  Berlin, Germany           DE  Germany  52.534996   \n",
       "3   10777  Berlin  Berlin, Germany           DE  Germany  52.498855   \n",
       "4   10437  Berlin  Berlin, Germany           DE  Germany  52.543157   \n",
       "\n",
       "   longitude is_location_exact property_type        room_type  accommodates  \\\n",
       "0  13.402557                 f    Guesthouse  Entire home/apt             3   \n",
       "1  13.404553                 t     Apartment     Private room             2   \n",
       "2  13.417579                 t     Apartment  Entire home/apt             4   \n",
       "3  13.349065                 t     Apartment     Private room             2   \n",
       "4  13.415091                 t     Apartment     Private room             2   \n",
       "\n",
       "   bathrooms  bedrooms  beds       bed_type  \\\n",
       "0        1.0       1.0   2.0       Real Bed   \n",
       "1        1.0       1.0   1.0       Real Bed   \n",
       "2        1.0       1.0   2.0       Real Bed   \n",
       "3        1.0       1.0   1.0  Pull-out Sofa   \n",
       "4        1.0       1.0   2.0       Real Bed   \n",
       "\n",
       "                                           amenities  square_feet   price  \\\n",
       "0  {TV,\"Cable TV\",Wifi,Kitchen,Gym,Heating,\"Famil...          NaN  $60.00   \n",
       "1  {Wifi,Kitchen,Elevator,Heating,Washer,Essentia...          NaN  $17.00   \n",
       "2  {Internet,Wifi,Kitchen,\"Buzzer/wireless interc...        720.0  $90.00   \n",
       "3  {Internet,Wifi,\"Pets allowed\",\"Pets live on th...          0.0  $26.00   \n",
       "4  {Wifi,Heating,\"Family/kid friendly\",Essentials...          NaN  $42.00   \n",
       "\n",
       "  weekly_price monthly_price security_deposit cleaning_fee  guests_included  \\\n",
       "0          NaN           NaN          $200.00       $30.00                1   \n",
       "1          NaN           NaN            $0.00        $0.00                1   \n",
       "2      $520.00     $1,900.00          $200.00       $50.00                2   \n",
       "3      $175.00       $599.00          $250.00       $30.00                1   \n",
       "4          NaN           NaN            $0.00        $0.00                1   \n",
       "\n",
       "  extra_people  minimum_nights  maximum_nights calendar_updated  \\\n",
       "0       $28.00               4            1125     3 months ago   \n",
       "1        $0.00               2              40      7 weeks ago   \n",
       "2       $20.00              62            1125       a week ago   \n",
       "3       $18.00               5             360      4 weeks ago   \n",
       "4       $24.00               2              10       3 days ago   \n",
       "\n",
       "  has_availability  availability_30  availability_60  availability_90  \\\n",
       "0                t                0               21               51   \n",
       "1                t                0                0                0   \n",
       "2                t                0                0                0   \n",
       "3                t                0                0               22   \n",
       "4                t               15               26               26   \n",
       "\n",
       "   availability_365 calendar_last_scraped  number_of_reviews first_review  \\\n",
       "0               141            2018-11-07                118   2016-04-11   \n",
       "1                 0            2018-11-07                  6   2018-07-04   \n",
       "2               220            2018-11-07                143   2009-06-20   \n",
       "3               297            2018-11-07                 25   2013-08-12   \n",
       "4                26            2018-11-07                197   2009-08-18   \n",
       "\n",
       "  last_review  review_scores_rating  review_scores_accuracy  \\\n",
       "0  2018-10-28                  93.0                    10.0   \n",
       "1  2018-10-01                 100.0                    10.0   \n",
       "2  2017-03-20                  92.0                     9.0   \n",
       "3  2018-08-16                  88.0                     9.0   \n",
       "4  2018-11-04                  96.0                    10.0   \n",
       "\n",
       "   review_scores_cleanliness  review_scores_checkin  \\\n",
       "0                        9.0                   10.0   \n",
       "1                       10.0                   10.0   \n",
       "2                        9.0                    9.0   \n",
       "3                        9.0                    9.0   \n",
       "4                       10.0                   10.0   \n",
       "\n",
       "   review_scores_communication  review_scores_location  review_scores_value  \\\n",
       "0                         10.0                    10.0                  9.0   \n",
       "1                         10.0                    10.0                 10.0   \n",
       "2                          9.0                    10.0                  9.0   \n",
       "3                         10.0                     9.0                  9.0   \n",
       "4                         10.0                    10.0                  9.0   \n",
       "\n",
       "  requires_license license  jurisdiction_names instant_bookable  \\\n",
       "0                t     NaN                 NaN                f   \n",
       "1                t     NaN                 NaN                f   \n",
       "2                t     NaN                 NaN                t   \n",
       "3                t     NaN                 NaN                f   \n",
       "4                t     NaN                 NaN                f   \n",
       "\n",
       "  is_business_travel_ready          cancellation_policy  \\\n",
       "0                        f  strict_14_with_grace_period   \n",
       "1                        f                     flexible   \n",
       "2                        f  strict_14_with_grace_period   \n",
       "3                        f  strict_14_with_grace_period   \n",
       "4                        f                     moderate   \n",
       "\n",
       "  require_guest_profile_picture require_guest_phone_verification  \\\n",
       "0                             f                                f   \n",
       "1                             f                                f   \n",
       "2                             f                                f   \n",
       "3                             f                                f   \n",
       "4                             f                                f   \n",
       "\n",
       "   calculated_host_listings_count  reviews_per_month  \n",
       "0                               4               3.76  \n",
       "1                               1               1.42  \n",
       "2                               1               1.25  \n",
       "3                               1               0.39  \n",
       "4                               1               1.75  "
      ]
     },
     "execution_count": 5,
     "metadata": {},
     "output_type": "execute_result"
    }
   ],
   "source": [
    "df = pd.read_csv('C:\\\\Users\\\\singh\\\\Documents\\\\ML projects\\\\listings_summary_A.csv') \n",
    "df.head(5)    "
   ]
  },
  {
   "cell_type": "code",
   "execution_count": 6,
   "metadata": {
    "colab": {
     "base_uri": "https://localhost:8080/"
    },
    "id": "YUb3pQUZJ3xJ",
    "outputId": "0cf224d7-c41f-402a-cc1b-9b3c13cf7874"
   },
   "outputs": [
    {
     "data": {
      "text/plain": [
       "Index(['id', 'listing_url', 'scrape_id', 'last_scraped', 'name', 'summary',\n",
       "       'space', 'description', 'experiences_offered', 'neighborhood_overview',\n",
       "       'notes', 'transit', 'access', 'interaction', 'house_rules',\n",
       "       'thumbnail_url', 'medium_url', 'picture_url', 'xl_picture_url',\n",
       "       'host_id', 'host_url', 'host_name', 'host_since', 'host_location',\n",
       "       'host_about', 'host_response_time', 'host_response_rate',\n",
       "       'host_acceptance_rate', 'host_is_superhost', 'host_thumbnail_url',\n",
       "       'host_picture_url', 'host_neighbourhood', 'host_listings_count',\n",
       "       'host_total_listings_count', 'host_verifications',\n",
       "       'host_has_profile_pic', 'host_identity_verified', 'street',\n",
       "       'neighbourhood', 'neighbourhood_cleansed',\n",
       "       'neighbourhood_group_cleansed', 'city', 'state', 'zipcode', 'market',\n",
       "       'smart_location', 'country_code', 'country', 'latitude', 'longitude',\n",
       "       'is_location_exact', 'property_type', 'room_type', 'accommodates',\n",
       "       'bathrooms', 'bedrooms', 'beds', 'bed_type', 'amenities', 'square_feet',\n",
       "       'price', 'weekly_price', 'monthly_price', 'security_deposit',\n",
       "       'cleaning_fee', 'guests_included', 'extra_people', 'minimum_nights',\n",
       "       'maximum_nights', 'calendar_updated', 'has_availability',\n",
       "       'availability_30', 'availability_60', 'availability_90',\n",
       "       'availability_365', 'calendar_last_scraped', 'number_of_reviews',\n",
       "       'first_review', 'last_review', 'review_scores_rating',\n",
       "       'review_scores_accuracy', 'review_scores_cleanliness',\n",
       "       'review_scores_checkin', 'review_scores_communication',\n",
       "       'review_scores_location', 'review_scores_value', 'requires_license',\n",
       "       'license', 'jurisdiction_names', 'instant_bookable',\n",
       "       'is_business_travel_ready', 'cancellation_policy',\n",
       "       'require_guest_profile_picture', 'require_guest_phone_verification',\n",
       "       'calculated_host_listings_count', 'reviews_per_month'],\n",
       "      dtype='object')"
      ]
     },
     "execution_count": 6,
     "metadata": {},
     "output_type": "execute_result"
    }
   ],
   "source": [
    "df.columns"
   ]
  },
  {
   "cell_type": "code",
   "execution_count": 7,
   "metadata": {
    "colab": {
     "base_uri": "https://localhost:8080/",
     "height": 363
    },
    "id": "NW-UoXQkttzf",
    "outputId": "1f8f44d5-73a3-4734-da83-1473b20ed43b"
   },
   "outputs": [
    {
     "data": {
      "text/html": [
       "<div>\n",
       "<style scoped>\n",
       "    .dataframe tbody tr th:only-of-type {\n",
       "        vertical-align: middle;\n",
       "    }\n",
       "\n",
       "    .dataframe tbody tr th {\n",
       "        vertical-align: top;\n",
       "    }\n",
       "\n",
       "    .dataframe thead th {\n",
       "        text-align: right;\n",
       "    }\n",
       "</style>\n",
       "<table border=\"1\" class=\"dataframe\">\n",
       "  <thead>\n",
       "    <tr style=\"text-align: right;\">\n",
       "      <th></th>\n",
       "      <th>host_has_profile_pic</th>\n",
       "      <th>host_since</th>\n",
       "      <th>neighbourhood_cleansed</th>\n",
       "      <th>neighbourhood_group_cleansed</th>\n",
       "      <th>host_is_superhost</th>\n",
       "      <th>description</th>\n",
       "      <th>latitude</th>\n",
       "      <th>longitude</th>\n",
       "      <th>is_location_exact</th>\n",
       "      <th>property_type</th>\n",
       "      <th>room_type</th>\n",
       "      <th>accommodates</th>\n",
       "      <th>bathrooms</th>\n",
       "      <th>bedrooms</th>\n",
       "      <th>bed_type</th>\n",
       "      <th>amenities</th>\n",
       "      <th>price</th>\n",
       "      <th>cleaning_fee</th>\n",
       "      <th>review_scores_rating</th>\n",
       "      <th>reviews_per_month</th>\n",
       "      <th>number_of_reviews</th>\n",
       "      <th>review_scores_accuracy</th>\n",
       "      <th>review_scores_cleanliness</th>\n",
       "      <th>review_scores_checkin</th>\n",
       "      <th>review_scores_communication</th>\n",
       "      <th>review_scores_location</th>\n",
       "      <th>review_scores_value</th>\n",
       "      <th>security_deposit</th>\n",
       "      <th>extra_people</th>\n",
       "      <th>guests_included</th>\n",
       "      <th>minimum_nights</th>\n",
       "      <th>instant_bookable</th>\n",
       "      <th>is_business_travel_ready</th>\n",
       "      <th>cancellation_policy</th>\n",
       "      <th>availability_365</th>\n",
       "    </tr>\n",
       "    <tr>\n",
       "      <th>id</th>\n",
       "      <th></th>\n",
       "      <th></th>\n",
       "      <th></th>\n",
       "      <th></th>\n",
       "      <th></th>\n",
       "      <th></th>\n",
       "      <th></th>\n",
       "      <th></th>\n",
       "      <th></th>\n",
       "      <th></th>\n",
       "      <th></th>\n",
       "      <th></th>\n",
       "      <th></th>\n",
       "      <th></th>\n",
       "      <th></th>\n",
       "      <th></th>\n",
       "      <th></th>\n",
       "      <th></th>\n",
       "      <th></th>\n",
       "      <th></th>\n",
       "      <th></th>\n",
       "      <th></th>\n",
       "      <th></th>\n",
       "      <th></th>\n",
       "      <th></th>\n",
       "      <th></th>\n",
       "      <th></th>\n",
       "      <th></th>\n",
       "      <th></th>\n",
       "      <th></th>\n",
       "      <th></th>\n",
       "      <th></th>\n",
       "      <th></th>\n",
       "      <th></th>\n",
       "      <th></th>\n",
       "    </tr>\n",
       "  </thead>\n",
       "  <tbody>\n",
       "    <tr>\n",
       "      <th>2015</th>\n",
       "      <td>t</td>\n",
       "      <td>2008-08-18</td>\n",
       "      <td>Brunnenstr. Süd</td>\n",
       "      <td>Mitte</td>\n",
       "      <td>t</td>\n",
       "      <td>Great location!  30 of 75 sq meters. This wood...</td>\n",
       "      <td>52.534537</td>\n",
       "      <td>13.402557</td>\n",
       "      <td>f</td>\n",
       "      <td>Guesthouse</td>\n",
       "      <td>Entire home/apt</td>\n",
       "      <td>3</td>\n",
       "      <td>1.0</td>\n",
       "      <td>1.0</td>\n",
       "      <td>Real Bed</td>\n",
       "      <td>{TV,\"Cable TV\",Wifi,Kitchen,Gym,Heating,\"Famil...</td>\n",
       "      <td>$60.00</td>\n",
       "      <td>$30.00</td>\n",
       "      <td>93.0</td>\n",
       "      <td>3.76</td>\n",
       "      <td>118</td>\n",
       "      <td>10.0</td>\n",
       "      <td>9.0</td>\n",
       "      <td>10.0</td>\n",
       "      <td>10.0</td>\n",
       "      <td>10.0</td>\n",
       "      <td>9.0</td>\n",
       "      <td>$200.00</td>\n",
       "      <td>$28.00</td>\n",
       "      <td>1</td>\n",
       "      <td>4</td>\n",
       "      <td>f</td>\n",
       "      <td>f</td>\n",
       "      <td>strict_14_with_grace_period</td>\n",
       "      <td>141</td>\n",
       "    </tr>\n",
       "    <tr>\n",
       "      <th>2695</th>\n",
       "      <td>t</td>\n",
       "      <td>2008-09-16</td>\n",
       "      <td>Prenzlauer Berg Nordwest</td>\n",
       "      <td>Pankow</td>\n",
       "      <td>f</td>\n",
       "      <td>In the summertime we are spending most of our ...</td>\n",
       "      <td>52.548513</td>\n",
       "      <td>13.404553</td>\n",
       "      <td>t</td>\n",
       "      <td>Apartment</td>\n",
       "      <td>Private room</td>\n",
       "      <td>2</td>\n",
       "      <td>1.0</td>\n",
       "      <td>1.0</td>\n",
       "      <td>Real Bed</td>\n",
       "      <td>{Wifi,Kitchen,Elevator,Heating,Washer,Essentia...</td>\n",
       "      <td>$17.00</td>\n",
       "      <td>$0.00</td>\n",
       "      <td>100.0</td>\n",
       "      <td>1.42</td>\n",
       "      <td>6</td>\n",
       "      <td>10.0</td>\n",
       "      <td>10.0</td>\n",
       "      <td>10.0</td>\n",
       "      <td>10.0</td>\n",
       "      <td>10.0</td>\n",
       "      <td>10.0</td>\n",
       "      <td>$0.00</td>\n",
       "      <td>$0.00</td>\n",
       "      <td>1</td>\n",
       "      <td>2</td>\n",
       "      <td>f</td>\n",
       "      <td>f</td>\n",
       "      <td>flexible</td>\n",
       "      <td>0</td>\n",
       "    </tr>\n",
       "  </tbody>\n",
       "</table>\n",
       "</div>"
      ],
      "text/plain": [
       "     host_has_profile_pic  host_since    neighbourhood_cleansed  \\\n",
       "id                                                                \n",
       "2015                    t  2008-08-18           Brunnenstr. Süd   \n",
       "2695                    t  2008-09-16  Prenzlauer Berg Nordwest   \n",
       "\n",
       "     neighbourhood_group_cleansed host_is_superhost  \\\n",
       "id                                                    \n",
       "2015                        Mitte                 t   \n",
       "2695                       Pankow                 f   \n",
       "\n",
       "                                            description   latitude  longitude  \\\n",
       "id                                                                              \n",
       "2015  Great location!  30 of 75 sq meters. This wood...  52.534537  13.402557   \n",
       "2695  In the summertime we are spending most of our ...  52.548513  13.404553   \n",
       "\n",
       "     is_location_exact property_type        room_type  accommodates  \\\n",
       "id                                                                    \n",
       "2015                 f    Guesthouse  Entire home/apt             3   \n",
       "2695                 t     Apartment     Private room             2   \n",
       "\n",
       "      bathrooms  bedrooms  bed_type  \\\n",
       "id                                    \n",
       "2015        1.0       1.0  Real Bed   \n",
       "2695        1.0       1.0  Real Bed   \n",
       "\n",
       "                                              amenities   price cleaning_fee  \\\n",
       "id                                                                             \n",
       "2015  {TV,\"Cable TV\",Wifi,Kitchen,Gym,Heating,\"Famil...  $60.00       $30.00   \n",
       "2695  {Wifi,Kitchen,Elevator,Heating,Washer,Essentia...  $17.00        $0.00   \n",
       "\n",
       "      review_scores_rating  reviews_per_month  number_of_reviews  \\\n",
       "id                                                                 \n",
       "2015                  93.0               3.76                118   \n",
       "2695                 100.0               1.42                  6   \n",
       "\n",
       "      review_scores_accuracy  review_scores_cleanliness  \\\n",
       "id                                                        \n",
       "2015                    10.0                        9.0   \n",
       "2695                    10.0                       10.0   \n",
       "\n",
       "      review_scores_checkin  review_scores_communication  \\\n",
       "id                                                         \n",
       "2015                   10.0                         10.0   \n",
       "2695                   10.0                         10.0   \n",
       "\n",
       "      review_scores_location  review_scores_value security_deposit  \\\n",
       "id                                                                   \n",
       "2015                    10.0                  9.0          $200.00   \n",
       "2695                    10.0                 10.0            $0.00   \n",
       "\n",
       "     extra_people  guests_included  minimum_nights instant_bookable  \\\n",
       "id                                                                    \n",
       "2015       $28.00                1               4                f   \n",
       "2695        $0.00                1               2                f   \n",
       "\n",
       "     is_business_travel_ready          cancellation_policy  availability_365  \n",
       "id                                                                            \n",
       "2015                        f  strict_14_with_grace_period               141  \n",
       "2695                        f                     flexible                 0  "
      ]
     },
     "execution_count": 7,
     "metadata": {},
     "output_type": "execute_result"
    }
   ],
   "source": [
    "columns_to_keep = ['id','host_has_profile_pic','host_since','neighbourhood_cleansed', 'neighbourhood_group_cleansed',\n",
    "                   'host_is_superhost','description',\n",
    "                   'latitude', 'longitude','is_location_exact', 'property_type', 'room_type', 'accommodates', 'bathrooms',  \n",
    "                   'bedrooms', 'bed_type', 'amenities', 'price', 'cleaning_fee',\n",
    "                   'review_scores_rating','reviews_per_month','number_of_reviews',\n",
    "                   'review_scores_accuracy','review_scores_cleanliness','review_scores_checkin',\n",
    "                   'review_scores_communication','review_scores_location','review_scores_value',\n",
    "                   'security_deposit', 'extra_people', 'guests_included', 'minimum_nights',  \n",
    "                   'instant_bookable', 'is_business_travel_ready', 'cancellation_policy','availability_365']\n",
    "\n",
    "\n",
    "df = df[columns_to_keep].set_index('id') \n",
    "df.head(2)"
   ]
  },
  {
   "cell_type": "code",
   "execution_count": 8,
   "metadata": {
    "colab": {
     "base_uri": "https://localhost:8080/"
    },
    "id": "IJ7hg-Qbttzg",
    "outputId": "a29fccae-729b-4103-d97b-b432bbb47ec1"
   },
   "outputs": [
    {
     "data": {
      "text/plain": [
       "(22552, 35)"
      ]
     },
     "execution_count": 8,
     "metadata": {},
     "output_type": "execute_result"
    }
   ],
   "source": [
    "df.shape"
   ]
  },
  {
   "cell_type": "code",
   "execution_count": 9,
   "metadata": {
    "colab": {
     "base_uri": "https://localhost:8080/"
    },
    "id": "9XIVQYzxMkkd",
    "outputId": "113e5ca7-1a7d-4ffe-d93d-d3e46f325974"
   },
   "outputs": [
    {
     "name": "stdout",
     "output_type": "stream",
     "text": [
      "<class 'pandas.core.frame.DataFrame'>\n",
      "Int64Index: 22552 entries, 2015 to 29867352\n",
      "Data columns (total 35 columns):\n",
      " #   Column                        Non-Null Count  Dtype  \n",
      "---  ------                        --------------  -----  \n",
      " 0   host_has_profile_pic          22526 non-null  object \n",
      " 1   host_since                    22526 non-null  object \n",
      " 2   neighbourhood_cleansed        22552 non-null  object \n",
      " 3   neighbourhood_group_cleansed  22552 non-null  object \n",
      " 4   host_is_superhost             22526 non-null  object \n",
      " 5   description                   22349 non-null  object \n",
      " 6   latitude                      22552 non-null  float64\n",
      " 7   longitude                     22552 non-null  float64\n",
      " 8   is_location_exact             22552 non-null  object \n",
      " 9   property_type                 22552 non-null  object \n",
      " 10  room_type                     22552 non-null  object \n",
      " 11  accommodates                  22552 non-null  int64  \n",
      " 12  bathrooms                     22520 non-null  float64\n",
      " 13  bedrooms                      22534 non-null  float64\n",
      " 14  bed_type                      22552 non-null  object \n",
      " 15  amenities                     22552 non-null  object \n",
      " 16  price                         22552 non-null  object \n",
      " 17  cleaning_fee                  15406 non-null  object \n",
      " 18  review_scores_rating          18163 non-null  float64\n",
      " 19  reviews_per_month             18638 non-null  float64\n",
      " 20  number_of_reviews             22552 non-null  int64  \n",
      " 21  review_scores_accuracy        18138 non-null  float64\n",
      " 22  review_scores_cleanliness     18141 non-null  float64\n",
      " 23  review_scores_checkin         18120 non-null  float64\n",
      " 24  review_scores_communication   18134 non-null  float64\n",
      " 25  review_scores_location        18121 non-null  float64\n",
      " 26  review_scores_value           18117 non-null  float64\n",
      " 27  security_deposit              13191 non-null  object \n",
      " 28  extra_people                  22552 non-null  object \n",
      " 29  guests_included               22552 non-null  int64  \n",
      " 30  minimum_nights                22552 non-null  int64  \n",
      " 31  instant_bookable              22552 non-null  object \n",
      " 32  is_business_travel_ready      22552 non-null  object \n",
      " 33  cancellation_policy           22552 non-null  object \n",
      " 34  availability_365              22552 non-null  int64  \n",
      "dtypes: float64(12), int64(5), object(18)\n",
      "memory usage: 6.2+ MB\n"
     ]
    }
   ],
   "source": [
    "df.describe()\n",
    "df.info()"
   ]
  },
  {
   "cell_type": "markdown",
   "metadata": {
    "id": "C092wuC_ttzh"
   },
   "source": [
    "# Null Values\n",
    "### Inspection + Handling"
   ]
  },
  {
   "cell_type": "code",
   "execution_count": 10,
   "metadata": {
    "colab": {
     "base_uri": "https://localhost:8080/"
    },
    "id": "06cts0aHttzi",
    "outputId": "2d96488b-025e-43da-8b61-8a9c7fcb0abd"
   },
   "outputs": [
    {
     "data": {
      "text/plain": [
       "host_has_profile_pic              26\n",
       "host_since                        26\n",
       "neighbourhood_cleansed             0\n",
       "neighbourhood_group_cleansed       0\n",
       "host_is_superhost                 26\n",
       "description                      203\n",
       "latitude                           0\n",
       "longitude                          0\n",
       "is_location_exact                  0\n",
       "property_type                      0\n",
       "room_type                          0\n",
       "accommodates                       0\n",
       "bathrooms                         32\n",
       "bedrooms                          18\n",
       "bed_type                           0\n",
       "amenities                          0\n",
       "price                              0\n",
       "cleaning_fee                    7146\n",
       "review_scores_rating            4389\n",
       "reviews_per_month               3914\n",
       "number_of_reviews                  0\n",
       "review_scores_accuracy          4414\n",
       "review_scores_cleanliness       4411\n",
       "review_scores_checkin           4432\n",
       "review_scores_communication     4418\n",
       "review_scores_location          4431\n",
       "review_scores_value             4435\n",
       "security_deposit                9361\n",
       "extra_people                       0\n",
       "guests_included                    0\n",
       "minimum_nights                     0\n",
       "instant_bookable                   0\n",
       "is_business_travel_ready           0\n",
       "cancellation_policy                0\n",
       "availability_365                   0\n",
       "dtype: int64"
      ]
     },
     "execution_count": 10,
     "metadata": {},
     "output_type": "execute_result"
    }
   ],
   "source": [
    "df.isnull().sum()    "
   ]
  },
  {
   "cell_type": "code",
   "execution_count": 11,
   "metadata": {
    "colab": {
     "base_uri": "https://localhost:8080/"
    },
    "id": "DJ__WypMOgDU",
    "outputId": "c45af8b0-397d-4321-ab07-e9f80a23f928"
   },
   "outputs": [
    {
     "data": {
      "text/plain": [
       "10.0    10020\n",
       "9.0      6376\n",
       "8.0      1306\n",
       "6.0       181\n",
       "7.0       161\n",
       "4.0        36\n",
       "2.0        23\n",
       "5.0        12\n",
       "3.0         2\n",
       "Name: review_scores_value, dtype: int64"
      ]
     },
     "execution_count": 11,
     "metadata": {},
     "output_type": "execute_result"
    }
   ],
   "source": [
    "df[\"review_scores_value\"].value_counts()"
   ]
  },
  {
   "cell_type": "markdown",
   "metadata": {
    "id": "OYYBMxD4ttzj"
   },
   "source": [
    "# f/t to int"
   ]
  },
  {
   "cell_type": "code",
   "execution_count": 12,
   "metadata": {
    "id": "yfQhMOXXttzk"
   },
   "outputs": [],
   "source": [
    "df['is_location_exact'] = df['is_location_exact'].map({'f':0,'t':1})   \n",
    "df['host_is_superhost'] = df['host_is_superhost'].map({'f':0,'t':1})\n",
    "df['is_business_travel_ready'] = df['is_business_travel_ready'].map({'f':0,'t':1})\n",
    "df['instant_bookable'] = df['instant_bookable'].map({'f':0,'t':1})"
   ]
  },
  {
   "cell_type": "code",
   "execution_count": 13,
   "metadata": {
    "colab": {
     "base_uri": "https://localhost:8080/",
     "height": 536
    },
    "id": "CmIIQA3tttzk",
    "outputId": "fcc00f3a-a56d-47e6-f554-542665c92bb8"
   },
   "outputs": [
    {
     "data": {
      "text/html": [
       "<div>\n",
       "<style scoped>\n",
       "    .dataframe tbody tr th:only-of-type {\n",
       "        vertical-align: middle;\n",
       "    }\n",
       "\n",
       "    .dataframe tbody tr th {\n",
       "        vertical-align: top;\n",
       "    }\n",
       "\n",
       "    .dataframe thead th {\n",
       "        text-align: right;\n",
       "    }\n",
       "</style>\n",
       "<table border=\"1\" class=\"dataframe\">\n",
       "  <thead>\n",
       "    <tr style=\"text-align: right;\">\n",
       "      <th></th>\n",
       "      <th>host_has_profile_pic</th>\n",
       "      <th>host_since</th>\n",
       "      <th>neighbourhood_cleansed</th>\n",
       "      <th>neighbourhood_group_cleansed</th>\n",
       "      <th>host_is_superhost</th>\n",
       "      <th>description</th>\n",
       "      <th>latitude</th>\n",
       "      <th>longitude</th>\n",
       "      <th>is_location_exact</th>\n",
       "      <th>property_type</th>\n",
       "      <th>room_type</th>\n",
       "      <th>accommodates</th>\n",
       "      <th>bathrooms</th>\n",
       "      <th>bedrooms</th>\n",
       "      <th>bed_type</th>\n",
       "      <th>amenities</th>\n",
       "      <th>price</th>\n",
       "      <th>cleaning_fee</th>\n",
       "      <th>review_scores_rating</th>\n",
       "      <th>reviews_per_month</th>\n",
       "      <th>number_of_reviews</th>\n",
       "      <th>review_scores_accuracy</th>\n",
       "      <th>review_scores_cleanliness</th>\n",
       "      <th>review_scores_checkin</th>\n",
       "      <th>review_scores_communication</th>\n",
       "      <th>review_scores_location</th>\n",
       "      <th>review_scores_value</th>\n",
       "      <th>security_deposit</th>\n",
       "      <th>extra_people</th>\n",
       "      <th>guests_included</th>\n",
       "      <th>minimum_nights</th>\n",
       "      <th>instant_bookable</th>\n",
       "      <th>is_business_travel_ready</th>\n",
       "      <th>cancellation_policy</th>\n",
       "      <th>availability_365</th>\n",
       "    </tr>\n",
       "    <tr>\n",
       "      <th>id</th>\n",
       "      <th></th>\n",
       "      <th></th>\n",
       "      <th></th>\n",
       "      <th></th>\n",
       "      <th></th>\n",
       "      <th></th>\n",
       "      <th></th>\n",
       "      <th></th>\n",
       "      <th></th>\n",
       "      <th></th>\n",
       "      <th></th>\n",
       "      <th></th>\n",
       "      <th></th>\n",
       "      <th></th>\n",
       "      <th></th>\n",
       "      <th></th>\n",
       "      <th></th>\n",
       "      <th></th>\n",
       "      <th></th>\n",
       "      <th></th>\n",
       "      <th></th>\n",
       "      <th></th>\n",
       "      <th></th>\n",
       "      <th></th>\n",
       "      <th></th>\n",
       "      <th></th>\n",
       "      <th></th>\n",
       "      <th></th>\n",
       "      <th></th>\n",
       "      <th></th>\n",
       "      <th></th>\n",
       "      <th></th>\n",
       "      <th></th>\n",
       "      <th></th>\n",
       "      <th></th>\n",
       "    </tr>\n",
       "  </thead>\n",
       "  <tbody>\n",
       "    <tr>\n",
       "      <th>2015</th>\n",
       "      <td>t</td>\n",
       "      <td>2008-08-18</td>\n",
       "      <td>Brunnenstr. Süd</td>\n",
       "      <td>Mitte</td>\n",
       "      <td>1.0</td>\n",
       "      <td>Great location!  30 of 75 sq meters. This wood...</td>\n",
       "      <td>52.534537</td>\n",
       "      <td>13.402557</td>\n",
       "      <td>0</td>\n",
       "      <td>Guesthouse</td>\n",
       "      <td>Entire home/apt</td>\n",
       "      <td>3</td>\n",
       "      <td>1.0</td>\n",
       "      <td>1.0</td>\n",
       "      <td>Real Bed</td>\n",
       "      <td>{TV,\"Cable TV\",Wifi,Kitchen,Gym,Heating,\"Famil...</td>\n",
       "      <td>$60.00</td>\n",
       "      <td>$30.00</td>\n",
       "      <td>93.0</td>\n",
       "      <td>3.76</td>\n",
       "      <td>118</td>\n",
       "      <td>10.0</td>\n",
       "      <td>9.0</td>\n",
       "      <td>10.0</td>\n",
       "      <td>10.0</td>\n",
       "      <td>10.0</td>\n",
       "      <td>9.0</td>\n",
       "      <td>$200.00</td>\n",
       "      <td>$28.00</td>\n",
       "      <td>1</td>\n",
       "      <td>4</td>\n",
       "      <td>0</td>\n",
       "      <td>0</td>\n",
       "      <td>strict_14_with_grace_period</td>\n",
       "      <td>141</td>\n",
       "    </tr>\n",
       "    <tr>\n",
       "      <th>2695</th>\n",
       "      <td>t</td>\n",
       "      <td>2008-09-16</td>\n",
       "      <td>Prenzlauer Berg Nordwest</td>\n",
       "      <td>Pankow</td>\n",
       "      <td>0.0</td>\n",
       "      <td>In the summertime we are spending most of our ...</td>\n",
       "      <td>52.548513</td>\n",
       "      <td>13.404553</td>\n",
       "      <td>1</td>\n",
       "      <td>Apartment</td>\n",
       "      <td>Private room</td>\n",
       "      <td>2</td>\n",
       "      <td>1.0</td>\n",
       "      <td>1.0</td>\n",
       "      <td>Real Bed</td>\n",
       "      <td>{Wifi,Kitchen,Elevator,Heating,Washer,Essentia...</td>\n",
       "      <td>$17.00</td>\n",
       "      <td>$0.00</td>\n",
       "      <td>100.0</td>\n",
       "      <td>1.42</td>\n",
       "      <td>6</td>\n",
       "      <td>10.0</td>\n",
       "      <td>10.0</td>\n",
       "      <td>10.0</td>\n",
       "      <td>10.0</td>\n",
       "      <td>10.0</td>\n",
       "      <td>10.0</td>\n",
       "      <td>$0.00</td>\n",
       "      <td>$0.00</td>\n",
       "      <td>1</td>\n",
       "      <td>2</td>\n",
       "      <td>0</td>\n",
       "      <td>0</td>\n",
       "      <td>flexible</td>\n",
       "      <td>0</td>\n",
       "    </tr>\n",
       "    <tr>\n",
       "      <th>3176</th>\n",
       "      <td>t</td>\n",
       "      <td>2008-10-19</td>\n",
       "      <td>Prenzlauer Berg Südwest</td>\n",
       "      <td>Pankow</td>\n",
       "      <td>0.0</td>\n",
       "      <td>This beautiful first floor apartment  is situa...</td>\n",
       "      <td>52.534996</td>\n",
       "      <td>13.417579</td>\n",
       "      <td>1</td>\n",
       "      <td>Apartment</td>\n",
       "      <td>Entire home/apt</td>\n",
       "      <td>4</td>\n",
       "      <td>1.0</td>\n",
       "      <td>1.0</td>\n",
       "      <td>Real Bed</td>\n",
       "      <td>{Internet,Wifi,Kitchen,\"Buzzer/wireless interc...</td>\n",
       "      <td>$90.00</td>\n",
       "      <td>$50.00</td>\n",
       "      <td>92.0</td>\n",
       "      <td>1.25</td>\n",
       "      <td>143</td>\n",
       "      <td>9.0</td>\n",
       "      <td>9.0</td>\n",
       "      <td>9.0</td>\n",
       "      <td>9.0</td>\n",
       "      <td>10.0</td>\n",
       "      <td>9.0</td>\n",
       "      <td>$200.00</td>\n",
       "      <td>$20.00</td>\n",
       "      <td>2</td>\n",
       "      <td>62</td>\n",
       "      <td>1</td>\n",
       "      <td>0</td>\n",
       "      <td>strict_14_with_grace_period</td>\n",
       "      <td>220</td>\n",
       "    </tr>\n",
       "  </tbody>\n",
       "</table>\n",
       "</div>"
      ],
      "text/plain": [
       "     host_has_profile_pic  host_since    neighbourhood_cleansed  \\\n",
       "id                                                                \n",
       "2015                    t  2008-08-18           Brunnenstr. Süd   \n",
       "2695                    t  2008-09-16  Prenzlauer Berg Nordwest   \n",
       "3176                    t  2008-10-19   Prenzlauer Berg Südwest   \n",
       "\n",
       "     neighbourhood_group_cleansed  host_is_superhost  \\\n",
       "id                                                     \n",
       "2015                        Mitte                1.0   \n",
       "2695                       Pankow                0.0   \n",
       "3176                       Pankow                0.0   \n",
       "\n",
       "                                            description   latitude  longitude  \\\n",
       "id                                                                              \n",
       "2015  Great location!  30 of 75 sq meters. This wood...  52.534537  13.402557   \n",
       "2695  In the summertime we are spending most of our ...  52.548513  13.404553   \n",
       "3176  This beautiful first floor apartment  is situa...  52.534996  13.417579   \n",
       "\n",
       "      is_location_exact property_type        room_type  accommodates  \\\n",
       "id                                                                     \n",
       "2015                  0    Guesthouse  Entire home/apt             3   \n",
       "2695                  1     Apartment     Private room             2   \n",
       "3176                  1     Apartment  Entire home/apt             4   \n",
       "\n",
       "      bathrooms  bedrooms  bed_type  \\\n",
       "id                                    \n",
       "2015        1.0       1.0  Real Bed   \n",
       "2695        1.0       1.0  Real Bed   \n",
       "3176        1.0       1.0  Real Bed   \n",
       "\n",
       "                                              amenities   price cleaning_fee  \\\n",
       "id                                                                             \n",
       "2015  {TV,\"Cable TV\",Wifi,Kitchen,Gym,Heating,\"Famil...  $60.00       $30.00   \n",
       "2695  {Wifi,Kitchen,Elevator,Heating,Washer,Essentia...  $17.00        $0.00   \n",
       "3176  {Internet,Wifi,Kitchen,\"Buzzer/wireless interc...  $90.00       $50.00   \n",
       "\n",
       "      review_scores_rating  reviews_per_month  number_of_reviews  \\\n",
       "id                                                                 \n",
       "2015                  93.0               3.76                118   \n",
       "2695                 100.0               1.42                  6   \n",
       "3176                  92.0               1.25                143   \n",
       "\n",
       "      review_scores_accuracy  review_scores_cleanliness  \\\n",
       "id                                                        \n",
       "2015                    10.0                        9.0   \n",
       "2695                    10.0                       10.0   \n",
       "3176                     9.0                        9.0   \n",
       "\n",
       "      review_scores_checkin  review_scores_communication  \\\n",
       "id                                                         \n",
       "2015                   10.0                         10.0   \n",
       "2695                   10.0                         10.0   \n",
       "3176                    9.0                          9.0   \n",
       "\n",
       "      review_scores_location  review_scores_value security_deposit  \\\n",
       "id                                                                   \n",
       "2015                    10.0                  9.0          $200.00   \n",
       "2695                    10.0                 10.0            $0.00   \n",
       "3176                    10.0                  9.0          $200.00   \n",
       "\n",
       "     extra_people  guests_included  minimum_nights  instant_bookable  \\\n",
       "id                                                                     \n",
       "2015       $28.00                1               4                 0   \n",
       "2695        $0.00                1               2                 0   \n",
       "3176       $20.00                2              62                 1   \n",
       "\n",
       "      is_business_travel_ready          cancellation_policy  availability_365  \n",
       "id                                                                             \n",
       "2015                         0  strict_14_with_grace_period               141  \n",
       "2695                         0                     flexible                 0  \n",
       "3176                         0  strict_14_with_grace_period               220  "
      ]
     },
     "execution_count": 13,
     "metadata": {},
     "output_type": "execute_result"
    }
   ],
   "source": [
    "df.head(3)"
   ]
  },
  {
   "cell_type": "markdown",
   "metadata": {
    "id": "aqDUovJQttzl"
   },
   "source": [
    "# Profile Pics"
   ]
  },
  {
   "cell_type": "code",
   "execution_count": 14,
   "metadata": {
    "colab": {
     "base_uri": "https://localhost:8080/"
    },
    "id": "GzouUfXSttzl",
    "outputId": "685e3296-4968-4d97-9c16-6ef225c92273"
   },
   "outputs": [
    {
     "data": {
      "text/plain": [
       "t      22470\n",
       "f         56\n",
       "NaN       26\n",
       "Name: host_has_profile_pic, dtype: int64"
      ]
     },
     "execution_count": 14,
     "metadata": {},
     "output_type": "execute_result"
    }
   ],
   "source": [
    "df['host_has_profile_pic'].unique()\n",
    "df['host_has_profile_pic'].nunique()  \n",
    "df['host_has_profile_pic'].value_counts(dropna=False)   "
   ]
  },
  {
   "cell_type": "code",
   "execution_count": 15,
   "metadata": {
    "id": "2tTYIUEAttzm"
   },
   "outputs": [],
   "source": [
    "df['host_has_profile_pic'].fillna('f',inplace=True)  "
   ]
  },
  {
   "cell_type": "code",
   "execution_count": 16,
   "metadata": {
    "colab": {
     "base_uri": "https://localhost:8080/",
     "height": 298
    },
    "id": "JfwMT5ACttzn",
    "outputId": "4567ced9-2bfd-4386-a9c8-f05d0bbb6644"
   },
   "outputs": [
    {
     "data": {
      "text/plain": [
       "<AxesSubplot:xlabel='host_has_profile_pic', ylabel='count'>"
      ]
     },
     "execution_count": 16,
     "metadata": {},
     "output_type": "execute_result"
    },
    {
     "data": {
      "image/png": "[encoded data removed]",
      "text/plain": [
       "<Figure size 432x288 with 1 Axes>"
      ]
     },
     "metadata": {
      "needs_background": "light"
     },
     "output_type": "display_data"
    }
   ],
   "source": [
    "df['host_has_profile_pic'] = df['host_has_profile_pic'].map({'f':0,'t':1})\n",
    "sns.countplot(x='host_has_profile_pic',data=df)"
   ]
  },
  {
   "cell_type": "code",
   "execution_count": 17,
   "metadata": {
    "colab": {
     "base_uri": "https://localhost:8080/"
    },
    "id": "zLVF-66Lttzn",
    "outputId": "744f871c-db1f-44c0-8a8f-432799b7e2b9"
   },
   "outputs": [
    {
     "data": {
      "text/plain": [
       "1    22470\n",
       "0       82\n",
       "Name: host_has_profile_pic, dtype: int64"
      ]
     },
     "execution_count": 17,
     "metadata": {},
     "output_type": "execute_result"
    }
   ],
   "source": [
    "df['host_has_profile_pic'].value_counts()"
   ]
  },
  {
   "cell_type": "markdown",
   "metadata": {
    "id": "4QAmmO-Ittzo"
   },
   "source": [
    "# Price"
   ]
  },
  {
   "cell_type": "code",
   "execution_count": 18,
   "metadata": {
    "colab": {
     "base_uri": "https://localhost:8080/"
    },
    "id": "plb1cbVLttzo",
    "outputId": "4d0af167-e75d-4120-d31f-b56f139b395f"
   },
   "outputs": [
    {
     "name": "stderr",
     "output_type": "stream",
     "text": [
      "C:\\Users\\singh\\AppData\\Local\\Temp\\ipykernel_5776\\732676128.py:1: FutureWarning: The default value of regex will change from True to False in a future version. In addition, single character regular expressions will *not* be treated as literal strings when regex=True.\n",
      "  df['price'] = df['price'].str.replace('$', '').str.replace(',', '').astype(float)\n",
      "C:\\Users\\singh\\AppData\\Local\\Temp\\ipykernel_5776\\732676128.py:2: FutureWarning: The default value of regex will change from True to False in a future version. In addition, single character regular expressions will *not* be treated as literal strings when regex=True.\n",
      "  df['cleaning_fee'] = df['cleaning_fee'].str.replace('$', '').str.replace(',', '').astype(float)\n",
      "C:\\Users\\singh\\AppData\\Local\\Temp\\ipykernel_5776\\732676128.py:3: FutureWarning: The default value of regex will change from True to False in a future version. In addition, single character regular expressions will *not* be treated as literal strings when regex=True.\n",
      "  df['security_deposit'] = df['security_deposit'].str.replace('$', '').str.replace(',', '').astype(float)\n",
      "C:\\Users\\singh\\AppData\\Local\\Temp\\ipykernel_5776\\732676128.py:4: FutureWarning: The default value of regex will change from True to False in a future version. In addition, single character regular expressions will *not* be treated as literal strings when regex=True.\n",
      "  df['extra_people'] = df['extra_people'].str.replace('$', '').str.replace(',', '').astype(float)\n"
     ]
    }
   ],
   "source": [
    "df['price'] = df['price'].str.replace('$', '').str.replace(',', '').astype(float)  \n",
    "df['cleaning_fee'] = df['cleaning_fee'].str.replace('$', '').str.replace(',', '').astype(float)\n",
    "df['security_deposit'] = df['security_deposit'].str.replace('$', '').str.replace(',', '').astype(float)\n",
    "df['extra_people'] = df['extra_people'].str.replace('$', '').str.replace(',', '').astype(float)"
   ]
  },
  {
   "cell_type": "code",
   "execution_count": 19,
   "metadata": {
    "colab": {
     "base_uri": "https://localhost:8080/",
     "height": 298
    },
    "id": "v775hUus4eV-",
    "outputId": "ddda1e3d-033f-4b97-fce4-88d9c18d5dae"
   },
   "outputs": [
    {
     "data": {
      "text/plain": [
       "<AxesSubplot:xlabel='cleaning_fee', ylabel='count'>"
      ]
     },
     "execution_count": 19,
     "metadata": {},
     "output_type": "execute_result"
    },
    {
     "data": {
      "image/png": "[encoded data removed]",
      "text/plain": [
       "<Figure size 432x288 with 1 Axes>"
      ]
     },
     "metadata": {
      "needs_background": "light"
     },
     "output_type": "display_data"
    }
   ],
   "source": [
    "df['cleaning_fee'].value_counts(dropna=False)\n",
    "\n",
    "sns.countplot(x='cleaning_fee',data=df)"
   ]
  },
  {
   "cell_type": "code",
   "execution_count": 20,
   "metadata": {
    "colab": {
     "base_uri": "https://localhost:8080/"
    },
    "id": "SAPLhhRzttzp",
    "outputId": "34887626-b9a0-4586-f719-9284ad26cfe6"
   },
   "outputs": [
    {
     "data": {
      "text/plain": [
       "0"
      ]
     },
     "execution_count": 20,
     "metadata": {},
     "output_type": "execute_result"
    }
   ],
   "source": [
    "df['cleaning_fee'].fillna(df['cleaning_fee'].mean(), inplace=True)\n",
    "df['cleaning_fee'].isna().sum()"
   ]
  },
  {
   "cell_type": "code",
   "execution_count": 21,
   "metadata": {
    "colab": {
     "base_uri": "https://localhost:8080/"
    },
    "id": "8Q840yszttzp",
    "outputId": "9887bc08-81eb-4014-860f-6a03ee260b00"
   },
   "outputs": [
    {
     "data": {
      "text/plain": [
       "0"
      ]
     },
     "execution_count": 21,
     "metadata": {},
     "output_type": "execute_result"
    }
   ],
   "source": [
    "df['security_deposit'].fillna(df['security_deposit'].mean(), inplace=True)\n",
    "df['security_deposit'].isna().sum()"
   ]
  },
  {
   "cell_type": "code",
   "execution_count": 22,
   "metadata": {
    "colab": {
     "base_uri": "https://localhost:8080/"
    },
    "id": "HrxH1G0Wttzq",
    "outputId": "e5db4a54-9fbf-4fb9-a421-0326a7243c1f"
   },
   "outputs": [
    {
     "data": {
      "text/plain": [
       "count    22552.000000\n",
       "mean        67.143668\n",
       "std        220.266210\n",
       "min          0.000000\n",
       "25%         30.000000\n",
       "50%         45.000000\n",
       "75%         70.000000\n",
       "max       9000.000000\n",
       "Name: price, dtype: float64"
      ]
     },
     "execution_count": 22,
     "metadata": {},
     "output_type": "execute_result"
    }
   ],
   "source": [
    "df['price'].describe()"
   ]
  },
  {
   "cell_type": "code",
   "execution_count": 23,
   "metadata": {
    "id": "2P2Sp-To8PNY"
   },
   "outputs": [],
   "source": [
    "len(df[df['price']==0])\n",
    "to_drop = list(df[df['price']==0].index)"
   ]
  },
  {
   "cell_type": "code",
   "execution_count": 24,
   "metadata": {
    "id": "Wzt9diUottzr"
   },
   "outputs": [],
   "source": [
    "df.drop(to_drop, inplace=True)\n",
    "df.reset_index(inplace=True)\n",
    "df['price'] = np.log1p(df['price'])  "
   ]
  },
  {
   "cell_type": "code",
   "execution_count": 25,
   "metadata": {
    "colab": {
     "base_uri": "https://localhost:8080/"
    },
    "id": "1XOcA2bj_3Nz",
    "outputId": "eadf5a6a-6b2f-43aa-90e7-868e02495303"
   },
   "outputs": [
    {
     "data": {
      "text/plain": [
       "0"
      ]
     },
     "execution_count": 25,
     "metadata": {},
     "output_type": "execute_result"
    }
   ],
   "source": [
    "len(df[df['price']==0])"
   ]
  },
  {
   "cell_type": "code",
   "execution_count": 26,
   "metadata": {
    "colab": {
     "base_uri": "https://localhost:8080/",
     "height": 375
    },
    "id": "_fokmy5JBOeu",
    "outputId": "351bd6b7-7e41-4bbe-e0b7-ef0818d69797"
   },
   "outputs": [
    {
     "data": {
      "text/plain": [
       "(array([1.0000e+00, 2.6000e+01, 2.0380e+03, 1.2248e+04, 6.9970e+03,\n",
       "        1.0720e+03, 1.1100e+02, 1.7000e+01, 8.0000e+00, 2.6000e+01]),\n",
       " array([0.69314718, 1.53434156, 2.37553594, 3.21673031, 4.05792469,\n",
       "        4.89911907, 5.74031345, 6.58150783, 7.42270221, 8.26389658,\n",
       "        9.10509096]),\n",
       " <BarContainer object of 10 artists>)"
      ]
     },
     "execution_count": 26,
     "metadata": {},
     "output_type": "execute_result"
    },
    {
     "data": {
      "image/png": "[encoded data removed]",
      "text/plain": [
       "<Figure size 432x288 with 1 Axes>"
      ]
     },
     "metadata": {
      "needs_background": "light"
     },
     "output_type": "display_data"
    }
   ],
   "source": [
    "plt.hist(df['price'])   "
   ]
  },
  {
   "cell_type": "code",
   "execution_count": 27,
   "metadata": {
    "colab": {
     "base_uri": "https://localhost:8080/"
    },
    "id": "9ek3wu78D-os",
    "outputId": "d9e40d15-4f6e-4bfc-cf3f-94a94f0ddbbf"
   },
   "outputs": [
    {
     "data": {
      "text/plain": [
       "3.433987    1387\n",
       "3.583519    1256\n",
       "3.931826    1247\n",
       "3.713572    1191\n",
       "3.258097    1121\n",
       "            ... \n",
       "5.572154       1\n",
       "5.802118       1\n",
       "6.045005       1\n",
       "6.098074       1\n",
       "7.313887       1\n",
       "Name: price, Length: 294, dtype: int64"
      ]
     },
     "execution_count": 27,
     "metadata": {},
     "output_type": "execute_result"
    }
   ],
   "source": [
    "df['price'].value_counts()"
   ]
  },
  {
   "cell_type": "code",
   "execution_count": 28,
   "metadata": {
    "colab": {
     "base_uri": "https://localhost:8080/",
     "height": 391
    },
    "id": "p_d3JAmtttzr",
    "outputId": "0b173d0d-d41d-4a1d-f3f9-1d5182772e96"
   },
   "outputs": [
    {
     "name": "stderr",
     "output_type": "stream",
     "text": [
      "C:\\Users\\singh\\anaconda3\\lib\\site-packages\\seaborn\\distributions.py:2619: FutureWarning: `distplot` is a deprecated function and will be removed in a future version. Please adapt your code to use either `displot` (a figure-level function with similar flexibility) or `histplot` (an axes-level function for histograms).\n",
      "  warnings.warn(msg, FutureWarning)\n"
     ]
    },
    {
     "name": "stdout",
     "output_type": "stream",
     "text": [
      "Skewness: 1.149665\n",
      "Kurtosis: 5.184078\n"
     ]
    },
    {
     "data": {
      "image/png": "[encoded data removed]",
      "text/plain": [
       "<Figure size 432x288 with 1 Axes>"
      ]
     },
     "metadata": {
      "needs_background": "light"
     },
     "output_type": "display_data"
    },
    {
     "data": {
      "text/plain": [
       "<Figure size 432x288 with 0 Axes>"
      ]
     },
     "metadata": {},
     "output_type": "display_data"
    }
   ],
   "source": [
    "sns.distplot(df['price'], fit=norm);\n",
    "fig = plt.figure()\n",
    "print(\"Skewness: %f\" % df['price'].skew())\n",
    "print(\"Kurtosis: %f\" % df['price'].kurt())    "
   ]
  },
  {
   "cell_type": "markdown",
   "metadata": {
    "id": "7JJvH29-ttzs"
   },
   "source": [
    "# Room Types"
   ]
  },
  {
   "cell_type": "code",
   "execution_count": 29,
   "metadata": {
    "colab": {
     "base_uri": "https://localhost:8080/",
     "height": 300
    },
    "id": "FaLHPgsmttzs",
    "outputId": "dfd12484-ce71-4bdb-d5da-50f38e1d064a"
   },
   "outputs": [
    {
     "data": {
      "text/plain": [
       "<AxesSubplot:xlabel='room_type', ylabel='count'>"
      ]
     },
     "execution_count": 29,
     "metadata": {},
     "output_type": "execute_result"
    },
    {
     "data": {
      "image/png": "[encoded data removed]",
      "text/plain": [
       "<Figure size 432x288 with 1 Axes>"
      ]
     },
     "metadata": {
      "needs_background": "light"
     },
     "output_type": "display_data"
    }
   ],
   "source": [
    "sns.countplot(x='room_type',data=df)"
   ]
  },
  {
   "cell_type": "markdown",
   "metadata": {
    "id": "mMGIupA8ttzs"
   },
   "source": [
    "# Neighbourhood Group"
   ]
  },
  {
   "cell_type": "code",
   "execution_count": 30,
   "metadata": {
    "colab": {
     "base_uri": "https://localhost:8080/",
     "height": 298
    },
    "id": "zkPN99Ilttzs",
    "outputId": "38169d4a-958a-47e9-d8f7-cb8c3446fb00"
   },
   "outputs": [
    {
     "data": {
      "text/plain": [
       "<AxesSubplot:xlabel='neighbourhood_group_cleansed', ylabel='count'>"
      ]
     },
     "execution_count": 30,
     "metadata": {},
     "output_type": "execute_result"
    },
    {
     "data": {
      "image/png": "[encoded data removed]",
      "text/plain": [
       "<Figure size 432x288 with 1 Axes>"
      ]
     },
     "metadata": {
      "needs_background": "light"
     },
     "output_type": "display_data"
    }
   ],
   "source": [
    "sns.countplot(x='neighbourhood_group_cleansed',data=df)"
   ]
  },
  {
   "cell_type": "markdown",
   "metadata": {
    "id": "WEPx-HhFttzt"
   },
   "source": [
    "# Neighbourhood"
   ]
  },
  {
   "cell_type": "code",
   "execution_count": 31,
   "metadata": {
    "colab": {
     "base_uri": "https://localhost:8080/",
     "height": 298
    },
    "id": "cxK_ZOOFttzt",
    "outputId": "49c08d8f-9ac6-4528-dd40-c6801ac45f76"
   },
   "outputs": [
    {
     "data": {
      "text/plain": [
       "<AxesSubplot:xlabel='neighbourhood_cleansed', ylabel='count'>"
      ]
     },
     "execution_count": 31,
     "metadata": {},
     "output_type": "execute_result"
    },
    {
     "data": {
      "image/png": "[encoded data removed]",
      "text/plain": [
       "<Figure size 432x288 with 1 Axes>"
      ]
     },
     "metadata": {
      "needs_background": "light"
     },
     "output_type": "display_data"
    }
   ],
   "source": [
    "sns.countplot(x='neighbourhood_cleansed',data=df)"
   ]
  },
  {
   "cell_type": "code",
   "execution_count": 32,
   "metadata": {
    "id": "27x5OwXwttzt"
   },
   "outputs": [],
   "source": [
    "z = df['neighbourhood_cleansed'].value_counts() "
   ]
  },
  {
   "cell_type": "code",
   "execution_count": 33,
   "metadata": {
    "colab": {
     "base_uri": "https://localhost:8080/"
    },
    "id": "9kcRsHMuIqtw",
    "outputId": "6cbcab65-1d9d-431f-bee4-5f8a4e747e5b"
   },
   "outputs": [
    {
     "name": "stdout",
     "output_type": "stream",
     "text": [
      "Tempelhofer Vorstadt                  1324\n",
      "Frankfurter Allee Süd FK              1280\n",
      "Alexanderplatz                        1091\n",
      "Reuterstraße                          1002\n",
      "Rixdorf                                880\n",
      "                                      ... \n",
      "Malchow, Wartenberg und Falkenberg       3\n",
      "Allende-Viertel                          3\n",
      "Neu-Hohenschönhausen Süd                 2\n",
      "MV 2                                     1\n",
      "Hellersdorf-Ost                          1\n",
      "Name: neighbourhood_cleansed, Length: 136, dtype: int64\n"
     ]
    }
   ],
   "source": [
    "print(z)"
   ]
  },
  {
   "cell_type": "code",
   "execution_count": 34,
   "metadata": {
    "colab": {
     "base_uri": "https://localhost:8080/"
    },
    "id": "Jrawk5IXttzt",
    "outputId": "b3c50b32-368e-4bb9-b52c-3582a5ed9d66",
    "scrolled": true
   },
   "outputs": [
    {
     "data": {
      "text/plain": [
       "90"
      ]
     },
     "execution_count": 34,
     "metadata": {},
     "output_type": "execute_result"
    }
   ],
   "source": [
    "others = []\n",
    "for i in set(df['neighbourhood_cleansed']):\n",
    "    if z[i]<100:\n",
    "        others.append(i)\n",
    "len(others)"
   ]
  },
  {
   "cell_type": "code",
   "execution_count": 35,
   "metadata": {
    "colab": {
     "base_uri": "https://localhost:8080/"
    },
    "id": "AJdpDqA2ttzu",
    "outputId": "31d60435-6bfb-41d1-afc8-8a2bc5aef98c",
    "scrolled": true
   },
   "outputs": [
    {
     "name": "stderr",
     "output_type": "stream",
     "text": [
      "100%|█████████████████████████████████████████████████████████████████████████| 22544/22544 [00:00<00:00, 24718.19it/s]\n"
     ]
    }
   ],
   "source": [
    "for i in tqdm(range(len(df))):\n",
    "    if df.loc[i,'neighbourhood_cleansed'] in others:   \n",
    "        df.loc[i,'neighbourhood_cleansed'] = 'Others'"
   ]
  },
  {
   "cell_type": "code",
   "execution_count": 36,
   "metadata": {
    "colab": {
     "base_uri": "https://localhost:8080/"
    },
    "id": "MW5xjQTeMlVM",
    "outputId": "a4f67a91-715b-42ca-cda3-4afd55964e7e"
   },
   "outputs": [
    {
     "data": {
      "text/plain": [
       "47"
      ]
     },
     "execution_count": 36,
     "metadata": {},
     "output_type": "execute_result"
    }
   ],
   "source": [
    "len(df['neighbourhood_cleansed'].value_counts())"
   ]
  },
  {
   "cell_type": "markdown",
   "metadata": {
    "id": "Uh_TRDylttzu"
   },
   "source": [
    "## Propery Type"
   ]
  },
  {
   "cell_type": "code",
   "execution_count": 37,
   "metadata": {
    "id": "QtaD6Lu8ttzu"
   },
   "outputs": [],
   "source": [
    "z = df['property_type'].value_counts()"
   ]
  },
  {
   "cell_type": "code",
   "execution_count": 38,
   "metadata": {
    "colab": {
     "base_uri": "https://localhost:8080/"
    },
    "id": "yJSoSUD-ttzu",
    "outputId": "1c330eba-afe1-4a9c-d9b8-16d9e45f48e5"
   },
   "outputs": [
    {
     "data": {
      "text/plain": [
       "27"
      ]
     },
     "execution_count": 38,
     "metadata": {},
     "output_type": "execute_result"
    }
   ],
   "source": [
    "others = []\n",
    "for i in set(df['property_type']):\n",
    "    if z[i]<100:\n",
    "        others.append(i)\n",
    "len(others)"
   ]
  },
  {
   "cell_type": "code",
   "execution_count": 39,
   "metadata": {
    "colab": {
     "base_uri": "https://localhost:8080/"
    },
    "id": "5e8Jrajvttzv",
    "outputId": "de614bd6-ac2f-4bfe-89fa-1d1440205b3c"
   },
   "outputs": [
    {
     "name": "stderr",
     "output_type": "stream",
     "text": [
      "100%|█████████████████████████████████████████████████████████████████████████| 22544/22544 [00:00<00:00, 64818.59it/s]\n"
     ]
    }
   ],
   "source": [
    "for i in tqdm(range(len(df))):\n",
    "    if df.loc[i,'neighbourhood_cleansed'] in others:\n",
    "        df.loc[i,'neighbourhood_cleansed'] = 'Others'"
   ]
  },
  {
   "cell_type": "code",
   "execution_count": 40,
   "metadata": {
    "colab": {
     "base_uri": "https://localhost:8080/"
    },
    "id": "JlxnT8xwttzv",
    "outputId": "5ad121d3-85c4-416f-9784-63d9fb728972"
   },
   "outputs": [
    {
     "name": "stderr",
     "output_type": "stream",
     "text": [
      "100%|█████████████████████████████████████████████████████████████████████████| 22544/22544 [00:00<00:00, 65006.24it/s]\n"
     ]
    }
   ],
   "source": [
    "for i in tqdm(range(len(df))):\n",
    "    if df.loc[i,'neighbourhood_cleansed'] in others:\n",
    "        df.loc[i,'neighbourhood_cleansed'] = 'Others'"
   ]
  },
  {
   "cell_type": "markdown",
   "metadata": {
    "id": "cHRq2fZTttzw"
   },
   "source": [
    "# Bathrooms"
   ]
  },
  {
   "cell_type": "code",
   "execution_count": 41,
   "metadata": {
    "colab": {
     "base_uri": "https://localhost:8080/"
    },
    "id": "x3tJP3Olttzw",
    "outputId": "cd820994-51ce-4ea9-ffbf-d6ea3ff730d0"
   },
   "outputs": [
    {
     "data": {
      "text/plain": [
       "1.0    19801\n",
       "2.0     1268\n",
       "1.5     1145\n",
       "0.5      104\n",
       "2.5       74\n",
       "3.0       50\n",
       "0.0       41\n",
       "NaN       32\n",
       "4.0       12\n",
       "3.5        3\n",
       "7.0        3\n",
       "8.5        3\n",
       "5.0        2\n",
       "7.5        2\n",
       "8.0        2\n",
       "4.5        1\n",
       "6.0        1\n",
       "Name: bathrooms, dtype: int64"
      ]
     },
     "execution_count": 41,
     "metadata": {},
     "output_type": "execute_result"
    }
   ],
   "source": [
    "df['bathrooms'].value_counts(dropna=False)"
   ]
  },
  {
   "cell_type": "code",
   "execution_count": 42,
   "metadata": {
    "id": "YWwNP_hWttzw"
   },
   "outputs": [],
   "source": [
    "df['bathrooms'].fillna(1,inplace=True)"
   ]
  },
  {
   "cell_type": "markdown",
   "metadata": {
    "id": "conH6KT6ttzw"
   },
   "source": [
    "# Bedroom"
   ]
  },
  {
   "cell_type": "code",
   "execution_count": 43,
   "metadata": {
    "colab": {
     "base_uri": "https://localhost:8080/"
    },
    "id": "c3yT1ZBYttzw",
    "outputId": "2b398c92-f4ca-44e7-877f-a110e0810e50"
   },
   "outputs": [
    {
     "data": {
      "text/plain": [
       "1.0     17159\n",
       "2.0      2970\n",
       "0.0      1477\n",
       "3.0       723\n",
       "4.0       143\n",
       "5.0        34\n",
       "6.0        10\n",
       "8.0         4\n",
       "7.0         3\n",
       "10.0        1\n",
       "12.0        1\n",
       "9.0         1\n",
       "Name: bedrooms, dtype: int64"
      ]
     },
     "execution_count": 43,
     "metadata": {},
     "output_type": "execute_result"
    }
   ],
   "source": [
    "df['bedrooms'].value_counts()"
   ]
  },
  {
   "cell_type": "code",
   "execution_count": 44,
   "metadata": {
    "id": "6dD2w2Q5ttzx"
   },
   "outputs": [],
   "source": [
    "df['bedrooms'].fillna(1,inplace=True)"
   ]
  },
  {
   "cell_type": "markdown",
   "metadata": {
    "id": "hq_8hUJmttzx"
   },
   "source": [
    "# Host Details"
   ]
  },
  {
   "cell_type": "code",
   "execution_count": 45,
   "metadata": {
    "colab": {
     "base_uri": "https://localhost:8080/",
     "height": 398
    },
    "id": "Lv98c7uZttzx",
    "outputId": "1e11c90b-5c35-4e6d-b80b-abc7a4ebd8cb"
   },
   "outputs": [],
   "source": [
    "z = df['host_since'].isnull()\n",
    "z = list(df[z].index)           \n",
    "\n",
    "df.drop(z,inplace=True)\n",
    "df.reset_index(inplace=True)\n",
    "\n",
    "z = df['host_is_superhost'].isnull()\n",
    "z = list(df[z].index)\n",
    "\n",
    "df.drop(z,inplace=True)\n",
    "df.reset_index(inplace=True)\n"
   ]
  },
  {
   "cell_type": "markdown",
   "metadata": {
    "id": "yZDc4f6pttzy"
   },
   "source": [
    "# Reviews"
   ]
  },
  {
   "cell_type": "code",
   "execution_count": 46,
   "metadata": {
    "id": "Tk9_rdVxttzy"
   },
   "outputs": [],
   "source": [
    "dropped = ['review_scores_rating','review_scores_accuracy','review_scores_cleanliness','review_scores_checkin',\n",
    "            'review_scores_communication','review_scores_location','review_scores_value']\n",
    "df.drop(dropped,axis=1,inplace=True)   "
   ]
  },
  {
   "cell_type": "code",
   "execution_count": 47,
   "metadata": {
    "colab": {
     "base_uri": "https://localhost:8080/",
     "height": 582
    },
    "id": "o_yedv9Bttzy",
    "outputId": "3f32e1ba-a014-453d-f8ca-4b40852d05ed"
   },
   "outputs": [
    {
     "data": {
      "text/html": [
       "<div>\n",
       "<style scoped>\n",
       "    .dataframe tbody tr th:only-of-type {\n",
       "        vertical-align: middle;\n",
       "    }\n",
       "\n",
       "    .dataframe tbody tr th {\n",
       "        vertical-align: top;\n",
       "    }\n",
       "\n",
       "    .dataframe thead th {\n",
       "        text-align: right;\n",
       "    }\n",
       "</style>\n",
       "<table border=\"1\" class=\"dataframe\">\n",
       "  <thead>\n",
       "    <tr style=\"text-align: right;\">\n",
       "      <th></th>\n",
       "      <th>level_0</th>\n",
       "      <th>index</th>\n",
       "      <th>id</th>\n",
       "      <th>host_has_profile_pic</th>\n",
       "      <th>host_since</th>\n",
       "      <th>neighbourhood_cleansed</th>\n",
       "      <th>neighbourhood_group_cleansed</th>\n",
       "      <th>host_is_superhost</th>\n",
       "      <th>description</th>\n",
       "      <th>latitude</th>\n",
       "      <th>longitude</th>\n",
       "      <th>is_location_exact</th>\n",
       "      <th>property_type</th>\n",
       "      <th>room_type</th>\n",
       "      <th>accommodates</th>\n",
       "      <th>bathrooms</th>\n",
       "      <th>bedrooms</th>\n",
       "      <th>bed_type</th>\n",
       "      <th>amenities</th>\n",
       "      <th>price</th>\n",
       "      <th>cleaning_fee</th>\n",
       "      <th>reviews_per_month</th>\n",
       "      <th>number_of_reviews</th>\n",
       "      <th>security_deposit</th>\n",
       "      <th>extra_people</th>\n",
       "      <th>guests_included</th>\n",
       "      <th>minimum_nights</th>\n",
       "      <th>instant_bookable</th>\n",
       "      <th>is_business_travel_ready</th>\n",
       "      <th>cancellation_policy</th>\n",
       "      <th>availability_365</th>\n",
       "    </tr>\n",
       "  </thead>\n",
       "  <tbody>\n",
       "    <tr>\n",
       "      <th>0</th>\n",
       "      <td>0</td>\n",
       "      <td>0</td>\n",
       "      <td>2015</td>\n",
       "      <td>1</td>\n",
       "      <td>2008-08-18</td>\n",
       "      <td>Brunnenstr. Süd</td>\n",
       "      <td>Mitte</td>\n",
       "      <td>1.0</td>\n",
       "      <td>Great location!  30 of 75 sq meters. This wood...</td>\n",
       "      <td>52.534537</td>\n",
       "      <td>13.402557</td>\n",
       "      <td>0</td>\n",
       "      <td>Guesthouse</td>\n",
       "      <td>Entire home/apt</td>\n",
       "      <td>3</td>\n",
       "      <td>1.0</td>\n",
       "      <td>1.0</td>\n",
       "      <td>Real Bed</td>\n",
       "      <td>{TV,\"Cable TV\",Wifi,Kitchen,Gym,Heating,\"Famil...</td>\n",
       "      <td>4.110874</td>\n",
       "      <td>30.0</td>\n",
       "      <td>3.76</td>\n",
       "      <td>118</td>\n",
       "      <td>200.0</td>\n",
       "      <td>28.0</td>\n",
       "      <td>1</td>\n",
       "      <td>4</td>\n",
       "      <td>0</td>\n",
       "      <td>0</td>\n",
       "      <td>strict_14_with_grace_period</td>\n",
       "      <td>141</td>\n",
       "    </tr>\n",
       "    <tr>\n",
       "      <th>1</th>\n",
       "      <td>1</td>\n",
       "      <td>1</td>\n",
       "      <td>2695</td>\n",
       "      <td>1</td>\n",
       "      <td>2008-09-16</td>\n",
       "      <td>Prenzlauer Berg Nordwest</td>\n",
       "      <td>Pankow</td>\n",
       "      <td>0.0</td>\n",
       "      <td>In the summertime we are spending most of our ...</td>\n",
       "      <td>52.548513</td>\n",
       "      <td>13.404553</td>\n",
       "      <td>1</td>\n",
       "      <td>Apartment</td>\n",
       "      <td>Private room</td>\n",
       "      <td>2</td>\n",
       "      <td>1.0</td>\n",
       "      <td>1.0</td>\n",
       "      <td>Real Bed</td>\n",
       "      <td>{Wifi,Kitchen,Elevator,Heating,Washer,Essentia...</td>\n",
       "      <td>2.890372</td>\n",
       "      <td>0.0</td>\n",
       "      <td>1.42</td>\n",
       "      <td>6</td>\n",
       "      <td>0.0</td>\n",
       "      <td>0.0</td>\n",
       "      <td>1</td>\n",
       "      <td>2</td>\n",
       "      <td>0</td>\n",
       "      <td>0</td>\n",
       "      <td>flexible</td>\n",
       "      <td>0</td>\n",
       "    </tr>\n",
       "    <tr>\n",
       "      <th>2</th>\n",
       "      <td>2</td>\n",
       "      <td>2</td>\n",
       "      <td>3176</td>\n",
       "      <td>1</td>\n",
       "      <td>2008-10-19</td>\n",
       "      <td>Prenzlauer Berg Südwest</td>\n",
       "      <td>Pankow</td>\n",
       "      <td>0.0</td>\n",
       "      <td>This beautiful first floor apartment  is situa...</td>\n",
       "      <td>52.534996</td>\n",
       "      <td>13.417579</td>\n",
       "      <td>1</td>\n",
       "      <td>Apartment</td>\n",
       "      <td>Entire home/apt</td>\n",
       "      <td>4</td>\n",
       "      <td>1.0</td>\n",
       "      <td>1.0</td>\n",
       "      <td>Real Bed</td>\n",
       "      <td>{Internet,Wifi,Kitchen,\"Buzzer/wireless interc...</td>\n",
       "      <td>4.510860</td>\n",
       "      <td>50.0</td>\n",
       "      <td>1.25</td>\n",
       "      <td>143</td>\n",
       "      <td>200.0</td>\n",
       "      <td>20.0</td>\n",
       "      <td>2</td>\n",
       "      <td>62</td>\n",
       "      <td>1</td>\n",
       "      <td>0</td>\n",
       "      <td>strict_14_with_grace_period</td>\n",
       "      <td>220</td>\n",
       "    </tr>\n",
       "    <tr>\n",
       "      <th>3</th>\n",
       "      <td>3</td>\n",
       "      <td>3</td>\n",
       "      <td>3309</td>\n",
       "      <td>1</td>\n",
       "      <td>2008-11-07</td>\n",
       "      <td>Schöneberg-Nord</td>\n",
       "      <td>Tempelhof - Schöneberg</td>\n",
       "      <td>0.0</td>\n",
       "      <td>First of all: I prefer short-notice bookings. ...</td>\n",
       "      <td>52.498855</td>\n",
       "      <td>13.349065</td>\n",
       "      <td>1</td>\n",
       "      <td>Apartment</td>\n",
       "      <td>Private room</td>\n",
       "      <td>2</td>\n",
       "      <td>1.0</td>\n",
       "      <td>1.0</td>\n",
       "      <td>Pull-out Sofa</td>\n",
       "      <td>{Internet,Wifi,\"Pets allowed\",\"Pets live on th...</td>\n",
       "      <td>3.295837</td>\n",
       "      <td>30.0</td>\n",
       "      <td>0.39</td>\n",
       "      <td>25</td>\n",
       "      <td>250.0</td>\n",
       "      <td>18.0</td>\n",
       "      <td>1</td>\n",
       "      <td>5</td>\n",
       "      <td>0</td>\n",
       "      <td>0</td>\n",
       "      <td>strict_14_with_grace_period</td>\n",
       "      <td>297</td>\n",
       "    </tr>\n",
       "    <tr>\n",
       "      <th>4</th>\n",
       "      <td>4</td>\n",
       "      <td>4</td>\n",
       "      <td>7071</td>\n",
       "      <td>1</td>\n",
       "      <td>2009-05-16</td>\n",
       "      <td>Helmholtzplatz</td>\n",
       "      <td>Pankow</td>\n",
       "      <td>1.0</td>\n",
       "      <td>Cozy and large room in the beautiful district ...</td>\n",
       "      <td>52.543157</td>\n",
       "      <td>13.415091</td>\n",
       "      <td>1</td>\n",
       "      <td>Apartment</td>\n",
       "      <td>Private room</td>\n",
       "      <td>2</td>\n",
       "      <td>1.0</td>\n",
       "      <td>1.0</td>\n",
       "      <td>Real Bed</td>\n",
       "      <td>{Wifi,Heating,\"Family/kid friendly\",Essentials...</td>\n",
       "      <td>3.761200</td>\n",
       "      <td>0.0</td>\n",
       "      <td>1.75</td>\n",
       "      <td>197</td>\n",
       "      <td>0.0</td>\n",
       "      <td>24.0</td>\n",
       "      <td>1</td>\n",
       "      <td>2</td>\n",
       "      <td>0</td>\n",
       "      <td>0</td>\n",
       "      <td>moderate</td>\n",
       "      <td>26</td>\n",
       "    </tr>\n",
       "  </tbody>\n",
       "</table>\n",
       "</div>"
      ],
      "text/plain": [
       "   level_0  index    id  host_has_profile_pic  host_since  \\\n",
       "0        0      0  2015                     1  2008-08-18   \n",
       "1        1      1  2695                     1  2008-09-16   \n",
       "2        2      2  3176                     1  2008-10-19   \n",
       "3        3      3  3309                     1  2008-11-07   \n",
       "4        4      4  7071                     1  2009-05-16   \n",
       "\n",
       "     neighbourhood_cleansed neighbourhood_group_cleansed  host_is_superhost  \\\n",
       "0           Brunnenstr. Süd                        Mitte                1.0   \n",
       "1  Prenzlauer Berg Nordwest                       Pankow                0.0   \n",
       "2   Prenzlauer Berg Südwest                       Pankow                0.0   \n",
       "3           Schöneberg-Nord       Tempelhof - Schöneberg                0.0   \n",
       "4            Helmholtzplatz                       Pankow                1.0   \n",
       "\n",
       "                                         description   latitude  longitude  \\\n",
       "0  Great location!  30 of 75 sq meters. This wood...  52.534537  13.402557   \n",
       "1  In the summertime we are spending most of our ...  52.548513  13.404553   \n",
       "2  This beautiful first floor apartment  is situa...  52.534996  13.417579   \n",
       "3  First of all: I prefer short-notice bookings. ...  52.498855  13.349065   \n",
       "4  Cozy and large room in the beautiful district ...  52.543157  13.415091   \n",
       "\n",
       "   is_location_exact property_type        room_type  accommodates  bathrooms  \\\n",
       "0                  0    Guesthouse  Entire home/apt             3        1.0   \n",
       "1                  1     Apartment     Private room             2        1.0   \n",
       "2                  1     Apartment  Entire home/apt             4        1.0   \n",
       "3                  1     Apartment     Private room             2        1.0   \n",
       "4                  1     Apartment     Private room             2        1.0   \n",
       "\n",
       "   bedrooms       bed_type                                          amenities  \\\n",
       "0       1.0       Real Bed  {TV,\"Cable TV\",Wifi,Kitchen,Gym,Heating,\"Famil...   \n",
       "1       1.0       Real Bed  {Wifi,Kitchen,Elevator,Heating,Washer,Essentia...   \n",
       "2       1.0       Real Bed  {Internet,Wifi,Kitchen,\"Buzzer/wireless interc...   \n",
       "3       1.0  Pull-out Sofa  {Internet,Wifi,\"Pets allowed\",\"Pets live on th...   \n",
       "4       1.0       Real Bed  {Wifi,Heating,\"Family/kid friendly\",Essentials...   \n",
       "\n",
       "      price  cleaning_fee  reviews_per_month  number_of_reviews  \\\n",
       "0  4.110874          30.0               3.76                118   \n",
       "1  2.890372           0.0               1.42                  6   \n",
       "2  4.510860          50.0               1.25                143   \n",
       "3  3.295837          30.0               0.39                 25   \n",
       "4  3.761200           0.0               1.75                197   \n",
       "\n",
       "   security_deposit  extra_people  guests_included  minimum_nights  \\\n",
       "0             200.0          28.0                1               4   \n",
       "1               0.0           0.0                1               2   \n",
       "2             200.0          20.0                2              62   \n",
       "3             250.0          18.0                1               5   \n",
       "4               0.0          24.0                1               2   \n",
       "\n",
       "   instant_bookable  is_business_travel_ready          cancellation_policy  \\\n",
       "0                 0                         0  strict_14_with_grace_period   \n",
       "1                 0                         0                     flexible   \n",
       "2                 1                         0  strict_14_with_grace_period   \n",
       "3                 0                         0  strict_14_with_grace_period   \n",
       "4                 0                         0                     moderate   \n",
       "\n",
       "   availability_365  \n",
       "0               141  \n",
       "1                 0  \n",
       "2               220  \n",
       "3               297  \n",
       "4                26  "
      ]
     },
     "execution_count": 47,
     "metadata": {},
     "output_type": "execute_result"
    }
   ],
   "source": [
    "df.head()"
   ]
  },
  {
   "cell_type": "markdown",
   "metadata": {
    "id": "_x2Kd_k2ttzy"
   },
   "source": [
    "# Cancellation"
   ]
  },
  {
   "cell_type": "code",
   "execution_count": 48,
   "metadata": {
    "colab": {
     "base_uri": "https://localhost:8080/"
    },
    "id": "eLHyfV5sttzz",
    "outputId": "65ca254c-4bbf-4854-8c07-96b3e2add355"
   },
   "outputs": [
    {
     "data": {
      "text/plain": [
       "flexible                       9082\n",
       "moderate                       7086\n",
       "strict_14_with_grace_period    6283\n",
       "super_strict_30                  53\n",
       "super_strict_60                  14\n",
       "Name: cancellation_policy, dtype: int64"
      ]
     },
     "execution_count": 48,
     "metadata": {},
     "output_type": "execute_result"
    }
   ],
   "source": [
    "df['cancellation_policy'].value_counts(dropna=False)"
   ]
  },
  {
   "cell_type": "markdown",
   "metadata": {
    "id": "qD7Za11xttzz"
   },
   "source": [
    "# Dropping features"
   ]
  },
  {
   "cell_type": "code",
   "execution_count": 49,
   "metadata": {
    "colab": {
     "base_uri": "https://localhost:8080/",
     "height": 527
    },
    "id": "17MFr7Y_ttzz",
    "outputId": "2b6a824e-47b8-478a-dd69-f91b11814629"
   },
   "outputs": [],
   "source": [
    "y = df['price']\n",
    "df.drop(['price'],axis=1,inplace=True)    "
   ]
  },
  {
   "cell_type": "code",
   "execution_count": 50,
   "metadata": {
    "colab": {
     "base_uri": "https://localhost:8080/"
    },
    "id": "VtyrgI_jttzz",
    "outputId": "4c4ef280-a6d5-40c5-8680-789e371b1dc4"
   },
   "outputs": [
    {
     "data": {
      "text/plain": [
       "level_0                            0\n",
       "index                              0\n",
       "id                                 0\n",
       "host_has_profile_pic               0\n",
       "host_since                         0\n",
       "neighbourhood_cleansed             0\n",
       "neighbourhood_group_cleansed       0\n",
       "host_is_superhost                  0\n",
       "description                      203\n",
       "latitude                           0\n",
       "longitude                          0\n",
       "is_location_exact                  0\n",
       "property_type                      0\n",
       "room_type                          0\n",
       "accommodates                       0\n",
       "bathrooms                          0\n",
       "bedrooms                           0\n",
       "bed_type                           0\n",
       "amenities                          0\n",
       "cleaning_fee                       0\n",
       "reviews_per_month               3901\n",
       "number_of_reviews                  0\n",
       "security_deposit                   0\n",
       "extra_people                       0\n",
       "guests_included                    0\n",
       "minimum_nights                     0\n",
       "instant_bookable                   0\n",
       "is_business_travel_ready           0\n",
       "cancellation_policy                0\n",
       "availability_365                   0\n",
       "dtype: int64"
      ]
     },
     "execution_count": 50,
     "metadata": {},
     "output_type": "execute_result"
    }
   ],
   "source": [
    "df.isnull().sum()   #this tells you which column has how many null vvalues"
   ]
  },
  {
   "cell_type": "markdown",
   "metadata": {
    "id": "LbG9WnYuttz0"
   },
   "source": [
    "## Size estimation"
   ]
  },
  {
   "cell_type": "code",
   "execution_count": 51,
   "metadata": {
    "colab": {
     "base_uri": "https://localhost:8080/",
     "height": 527
    },
    "id": "ISICkoKbP9z3",
    "outputId": "a339305a-d3c1-4185-9b31-8068cf8d772d"
   },
   "outputs": [
    {
     "data": {
      "text/plain": [
       "0        Great location!  30 of 75 sq meters. This wood...\n",
       "1        In the summertime we are spending most of our ...\n",
       "2        This beautiful first floor apartment  is situa...\n",
       "3        First of all: I prefer short-notice bookings. ...\n",
       "4        Cozy and large room in the beautiful district ...\n",
       "                               ...                        \n",
       "22513    Charming apartment right in the center of Berl...\n",
       "22514    Die Wohnung liegt in unmittelbarer Nähe zum Vi...\n",
       "22515    Prenzlauer Berg is one of the most creative di...\n",
       "22516    The double rooms with private shower / WC are ...\n",
       "22517    Sunny, modern and cozy 3-bedroom shared flat i...\n",
       "Name: description, Length: 22518, dtype: object"
      ]
     },
     "execution_count": 51,
     "metadata": {},
     "output_type": "execute_result"
    }
   ],
   "source": [
    "df['description']"
   ]
  },
  {
   "cell_type": "code",
   "execution_count": 52,
   "metadata": {
    "colab": {
     "base_uri": "https://localhost:8080/"
    },
    "id": "g6tO1OyMttz0",
    "outputId": "9feb9a8a-37d5-4eea-c144-5e41de6e7eaa"
   },
   "outputs": [
    {
     "name": "stderr",
     "output_type": "stream",
     "text": [
      "C:\\Users\\singh\\AppData\\Local\\Temp\\ipykernel_5776\\3613653842.py:2: FutureWarning: The default value of regex will change from True to False in a future version.\n",
      "  df['size'] = df['size'].str.replace(\"\\D\", \"\")   # modified/cleaned the size obtained\n"
     ]
    }
   ],
   "source": [
    "df['size'] = df['description'].str.extract('(\\d{2,3}\\s?[smSM])', expand=True)        #string preprocessing,  # took size from description\n",
    "df['size'] = df['size'].str.replace(\"\\D\", \"\")   # modified/cleaned the size obtained\n",
    "df['size'] = df['size'].astype(float)   # changed it to float because it was string\n"
   ]
  },
  {
   "cell_type": "code",
   "execution_count": 53,
   "metadata": {
    "colab": {
     "base_uri": "https://localhost:8080/"
    },
    "id": "IOng_JhAQyRo",
    "outputId": "303b56fb-badd-47de-e245-b28f4af750e9"
   },
   "outputs": [
    {
     "data": {
      "text/plain": [
       "NaN      11778\n",
       "10.0      2331\n",
       "15.0      1263\n",
       "20.0       857\n",
       "30.0       444\n",
       "         ...  \n",
       "144.0        1\n",
       "688.0        1\n",
       "147.0        1\n",
       "126.0        1\n",
       "240.0        1\n",
       "Name: size, Length: 219, dtype: int64"
      ]
     },
     "execution_count": 53,
     "metadata": {},
     "output_type": "execute_result"
    }
   ],
   "source": [
    "df['size'].value_counts(dropna=False)"
   ]
  },
  {
   "cell_type": "code",
   "execution_count": 54,
   "metadata": {
    "id": "6r8xb6rpttz0"
   },
   "outputs": [],
   "source": [
    "cols = ['accommodates', 'bathrooms', 'bedrooms', 'cleaning_fee', \n",
    "                 'security_deposit', 'extra_people', 'guests_included', 'size']\n",
    "\n",
    "sub_df = df[cols]\n",
    "\n",
    "df.drop(cols,inplace=True, axis=1)"
   ]
  },
  {
   "cell_type": "code",
   "execution_count": 55,
   "metadata": {
    "id": "UTXRHraAttz0"
   },
   "outputs": [],
   "source": [
    "train_data = sub_df[sub_df['size'].notnull()]\n",
    "test_data  = sub_df[sub_df['size'].isnull()]\n",
    "\n",
    "X_train = train_data.drop('size', axis=1)\n",
    "X_test  = test_data.drop('size', axis=1)\n",
    "\n",
    "y_train = train_data['size']"
   ]
  },
  {
   "cell_type": "code",
   "execution_count": 56,
   "metadata": {
    "colab": {
     "base_uri": "https://localhost:8080/"
    },
    "id": "gnIgnD5Zttz1",
    "outputId": "71cc65f6-6081-45ef-8749-6e9eada6a804"
   },
   "outputs": [
    {
     "data": {
      "text/plain": [
       "LinearRegression()"
      ]
     },
     "execution_count": 56,
     "metadata": {},
     "output_type": "execute_result"
    }
   ],
   "source": [
    "from sklearn.linear_model import LinearRegression\n",
    "linreg = LinearRegression()\n",
    "linreg.fit(X_train, y_train)"
   ]
  },
  {
   "cell_type": "code",
   "execution_count": 57,
   "metadata": {
    "id": "9Xz_4AECttz1"
   },
   "outputs": [],
   "source": [
    "y_test = linreg.predict(X_test)"
   ]
  },
  {
   "cell_type": "code",
   "execution_count": 58,
   "metadata": {
    "colab": {
     "base_uri": "https://localhost:8080/"
    },
    "id": "Cu3mcOGwttz1",
    "outputId": "f1d438e6-76ef-4b9a-e5e7-298ee4ff75e4"
   },
   "outputs": [
    {
     "data": {
      "text/plain": [
       "(13101.20952169146, 0.026865995167252188)"
      ]
     },
     "execution_count": 58,
     "metadata": {},
     "output_type": "execute_result"
    }
   ],
   "source": [
    "mse(y_train,linreg.predict(X_train)),r2_score(y_train,linreg.predict(X_train))    # mse= mean square error. mean of square of errors. the less it is, the better results are\n",
    "# mse shouls be less and r2_score should be aound 1.. both re reverse which means model is bad\n"
   ]
  },
  {
   "cell_type": "code",
   "execution_count": 59,
   "metadata": {
    "id": "vc_FpveJttz1"
   },
   "outputs": [],
   "source": [
    "y_test = pd.DataFrame(y_test)   # made y_test a dataframe\n",
    "y_test.columns = ['size'] # named it as size."
   ]
  },
  {
   "cell_type": "code",
   "execution_count": 60,
   "metadata": {
    "id": "En-lK7RLttz2"
   },
   "outputs": [],
   "source": [
    "prelim_index = pd.DataFrame(X_test.index)\n",
    "prelim_index.columns = ['prelim']\n",
    "\n",
    "y_test = pd.concat([y_test, prelim_index], axis=1)\n",
    "y_test.set_index(['prelim'], inplace=True)"
   ]
  },
  {
   "cell_type": "code",
   "execution_count": 61,
   "metadata": {
    "id": "EzPxM482ttz2"
   },
   "outputs": [],
   "source": [
    "new_test_data = pd.concat([X_test, y_test], axis=1)\n",
    "sub_df_new = pd.concat([new_test_data, train_data], axis=0)\n",
    "df = pd.concat([sub_df_new, df], axis=1)"
   ]
  },
  {
   "cell_type": "code",
   "execution_count": 62,
   "metadata": {
    "colab": {
     "base_uri": "https://localhost:8080/"
    },
    "id": "9lIL-0tsttz2",
    "outputId": "7d779985-ea9e-41fa-ac8a-fe037ab7234e"
   },
   "outputs": [
    {
     "data": {
      "text/plain": [
       "Index(['accommodates', 'bathrooms', 'bedrooms', 'cleaning_fee',\n",
       "       'security_deposit', 'extra_people', 'guests_included', 'size'],\n",
       "      dtype='object')"
      ]
     },
     "execution_count": 62,
     "metadata": {},
     "output_type": "execute_result"
    }
   ],
   "source": [
    "sub_df_new.columns"
   ]
  },
  {
   "cell_type": "code",
   "execution_count": 63,
   "metadata": {
    "colab": {
     "base_uri": "https://localhost:8080/",
     "height": 582
    },
    "id": "v0YAXPfEttz2",
    "outputId": "1b72c83f-b99c-4c24-9266-1d7fde43890f"
   },
   "outputs": [
    {
     "data": {
      "text/html": [
       "<div>\n",
       "<style scoped>\n",
       "    .dataframe tbody tr th:only-of-type {\n",
       "        vertical-align: middle;\n",
       "    }\n",
       "\n",
       "    .dataframe tbody tr th {\n",
       "        vertical-align: top;\n",
       "    }\n",
       "\n",
       "    .dataframe thead th {\n",
       "        text-align: right;\n",
       "    }\n",
       "</style>\n",
       "<table border=\"1\" class=\"dataframe\">\n",
       "  <thead>\n",
       "    <tr style=\"text-align: right;\">\n",
       "      <th></th>\n",
       "      <th>accommodates</th>\n",
       "      <th>bathrooms</th>\n",
       "      <th>bedrooms</th>\n",
       "      <th>cleaning_fee</th>\n",
       "      <th>security_deposit</th>\n",
       "      <th>extra_people</th>\n",
       "      <th>guests_included</th>\n",
       "      <th>size</th>\n",
       "      <th>level_0</th>\n",
       "      <th>index</th>\n",
       "      <th>id</th>\n",
       "      <th>host_has_profile_pic</th>\n",
       "      <th>host_since</th>\n",
       "      <th>neighbourhood_cleansed</th>\n",
       "      <th>neighbourhood_group_cleansed</th>\n",
       "      <th>host_is_superhost</th>\n",
       "      <th>description</th>\n",
       "      <th>latitude</th>\n",
       "      <th>longitude</th>\n",
       "      <th>is_location_exact</th>\n",
       "      <th>property_type</th>\n",
       "      <th>room_type</th>\n",
       "      <th>bed_type</th>\n",
       "      <th>amenities</th>\n",
       "      <th>reviews_per_month</th>\n",
       "      <th>number_of_reviews</th>\n",
       "      <th>minimum_nights</th>\n",
       "      <th>instant_bookable</th>\n",
       "      <th>is_business_travel_ready</th>\n",
       "      <th>cancellation_policy</th>\n",
       "      <th>availability_365</th>\n",
       "    </tr>\n",
       "  </thead>\n",
       "  <tbody>\n",
       "    <tr>\n",
       "      <th>6</th>\n",
       "      <td>2</td>\n",
       "      <td>1.0</td>\n",
       "      <td>0.0</td>\n",
       "      <td>0.000000</td>\n",
       "      <td>500.0</td>\n",
       "      <td>0.0</td>\n",
       "      <td>1</td>\n",
       "      <td>41.121131</td>\n",
       "      <td>6</td>\n",
       "      <td>6</td>\n",
       "      <td>14325</td>\n",
       "      <td>1</td>\n",
       "      <td>2009-11-18</td>\n",
       "      <td>Prenzlauer Berg Nordwest</td>\n",
       "      <td>Pankow</td>\n",
       "      <td>0.0</td>\n",
       "      <td>The apartment is located on the upper second f...</td>\n",
       "      <td>52.547846</td>\n",
       "      <td>13.405562</td>\n",
       "      <td>1</td>\n",
       "      <td>Apartment</td>\n",
       "      <td>Entire home/apt</td>\n",
       "      <td>Real Bed</td>\n",
       "      <td>{TV,Internet,Wifi,Kitchen,\"Buzzer/wireless int...</td>\n",
       "      <td>0.23</td>\n",
       "      <td>23</td>\n",
       "      <td>90</td>\n",
       "      <td>0</td>\n",
       "      <td>0</td>\n",
       "      <td>strict_14_with_grace_period</td>\n",
       "      <td>129</td>\n",
       "    </tr>\n",
       "    <tr>\n",
       "      <th>11</th>\n",
       "      <td>4</td>\n",
       "      <td>1.0</td>\n",
       "      <td>2.0</td>\n",
       "      <td>49.000000</td>\n",
       "      <td>500.0</td>\n",
       "      <td>24.0</td>\n",
       "      <td>2</td>\n",
       "      <td>84.994207</td>\n",
       "      <td>11</td>\n",
       "      <td>11</td>\n",
       "      <td>20858</td>\n",
       "      <td>1</td>\n",
       "      <td>2010-01-18</td>\n",
       "      <td>Prenzlauer Berg Südwest</td>\n",
       "      <td>Pankow</td>\n",
       "      <td>0.0</td>\n",
       "      <td>Bright and sunny condo with two balconies in a...</td>\n",
       "      <td>52.536952</td>\n",
       "      <td>13.407615</td>\n",
       "      <td>1</td>\n",
       "      <td>Loft</td>\n",
       "      <td>Entire home/apt</td>\n",
       "      <td>Real Bed</td>\n",
       "      <td>{TV,Wifi,Kitchen,Elevator,\"Indoor fireplace\",H...</td>\n",
       "      <td>0.75</td>\n",
       "      <td>56</td>\n",
       "      <td>3</td>\n",
       "      <td>0</td>\n",
       "      <td>0</td>\n",
       "      <td>strict_14_with_grace_period</td>\n",
       "      <td>166</td>\n",
       "    </tr>\n",
       "    <tr>\n",
       "      <th>12</th>\n",
       "      <td>4</td>\n",
       "      <td>1.0</td>\n",
       "      <td>1.0</td>\n",
       "      <td>40.000000</td>\n",
       "      <td>500.0</td>\n",
       "      <td>18.0</td>\n",
       "      <td>2</td>\n",
       "      <td>76.752237</td>\n",
       "      <td>12</td>\n",
       "      <td>12</td>\n",
       "      <td>21869</td>\n",
       "      <td>1</td>\n",
       "      <td>2009-12-20</td>\n",
       "      <td>nördliche Luisenstadt</td>\n",
       "      <td>Friedrichshain-Kreuzberg</td>\n",
       "      <td>0.0</td>\n",
       "      <td>Light and sunny 1-Room-turn of the century-fla...</td>\n",
       "      <td>52.502733</td>\n",
       "      <td>13.434620</td>\n",
       "      <td>1</td>\n",
       "      <td>Apartment</td>\n",
       "      <td>Entire home/apt</td>\n",
       "      <td>Real Bed</td>\n",
       "      <td>{TV,Internet,Wifi,Kitchen,\"Buzzer/wireless int...</td>\n",
       "      <td>0.61</td>\n",
       "      <td>60</td>\n",
       "      <td>60</td>\n",
       "      <td>0</td>\n",
       "      <td>0</td>\n",
       "      <td>strict_14_with_grace_period</td>\n",
       "      <td>129</td>\n",
       "    </tr>\n",
       "    <tr>\n",
       "      <th>13</th>\n",
       "      <td>4</td>\n",
       "      <td>1.0</td>\n",
       "      <td>2.0</td>\n",
       "      <td>50.000000</td>\n",
       "      <td>300.0</td>\n",
       "      <td>25.0</td>\n",
       "      <td>2</td>\n",
       "      <td>85.300957</td>\n",
       "      <td>13</td>\n",
       "      <td>13</td>\n",
       "      <td>22415</td>\n",
       "      <td>1</td>\n",
       "      <td>2010-02-27</td>\n",
       "      <td>südliche Luisenstadt</td>\n",
       "      <td>Friedrichshain-Kreuzberg</td>\n",
       "      <td>1.0</td>\n",
       "      <td>Very nice furnished 2 bedroom apartment for su...</td>\n",
       "      <td>52.494851</td>\n",
       "      <td>13.428501</td>\n",
       "      <td>1</td>\n",
       "      <td>Apartment</td>\n",
       "      <td>Entire home/apt</td>\n",
       "      <td>Real Bed</td>\n",
       "      <td>{\"Cable TV\",Internet,Wifi,Kitchen,\"Pets allowe...</td>\n",
       "      <td>0.59</td>\n",
       "      <td>61</td>\n",
       "      <td>3</td>\n",
       "      <td>0</td>\n",
       "      <td>0</td>\n",
       "      <td>strict_14_with_grace_period</td>\n",
       "      <td>257</td>\n",
       "    </tr>\n",
       "    <tr>\n",
       "      <th>19</th>\n",
       "      <td>2</td>\n",
       "      <td>1.0</td>\n",
       "      <td>0.0</td>\n",
       "      <td>26.721018</td>\n",
       "      <td>1660.0</td>\n",
       "      <td>0.0</td>\n",
       "      <td>1</td>\n",
       "      <td>51.259737</td>\n",
       "      <td>19</td>\n",
       "      <td>19</td>\n",
       "      <td>28156</td>\n",
       "      <td>1</td>\n",
       "      <td>2009-11-18</td>\n",
       "      <td>Prenzlauer Berg Nordwest</td>\n",
       "      <td>Pankow</td>\n",
       "      <td>0.0</td>\n",
       "      <td>The apartment is located on the upper ground f...</td>\n",
       "      <td>52.546719</td>\n",
       "      <td>13.405117</td>\n",
       "      <td>1</td>\n",
       "      <td>Apartment</td>\n",
       "      <td>Entire home/apt</td>\n",
       "      <td>Real Bed</td>\n",
       "      <td>{TV,Internet,Wifi,Kitchen,\"Buzzer/wireless int...</td>\n",
       "      <td>0.29</td>\n",
       "      <td>28</td>\n",
       "      <td>90</td>\n",
       "      <td>0</td>\n",
       "      <td>0</td>\n",
       "      <td>strict_14_with_grace_period</td>\n",
       "      <td>191</td>\n",
       "    </tr>\n",
       "  </tbody>\n",
       "</table>\n",
       "</div>"
      ],
      "text/plain": [
       "    accommodates  bathrooms  bedrooms  cleaning_fee  security_deposit  \\\n",
       "6              2        1.0       0.0      0.000000             500.0   \n",
       "11             4        1.0       2.0     49.000000             500.0   \n",
       "12             4        1.0       1.0     40.000000             500.0   \n",
       "13             4        1.0       2.0     50.000000             300.0   \n",
       "19             2        1.0       0.0     26.721018            1660.0   \n",
       "\n",
       "    extra_people  guests_included       size  level_0  index     id  \\\n",
       "6            0.0                1  41.121131        6      6  14325   \n",
       "11          24.0                2  84.994207       11     11  20858   \n",
       "12          18.0                2  76.752237       12     12  21869   \n",
       "13          25.0                2  85.300957       13     13  22415   \n",
       "19           0.0                1  51.259737       19     19  28156   \n",
       "\n",
       "    host_has_profile_pic  host_since    neighbourhood_cleansed  \\\n",
       "6                      1  2009-11-18  Prenzlauer Berg Nordwest   \n",
       "11                     1  2010-01-18   Prenzlauer Berg Südwest   \n",
       "12                     1  2009-12-20     nördliche Luisenstadt   \n",
       "13                     1  2010-02-27      südliche Luisenstadt   \n",
       "19                     1  2009-11-18  Prenzlauer Berg Nordwest   \n",
       "\n",
       "   neighbourhood_group_cleansed  host_is_superhost  \\\n",
       "6                        Pankow                0.0   \n",
       "11                       Pankow                0.0   \n",
       "12     Friedrichshain-Kreuzberg                0.0   \n",
       "13     Friedrichshain-Kreuzberg                1.0   \n",
       "19                       Pankow                0.0   \n",
       "\n",
       "                                          description   latitude  longitude  \\\n",
       "6   The apartment is located on the upper second f...  52.547846  13.405562   \n",
       "11  Bright and sunny condo with two balconies in a...  52.536952  13.407615   \n",
       "12  Light and sunny 1-Room-turn of the century-fla...  52.502733  13.434620   \n",
       "13  Very nice furnished 2 bedroom apartment for su...  52.494851  13.428501   \n",
       "19  The apartment is located on the upper ground f...  52.546719  13.405117   \n",
       "\n",
       "    is_location_exact property_type        room_type  bed_type  \\\n",
       "6                   1     Apartment  Entire home/apt  Real Bed   \n",
       "11                  1          Loft  Entire home/apt  Real Bed   \n",
       "12                  1     Apartment  Entire home/apt  Real Bed   \n",
       "13                  1     Apartment  Entire home/apt  Real Bed   \n",
       "19                  1     Apartment  Entire home/apt  Real Bed   \n",
       "\n",
       "                                            amenities  reviews_per_month  \\\n",
       "6   {TV,Internet,Wifi,Kitchen,\"Buzzer/wireless int...               0.23   \n",
       "11  {TV,Wifi,Kitchen,Elevator,\"Indoor fireplace\",H...               0.75   \n",
       "12  {TV,Internet,Wifi,Kitchen,\"Buzzer/wireless int...               0.61   \n",
       "13  {\"Cable TV\",Internet,Wifi,Kitchen,\"Pets allowe...               0.59   \n",
       "19  {TV,Internet,Wifi,Kitchen,\"Buzzer/wireless int...               0.29   \n",
       "\n",
       "    number_of_reviews  minimum_nights  instant_bookable  \\\n",
       "6                  23              90                 0   \n",
       "11                 56               3                 0   \n",
       "12                 60              60                 0   \n",
       "13                 61               3                 0   \n",
       "19                 28              90                 0   \n",
       "\n",
       "    is_business_travel_ready          cancellation_policy  availability_365  \n",
       "6                          0  strict_14_with_grace_period               129  \n",
       "11                         0  strict_14_with_grace_period               166  \n",
       "12                         0  strict_14_with_grace_period               129  \n",
       "13                         0  strict_14_with_grace_period               257  \n",
       "19                         0  strict_14_with_grace_period               191  "
      ]
     },
     "execution_count": 63,
     "metadata": {},
     "output_type": "execute_result"
    }
   ],
   "source": [
    "df.head()"
   ]
  },
  {
   "cell_type": "code",
   "execution_count": 64,
   "metadata": {
    "id": "pCZVd0LNttz3"
   },
   "outputs": [],
   "source": [
    "dropped = ['index','id','level_0','description']\n",
    "df.drop(dropped,axis=1,inplace=True)\n"
   ]
  },
  {
   "cell_type": "code",
   "execution_count": 65,
   "metadata": {
    "colab": {
     "base_uri": "https://localhost:8080/"
    },
    "id": "BbPtMu15ZtkI",
    "outputId": "6d263372-1288-4ffb-9d7b-f6164c698d8b"
   },
   "outputs": [
    {
     "data": {
      "text/plain": [
       "Index(['accommodates', 'bathrooms', 'bedrooms', 'cleaning_fee',\n",
       "       'security_deposit', 'extra_people', 'guests_included', 'size',\n",
       "       'host_has_profile_pic', 'host_since', 'neighbourhood_cleansed',\n",
       "       'neighbourhood_group_cleansed', 'host_is_superhost', 'latitude',\n",
       "       'longitude', 'is_location_exact', 'property_type', 'room_type',\n",
       "       'bed_type', 'amenities', 'reviews_per_month', 'number_of_reviews',\n",
       "       'minimum_nights', 'instant_bookable', 'is_business_travel_ready',\n",
       "       'cancellation_policy', 'availability_365'],\n",
       "      dtype='object')"
      ]
     },
     "execution_count": 65,
     "metadata": {},
     "output_type": "execute_result"
    }
   ],
   "source": [
    "df.columns"
   ]
  },
  {
   "cell_type": "markdown",
   "metadata": {
    "id": "ujQhHNVTttz3"
   },
   "source": [
    "# Data processing"
   ]
  },
  {
   "cell_type": "code",
   "execution_count": 66,
   "metadata": {
    "colab": {
     "base_uri": "https://localhost:8080/"
    },
    "id": "z0P861nvaZKK",
    "outputId": "5dd578d6-f720-4d24-f4d4-fea399199fc5"
   },
   "outputs": [
    {
     "data": {
      "text/plain": [
       "6        {TV,Internet,Wifi,Kitchen,\"Buzzer/wireless int...\n",
       "11       {TV,Wifi,Kitchen,Elevator,\"Indoor fireplace\",H...\n",
       "12       {TV,Internet,Wifi,Kitchen,\"Buzzer/wireless int...\n",
       "13       {\"Cable TV\",Internet,Wifi,Kitchen,\"Pets allowe...\n",
       "19       {TV,Internet,Wifi,Kitchen,\"Buzzer/wireless int...\n",
       "                               ...                        \n",
       "22490    {Internet,Wifi,Kitchen,\"Buzzer/wireless interc...\n",
       "22494    {Wifi,Kitchen,Heating,Washer,Dryer,Essentials,...\n",
       "22496    {TV,Wifi,Kitchen,\"Free street parking\",\"Hot tu...\n",
       "22507    {Wifi,Kitchen,\"Smoking allowed\",Heating,Washer...\n",
       "22510    {Wifi,Kitchen,Elevator,Heating,Washer,\"Smoke d...\n",
       "Name: amenities, Length: 22518, dtype: object"
      ]
     },
     "execution_count": 66,
     "metadata": {},
     "output_type": "execute_result"
    }
   ],
   "source": [
    "df.amenities"
   ]
  },
  {
   "cell_type": "code",
   "execution_count": 67,
   "metadata": {
    "colab": {
     "base_uri": "https://localhost:8080/"
    },
    "id": "8Uo4dl-vttz3",
    "outputId": "70226382-c5e4-40ac-96dc-1e3c160dd0f6"
   },
   "outputs": [
    {
     "name": "stderr",
     "output_type": "stream",
     "text": [
      "100%|██████████████████████████████████████████████████████████████████████████| 22518/22518 [00:02<00:00, 8060.85it/s]\n"
     ]
    }
   ],
   "source": [
    "for i in tqdm(range(len(df))):\n",
    "    df.loc[i,'No_of_amentities'] = len(df.loc[i,'amenities'].split(','))"
   ]
  },
  {
   "cell_type": "code",
   "execution_count": 68,
   "metadata": {
    "id": "Pzpyr1PMttz3"
   },
   "outputs": [],
   "source": [
    "df['Laptop_friendly_workspace'] = df['amenities'].str.contains('Laptop friendly workspace')\n",
    "df['TV'] = df['amenities'].str.contains('TV')\n",
    "df['Family_kid_friendly'] = df['amenities'].str.contains('Family/kid friendly')\n",
    "df['Host_greets_you'] = df['amenities'].str.contains('Host greets you')\n",
    "df['Smoking_allowed'] = df['amenities'].str.contains('Smoking allowed')\n",
    "df['Hot_water'] = df['amenities'].str.contains('Hot water')\n",
    "df['Fridge'] = df['amenities'].str.contains('Refrigerator')\n"
   ]
  },
  {
   "cell_type": "code",
   "execution_count": 69,
   "metadata": {
    "colab": {
     "base_uri": "https://localhost:8080/",
     "height": 356
    },
    "id": "7RCMK2h3ttz3",
    "outputId": "a23be28c-f3bb-4862-b6bb-d0aa0d8b4d08"
   },
   "outputs": [
    {
     "data": {
      "text/html": [
       "<div>\n",
       "<style scoped>\n",
       "    .dataframe tbody tr th:only-of-type {\n",
       "        vertical-align: middle;\n",
       "    }\n",
       "\n",
       "    .dataframe tbody tr th {\n",
       "        vertical-align: top;\n",
       "    }\n",
       "\n",
       "    .dataframe thead th {\n",
       "        text-align: right;\n",
       "    }\n",
       "</style>\n",
       "<table border=\"1\" class=\"dataframe\">\n",
       "  <thead>\n",
       "    <tr style=\"text-align: right;\">\n",
       "      <th></th>\n",
       "      <th>accommodates</th>\n",
       "      <th>bathrooms</th>\n",
       "      <th>bedrooms</th>\n",
       "      <th>cleaning_fee</th>\n",
       "      <th>security_deposit</th>\n",
       "      <th>extra_people</th>\n",
       "      <th>guests_included</th>\n",
       "      <th>size</th>\n",
       "      <th>host_has_profile_pic</th>\n",
       "      <th>host_since</th>\n",
       "      <th>neighbourhood_cleansed</th>\n",
       "      <th>neighbourhood_group_cleansed</th>\n",
       "      <th>host_is_superhost</th>\n",
       "      <th>latitude</th>\n",
       "      <th>longitude</th>\n",
       "      <th>is_location_exact</th>\n",
       "      <th>property_type</th>\n",
       "      <th>room_type</th>\n",
       "      <th>bed_type</th>\n",
       "      <th>amenities</th>\n",
       "      <th>reviews_per_month</th>\n",
       "      <th>number_of_reviews</th>\n",
       "      <th>minimum_nights</th>\n",
       "      <th>instant_bookable</th>\n",
       "      <th>is_business_travel_ready</th>\n",
       "      <th>cancellation_policy</th>\n",
       "      <th>availability_365</th>\n",
       "      <th>No_of_amentities</th>\n",
       "      <th>Laptop_friendly_workspace</th>\n",
       "      <th>TV</th>\n",
       "      <th>Family_kid_friendly</th>\n",
       "      <th>Host_greets_you</th>\n",
       "      <th>Smoking_allowed</th>\n",
       "      <th>Hot_water</th>\n",
       "      <th>Fridge</th>\n",
       "    </tr>\n",
       "  </thead>\n",
       "  <tbody>\n",
       "    <tr>\n",
       "      <th>6</th>\n",
       "      <td>2</td>\n",
       "      <td>1.0</td>\n",
       "      <td>0.0</td>\n",
       "      <td>0.000000</td>\n",
       "      <td>500.0</td>\n",
       "      <td>0.0</td>\n",
       "      <td>1</td>\n",
       "      <td>41.121131</td>\n",
       "      <td>1</td>\n",
       "      <td>2009-11-18</td>\n",
       "      <td>Prenzlauer Berg Nordwest</td>\n",
       "      <td>Pankow</td>\n",
       "      <td>0.0</td>\n",
       "      <td>52.547846</td>\n",
       "      <td>13.405562</td>\n",
       "      <td>1</td>\n",
       "      <td>Apartment</td>\n",
       "      <td>Entire home/apt</td>\n",
       "      <td>Real Bed</td>\n",
       "      <td>{TV,Internet,Wifi,Kitchen,\"Buzzer/wireless int...</td>\n",
       "      <td>0.23</td>\n",
       "      <td>23</td>\n",
       "      <td>90</td>\n",
       "      <td>0</td>\n",
       "      <td>0</td>\n",
       "      <td>strict_14_with_grace_period</td>\n",
       "      <td>129</td>\n",
       "      <td>13.0</td>\n",
       "      <td>False</td>\n",
       "      <td>True</td>\n",
       "      <td>False</td>\n",
       "      <td>True</td>\n",
       "      <td>False</td>\n",
       "      <td>True</td>\n",
       "      <td>False</td>\n",
       "    </tr>\n",
       "    <tr>\n",
       "      <th>11</th>\n",
       "      <td>4</td>\n",
       "      <td>1.0</td>\n",
       "      <td>2.0</td>\n",
       "      <td>49.000000</td>\n",
       "      <td>500.0</td>\n",
       "      <td>24.0</td>\n",
       "      <td>2</td>\n",
       "      <td>84.994207</td>\n",
       "      <td>1</td>\n",
       "      <td>2010-01-18</td>\n",
       "      <td>Prenzlauer Berg Südwest</td>\n",
       "      <td>Pankow</td>\n",
       "      <td>0.0</td>\n",
       "      <td>52.536952</td>\n",
       "      <td>13.407615</td>\n",
       "      <td>1</td>\n",
       "      <td>Loft</td>\n",
       "      <td>Entire home/apt</td>\n",
       "      <td>Real Bed</td>\n",
       "      <td>{TV,Wifi,Kitchen,Elevator,\"Indoor fireplace\",H...</td>\n",
       "      <td>0.75</td>\n",
       "      <td>56</td>\n",
       "      <td>3</td>\n",
       "      <td>0</td>\n",
       "      <td>0</td>\n",
       "      <td>strict_14_with_grace_period</td>\n",
       "      <td>166</td>\n",
       "      <td>17.0</td>\n",
       "      <td>False</td>\n",
       "      <td>True</td>\n",
       "      <td>True</td>\n",
       "      <td>False</td>\n",
       "      <td>False</td>\n",
       "      <td>True</td>\n",
       "      <td>False</td>\n",
       "    </tr>\n",
       "    <tr>\n",
       "      <th>12</th>\n",
       "      <td>4</td>\n",
       "      <td>1.0</td>\n",
       "      <td>1.0</td>\n",
       "      <td>40.000000</td>\n",
       "      <td>500.0</td>\n",
       "      <td>18.0</td>\n",
       "      <td>2</td>\n",
       "      <td>76.752237</td>\n",
       "      <td>1</td>\n",
       "      <td>2009-12-20</td>\n",
       "      <td>nördliche Luisenstadt</td>\n",
       "      <td>Friedrichshain-Kreuzberg</td>\n",
       "      <td>0.0</td>\n",
       "      <td>52.502733</td>\n",
       "      <td>13.434620</td>\n",
       "      <td>1</td>\n",
       "      <td>Apartment</td>\n",
       "      <td>Entire home/apt</td>\n",
       "      <td>Real Bed</td>\n",
       "      <td>{TV,Internet,Wifi,Kitchen,\"Buzzer/wireless int...</td>\n",
       "      <td>0.61</td>\n",
       "      <td>60</td>\n",
       "      <td>60</td>\n",
       "      <td>0</td>\n",
       "      <td>0</td>\n",
       "      <td>strict_14_with_grace_period</td>\n",
       "      <td>129</td>\n",
       "      <td>19.0</td>\n",
       "      <td>True</td>\n",
       "      <td>True</td>\n",
       "      <td>True</td>\n",
       "      <td>False</td>\n",
       "      <td>False</td>\n",
       "      <td>False</td>\n",
       "      <td>False</td>\n",
       "    </tr>\n",
       "    <tr>\n",
       "      <th>13</th>\n",
       "      <td>4</td>\n",
       "      <td>1.0</td>\n",
       "      <td>2.0</td>\n",
       "      <td>50.000000</td>\n",
       "      <td>300.0</td>\n",
       "      <td>25.0</td>\n",
       "      <td>2</td>\n",
       "      <td>85.300957</td>\n",
       "      <td>1</td>\n",
       "      <td>2010-02-27</td>\n",
       "      <td>südliche Luisenstadt</td>\n",
       "      <td>Friedrichshain-Kreuzberg</td>\n",
       "      <td>1.0</td>\n",
       "      <td>52.494851</td>\n",
       "      <td>13.428501</td>\n",
       "      <td>1</td>\n",
       "      <td>Apartment</td>\n",
       "      <td>Entire home/apt</td>\n",
       "      <td>Real Bed</td>\n",
       "      <td>{\"Cable TV\",Internet,Wifi,Kitchen,\"Pets allowe...</td>\n",
       "      <td>0.59</td>\n",
       "      <td>61</td>\n",
       "      <td>3</td>\n",
       "      <td>0</td>\n",
       "      <td>0</td>\n",
       "      <td>strict_14_with_grace_period</td>\n",
       "      <td>257</td>\n",
       "      <td>17.0</td>\n",
       "      <td>True</td>\n",
       "      <td>True</td>\n",
       "      <td>True</td>\n",
       "      <td>True</td>\n",
       "      <td>False</td>\n",
       "      <td>True</td>\n",
       "      <td>False</td>\n",
       "    </tr>\n",
       "    <tr>\n",
       "      <th>19</th>\n",
       "      <td>2</td>\n",
       "      <td>1.0</td>\n",
       "      <td>0.0</td>\n",
       "      <td>26.721018</td>\n",
       "      <td>1660.0</td>\n",
       "      <td>0.0</td>\n",
       "      <td>1</td>\n",
       "      <td>51.259737</td>\n",
       "      <td>1</td>\n",
       "      <td>2009-11-18</td>\n",
       "      <td>Prenzlauer Berg Nordwest</td>\n",
       "      <td>Pankow</td>\n",
       "      <td>0.0</td>\n",
       "      <td>52.546719</td>\n",
       "      <td>13.405117</td>\n",
       "      <td>1</td>\n",
       "      <td>Apartment</td>\n",
       "      <td>Entire home/apt</td>\n",
       "      <td>Real Bed</td>\n",
       "      <td>{TV,Internet,Wifi,Kitchen,\"Buzzer/wireless int...</td>\n",
       "      <td>0.29</td>\n",
       "      <td>28</td>\n",
       "      <td>90</td>\n",
       "      <td>0</td>\n",
       "      <td>0</td>\n",
       "      <td>strict_14_with_grace_period</td>\n",
       "      <td>191</td>\n",
       "      <td>13.0</td>\n",
       "      <td>False</td>\n",
       "      <td>True</td>\n",
       "      <td>False</td>\n",
       "      <td>True</td>\n",
       "      <td>False</td>\n",
       "      <td>True</td>\n",
       "      <td>False</td>\n",
       "    </tr>\n",
       "  </tbody>\n",
       "</table>\n",
       "</div>"
      ],
      "text/plain": [
       "    accommodates  bathrooms  bedrooms  cleaning_fee  security_deposit  \\\n",
       "6              2        1.0       0.0      0.000000             500.0   \n",
       "11             4        1.0       2.0     49.000000             500.0   \n",
       "12             4        1.0       1.0     40.000000             500.0   \n",
       "13             4        1.0       2.0     50.000000             300.0   \n",
       "19             2        1.0       0.0     26.721018            1660.0   \n",
       "\n",
       "    extra_people  guests_included       size  host_has_profile_pic  \\\n",
       "6            0.0                1  41.121131                     1   \n",
       "11          24.0                2  84.994207                     1   \n",
       "12          18.0                2  76.752237                     1   \n",
       "13          25.0                2  85.300957                     1   \n",
       "19           0.0                1  51.259737                     1   \n",
       "\n",
       "    host_since    neighbourhood_cleansed neighbourhood_group_cleansed  \\\n",
       "6   2009-11-18  Prenzlauer Berg Nordwest                       Pankow   \n",
       "11  2010-01-18   Prenzlauer Berg Südwest                       Pankow   \n",
       "12  2009-12-20     nördliche Luisenstadt     Friedrichshain-Kreuzberg   \n",
       "13  2010-02-27      südliche Luisenstadt     Friedrichshain-Kreuzberg   \n",
       "19  2009-11-18  Prenzlauer Berg Nordwest                       Pankow   \n",
       "\n",
       "    host_is_superhost   latitude  longitude  is_location_exact property_type  \\\n",
       "6                 0.0  52.547846  13.405562                  1     Apartment   \n",
       "11                0.0  52.536952  13.407615                  1          Loft   \n",
       "12                0.0  52.502733  13.434620                  1     Apartment   \n",
       "13                1.0  52.494851  13.428501                  1     Apartment   \n",
       "19                0.0  52.546719  13.405117                  1     Apartment   \n",
       "\n",
       "          room_type  bed_type  \\\n",
       "6   Entire home/apt  Real Bed   \n",
       "11  Entire home/apt  Real Bed   \n",
       "12  Entire home/apt  Real Bed   \n",
       "13  Entire home/apt  Real Bed   \n",
       "19  Entire home/apt  Real Bed   \n",
       "\n",
       "                                            amenities  reviews_per_month  \\\n",
       "6   {TV,Internet,Wifi,Kitchen,\"Buzzer/wireless int...               0.23   \n",
       "11  {TV,Wifi,Kitchen,Elevator,\"Indoor fireplace\",H...               0.75   \n",
       "12  {TV,Internet,Wifi,Kitchen,\"Buzzer/wireless int...               0.61   \n",
       "13  {\"Cable TV\",Internet,Wifi,Kitchen,\"Pets allowe...               0.59   \n",
       "19  {TV,Internet,Wifi,Kitchen,\"Buzzer/wireless int...               0.29   \n",
       "\n",
       "    number_of_reviews  minimum_nights  instant_bookable  \\\n",
       "6                  23              90                 0   \n",
       "11                 56               3                 0   \n",
       "12                 60              60                 0   \n",
       "13                 61               3                 0   \n",
       "19                 28              90                 0   \n",
       "\n",
       "    is_business_travel_ready          cancellation_policy  availability_365  \\\n",
       "6                          0  strict_14_with_grace_period               129   \n",
       "11                         0  strict_14_with_grace_period               166   \n",
       "12                         0  strict_14_with_grace_period               129   \n",
       "13                         0  strict_14_with_grace_period               257   \n",
       "19                         0  strict_14_with_grace_period               191   \n",
       "\n",
       "    No_of_amentities  Laptop_friendly_workspace    TV  Family_kid_friendly  \\\n",
       "6               13.0                      False  True                False   \n",
       "11              17.0                      False  True                 True   \n",
       "12              19.0                       True  True                 True   \n",
       "13              17.0                       True  True                 True   \n",
       "19              13.0                      False  True                False   \n",
       "\n",
       "    Host_greets_you  Smoking_allowed  Hot_water  Fridge  \n",
       "6              True            False       True   False  \n",
       "11            False            False       True   False  \n",
       "12            False            False      False   False  \n",
       "13             True            False       True   False  \n",
       "19             True            False       True   False  "
      ]
     },
     "execution_count": 69,
     "metadata": {},
     "output_type": "execute_result"
    }
   ],
   "source": [
    "df.head()"
   ]
  },
  {
   "cell_type": "code",
   "execution_count": 70,
   "metadata": {
    "id": "37JMb3obttz4"
   },
   "outputs": [],
   "source": [
    "dropped = ['amenities']\n",
    "df.drop(dropped,axis=1,inplace=True)"
   ]
  },
  {
   "cell_type": "code",
   "execution_count": 71,
   "metadata": {
    "id": "fxxv2NhHttz4"
   },
   "outputs": [],
   "source": [
    "category = ['neighbourhood_cleansed','neighbourhood_group_cleansed','property_type','room_type',\n",
    "           'bed_type','cancellation_policy']\n",
    "\n",
    "for i in category:\n",
    "    df[i] = df[i].astype('category')\n",
    "\n"
   ]
  },
  {
   "cell_type": "code",
   "execution_count": 72,
   "metadata": {
    "id": "lr_bnp_Sttz4"
   },
   "outputs": [],
   "source": [
    "# for i in category:\n",
    "#     df[i] = df[i].cat.codes\n",
    "\n",
    "# # df['room_type'] = df['room_type'].cat.codes\n",
    "# # df['neighbourhood'] = df['neighbourhood'].cat.codes\n",
    "# # df['neighbourhood_group'] = df['neighbourhood_group'].cat.codes"
   ]
  },
  {
   "cell_type": "markdown",
   "metadata": {
    "id": "k6JqeXP2ttz4"
   },
   "source": [
    "# Feature Engineering"
   ]
  },
  {
   "cell_type": "markdown",
   "metadata": {
    "id": "FyiCPF-Ettz4"
   },
   "source": [
    "### Duration"
   ]
  },
  {
   "cell_type": "code",
   "execution_count": 73,
   "metadata": {
    "colab": {
     "base_uri": "https://localhost:8080/"
    },
    "id": "TXpuK8MWd9IO",
    "outputId": "34dc725e-4f7a-452a-f315-0ac9815ce37d"
   },
   "outputs": [
    {
     "data": {
      "text/plain": [
       "2017-02-20    51\n",
       "2013-08-19    51\n",
       "2015-06-01    41\n",
       "2016-01-21    34\n",
       "2016-02-19    34\n",
       "              ..\n",
       "2010-06-12     1\n",
       "2010-06-27     1\n",
       "2012-01-21     1\n",
       "2010-07-06     1\n",
       "2010-07-22     1\n",
       "Name: host_since, Length: 2914, dtype: int64"
      ]
     },
     "execution_count": 73,
     "metadata": {},
     "output_type": "execute_result"
    }
   ],
   "source": [
    "df.host_since.isnull().sum()\n",
    "df.host_since.value_counts()"
   ]
  },
  {
   "cell_type": "code",
   "execution_count": 74,
   "metadata": {
    "id": "BgoTkCfbttz5"
   },
   "outputs": [],
   "source": [
    "from dateutil import parser\n",
    "\n",
    "def diff_date(row):\n",
    "    today = parser.parse('2021-11-22')\n",
    "    return ((today - parser.parse(row['host_since'])).days)/365\n"
   ]
  },
  {
   "cell_type": "code",
   "execution_count": 75,
   "metadata": {
    "colab": {
     "base_uri": "https://localhost:8080/",
     "height": 343
    },
    "id": "E2qSkS_qttz5",
    "outputId": "62eb07a8-3117-4fc1-e83c-680c798b7897"
   },
   "outputs": [
    {
     "data": {
      "text/plain": [
       "count    22518.000000\n",
       "mean         6.732793\n",
       "std          1.910952\n",
       "min          3.046575\n",
       "25%          5.380822\n",
       "50%          6.575342\n",
       "75%          8.106849\n",
       "max         13.271233\n",
       "Name: host_since, dtype: float64"
      ]
     },
     "execution_count": 75,
     "metadata": {},
     "output_type": "execute_result"
    }
   ],
   "source": [
    "df['host_since'] = df.apply(diff_date,axis=1)   # .apply is used to apply something on the entire dataset\n",
    "df['host_since'].describe()"
   ]
  },
  {
   "cell_type": "markdown",
   "metadata": {
    "id": "nyhVTlXfttz5"
   },
   "source": [
    "### Distances"
   ]
  },
  {
   "cell_type": "code",
   "execution_count": 76,
   "metadata": {
    "id": "7zc8ExsDttz5"
   },
   "outputs": [],
   "source": [
    "from math import sin, cos, sqrt, atan2, radians\n",
    "def haversine_distance_central(row):\n",
    "    berlin_lat,berlin_long = radians(52.5200), radians(13.4050)\n",
    "    R = 6373.0\n",
    "    long = radians(row['longitude'])\n",
    "    lat = radians(row['latitude'])\n",
    "    \n",
    "    dlon = long - berlin_long\n",
    "    dlat = lat - berlin_lat\n",
    "    a = sin(dlat / 2)**2 + cos(lat) * cos(berlin_lat) * sin(dlon / 2)**2\n",
    "    c = 2 * atan2(sqrt(a), sqrt(1 - a))\n",
    "    return R * c"
   ]
  },
  {
   "cell_type": "code",
   "execution_count": 77,
   "metadata": {
    "id": "cqp9ziKmttz6"
   },
   "outputs": [],
   "source": [
    "def haversine_distance_airport(row):\n",
    "    berlin_lat,berlin_long = radians(52.3733), radians(13.5064)\n",
    "    R = 6373.0\n",
    "    long = radians(row['longitude'])\n",
    "    lat = radians(row['latitude'])\n",
    "    \n",
    "    dlon = long - berlin_long\n",
    "    dlat = lat - berlin_lat\n",
    "    a = sin(dlat / 2)**2 + cos(lat) * cos(berlin_lat) * sin(dlon / 2)**2\n",
    "    c = 2 * atan2(sqrt(a), sqrt(1 - a))\n",
    "    return R * c"
   ]
  },
  {
   "cell_type": "code",
   "execution_count": 78,
   "metadata": {
    "id": "ir6SRIIUttz6"
   },
   "outputs": [],
   "source": [
    "def haversine_distance_rail(row):\n",
    "    berlin_lat,berlin_long = radians(52.5073), radians(13.3324)\n",
    "    R = 6373.0\n",
    "    long = radians(row['longitude'])\n",
    "    lat = radians(row['latitude'])\n",
    "    \n",
    "    dlon = long - berlin_long\n",
    "    dlat = lat - berlin_lat\n",
    "    a = sin(dlat / 2)**2 + cos(lat) * cos(berlin_lat) * sin(dlon / 2)**2\n",
    "    c = 2 * atan2(sqrt(a), sqrt(1 - a))\n",
    "    return R * c"
   ]
  },
  {
   "cell_type": "code",
   "execution_count": 79,
   "metadata": {
    "id": "2TaSYGSNttz6"
   },
   "outputs": [],
   "source": [
    "df['distance_central'] = df.apply(haversine_distance_central,axis=1)\n",
    "df['distance_airport'] = df.apply(haversine_distance_airport,axis=1)\n",
    "df['distance_railways'] = df.apply(haversine_distance_airport,axis=1)\n",
    "df['distance_avg'] = ( df['distance_central'] + df['distance_airport'] + df['distance_railways'] )/3.0"
   ]
  },
  {
   "cell_type": "code",
   "execution_count": 80,
   "metadata": {
    "id": "-ktrWucxttz6"
   },
   "outputs": [
    {
     "data": {
      "text/plain": [
       "count    22518.000000\n",
       "mean        12.906814\n",
       "std          2.477341\n",
       "min          7.061769\n",
       "25%         10.997052\n",
       "50%         12.419055\n",
       "75%         14.433595\n",
       "max         28.173038\n",
       "Name: distance_avg, dtype: float64"
      ]
     },
     "execution_count": 80,
     "metadata": {},
     "output_type": "execute_result"
    }
   ],
   "source": [
    "df['distance_avg'].describe()"
   ]
  },
  {
   "cell_type": "code",
   "execution_count": 81,
   "metadata": {
    "id": "T-6FAJDbttz6"
   },
   "outputs": [
    {
     "data": {
      "text/html": [
       "<div>\n",
       "<style scoped>\n",
       "    .dataframe tbody tr th:only-of-type {\n",
       "        vertical-align: middle;\n",
       "    }\n",
       "\n",
       "    .dataframe tbody tr th {\n",
       "        vertical-align: top;\n",
       "    }\n",
       "\n",
       "    .dataframe thead th {\n",
       "        text-align: right;\n",
       "    }\n",
       "</style>\n",
       "<table border=\"1\" class=\"dataframe\">\n",
       "  <thead>\n",
       "    <tr style=\"text-align: right;\">\n",
       "      <th></th>\n",
       "      <th>accommodates</th>\n",
       "      <th>bathrooms</th>\n",
       "      <th>bedrooms</th>\n",
       "      <th>cleaning_fee</th>\n",
       "      <th>security_deposit</th>\n",
       "      <th>extra_people</th>\n",
       "      <th>guests_included</th>\n",
       "      <th>size</th>\n",
       "      <th>host_has_profile_pic</th>\n",
       "      <th>host_since</th>\n",
       "      <th>neighbourhood_cleansed</th>\n",
       "      <th>neighbourhood_group_cleansed</th>\n",
       "      <th>host_is_superhost</th>\n",
       "      <th>latitude</th>\n",
       "      <th>longitude</th>\n",
       "      <th>is_location_exact</th>\n",
       "      <th>property_type</th>\n",
       "      <th>room_type</th>\n",
       "      <th>bed_type</th>\n",
       "      <th>reviews_per_month</th>\n",
       "      <th>number_of_reviews</th>\n",
       "      <th>minimum_nights</th>\n",
       "      <th>instant_bookable</th>\n",
       "      <th>is_business_travel_ready</th>\n",
       "      <th>cancellation_policy</th>\n",
       "      <th>availability_365</th>\n",
       "      <th>No_of_amentities</th>\n",
       "      <th>Laptop_friendly_workspace</th>\n",
       "      <th>TV</th>\n",
       "      <th>Family_kid_friendly</th>\n",
       "      <th>Host_greets_you</th>\n",
       "      <th>Smoking_allowed</th>\n",
       "      <th>Hot_water</th>\n",
       "      <th>Fridge</th>\n",
       "      <th>distance_central</th>\n",
       "      <th>distance_airport</th>\n",
       "      <th>distance_railways</th>\n",
       "      <th>distance_avg</th>\n",
       "    </tr>\n",
       "  </thead>\n",
       "  <tbody>\n",
       "    <tr>\n",
       "      <th>6</th>\n",
       "      <td>2</td>\n",
       "      <td>1.0</td>\n",
       "      <td>0.0</td>\n",
       "      <td>0.000000</td>\n",
       "      <td>500.0</td>\n",
       "      <td>0.0</td>\n",
       "      <td>1</td>\n",
       "      <td>41.121131</td>\n",
       "      <td>1</td>\n",
       "      <td>12.019178</td>\n",
       "      <td>Prenzlauer Berg Nordwest</td>\n",
       "      <td>Pankow</td>\n",
       "      <td>0.0</td>\n",
       "      <td>52.547846</td>\n",
       "      <td>13.405562</td>\n",
       "      <td>1</td>\n",
       "      <td>Apartment</td>\n",
       "      <td>Entire home/apt</td>\n",
       "      <td>Real Bed</td>\n",
       "      <td>0.23</td>\n",
       "      <td>23</td>\n",
       "      <td>90</td>\n",
       "      <td>0</td>\n",
       "      <td>0</td>\n",
       "      <td>strict_14_with_grace_period</td>\n",
       "      <td>129</td>\n",
       "      <td>13.0</td>\n",
       "      <td>False</td>\n",
       "      <td>True</td>\n",
       "      <td>False</td>\n",
       "      <td>True</td>\n",
       "      <td>False</td>\n",
       "      <td>True</td>\n",
       "      <td>False</td>\n",
       "      <td>3.097585</td>\n",
       "      <td>20.582463</td>\n",
       "      <td>20.582463</td>\n",
       "      <td>14.754170</td>\n",
       "    </tr>\n",
       "    <tr>\n",
       "      <th>11</th>\n",
       "      <td>4</td>\n",
       "      <td>1.0</td>\n",
       "      <td>2.0</td>\n",
       "      <td>49.000000</td>\n",
       "      <td>500.0</td>\n",
       "      <td>24.0</td>\n",
       "      <td>2</td>\n",
       "      <td>84.994207</td>\n",
       "      <td>1</td>\n",
       "      <td>11.852055</td>\n",
       "      <td>Prenzlauer Berg Südwest</td>\n",
       "      <td>Pankow</td>\n",
       "      <td>0.0</td>\n",
       "      <td>52.536952</td>\n",
       "      <td>13.407615</td>\n",
       "      <td>1</td>\n",
       "      <td>Loft</td>\n",
       "      <td>Entire home/apt</td>\n",
       "      <td>Real Bed</td>\n",
       "      <td>0.75</td>\n",
       "      <td>56</td>\n",
       "      <td>3</td>\n",
       "      <td>0</td>\n",
       "      <td>0</td>\n",
       "      <td>strict_14_with_grace_period</td>\n",
       "      <td>166</td>\n",
       "      <td>17.0</td>\n",
       "      <td>False</td>\n",
       "      <td>True</td>\n",
       "      <td>True</td>\n",
       "      <td>False</td>\n",
       "      <td>False</td>\n",
       "      <td>True</td>\n",
       "      <td>False</td>\n",
       "      <td>1.893901</td>\n",
       "      <td>19.395460</td>\n",
       "      <td>19.395460</td>\n",
       "      <td>13.561607</td>\n",
       "    </tr>\n",
       "    <tr>\n",
       "      <th>12</th>\n",
       "      <td>4</td>\n",
       "      <td>1.0</td>\n",
       "      <td>1.0</td>\n",
       "      <td>40.000000</td>\n",
       "      <td>500.0</td>\n",
       "      <td>18.0</td>\n",
       "      <td>2</td>\n",
       "      <td>76.752237</td>\n",
       "      <td>1</td>\n",
       "      <td>11.931507</td>\n",
       "      <td>nördliche Luisenstadt</td>\n",
       "      <td>Friedrichshain-Kreuzberg</td>\n",
       "      <td>0.0</td>\n",
       "      <td>52.502733</td>\n",
       "      <td>13.434620</td>\n",
       "      <td>1</td>\n",
       "      <td>Apartment</td>\n",
       "      <td>Entire home/apt</td>\n",
       "      <td>Real Bed</td>\n",
       "      <td>0.61</td>\n",
       "      <td>60</td>\n",
       "      <td>60</td>\n",
       "      <td>0</td>\n",
       "      <td>0</td>\n",
       "      <td>strict_14_with_grace_period</td>\n",
       "      <td>129</td>\n",
       "      <td>19.0</td>\n",
       "      <td>True</td>\n",
       "      <td>True</td>\n",
       "      <td>True</td>\n",
       "      <td>False</td>\n",
       "      <td>False</td>\n",
       "      <td>False</td>\n",
       "      <td>False</td>\n",
       "      <td>2.776520</td>\n",
       "      <td>15.197347</td>\n",
       "      <td>15.197347</td>\n",
       "      <td>11.057072</td>\n",
       "    </tr>\n",
       "    <tr>\n",
       "      <th>13</th>\n",
       "      <td>4</td>\n",
       "      <td>1.0</td>\n",
       "      <td>2.0</td>\n",
       "      <td>50.000000</td>\n",
       "      <td>300.0</td>\n",
       "      <td>25.0</td>\n",
       "      <td>2</td>\n",
       "      <td>85.300957</td>\n",
       "      <td>1</td>\n",
       "      <td>11.742466</td>\n",
       "      <td>südliche Luisenstadt</td>\n",
       "      <td>Friedrichshain-Kreuzberg</td>\n",
       "      <td>1.0</td>\n",
       "      <td>52.494851</td>\n",
       "      <td>13.428501</td>\n",
       "      <td>1</td>\n",
       "      <td>Apartment</td>\n",
       "      <td>Entire home/apt</td>\n",
       "      <td>Real Bed</td>\n",
       "      <td>0.59</td>\n",
       "      <td>61</td>\n",
       "      <td>3</td>\n",
       "      <td>0</td>\n",
       "      <td>0</td>\n",
       "      <td>strict_14_with_grace_period</td>\n",
       "      <td>257</td>\n",
       "      <td>17.0</td>\n",
       "      <td>True</td>\n",
       "      <td>True</td>\n",
       "      <td>True</td>\n",
       "      <td>True</td>\n",
       "      <td>False</td>\n",
       "      <td>True</td>\n",
       "      <td>False</td>\n",
       "      <td>3.218160</td>\n",
       "      <td>14.515453</td>\n",
       "      <td>14.515453</td>\n",
       "      <td>10.749688</td>\n",
       "    </tr>\n",
       "    <tr>\n",
       "      <th>19</th>\n",
       "      <td>2</td>\n",
       "      <td>1.0</td>\n",
       "      <td>0.0</td>\n",
       "      <td>26.721018</td>\n",
       "      <td>1660.0</td>\n",
       "      <td>0.0</td>\n",
       "      <td>1</td>\n",
       "      <td>51.259737</td>\n",
       "      <td>1</td>\n",
       "      <td>12.019178</td>\n",
       "      <td>Prenzlauer Berg Nordwest</td>\n",
       "      <td>Pankow</td>\n",
       "      <td>0.0</td>\n",
       "      <td>52.546719</td>\n",
       "      <td>13.405117</td>\n",
       "      <td>1</td>\n",
       "      <td>Apartment</td>\n",
       "      <td>Entire home/apt</td>\n",
       "      <td>Real Bed</td>\n",
       "      <td>0.29</td>\n",
       "      <td>28</td>\n",
       "      <td>90</td>\n",
       "      <td>0</td>\n",
       "      <td>0</td>\n",
       "      <td>strict_14_with_grace_period</td>\n",
       "      <td>191</td>\n",
       "      <td>13.0</td>\n",
       "      <td>False</td>\n",
       "      <td>True</td>\n",
       "      <td>False</td>\n",
       "      <td>True</td>\n",
       "      <td>False</td>\n",
       "      <td>True</td>\n",
       "      <td>False</td>\n",
       "      <td>2.972001</td>\n",
       "      <td>20.474383</td>\n",
       "      <td>20.474383</td>\n",
       "      <td>14.640256</td>\n",
       "    </tr>\n",
       "  </tbody>\n",
       "</table>\n",
       "</div>"
      ],
      "text/plain": [
       "    accommodates  bathrooms  bedrooms  cleaning_fee  security_deposit  \\\n",
       "6              2        1.0       0.0      0.000000             500.0   \n",
       "11             4        1.0       2.0     49.000000             500.0   \n",
       "12             4        1.0       1.0     40.000000             500.0   \n",
       "13             4        1.0       2.0     50.000000             300.0   \n",
       "19             2        1.0       0.0     26.721018            1660.0   \n",
       "\n",
       "    extra_people  guests_included       size  host_has_profile_pic  \\\n",
       "6            0.0                1  41.121131                     1   \n",
       "11          24.0                2  84.994207                     1   \n",
       "12          18.0                2  76.752237                     1   \n",
       "13          25.0                2  85.300957                     1   \n",
       "19           0.0                1  51.259737                     1   \n",
       "\n",
       "    host_since    neighbourhood_cleansed neighbourhood_group_cleansed  \\\n",
       "6    12.019178  Prenzlauer Berg Nordwest                       Pankow   \n",
       "11   11.852055   Prenzlauer Berg Südwest                       Pankow   \n",
       "12   11.931507     nördliche Luisenstadt     Friedrichshain-Kreuzberg   \n",
       "13   11.742466      südliche Luisenstadt     Friedrichshain-Kreuzberg   \n",
       "19   12.019178  Prenzlauer Berg Nordwest                       Pankow   \n",
       "\n",
       "    host_is_superhost   latitude  longitude  is_location_exact property_type  \\\n",
       "6                 0.0  52.547846  13.405562                  1     Apartment   \n",
       "11                0.0  52.536952  13.407615                  1          Loft   \n",
       "12                0.0  52.502733  13.434620                  1     Apartment   \n",
       "13                1.0  52.494851  13.428501                  1     Apartment   \n",
       "19                0.0  52.546719  13.405117                  1     Apartment   \n",
       "\n",
       "          room_type  bed_type  reviews_per_month  number_of_reviews  \\\n",
       "6   Entire home/apt  Real Bed               0.23                 23   \n",
       "11  Entire home/apt  Real Bed               0.75                 56   \n",
       "12  Entire home/apt  Real Bed               0.61                 60   \n",
       "13  Entire home/apt  Real Bed               0.59                 61   \n",
       "19  Entire home/apt  Real Bed               0.29                 28   \n",
       "\n",
       "    minimum_nights  instant_bookable  is_business_travel_ready  \\\n",
       "6               90                 0                         0   \n",
       "11               3                 0                         0   \n",
       "12              60                 0                         0   \n",
       "13               3                 0                         0   \n",
       "19              90                 0                         0   \n",
       "\n",
       "            cancellation_policy  availability_365  No_of_amentities  \\\n",
       "6   strict_14_with_grace_period               129              13.0   \n",
       "11  strict_14_with_grace_period               166              17.0   \n",
       "12  strict_14_with_grace_period               129              19.0   \n",
       "13  strict_14_with_grace_period               257              17.0   \n",
       "19  strict_14_with_grace_period               191              13.0   \n",
       "\n",
       "    Laptop_friendly_workspace    TV  Family_kid_friendly  Host_greets_you  \\\n",
       "6                       False  True                False             True   \n",
       "11                      False  True                 True            False   \n",
       "12                       True  True                 True            False   \n",
       "13                       True  True                 True             True   \n",
       "19                      False  True                False             True   \n",
       "\n",
       "    Smoking_allowed  Hot_water  Fridge  distance_central  distance_airport  \\\n",
       "6             False       True   False          3.097585         20.582463   \n",
       "11            False       True   False          1.893901         19.395460   \n",
       "12            False      False   False          2.776520         15.197347   \n",
       "13            False       True   False          3.218160         14.515453   \n",
       "19            False       True   False          2.972001         20.474383   \n",
       "\n",
       "    distance_railways  distance_avg  \n",
       "6           20.582463     14.754170  \n",
       "11          19.395460     13.561607  \n",
       "12          15.197347     11.057072  \n",
       "13          14.515453     10.749688  \n",
       "19          20.474383     14.640256  "
      ]
     },
     "execution_count": 81,
     "metadata": {},
     "output_type": "execute_result"
    }
   ],
   "source": [
    "df.head()"
   ]
  },
  {
   "cell_type": "code",
   "execution_count": 82,
   "metadata": {
    "id": "p_tK8DmRfT85"
   },
   "outputs": [
    {
     "data": {
      "text/plain": [
       "(22518, 38)"
      ]
     },
     "execution_count": 82,
     "metadata": {},
     "output_type": "execute_result"
    }
   ],
   "source": [
    "df.shape"
   ]
  },
  {
   "cell_type": "code",
   "execution_count": 83,
   "metadata": {
    "colab": {
     "base_uri": "https://localhost:8080/"
    },
    "id": "rT3I6mG8ttz7",
    "outputId": "d485cbfe-f139-47c6-ce62-44b6f64cbd0a"
   },
   "outputs": [
    {
     "name": "stdout",
     "output_type": "stream",
     "text": [
      "number_of_reviews {0, 1, 2, 3, 4, 5, 6, 7, 8, 9, 10, 11, 12, 13, 14, 15, 16, 17, 18, 19, 20, 21, 22, 23, 24, 25, 26, 27, 28, 29, 30, 31, 32, 33, 34, 35, 36, 37, 38, 39, 40, 41, 42, 43, 44, 45, 46, 47, 48, 49, 50, 51, 52, 53, 54, 55, 56, 57, 58, 59, 60, 61, 62, 63, 64, 65, 66, 67, 68, 69, 70, 71, 72, 73, 74, 75, 76, 77, 78, 79, 80, 81, 82, 83, 84, 85, 86, 87, 88, 89, 90, 91, 92, 93, 94, 95, 96, 97, 98, 99, 100, 101, 102, 103, 104, 105, 106, 107, 108, 109, 110, 111, 112, 113, 114, 115, 116, 117, 118, 119, 120, 121, 122, 123, 124, 125, 126, 127, 128, 129, 130, 131, 132, 133, 134, 135, 136, 137, 138, 139, 140, 141, 142, 143, 144, 145, 146, 147, 148, 149, 150, 151, 152, 153, 154, 155, 156, 157, 158, 159, 160, 161, 162, 163, 164, 165, 166, 167, 168, 169, 170, 171, 172, 173, 174, 175, 176, 177, 178, 179, 180, 181, 182, 183, 184, 185, 186, 188, 189, 190, 191, 192, 193, 194, 195, 196, 197, 198, 199, 200, 201, 202, 203, 204, 205, 206, 207, 208, 209, 210, 211, 212, 213, 214, 215, 216, 217, 220, 221, 222, 223, 224, 226, 227, 228, 229, 231, 233, 234, 237, 238, 239, 240, 241, 242, 245, 246, 247, 248, 250, 252, 253, 255, 256, 258, 260, 263, 264, 265, 266, 267, 268, 270, 271, 273, 274, 275, 276, 277, 279, 283, 286, 287, 289, 290, 292, 293, 296, 297, 299, 300, 301, 302, 304, 305, 306, 307, 310, 313, 319, 322, 328, 334, 341, 344, 350, 352, 353, 355, 357, 358, 359, 373, 374, 385, 387, 389, 398, 402, 413, 418, 426, 443, 459, 482, 498}\n"
     ]
    }
   ],
   "source": [
    "i=20\n",
    "for i in df.columns[i:i+1]:\n",
    "    print(i,set(df[i]))\n"
   ]
  },
  {
   "cell_type": "code",
   "execution_count": 84,
   "metadata": {
    "colab": {
     "base_uri": "https://localhost:8080/"
    },
    "id": "51a0u2kzttz7",
    "outputId": "c77f44ff-c173-437e-f63c-874bf2c9deea"
   },
   "outputs": [
    {
     "name": "stdout",
     "output_type": "stream",
     "text": [
      "0.109424    2464\n",
      "0.058664    1321\n",
      "0.056755    1278\n",
      "0.048361    1089\n",
      "0.044365     999\n",
      "0.039080     880\n",
      "0.035305     795\n",
      "0.034328     773\n",
      "0.032596     734\n",
      "0.029399     662\n",
      "0.028511     642\n",
      "0.027622     622\n",
      "0.027445     618\n",
      "0.025180     567\n",
      "0.024603     554\n",
      "0.022959     517\n",
      "0.021716     489\n",
      "0.021494     484\n",
      "0.021050     474\n",
      "0.020384     459\n",
      "0.018252     411\n",
      "0.017275     389\n",
      "0.016742     377\n",
      "0.008082     364\n",
      "0.016120     363\n",
      "0.015721     354\n",
      "0.015365     346\n",
      "0.012390     279\n",
      "0.012124     273\n",
      "0.011902     268\n",
      "0.010703     241\n",
      "0.010481     236\n",
      "0.009415     212\n",
      "0.008882     200\n",
      "0.008349     188\n",
      "0.007949     179\n",
      "0.007505     169\n",
      "0.007461     168\n",
      "0.007105     160\n",
      "0.006883     155\n",
      "0.006839     154\n",
      "0.006128     138\n",
      "0.005995     135\n",
      "0.005373     121\n",
      "0.005107     115\n",
      "0.004530     102\n",
      "Name: neighbourhood_cleansed_freq, dtype: int64\n",
      "0.2435385025313083      5484\n",
      "0.20534683364419576     4624\n",
      "0.15711874944488854     3538\n",
      "0.1551647570832223      3494\n",
      "0.07061017852384759     1590\n",
      "0.06923350208721911     1559\n",
      "0.03050892619237943      687\n",
      "0.026423305799804602     595\n",
      "0.019406696864730438     437\n",
      "0.010924593658406609     246\n",
      "0.006217248423483436     140\n",
      "0.0055067057465139       124\n",
      "Name: neighbourhood_group_cleansed_freq, dtype: int64\n",
      "0.896838    20195\n",
      "0.027178      612\n",
      "0.020428      460\n",
      "0.017586      396\n",
      "0.007727      174\n",
      "0.005684      128\n",
      "0.004352       98\n",
      "0.003286       74\n",
      "0.002842       64\n",
      "0.002531       57\n",
      "0.002220       50\n",
      "0.002087       47\n",
      "0.001910       43\n",
      "0.000488       22\n",
      "0.000888       20\n",
      "0.000755       17\n",
      "0.000311       14\n",
      "0.000533       12\n",
      "0.000444       10\n",
      "0.000089        6\n",
      "0.000266        6\n",
      "0.000044        6\n",
      "0.000178        4\n",
      "0.000133        3\n",
      "Name: property_type_freq, dtype: int64\n",
      "0.5114130917488232      11516\n",
      "0.4754418687272404      10706\n",
      "0.013145039523936407      296\n",
      "Name: room_type_freq, dtype: int64\n",
      "0.9651834088284927       21734\n",
      "0.019984012789768184       450\n",
      "0.010613731237232436       239\n",
      "0.0031974420463629096       72\n",
      "0.0010214050981437073       23\n",
      "Name: bed_type_freq, dtype: int64\n",
      "0.40332178701483257      9082\n",
      "0.31468158806288304      7086\n",
      "0.2790212274624745       6283\n",
      "0.0023536726174615864      53\n",
      "0.0006217248423483436      14\n",
      "Name: cancellation_policy_freq, dtype: int64\n"
     ]
    }
   ],
   "source": [
    "for c in category:\n",
    "    df[c+'_freq'] = df[c].map(df.groupby(c).size() / df.shape[0])   # shape is rows* columns.. shape[0]--rows, shape[1]--columns\n",
    "    indexer = pd.factorize(df[c], sort=True)[1]\n",
    "    df[c] = indexer.get_indexer(df[c])\n",
    "    print(df[c+'_freq'].value_counts())"
   ]
  },
  {
   "cell_type": "code",
   "execution_count": 85,
   "metadata": {
    "colab": {
     "base_uri": "https://localhost:8080/",
     "height": 270
    },
    "id": "vmKIHyegttz7",
    "outputId": "b66de3b4-9c6b-4e18-b644-8fcad3488034"
   },
   "outputs": [
    {
     "data": {
      "text/html": [
       "<div>\n",
       "<style scoped>\n",
       "    .dataframe tbody tr th:only-of-type {\n",
       "        vertical-align: middle;\n",
       "    }\n",
       "\n",
       "    .dataframe tbody tr th {\n",
       "        vertical-align: top;\n",
       "    }\n",
       "\n",
       "    .dataframe thead th {\n",
       "        text-align: right;\n",
       "    }\n",
       "</style>\n",
       "<table border=\"1\" class=\"dataframe\">\n",
       "  <thead>\n",
       "    <tr style=\"text-align: right;\">\n",
       "      <th></th>\n",
       "      <th>accommodates</th>\n",
       "      <th>bathrooms</th>\n",
       "      <th>bedrooms</th>\n",
       "      <th>cleaning_fee</th>\n",
       "      <th>security_deposit</th>\n",
       "      <th>extra_people</th>\n",
       "      <th>guests_included</th>\n",
       "      <th>size</th>\n",
       "      <th>host_has_profile_pic</th>\n",
       "      <th>host_since</th>\n",
       "      <th>neighbourhood_cleansed</th>\n",
       "      <th>neighbourhood_group_cleansed</th>\n",
       "      <th>host_is_superhost</th>\n",
       "      <th>latitude</th>\n",
       "      <th>longitude</th>\n",
       "      <th>is_location_exact</th>\n",
       "      <th>property_type</th>\n",
       "      <th>room_type</th>\n",
       "      <th>bed_type</th>\n",
       "      <th>reviews_per_month</th>\n",
       "      <th>number_of_reviews</th>\n",
       "      <th>minimum_nights</th>\n",
       "      <th>instant_bookable</th>\n",
       "      <th>is_business_travel_ready</th>\n",
       "      <th>cancellation_policy</th>\n",
       "      <th>availability_365</th>\n",
       "      <th>No_of_amentities</th>\n",
       "      <th>Laptop_friendly_workspace</th>\n",
       "      <th>TV</th>\n",
       "      <th>Family_kid_friendly</th>\n",
       "      <th>Host_greets_you</th>\n",
       "      <th>Smoking_allowed</th>\n",
       "      <th>Hot_water</th>\n",
       "      <th>Fridge</th>\n",
       "      <th>distance_central</th>\n",
       "      <th>distance_airport</th>\n",
       "      <th>distance_railways</th>\n",
       "      <th>distance_avg</th>\n",
       "      <th>neighbourhood_cleansed_freq</th>\n",
       "      <th>neighbourhood_group_cleansed_freq</th>\n",
       "      <th>property_type_freq</th>\n",
       "      <th>room_type_freq</th>\n",
       "      <th>bed_type_freq</th>\n",
       "      <th>cancellation_policy_freq</th>\n",
       "    </tr>\n",
       "  </thead>\n",
       "  <tbody>\n",
       "    <tr>\n",
       "      <th>6</th>\n",
       "      <td>2</td>\n",
       "      <td>1.0</td>\n",
       "      <td>0.0</td>\n",
       "      <td>0.000000</td>\n",
       "      <td>500.0</td>\n",
       "      <td>0.0</td>\n",
       "      <td>1</td>\n",
       "      <td>41.121131</td>\n",
       "      <td>1</td>\n",
       "      <td>12.019178</td>\n",
       "      <td>27</td>\n",
       "      <td>6</td>\n",
       "      <td>0.0</td>\n",
       "      <td>52.547846</td>\n",
       "      <td>13.405562</td>\n",
       "      <td>1</td>\n",
       "      <td>1</td>\n",
       "      <td>0</td>\n",
       "      <td>4</td>\n",
       "      <td>0.23</td>\n",
       "      <td>23</td>\n",
       "      <td>90</td>\n",
       "      <td>0</td>\n",
       "      <td>0</td>\n",
       "      <td>2</td>\n",
       "      <td>129</td>\n",
       "      <td>13.0</td>\n",
       "      <td>False</td>\n",
       "      <td>True</td>\n",
       "      <td>False</td>\n",
       "      <td>True</td>\n",
       "      <td>False</td>\n",
       "      <td>True</td>\n",
       "      <td>False</td>\n",
       "      <td>3.097585</td>\n",
       "      <td>20.582463</td>\n",
       "      <td>20.582463</td>\n",
       "      <td>14.754170</td>\n",
       "      <td>0.027622</td>\n",
       "      <td>0.157119</td>\n",
       "      <td>0.896838</td>\n",
       "      <td>0.475442</td>\n",
       "      <td>0.965183</td>\n",
       "      <td>0.279021</td>\n",
       "    </tr>\n",
       "    <tr>\n",
       "      <th>11</th>\n",
       "      <td>4</td>\n",
       "      <td>1.0</td>\n",
       "      <td>2.0</td>\n",
       "      <td>49.000000</td>\n",
       "      <td>500.0</td>\n",
       "      <td>24.0</td>\n",
       "      <td>2</td>\n",
       "      <td>84.994207</td>\n",
       "      <td>1</td>\n",
       "      <td>11.852055</td>\n",
       "      <td>30</td>\n",
       "      <td>6</td>\n",
       "      <td>0.0</td>\n",
       "      <td>52.536952</td>\n",
       "      <td>13.407615</td>\n",
       "      <td>1</td>\n",
       "      <td>23</td>\n",
       "      <td>0</td>\n",
       "      <td>4</td>\n",
       "      <td>0.75</td>\n",
       "      <td>56</td>\n",
       "      <td>3</td>\n",
       "      <td>0</td>\n",
       "      <td>0</td>\n",
       "      <td>2</td>\n",
       "      <td>166</td>\n",
       "      <td>17.0</td>\n",
       "      <td>False</td>\n",
       "      <td>True</td>\n",
       "      <td>True</td>\n",
       "      <td>False</td>\n",
       "      <td>False</td>\n",
       "      <td>True</td>\n",
       "      <td>False</td>\n",
       "      <td>1.893901</td>\n",
       "      <td>19.395460</td>\n",
       "      <td>19.395460</td>\n",
       "      <td>13.561607</td>\n",
       "      <td>0.027445</td>\n",
       "      <td>0.157119</td>\n",
       "      <td>0.020428</td>\n",
       "      <td>0.475442</td>\n",
       "      <td>0.965183</td>\n",
       "      <td>0.279021</td>\n",
       "    </tr>\n",
       "    <tr>\n",
       "      <th>12</th>\n",
       "      <td>4</td>\n",
       "      <td>1.0</td>\n",
       "      <td>1.0</td>\n",
       "      <td>40.000000</td>\n",
       "      <td>500.0</td>\n",
       "      <td>18.0</td>\n",
       "      <td>2</td>\n",
       "      <td>76.752237</td>\n",
       "      <td>1</td>\n",
       "      <td>11.931507</td>\n",
       "      <td>45</td>\n",
       "      <td>1</td>\n",
       "      <td>0.0</td>\n",
       "      <td>52.502733</td>\n",
       "      <td>13.434620</td>\n",
       "      <td>1</td>\n",
       "      <td>1</td>\n",
       "      <td>0</td>\n",
       "      <td>4</td>\n",
       "      <td>0.61</td>\n",
       "      <td>60</td>\n",
       "      <td>60</td>\n",
       "      <td>0</td>\n",
       "      <td>0</td>\n",
       "      <td>2</td>\n",
       "      <td>129</td>\n",
       "      <td>19.0</td>\n",
       "      <td>True</td>\n",
       "      <td>True</td>\n",
       "      <td>True</td>\n",
       "      <td>False</td>\n",
       "      <td>False</td>\n",
       "      <td>False</td>\n",
       "      <td>False</td>\n",
       "      <td>2.776520</td>\n",
       "      <td>15.197347</td>\n",
       "      <td>15.197347</td>\n",
       "      <td>11.057072</td>\n",
       "      <td>0.021494</td>\n",
       "      <td>0.243539</td>\n",
       "      <td>0.896838</td>\n",
       "      <td>0.475442</td>\n",
       "      <td>0.965183</td>\n",
       "      <td>0.279021</td>\n",
       "    </tr>\n",
       "    <tr>\n",
       "      <th>13</th>\n",
       "      <td>4</td>\n",
       "      <td>1.0</td>\n",
       "      <td>2.0</td>\n",
       "      <td>50.000000</td>\n",
       "      <td>300.0</td>\n",
       "      <td>25.0</td>\n",
       "      <td>2</td>\n",
       "      <td>85.300957</td>\n",
       "      <td>1</td>\n",
       "      <td>11.742466</td>\n",
       "      <td>46</td>\n",
       "      <td>1</td>\n",
       "      <td>1.0</td>\n",
       "      <td>52.494851</td>\n",
       "      <td>13.428501</td>\n",
       "      <td>1</td>\n",
       "      <td>1</td>\n",
       "      <td>0</td>\n",
       "      <td>4</td>\n",
       "      <td>0.59</td>\n",
       "      <td>61</td>\n",
       "      <td>3</td>\n",
       "      <td>0</td>\n",
       "      <td>0</td>\n",
       "      <td>2</td>\n",
       "      <td>257</td>\n",
       "      <td>17.0</td>\n",
       "      <td>True</td>\n",
       "      <td>True</td>\n",
       "      <td>True</td>\n",
       "      <td>True</td>\n",
       "      <td>False</td>\n",
       "      <td>True</td>\n",
       "      <td>False</td>\n",
       "      <td>3.218160</td>\n",
       "      <td>14.515453</td>\n",
       "      <td>14.515453</td>\n",
       "      <td>10.749688</td>\n",
       "      <td>0.028511</td>\n",
       "      <td>0.243539</td>\n",
       "      <td>0.896838</td>\n",
       "      <td>0.475442</td>\n",
       "      <td>0.965183</td>\n",
       "      <td>0.279021</td>\n",
       "    </tr>\n",
       "    <tr>\n",
       "      <th>19</th>\n",
       "      <td>2</td>\n",
       "      <td>1.0</td>\n",
       "      <td>0.0</td>\n",
       "      <td>26.721018</td>\n",
       "      <td>1660.0</td>\n",
       "      <td>0.0</td>\n",
       "      <td>1</td>\n",
       "      <td>51.259737</td>\n",
       "      <td>1</td>\n",
       "      <td>12.019178</td>\n",
       "      <td>27</td>\n",
       "      <td>6</td>\n",
       "      <td>0.0</td>\n",
       "      <td>52.546719</td>\n",
       "      <td>13.405117</td>\n",
       "      <td>1</td>\n",
       "      <td>1</td>\n",
       "      <td>0</td>\n",
       "      <td>4</td>\n",
       "      <td>0.29</td>\n",
       "      <td>28</td>\n",
       "      <td>90</td>\n",
       "      <td>0</td>\n",
       "      <td>0</td>\n",
       "      <td>2</td>\n",
       "      <td>191</td>\n",
       "      <td>13.0</td>\n",
       "      <td>False</td>\n",
       "      <td>True</td>\n",
       "      <td>False</td>\n",
       "      <td>True</td>\n",
       "      <td>False</td>\n",
       "      <td>True</td>\n",
       "      <td>False</td>\n",
       "      <td>2.972001</td>\n",
       "      <td>20.474383</td>\n",
       "      <td>20.474383</td>\n",
       "      <td>14.640256</td>\n",
       "      <td>0.027622</td>\n",
       "      <td>0.157119</td>\n",
       "      <td>0.896838</td>\n",
       "      <td>0.475442</td>\n",
       "      <td>0.965183</td>\n",
       "      <td>0.279021</td>\n",
       "    </tr>\n",
       "  </tbody>\n",
       "</table>\n",
       "</div>"
      ],
      "text/plain": [
       "    accommodates  bathrooms  bedrooms  cleaning_fee  security_deposit  \\\n",
       "6              2        1.0       0.0      0.000000             500.0   \n",
       "11             4        1.0       2.0     49.000000             500.0   \n",
       "12             4        1.0       1.0     40.000000             500.0   \n",
       "13             4        1.0       2.0     50.000000             300.0   \n",
       "19             2        1.0       0.0     26.721018            1660.0   \n",
       "\n",
       "    extra_people  guests_included       size  host_has_profile_pic  \\\n",
       "6            0.0                1  41.121131                     1   \n",
       "11          24.0                2  84.994207                     1   \n",
       "12          18.0                2  76.752237                     1   \n",
       "13          25.0                2  85.300957                     1   \n",
       "19           0.0                1  51.259737                     1   \n",
       "\n",
       "    host_since  neighbourhood_cleansed  neighbourhood_group_cleansed  \\\n",
       "6    12.019178                      27                             6   \n",
       "11   11.852055                      30                             6   \n",
       "12   11.931507                      45                             1   \n",
       "13   11.742466                      46                             1   \n",
       "19   12.019178                      27                             6   \n",
       "\n",
       "    host_is_superhost   latitude  longitude  is_location_exact  property_type  \\\n",
       "6                 0.0  52.547846  13.405562                  1              1   \n",
       "11                0.0  52.536952  13.407615                  1             23   \n",
       "12                0.0  52.502733  13.434620                  1              1   \n",
       "13                1.0  52.494851  13.428501                  1              1   \n",
       "19                0.0  52.546719  13.405117                  1              1   \n",
       "\n",
       "    room_type  bed_type  reviews_per_month  number_of_reviews  minimum_nights  \\\n",
       "6           0         4               0.23                 23              90   \n",
       "11          0         4               0.75                 56               3   \n",
       "12          0         4               0.61                 60              60   \n",
       "13          0         4               0.59                 61               3   \n",
       "19          0         4               0.29                 28              90   \n",
       "\n",
       "    instant_bookable  is_business_travel_ready  cancellation_policy  \\\n",
       "6                  0                         0                    2   \n",
       "11                 0                         0                    2   \n",
       "12                 0                         0                    2   \n",
       "13                 0                         0                    2   \n",
       "19                 0                         0                    2   \n",
       "\n",
       "    availability_365  No_of_amentities  Laptop_friendly_workspace    TV  \\\n",
       "6                129              13.0                      False  True   \n",
       "11               166              17.0                      False  True   \n",
       "12               129              19.0                       True  True   \n",
       "13               257              17.0                       True  True   \n",
       "19               191              13.0                      False  True   \n",
       "\n",
       "    Family_kid_friendly  Host_greets_you  Smoking_allowed  Hot_water  Fridge  \\\n",
       "6                 False             True            False       True   False   \n",
       "11                 True            False            False       True   False   \n",
       "12                 True            False            False      False   False   \n",
       "13                 True             True            False       True   False   \n",
       "19                False             True            False       True   False   \n",
       "\n",
       "    distance_central  distance_airport  distance_railways  distance_avg  \\\n",
       "6           3.097585         20.582463          20.582463     14.754170   \n",
       "11          1.893901         19.395460          19.395460     13.561607   \n",
       "12          2.776520         15.197347          15.197347     11.057072   \n",
       "13          3.218160         14.515453          14.515453     10.749688   \n",
       "19          2.972001         20.474383          20.474383     14.640256   \n",
       "\n",
       "    neighbourhood_cleansed_freq neighbourhood_group_cleansed_freq  \\\n",
       "6                      0.027622                          0.157119   \n",
       "11                     0.027445                          0.157119   \n",
       "12                     0.021494                          0.243539   \n",
       "13                     0.028511                          0.243539   \n",
       "19                     0.027622                          0.157119   \n",
       "\n",
       "    property_type_freq room_type_freq bed_type_freq cancellation_policy_freq  \n",
       "6             0.896838       0.475442      0.965183                 0.279021  \n",
       "11            0.020428       0.475442      0.965183                 0.279021  \n",
       "12            0.896838       0.475442      0.965183                 0.279021  \n",
       "13            0.896838       0.475442      0.965183                 0.279021  \n",
       "19            0.896838       0.475442      0.965183                 0.279021  "
      ]
     },
     "execution_count": 85,
     "metadata": {},
     "output_type": "execute_result"
    }
   ],
   "source": [
    "df.head()"
   ]
  },
  {
   "cell_type": "code",
   "execution_count": 86,
   "metadata": {
    "colab": {
     "base_uri": "https://localhost:8080/"
    },
    "id": "UnncFXYZttz7",
    "outputId": "d48f8d26-4bc2-4796-f7ed-d71271d06170"
   },
   "outputs": [
    {
     "data": {
      "text/plain": [
       "accommodates                            0\n",
       "bathrooms                               0\n",
       "bedrooms                                0\n",
       "cleaning_fee                            0\n",
       "security_deposit                        0\n",
       "extra_people                            0\n",
       "guests_included                         0\n",
       "size                                    0\n",
       "host_has_profile_pic                    0\n",
       "host_since                              0\n",
       "neighbourhood_cleansed                  0\n",
       "neighbourhood_group_cleansed            0\n",
       "host_is_superhost                       0\n",
       "latitude                                0\n",
       "longitude                               0\n",
       "is_location_exact                       0\n",
       "property_type                           0\n",
       "room_type                               0\n",
       "bed_type                                0\n",
       "reviews_per_month                    3901\n",
       "number_of_reviews                       0\n",
       "minimum_nights                          0\n",
       "instant_bookable                        0\n",
       "is_business_travel_ready                0\n",
       "cancellation_policy                     0\n",
       "availability_365                        0\n",
       "No_of_amentities                        0\n",
       "Laptop_friendly_workspace               0\n",
       "TV                                      0\n",
       "Family_kid_friendly                     0\n",
       "Host_greets_you                         0\n",
       "Smoking_allowed                         0\n",
       "Hot_water                               0\n",
       "Fridge                                  0\n",
       "distance_central                        0\n",
       "distance_airport                        0\n",
       "distance_railways                       0\n",
       "distance_avg                            0\n",
       "neighbourhood_cleansed_freq             0\n",
       "neighbourhood_group_cleansed_freq       0\n",
       "property_type_freq                      0\n",
       "room_type_freq                          0\n",
       "bed_type_freq                           0\n",
       "cancellation_policy_freq                0\n",
       "dtype: int64"
      ]
     },
     "execution_count": 86,
     "metadata": {},
     "output_type": "execute_result"
    }
   ],
   "source": [
    "df.isna().sum()"
   ]
  },
  {
   "cell_type": "code",
   "execution_count": 87,
   "metadata": {
    "colab": {
     "base_uri": "https://localhost:8080/"
    },
    "id": "mfEbTM9Hi7CD",
    "outputId": "b3e9f52e-0690-4456-f1ae-b2fee73298e7"
   },
   "outputs": [
    {
     "data": {
      "text/plain": [
       "0.03     618\n",
       "0.07     398\n",
       "0.06     359\n",
       "0.10     333\n",
       "0.08     329\n",
       "        ... \n",
       "4.92       1\n",
       "9.87       1\n",
       "15.51      1\n",
       "7.20       1\n",
       "11.16      1\n",
       "Name: reviews_per_month, Length: 768, dtype: int64"
      ]
     },
     "execution_count": 87,
     "metadata": {},
     "output_type": "execute_result"
    }
   ],
   "source": [
    "df['reviews_per_month'].value_counts()   #check distribution, if skewed, then mediun, else mean"
   ]
  },
  {
   "cell_type": "code",
   "execution_count": 88,
   "metadata": {
    "colab": {
     "base_uri": "https://localhost:8080/"
    },
    "id": "QH4PVhVOttz8",
    "outputId": "b739d54b-222a-495f-fcef-fc305291693c"
   },
   "outputs": [
    {
     "data": {
      "text/plain": [
       "(22518, 44)"
      ]
     },
     "execution_count": 88,
     "metadata": {},
     "output_type": "execute_result"
    }
   ],
   "source": [
    "df['reviews_per_month'].fillna(df['reviews_per_month'].median(), inplace=True)\n",
    "df.shape"
   ]
  },
  {
   "cell_type": "markdown",
   "metadata": {
    "id": "ul2Oxke9ttz8"
   },
   "source": [
    " # Model"
   ]
  },
  {
   "cell_type": "code",
   "execution_count": 89,
   "metadata": {
    "id": "FDwtIzV_ttz8"
   },
   "outputs": [],
   "source": [
    "X_train, X_val , y_train, y_val = train_test_split(df,y,test_size=0.3)"
   ]
  },
  {
   "cell_type": "code",
   "execution_count": 90,
   "metadata": {
    "id": "Vp-_MHCYttz8",
    "outputId": "a8240e4c-50d4-4eda-8f50-7c28b24926dc"
   },
   "outputs": [
    {
     "data": {
      "text/plain": [
       "array([[-0.42075262, -0.28242139, -0.25313159, ...,  0.40978039,\n",
       "         0.18780149, -0.4362976 ],\n",
       "       [-1.08255312,  2.81429232, -0.25313159, ...,  0.40978039,\n",
       "         0.18780149,  1.12376454],\n",
       "       [-1.08255312, -0.28242139, -0.25313159, ...,  0.40978039,\n",
       "         0.18780149,  1.12376454],\n",
       "       ...,\n",
       "       [ 0.90284837, -0.28242139, -0.25313159, ..., -0.20956174,\n",
       "         0.18780149, -1.06391779],\n",
       "       [-0.42075262, -0.28242139, -0.25313159, ...,  0.40978039,\n",
       "         0.18780149, -0.4362976 ],\n",
       "       [-0.42075262, -0.28242139, -0.25313159, ...,  0.40978039,\n",
       "         0.18780149,  1.12376454]])"
      ]
     },
     "execution_count": 90,
     "metadata": {},
     "output_type": "execute_result"
    }
   ],
   "source": [
    "scaler = StandardScaler()         # onject is created of class StandardScalar\n",
    "scaler.fit_transform(X_train)     # scalar-- it will scale the vales and fit it  # this isdone to fit  values in certain range # mean=0, sd=1\n",
    "scaler.transform(X_val)"
   ]
  },
  {
   "cell_type": "markdown",
   "metadata": {
    "id": "omRYKTzkttz8"
   },
   "source": [
    "## Linear Regression"
   ]
  },
  {
   "cell_type": "code",
   "execution_count": 91,
   "metadata": {
    "id": "_5tNi178ttz9"
   },
   "outputs": [],
   "source": [
    "model = Lasso(alpha=1e-6)     # an instance of model is created.... "
   ]
  },
  {
   "cell_type": "code",
   "execution_count": 92,
   "metadata": {
    "id": "w_trJGfmttz9",
    "outputId": "35ce00bf-1201-49ce-d32a-9c9a1f1d419a"
   },
   "outputs": [
    {
     "data": {
      "text/plain": [
       "Lasso(alpha=1e-06)"
      ]
     },
     "execution_count": 92,
     "metadata": {},
     "output_type": "execute_result"
    }
   ],
   "source": [
    "model.fit(X_train,y_train)    # input features and output labels"
   ]
  },
  {
   "cell_type": "code",
   "execution_count": 93,
   "metadata": {
    "id": "_73Nrsxuttz9",
    "outputId": "bf9e4284-4cdd-437f-ae35-90066850b548"
   },
   "outputs": [
    {
     "name": "stdout",
     "output_type": "stream",
     "text": [
      "Train r2 score=  0.0036223972283373485\n",
      "Test r2 score=  -0.006670952346535142\n"
     ]
    },
    {
     "name": "stderr",
     "output_type": "stream",
     "text": [
      "C:\\Users\\singh\\anaconda3\\lib\\site-packages\\sklearn\\base.py:566: FutureWarning: Arrays of bytes/strings is being converted to decimal numbers if dtype='numeric'. This behavior is deprecated in 0.24 and will be removed in 1.1 (renaming of 0.26). Please convert your data to numeric values explicitly instead.\n",
      "  X = check_array(X, **check_params)\n",
      "C:\\Users\\singh\\anaconda3\\lib\\site-packages\\sklearn\\base.py:566: FutureWarning: Arrays of bytes/strings is being converted to decimal numbers if dtype='numeric'. This behavior is deprecated in 0.24 and will be removed in 1.1 (renaming of 0.26). Please convert your data to numeric values explicitly instead.\n",
      "  X = check_array(X, **check_params)\n"
     ]
    }
   ],
   "source": [
    "train_rmse =(r2_score(y_train, model.predict(X_train)))\n",
    "test_rmse =(r2_score(y_val, model.predict(X_val)))\n",
    "print('Train r2 score= ',train_rmse)\n",
    "print('Test r2 score= ',test_rmse)\n"
   ]
  },
  {
   "cell_type": "code",
   "execution_count": 94,
   "metadata": {
    "id": "rqaxz3Tsttz9"
   },
   "outputs": [
    {
     "name": "stdout",
     "output_type": "stream",
     "text": [
      "accommodates   0.005789572724422905\n",
      "bathrooms   -0.021328188961671313\n",
      "bedrooms   -0.011843196749449452\n",
      "cleaning_fee   -6.712695094420045e-05\n",
      "security_deposit   3.488993480014835e-05\n",
      "extra_people   0.0005019544622302467\n",
      "guests_included   0.008030333839799716\n",
      "size   2.424014834777348e-05\n",
      "host_has_profile_pic   -0.04568782211732556\n",
      "host_since   0.007103347182126643\n",
      "neighbourhood_cleansed   -0.00034433165338747175\n",
      "neighbourhood_group_cleansed   0.0015807986260607428\n",
      "host_is_superhost   -0.015658726620415047\n",
      "latitude   -0.052927355429994924\n",
      "longitude   -0.052470498832001944\n",
      "is_location_exact   -0.0023257605271591606\n",
      "property_type   -0.004969062758900178\n",
      "room_type   -0.006835408944187638\n",
      "bed_type   -0.04079895309688398\n",
      "reviews_per_month   0.0018733393407244447\n",
      "number_of_reviews   -0.0002523700648910175\n",
      "minimum_nights   -0.00014897663594745886\n",
      "instant_bookable   0.002592089537799287\n",
      "is_business_travel_ready   0.0\n",
      "cancellation_policy   -0.010211298188973166\n",
      "availability_365   -2.990950933162889e-05\n",
      "No_of_amentities   -0.0011269307038897871\n",
      "Laptop_friendly_workspace   0.013360351112808286\n",
      "TV   0.002625696646106331\n",
      "Family_kid_friendly   -0.023805304755869235\n",
      "Host_greets_you   -0.00493954723006946\n",
      "Smoking_allowed   -0.0008844237673224657\n",
      "Hot_water   0.025692084189397533\n",
      "Fridge   0.007833951358214634\n",
      "distance_central   0.006759301004061294\n",
      "distance_airport   0.0012557903880611055\n",
      "distance_railways   4.068607285127844e-19\n",
      "distance_avg   3.785778526016842e-05\n",
      "neighbourhood_cleansed_freq   -0.18669019141172316\n",
      "neighbourhood_group_cleansed_freq   0.16460329544649832\n",
      "property_type_freq   -0.10738275437036916\n",
      "room_type_freq   -0.08958421219616582\n",
      "bed_type_freq   0.012172506359923781\n",
      "cancellation_policy_freq   -0.33804785641593055\n"
     ]
    }
   ],
   "source": [
    "for i in range(len(model.coef_)):     # printing the weights(coefficient) of model\n",
    "    print(df.columns[i],' ',model.coef_[i])"
   ]
  },
  {
   "cell_type": "markdown",
   "metadata": {
    "id": "uyv03JuQttz-"
   },
   "source": [
    "## LightGBM"
   ]
  },
  {
   "cell_type": "code",
   "execution_count": 95,
   "metadata": {
    "id": "SFRIJjaettz-"
   },
   "outputs": [
    {
     "name": "stdout",
     "output_type": "stream",
     "text": [
      "0   accommodates\n",
      "1   bathrooms\n",
      "2   bedrooms\n",
      "3   cleaning_fee\n",
      "4   security_deposit\n",
      "5   extra_people\n",
      "6   guests_included\n",
      "7   size\n",
      "8   host_has_profile_pic\n",
      "9   host_since\n",
      "10   neighbourhood_cleansed\n",
      "11   neighbourhood_group_cleansed\n",
      "12   host_is_superhost\n",
      "13   latitude\n",
      "14   longitude\n",
      "15   is_location_exact\n",
      "16   property_type\n",
      "17   room_type\n",
      "18   bed_type\n",
      "19   reviews_per_month\n",
      "20   number_of_reviews\n",
      "21   minimum_nights\n",
      "22   instant_bookable\n",
      "23   is_business_travel_ready\n",
      "24   cancellation_policy\n",
      "25   availability_365\n",
      "26   No_of_amentities\n",
      "27   Laptop_friendly_workspace\n",
      "28   TV\n",
      "29   Family_kid_friendly\n",
      "30   Host_greets_you\n",
      "31   Smoking_allowed\n",
      "32   Hot_water\n",
      "33   Fridge\n",
      "34   distance_central\n",
      "35   distance_airport\n",
      "36   distance_railways\n",
      "37   distance_avg\n",
      "38   neighbourhood_cleansed_freq\n",
      "39   neighbourhood_group_cleansed_freq\n",
      "40   property_type_freq\n",
      "41   room_type_freq\n",
      "42   bed_type_freq\n",
      "43   cancellation_policy_freq\n"
     ]
    }
   ],
   "source": [
    "for i in range(len(X_train.columns)):\n",
    "    print(i,' ',X_train.columns[i])         # printing columns"
   ]
  },
  {
   "cell_type": "code",
   "execution_count": 99,
   "metadata": {},
   "outputs": [
    {
     "name": "stdout",
     "output_type": "stream",
     "text": [
      "Collecting lightgbm\n",
      "  Downloading lightgbm-4.1.0-py3-none-win_amd64.whl (1.3 MB)\n"
     ]
    },
    {
     "name": "stderr",
     "output_type": "stream",
     "text": [
      "WARNING: Ignoring invalid distribution -ensorflow-intel (c:\\users\\singh\\anaconda3\\lib\\site-packages)\n",
      "WARNING: Ignoring invalid distribution -rotobuf (c:\\users\\singh\\anaconda3\\lib\\site-packages)\n",
      "WARNING: Ignoring invalid distribution -yping-extensions (c:\\users\\singh\\anaconda3\\lib\\site-packages)\n",
      "WARNING: Ignoring invalid distribution -ensorflow-intel (c:\\users\\singh\\anaconda3\\lib\\site-packages)\n",
      "WARNING: Ignoring invalid distribution -rotobuf (c:\\users\\singh\\anaconda3\\lib\\site-packages)\n",
      "WARNING: Ignoring invalid distribution -yping-extensions (c:\\users\\singh\\anaconda3\\lib\\site-packages)\n",
      "\n",
      "[notice] A new release of pip is available: 23.1.2 -> 23.2.1\n",
      "[notice] To update, run: python.exe -m pip install --upgrade pip\n"
     ]
    },
    {
     "name": "stdout",
     "output_type": "stream",
     "text": [
      "     ---------------------------------------- 1.3/1.3 MB 1.2 MB/s eta 0:00:00\n",
      "Requirement already satisfied: numpy in c:\\users\\singh\\anaconda3\\lib\\site-packages (from lightgbm) (1.23.5)\n",
      "Requirement already satisfied: scipy in c:\\users\\singh\\anaconda3\\lib\\site-packages (from lightgbm) (1.9.3)\n",
      "Installing collected packages: lightgbm\n",
      "Successfully installed lightgbm-4.1.0\n"
     ]
    }
   ],
   "source": [
    "!pip install lightgbm"
   ]
  },
  {
   "cell_type": "code",
   "execution_count": 101,
   "metadata": {},
   "outputs": [],
   "source": [
    "import lightgbm as lgbm\n",
    "\n",
    "params = {'objective': 'regression',\n",
    "          'metric': 'rmse',\n",
    "          'learning_rate': 0.01,\n",
    "          'max_depth': 5,\n",
    "          'verbosity': -1  # Set verbosity to control the output level (-1 means no output)\n",
    "         }\n",
    "\n",
    "train_set = lgbm.Dataset(X_train, y_train)\n",
    "model = lgbm.train(params, train_set=train_set, num_boost_round=1000, categorical_feature=[2, 3, 8, 9, 13, 21])\n"
   ]
  },
  {
   "cell_type": "code",
   "execution_count": 102,
   "metadata": {
    "id": "VeoNsQ7_ttz-"
   },
   "outputs": [],
   "source": [
    "yp_train = model.predict(X_train)\n",
    "yp_val = model.predict(X_val)"
   ]
  },
  {
   "cell_type": "code",
   "execution_count": 103,
   "metadata": {
    "id": "EucjzDKKttz-"
   },
   "outputs": [
    {
     "name": "stdout",
     "output_type": "stream",
     "text": [
      "Train r2 score=  0.13753831025516572\n",
      "Test r2 score=  -0.018575021913045164\n"
     ]
    }
   ],
   "source": [
    "train_r2 =(r2_score(y_train, yp_train))\n",
    "test_r2 =(r2_score(y_val, yp_val))\n",
    "    \n",
    "print('Train r2 score= ',train_r2)\n",
    "print('Test r2 score= ',test_r2)\n"
   ]
  },
  {
   "cell_type": "code",
   "execution_count": 104,
   "metadata": {
    "id": "Ef-6SO5kttz_"
   },
   "outputs": [
    {
     "name": "stdout",
     "output_type": "stream",
     "text": [
      "Train error=  0.329240589934855\n",
      "Test error=  0.37580850630289664\n"
     ]
    }
   ],
   "source": [
    "train_rmse =(mse(y_train, yp_train))\n",
    "test_rmse =(mse(y_val, yp_val))       # mse should be less\n",
    "    \n",
    "print('Train error= ',train_rmse)\n",
    "print('Test error= ',test_rmse)\n"
   ]
  },
  {
   "cell_type": "code",
   "execution_count": 105,
   "metadata": {
    "id": "urLGZWqEttz_"
   },
   "outputs": [],
   "source": [
    "def adj_r2(r2,n,p):\n",
    "    return 1- ((1-r2)*(n-1))/(n-p-1)"
   ]
  },
  {
   "cell_type": "code",
   "execution_count": 106,
   "metadata": {
    "id": "WhrYZW9Dttz_"
   },
   "outputs": [
    {
     "data": {
      "text/plain": [
       "0.13512383456968036"
      ]
     },
     "execution_count": 106,
     "metadata": {},
     "output_type": "execute_result"
    }
   ],
   "source": [
    "adj_r2(train_r2,X_train.shape[0],X_train.shape[1])"
   ]
  },
  {
   "cell_type": "code",
   "execution_count": 107,
   "metadata": {
    "id": "KTY0d1b1ttz_"
   },
   "outputs": [
    {
     "data": {
      "text/plain": [
       "-0.025253207126004984"
      ]
     },
     "execution_count": 107,
     "metadata": {},
     "output_type": "execute_result"
    }
   ],
   "source": [
    "adj_r2(test_r2,X_val.shape[0],X_val.shape[1])"
   ]
  },
  {
   "cell_type": "code",
   "execution_count": null,
   "metadata": {
    "id": "K8Sd0Jx0tt0A"
   },
   "outputs": [],
   "source": []
  },
  {
   "cell_type": "code",
   "execution_count": null,
   "metadata": {},
   "outputs": [],
   "source": []
  }
 ],
 "metadata": {
  "colab": {
   "name": "Price and activity prediction.ipynb",
   "provenance": []
  },
  "kernelspec": {
   "display_name": "Python 3 (ipykernel)",
   "language": "python",
   "name": "python3"
  },
  "language_info": {
   "codemirror_mode": {
    "name": "ipython",
    "version": 3
   },
   "file_extension": ".py",
   "mimetype": "text/x-python",
   "name": "python",
   "nbconvert_exporter": "python",
   "pygments_lexer": "ipython3",
   "version": "3.9.12"
  }
 },
 "nbformat": 4,
 "nbformat_minor": 1
}
